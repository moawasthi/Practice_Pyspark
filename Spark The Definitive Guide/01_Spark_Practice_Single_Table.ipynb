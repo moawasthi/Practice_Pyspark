{
 "cells": [
  {
   "cell_type": "markdown",
   "metadata": {
    "application/vnd.databricks.v1+cell": {
     "cellMetadata": {
      "byteLimit": 2048000,
      "rowLimit": 10000
     },
     "inputWidgets": {},
     "nuid": "2068c6f0-9798-422b-b166-fe42df35b386",
     "showTitle": false,
     "tableResultSettingsMap": {},
     "title": ""
    }
   },
   "source": [
    "##Range"
   ]
  },
  {
   "cell_type": "code",
   "execution_count": 0,
   "metadata": {
    "application/vnd.databricks.v1+cell": {
     "cellMetadata": {
      "byteLimit": 2048000,
      "rowLimit": 10000
     },
     "inputWidgets": {},
     "nuid": "9cdacbe1-b85a-41e1-adee-233b916dfc45",
     "showTitle": false,
     "tableResultSettingsMap": {},
     "title": ""
    }
   },
   "outputs": [],
   "source": [
    "df = spark.range(1000).toDF(\"number\")"
   ]
  },
  {
   "cell_type": "code",
   "execution_count": 0,
   "metadata": {
    "application/vnd.databricks.v1+cell": {
     "cellMetadata": {
      "byteLimit": 2048000,
      "rowLimit": 10000
     },
     "inputWidgets": {},
     "nuid": "d50a7569-73e9-4176-bfa2-d905145a3367",
     "showTitle": false,
     "tableResultSettingsMap": {},
     "title": ""
    }
   },
   "outputs": [
    {
     "output_type": "display_data",
     "data": {
      "text/html": [
       "<style scoped>\n",
       "  .table-result-container {\n",
       "    max-height: 300px;\n",
       "    overflow: auto;\n",
       "  }\n",
       "  table, th, td {\n",
       "    border: 1px solid black;\n",
       "    border-collapse: collapse;\n",
       "  }\n",
       "  th, td {\n",
       "    padding: 5px;\n",
       "  }\n",
       "  th {\n",
       "    text-align: left;\n",
       "  }\n",
       "</style><div class='table-result-container'><table class='table-result'><thead style='background-color: white'><tr><th>number</th></tr></thead><tbody><tr><td>0</td></tr><tr><td>1</td></tr><tr><td>2</td></tr><tr><td>3</td></tr><tr><td>4</td></tr><tr><td>5</td></tr><tr><td>6</td></tr><tr><td>7</td></tr><tr><td>8</td></tr><tr><td>9</td></tr><tr><td>10</td></tr><tr><td>11</td></tr><tr><td>12</td></tr><tr><td>13</td></tr><tr><td>14</td></tr><tr><td>15</td></tr><tr><td>16</td></tr><tr><td>17</td></tr><tr><td>18</td></tr><tr><td>19</td></tr><tr><td>20</td></tr><tr><td>21</td></tr><tr><td>22</td></tr><tr><td>23</td></tr><tr><td>24</td></tr><tr><td>25</td></tr><tr><td>26</td></tr><tr><td>27</td></tr><tr><td>28</td></tr><tr><td>29</td></tr><tr><td>30</td></tr><tr><td>31</td></tr><tr><td>32</td></tr><tr><td>33</td></tr><tr><td>34</td></tr><tr><td>35</td></tr><tr><td>36</td></tr><tr><td>37</td></tr><tr><td>38</td></tr><tr><td>39</td></tr><tr><td>40</td></tr><tr><td>41</td></tr><tr><td>42</td></tr><tr><td>43</td></tr><tr><td>44</td></tr><tr><td>45</td></tr><tr><td>46</td></tr><tr><td>47</td></tr><tr><td>48</td></tr><tr><td>49</td></tr><tr><td>50</td></tr><tr><td>51</td></tr><tr><td>52</td></tr><tr><td>53</td></tr><tr><td>54</td></tr><tr><td>55</td></tr><tr><td>56</td></tr><tr><td>57</td></tr><tr><td>58</td></tr><tr><td>59</td></tr><tr><td>60</td></tr><tr><td>61</td></tr><tr><td>62</td></tr><tr><td>63</td></tr><tr><td>64</td></tr><tr><td>65</td></tr><tr><td>66</td></tr><tr><td>67</td></tr><tr><td>68</td></tr><tr><td>69</td></tr><tr><td>70</td></tr><tr><td>71</td></tr><tr><td>72</td></tr><tr><td>73</td></tr><tr><td>74</td></tr><tr><td>75</td></tr><tr><td>76</td></tr><tr><td>77</td></tr><tr><td>78</td></tr><tr><td>79</td></tr><tr><td>80</td></tr><tr><td>81</td></tr><tr><td>82</td></tr><tr><td>83</td></tr><tr><td>84</td></tr><tr><td>85</td></tr><tr><td>86</td></tr><tr><td>87</td></tr><tr><td>88</td></tr><tr><td>89</td></tr><tr><td>90</td></tr><tr><td>91</td></tr><tr><td>92</td></tr><tr><td>93</td></tr><tr><td>94</td></tr><tr><td>95</td></tr><tr><td>96</td></tr><tr><td>97</td></tr><tr><td>98</td></tr><tr><td>99</td></tr><tr><td>100</td></tr><tr><td>101</td></tr><tr><td>102</td></tr><tr><td>103</td></tr><tr><td>104</td></tr><tr><td>105</td></tr><tr><td>106</td></tr><tr><td>107</td></tr><tr><td>108</td></tr><tr><td>109</td></tr><tr><td>110</td></tr><tr><td>111</td></tr><tr><td>112</td></tr><tr><td>113</td></tr><tr><td>114</td></tr><tr><td>115</td></tr><tr><td>116</td></tr><tr><td>117</td></tr><tr><td>118</td></tr><tr><td>119</td></tr><tr><td>120</td></tr><tr><td>121</td></tr><tr><td>122</td></tr><tr><td>123</td></tr><tr><td>124</td></tr><tr><td>125</td></tr><tr><td>126</td></tr><tr><td>127</td></tr><tr><td>128</td></tr><tr><td>129</td></tr><tr><td>130</td></tr><tr><td>131</td></tr><tr><td>132</td></tr><tr><td>133</td></tr><tr><td>134</td></tr><tr><td>135</td></tr><tr><td>136</td></tr><tr><td>137</td></tr><tr><td>138</td></tr><tr><td>139</td></tr><tr><td>140</td></tr><tr><td>141</td></tr><tr><td>142</td></tr><tr><td>143</td></tr><tr><td>144</td></tr><tr><td>145</td></tr><tr><td>146</td></tr><tr><td>147</td></tr><tr><td>148</td></tr><tr><td>149</td></tr><tr><td>150</td></tr><tr><td>151</td></tr><tr><td>152</td></tr><tr><td>153</td></tr><tr><td>154</td></tr><tr><td>155</td></tr><tr><td>156</td></tr><tr><td>157</td></tr><tr><td>158</td></tr><tr><td>159</td></tr><tr><td>160</td></tr><tr><td>161</td></tr><tr><td>162</td></tr><tr><td>163</td></tr><tr><td>164</td></tr><tr><td>165</td></tr><tr><td>166</td></tr><tr><td>167</td></tr><tr><td>168</td></tr><tr><td>169</td></tr><tr><td>170</td></tr><tr><td>171</td></tr><tr><td>172</td></tr><tr><td>173</td></tr><tr><td>174</td></tr><tr><td>175</td></tr><tr><td>176</td></tr><tr><td>177</td></tr><tr><td>178</td></tr><tr><td>179</td></tr><tr><td>180</td></tr><tr><td>181</td></tr><tr><td>182</td></tr><tr><td>183</td></tr><tr><td>184</td></tr><tr><td>185</td></tr><tr><td>186</td></tr><tr><td>187</td></tr><tr><td>188</td></tr><tr><td>189</td></tr><tr><td>190</td></tr><tr><td>191</td></tr><tr><td>192</td></tr><tr><td>193</td></tr><tr><td>194</td></tr><tr><td>195</td></tr><tr><td>196</td></tr><tr><td>197</td></tr><tr><td>198</td></tr><tr><td>199</td></tr><tr><td>200</td></tr><tr><td>201</td></tr><tr><td>202</td></tr><tr><td>203</td></tr><tr><td>204</td></tr><tr><td>205</td></tr><tr><td>206</td></tr><tr><td>207</td></tr><tr><td>208</td></tr><tr><td>209</td></tr><tr><td>210</td></tr><tr><td>211</td></tr><tr><td>212</td></tr><tr><td>213</td></tr><tr><td>214</td></tr><tr><td>215</td></tr><tr><td>216</td></tr><tr><td>217</td></tr><tr><td>218</td></tr><tr><td>219</td></tr><tr><td>220</td></tr><tr><td>221</td></tr><tr><td>222</td></tr><tr><td>223</td></tr><tr><td>224</td></tr><tr><td>225</td></tr><tr><td>226</td></tr><tr><td>227</td></tr><tr><td>228</td></tr><tr><td>229</td></tr><tr><td>230</td></tr><tr><td>231</td></tr><tr><td>232</td></tr><tr><td>233</td></tr><tr><td>234</td></tr><tr><td>235</td></tr><tr><td>236</td></tr><tr><td>237</td></tr><tr><td>238</td></tr><tr><td>239</td></tr><tr><td>240</td></tr><tr><td>241</td></tr><tr><td>242</td></tr><tr><td>243</td></tr><tr><td>244</td></tr><tr><td>245</td></tr><tr><td>246</td></tr><tr><td>247</td></tr><tr><td>248</td></tr><tr><td>249</td></tr><tr><td>250</td></tr><tr><td>251</td></tr><tr><td>252</td></tr><tr><td>253</td></tr><tr><td>254</td></tr><tr><td>255</td></tr><tr><td>256</td></tr><tr><td>257</td></tr><tr><td>258</td></tr><tr><td>259</td></tr><tr><td>260</td></tr><tr><td>261</td></tr><tr><td>262</td></tr><tr><td>263</td></tr><tr><td>264</td></tr><tr><td>265</td></tr><tr><td>266</td></tr><tr><td>267</td></tr><tr><td>268</td></tr><tr><td>269</td></tr><tr><td>270</td></tr><tr><td>271</td></tr><tr><td>272</td></tr><tr><td>273</td></tr><tr><td>274</td></tr><tr><td>275</td></tr><tr><td>276</td></tr><tr><td>277</td></tr><tr><td>278</td></tr><tr><td>279</td></tr><tr><td>280</td></tr><tr><td>281</td></tr><tr><td>282</td></tr><tr><td>283</td></tr><tr><td>284</td></tr><tr><td>285</td></tr><tr><td>286</td></tr><tr><td>287</td></tr><tr><td>288</td></tr><tr><td>289</td></tr><tr><td>290</td></tr><tr><td>291</td></tr><tr><td>292</td></tr><tr><td>293</td></tr><tr><td>294</td></tr><tr><td>295</td></tr><tr><td>296</td></tr><tr><td>297</td></tr><tr><td>298</td></tr><tr><td>299</td></tr><tr><td>300</td></tr><tr><td>301</td></tr><tr><td>302</td></tr><tr><td>303</td></tr><tr><td>304</td></tr><tr><td>305</td></tr><tr><td>306</td></tr><tr><td>307</td></tr><tr><td>308</td></tr><tr><td>309</td></tr><tr><td>310</td></tr><tr><td>311</td></tr><tr><td>312</td></tr><tr><td>313</td></tr><tr><td>314</td></tr><tr><td>315</td></tr><tr><td>316</td></tr><tr><td>317</td></tr><tr><td>318</td></tr><tr><td>319</td></tr><tr><td>320</td></tr><tr><td>321</td></tr><tr><td>322</td></tr><tr><td>323</td></tr><tr><td>324</td></tr><tr><td>325</td></tr><tr><td>326</td></tr><tr><td>327</td></tr><tr><td>328</td></tr><tr><td>329</td></tr><tr><td>330</td></tr><tr><td>331</td></tr><tr><td>332</td></tr><tr><td>333</td></tr><tr><td>334</td></tr><tr><td>335</td></tr><tr><td>336</td></tr><tr><td>337</td></tr><tr><td>338</td></tr><tr><td>339</td></tr><tr><td>340</td></tr><tr><td>341</td></tr><tr><td>342</td></tr><tr><td>343</td></tr><tr><td>344</td></tr><tr><td>345</td></tr><tr><td>346</td></tr><tr><td>347</td></tr><tr><td>348</td></tr><tr><td>349</td></tr><tr><td>350</td></tr><tr><td>351</td></tr><tr><td>352</td></tr><tr><td>353</td></tr><tr><td>354</td></tr><tr><td>355</td></tr><tr><td>356</td></tr><tr><td>357</td></tr><tr><td>358</td></tr><tr><td>359</td></tr><tr><td>360</td></tr><tr><td>361</td></tr><tr><td>362</td></tr><tr><td>363</td></tr><tr><td>364</td></tr><tr><td>365</td></tr><tr><td>366</td></tr><tr><td>367</td></tr><tr><td>368</td></tr><tr><td>369</td></tr><tr><td>370</td></tr><tr><td>371</td></tr><tr><td>372</td></tr><tr><td>373</td></tr><tr><td>374</td></tr><tr><td>375</td></tr><tr><td>376</td></tr><tr><td>377</td></tr><tr><td>378</td></tr><tr><td>379</td></tr><tr><td>380</td></tr><tr><td>381</td></tr><tr><td>382</td></tr><tr><td>383</td></tr><tr><td>384</td></tr><tr><td>385</td></tr><tr><td>386</td></tr><tr><td>387</td></tr><tr><td>388</td></tr><tr><td>389</td></tr><tr><td>390</td></tr><tr><td>391</td></tr><tr><td>392</td></tr><tr><td>393</td></tr><tr><td>394</td></tr><tr><td>395</td></tr><tr><td>396</td></tr><tr><td>397</td></tr><tr><td>398</td></tr><tr><td>399</td></tr><tr><td>400</td></tr><tr><td>401</td></tr><tr><td>402</td></tr><tr><td>403</td></tr><tr><td>404</td></tr><tr><td>405</td></tr><tr><td>406</td></tr><tr><td>407</td></tr><tr><td>408</td></tr><tr><td>409</td></tr><tr><td>410</td></tr><tr><td>411</td></tr><tr><td>412</td></tr><tr><td>413</td></tr><tr><td>414</td></tr><tr><td>415</td></tr><tr><td>416</td></tr><tr><td>417</td></tr><tr><td>418</td></tr><tr><td>419</td></tr><tr><td>420</td></tr><tr><td>421</td></tr><tr><td>422</td></tr><tr><td>423</td></tr><tr><td>424</td></tr><tr><td>425</td></tr><tr><td>426</td></tr><tr><td>427</td></tr><tr><td>428</td></tr><tr><td>429</td></tr><tr><td>430</td></tr><tr><td>431</td></tr><tr><td>432</td></tr><tr><td>433</td></tr><tr><td>434</td></tr><tr><td>435</td></tr><tr><td>436</td></tr><tr><td>437</td></tr><tr><td>438</td></tr><tr><td>439</td></tr><tr><td>440</td></tr><tr><td>441</td></tr><tr><td>442</td></tr><tr><td>443</td></tr><tr><td>444</td></tr><tr><td>445</td></tr><tr><td>446</td></tr><tr><td>447</td></tr><tr><td>448</td></tr><tr><td>449</td></tr><tr><td>450</td></tr><tr><td>451</td></tr><tr><td>452</td></tr><tr><td>453</td></tr><tr><td>454</td></tr><tr><td>455</td></tr><tr><td>456</td></tr><tr><td>457</td></tr><tr><td>458</td></tr><tr><td>459</td></tr><tr><td>460</td></tr><tr><td>461</td></tr><tr><td>462</td></tr><tr><td>463</td></tr><tr><td>464</td></tr><tr><td>465</td></tr><tr><td>466</td></tr><tr><td>467</td></tr><tr><td>468</td></tr><tr><td>469</td></tr><tr><td>470</td></tr><tr><td>471</td></tr><tr><td>472</td></tr><tr><td>473</td></tr><tr><td>474</td></tr><tr><td>475</td></tr><tr><td>476</td></tr><tr><td>477</td></tr><tr><td>478</td></tr><tr><td>479</td></tr><tr><td>480</td></tr><tr><td>481</td></tr><tr><td>482</td></tr><tr><td>483</td></tr><tr><td>484</td></tr><tr><td>485</td></tr><tr><td>486</td></tr><tr><td>487</td></tr><tr><td>488</td></tr><tr><td>489</td></tr><tr><td>490</td></tr><tr><td>491</td></tr><tr><td>492</td></tr><tr><td>493</td></tr><tr><td>494</td></tr><tr><td>495</td></tr><tr><td>496</td></tr><tr><td>497</td></tr><tr><td>498</td></tr><tr><td>499</td></tr><tr><td>500</td></tr><tr><td>501</td></tr><tr><td>502</td></tr><tr><td>503</td></tr><tr><td>504</td></tr><tr><td>505</td></tr><tr><td>506</td></tr><tr><td>507</td></tr><tr><td>508</td></tr><tr><td>509</td></tr><tr><td>510</td></tr><tr><td>511</td></tr><tr><td>512</td></tr><tr><td>513</td></tr><tr><td>514</td></tr><tr><td>515</td></tr><tr><td>516</td></tr><tr><td>517</td></tr><tr><td>518</td></tr><tr><td>519</td></tr><tr><td>520</td></tr><tr><td>521</td></tr><tr><td>522</td></tr><tr><td>523</td></tr><tr><td>524</td></tr><tr><td>525</td></tr><tr><td>526</td></tr><tr><td>527</td></tr><tr><td>528</td></tr><tr><td>529</td></tr><tr><td>530</td></tr><tr><td>531</td></tr><tr><td>532</td></tr><tr><td>533</td></tr><tr><td>534</td></tr><tr><td>535</td></tr><tr><td>536</td></tr><tr><td>537</td></tr><tr><td>538</td></tr><tr><td>539</td></tr><tr><td>540</td></tr><tr><td>541</td></tr><tr><td>542</td></tr><tr><td>543</td></tr><tr><td>544</td></tr><tr><td>545</td></tr><tr><td>546</td></tr><tr><td>547</td></tr><tr><td>548</td></tr><tr><td>549</td></tr><tr><td>550</td></tr><tr><td>551</td></tr><tr><td>552</td></tr><tr><td>553</td></tr><tr><td>554</td></tr><tr><td>555</td></tr><tr><td>556</td></tr><tr><td>557</td></tr><tr><td>558</td></tr><tr><td>559</td></tr><tr><td>560</td></tr><tr><td>561</td></tr><tr><td>562</td></tr><tr><td>563</td></tr><tr><td>564</td></tr><tr><td>565</td></tr><tr><td>566</td></tr><tr><td>567</td></tr><tr><td>568</td></tr><tr><td>569</td></tr><tr><td>570</td></tr><tr><td>571</td></tr><tr><td>572</td></tr><tr><td>573</td></tr><tr><td>574</td></tr><tr><td>575</td></tr><tr><td>576</td></tr><tr><td>577</td></tr><tr><td>578</td></tr><tr><td>579</td></tr><tr><td>580</td></tr><tr><td>581</td></tr><tr><td>582</td></tr><tr><td>583</td></tr><tr><td>584</td></tr><tr><td>585</td></tr><tr><td>586</td></tr><tr><td>587</td></tr><tr><td>588</td></tr><tr><td>589</td></tr><tr><td>590</td></tr><tr><td>591</td></tr><tr><td>592</td></tr><tr><td>593</td></tr><tr><td>594</td></tr><tr><td>595</td></tr><tr><td>596</td></tr><tr><td>597</td></tr><tr><td>598</td></tr><tr><td>599</td></tr><tr><td>600</td></tr><tr><td>601</td></tr><tr><td>602</td></tr><tr><td>603</td></tr><tr><td>604</td></tr><tr><td>605</td></tr><tr><td>606</td></tr><tr><td>607</td></tr><tr><td>608</td></tr><tr><td>609</td></tr><tr><td>610</td></tr><tr><td>611</td></tr><tr><td>612</td></tr><tr><td>613</td></tr><tr><td>614</td></tr><tr><td>615</td></tr><tr><td>616</td></tr><tr><td>617</td></tr><tr><td>618</td></tr><tr><td>619</td></tr><tr><td>620</td></tr><tr><td>621</td></tr><tr><td>622</td></tr><tr><td>623</td></tr><tr><td>624</td></tr><tr><td>625</td></tr><tr><td>626</td></tr><tr><td>627</td></tr><tr><td>628</td></tr><tr><td>629</td></tr><tr><td>630</td></tr><tr><td>631</td></tr><tr><td>632</td></tr><tr><td>633</td></tr><tr><td>634</td></tr><tr><td>635</td></tr><tr><td>636</td></tr><tr><td>637</td></tr><tr><td>638</td></tr><tr><td>639</td></tr><tr><td>640</td></tr><tr><td>641</td></tr><tr><td>642</td></tr><tr><td>643</td></tr><tr><td>644</td></tr><tr><td>645</td></tr><tr><td>646</td></tr><tr><td>647</td></tr><tr><td>648</td></tr><tr><td>649</td></tr><tr><td>650</td></tr><tr><td>651</td></tr><tr><td>652</td></tr><tr><td>653</td></tr><tr><td>654</td></tr><tr><td>655</td></tr><tr><td>656</td></tr><tr><td>657</td></tr><tr><td>658</td></tr><tr><td>659</td></tr><tr><td>660</td></tr><tr><td>661</td></tr><tr><td>662</td></tr><tr><td>663</td></tr><tr><td>664</td></tr><tr><td>665</td></tr><tr><td>666</td></tr><tr><td>667</td></tr><tr><td>668</td></tr><tr><td>669</td></tr><tr><td>670</td></tr><tr><td>671</td></tr><tr><td>672</td></tr><tr><td>673</td></tr><tr><td>674</td></tr><tr><td>675</td></tr><tr><td>676</td></tr><tr><td>677</td></tr><tr><td>678</td></tr><tr><td>679</td></tr><tr><td>680</td></tr><tr><td>681</td></tr><tr><td>682</td></tr><tr><td>683</td></tr><tr><td>684</td></tr><tr><td>685</td></tr><tr><td>686</td></tr><tr><td>687</td></tr><tr><td>688</td></tr><tr><td>689</td></tr><tr><td>690</td></tr><tr><td>691</td></tr><tr><td>692</td></tr><tr><td>693</td></tr><tr><td>694</td></tr><tr><td>695</td></tr><tr><td>696</td></tr><tr><td>697</td></tr><tr><td>698</td></tr><tr><td>699</td></tr><tr><td>700</td></tr><tr><td>701</td></tr><tr><td>702</td></tr><tr><td>703</td></tr><tr><td>704</td></tr><tr><td>705</td></tr><tr><td>706</td></tr><tr><td>707</td></tr><tr><td>708</td></tr><tr><td>709</td></tr><tr><td>710</td></tr><tr><td>711</td></tr><tr><td>712</td></tr><tr><td>713</td></tr><tr><td>714</td></tr><tr><td>715</td></tr><tr><td>716</td></tr><tr><td>717</td></tr><tr><td>718</td></tr><tr><td>719</td></tr><tr><td>720</td></tr><tr><td>721</td></tr><tr><td>722</td></tr><tr><td>723</td></tr><tr><td>724</td></tr><tr><td>725</td></tr><tr><td>726</td></tr><tr><td>727</td></tr><tr><td>728</td></tr><tr><td>729</td></tr><tr><td>730</td></tr><tr><td>731</td></tr><tr><td>732</td></tr><tr><td>733</td></tr><tr><td>734</td></tr><tr><td>735</td></tr><tr><td>736</td></tr><tr><td>737</td></tr><tr><td>738</td></tr><tr><td>739</td></tr><tr><td>740</td></tr><tr><td>741</td></tr><tr><td>742</td></tr><tr><td>743</td></tr><tr><td>744</td></tr><tr><td>745</td></tr><tr><td>746</td></tr><tr><td>747</td></tr><tr><td>748</td></tr><tr><td>749</td></tr><tr><td>750</td></tr><tr><td>751</td></tr><tr><td>752</td></tr><tr><td>753</td></tr><tr><td>754</td></tr><tr><td>755</td></tr><tr><td>756</td></tr><tr><td>757</td></tr><tr><td>758</td></tr><tr><td>759</td></tr><tr><td>760</td></tr><tr><td>761</td></tr><tr><td>762</td></tr><tr><td>763</td></tr><tr><td>764</td></tr><tr><td>765</td></tr><tr><td>766</td></tr><tr><td>767</td></tr><tr><td>768</td></tr><tr><td>769</td></tr><tr><td>770</td></tr><tr><td>771</td></tr><tr><td>772</td></tr><tr><td>773</td></tr><tr><td>774</td></tr><tr><td>775</td></tr><tr><td>776</td></tr><tr><td>777</td></tr><tr><td>778</td></tr><tr><td>779</td></tr><tr><td>780</td></tr><tr><td>781</td></tr><tr><td>782</td></tr><tr><td>783</td></tr><tr><td>784</td></tr><tr><td>785</td></tr><tr><td>786</td></tr><tr><td>787</td></tr><tr><td>788</td></tr><tr><td>789</td></tr><tr><td>790</td></tr><tr><td>791</td></tr><tr><td>792</td></tr><tr><td>793</td></tr><tr><td>794</td></tr><tr><td>795</td></tr><tr><td>796</td></tr><tr><td>797</td></tr><tr><td>798</td></tr><tr><td>799</td></tr><tr><td>800</td></tr><tr><td>801</td></tr><tr><td>802</td></tr><tr><td>803</td></tr><tr><td>804</td></tr><tr><td>805</td></tr><tr><td>806</td></tr><tr><td>807</td></tr><tr><td>808</td></tr><tr><td>809</td></tr><tr><td>810</td></tr><tr><td>811</td></tr><tr><td>812</td></tr><tr><td>813</td></tr><tr><td>814</td></tr><tr><td>815</td></tr><tr><td>816</td></tr><tr><td>817</td></tr><tr><td>818</td></tr><tr><td>819</td></tr><tr><td>820</td></tr><tr><td>821</td></tr><tr><td>822</td></tr><tr><td>823</td></tr><tr><td>824</td></tr><tr><td>825</td></tr><tr><td>826</td></tr><tr><td>827</td></tr><tr><td>828</td></tr><tr><td>829</td></tr><tr><td>830</td></tr><tr><td>831</td></tr><tr><td>832</td></tr><tr><td>833</td></tr><tr><td>834</td></tr><tr><td>835</td></tr><tr><td>836</td></tr><tr><td>837</td></tr><tr><td>838</td></tr><tr><td>839</td></tr><tr><td>840</td></tr><tr><td>841</td></tr><tr><td>842</td></tr><tr><td>843</td></tr><tr><td>844</td></tr><tr><td>845</td></tr><tr><td>846</td></tr><tr><td>847</td></tr><tr><td>848</td></tr><tr><td>849</td></tr><tr><td>850</td></tr><tr><td>851</td></tr><tr><td>852</td></tr><tr><td>853</td></tr><tr><td>854</td></tr><tr><td>855</td></tr><tr><td>856</td></tr><tr><td>857</td></tr><tr><td>858</td></tr><tr><td>859</td></tr><tr><td>860</td></tr><tr><td>861</td></tr><tr><td>862</td></tr><tr><td>863</td></tr><tr><td>864</td></tr><tr><td>865</td></tr><tr><td>866</td></tr><tr><td>867</td></tr><tr><td>868</td></tr><tr><td>869</td></tr><tr><td>870</td></tr><tr><td>871</td></tr><tr><td>872</td></tr><tr><td>873</td></tr><tr><td>874</td></tr><tr><td>875</td></tr><tr><td>876</td></tr><tr><td>877</td></tr><tr><td>878</td></tr><tr><td>879</td></tr><tr><td>880</td></tr><tr><td>881</td></tr><tr><td>882</td></tr><tr><td>883</td></tr><tr><td>884</td></tr><tr><td>885</td></tr><tr><td>886</td></tr><tr><td>887</td></tr><tr><td>888</td></tr><tr><td>889</td></tr><tr><td>890</td></tr><tr><td>891</td></tr><tr><td>892</td></tr><tr><td>893</td></tr><tr><td>894</td></tr><tr><td>895</td></tr><tr><td>896</td></tr><tr><td>897</td></tr><tr><td>898</td></tr><tr><td>899</td></tr><tr><td>900</td></tr><tr><td>901</td></tr><tr><td>902</td></tr><tr><td>903</td></tr><tr><td>904</td></tr><tr><td>905</td></tr><tr><td>906</td></tr><tr><td>907</td></tr><tr><td>908</td></tr><tr><td>909</td></tr><tr><td>910</td></tr><tr><td>911</td></tr><tr><td>912</td></tr><tr><td>913</td></tr><tr><td>914</td></tr><tr><td>915</td></tr><tr><td>916</td></tr><tr><td>917</td></tr><tr><td>918</td></tr><tr><td>919</td></tr><tr><td>920</td></tr><tr><td>921</td></tr><tr><td>922</td></tr><tr><td>923</td></tr><tr><td>924</td></tr><tr><td>925</td></tr><tr><td>926</td></tr><tr><td>927</td></tr><tr><td>928</td></tr><tr><td>929</td></tr><tr><td>930</td></tr><tr><td>931</td></tr><tr><td>932</td></tr><tr><td>933</td></tr><tr><td>934</td></tr><tr><td>935</td></tr><tr><td>936</td></tr><tr><td>937</td></tr><tr><td>938</td></tr><tr><td>939</td></tr><tr><td>940</td></tr><tr><td>941</td></tr><tr><td>942</td></tr><tr><td>943</td></tr><tr><td>944</td></tr><tr><td>945</td></tr><tr><td>946</td></tr><tr><td>947</td></tr><tr><td>948</td></tr><tr><td>949</td></tr><tr><td>950</td></tr><tr><td>951</td></tr><tr><td>952</td></tr><tr><td>953</td></tr><tr><td>954</td></tr><tr><td>955</td></tr><tr><td>956</td></tr><tr><td>957</td></tr><tr><td>958</td></tr><tr><td>959</td></tr><tr><td>960</td></tr><tr><td>961</td></tr><tr><td>962</td></tr><tr><td>963</td></tr><tr><td>964</td></tr><tr><td>965</td></tr><tr><td>966</td></tr><tr><td>967</td></tr><tr><td>968</td></tr><tr><td>969</td></tr><tr><td>970</td></tr><tr><td>971</td></tr><tr><td>972</td></tr><tr><td>973</td></tr><tr><td>974</td></tr><tr><td>975</td></tr><tr><td>976</td></tr><tr><td>977</td></tr><tr><td>978</td></tr><tr><td>979</td></tr><tr><td>980</td></tr><tr><td>981</td></tr><tr><td>982</td></tr><tr><td>983</td></tr><tr><td>984</td></tr><tr><td>985</td></tr><tr><td>986</td></tr><tr><td>987</td></tr><tr><td>988</td></tr><tr><td>989</td></tr><tr><td>990</td></tr><tr><td>991</td></tr><tr><td>992</td></tr><tr><td>993</td></tr><tr><td>994</td></tr><tr><td>995</td></tr><tr><td>996</td></tr><tr><td>997</td></tr><tr><td>998</td></tr><tr><td>999</td></tr></tbody></table></div>"
      ]
     },
     "metadata": {
      "application/vnd.databricks.v1+output": {
       "addedWidgets": {},
       "aggData": [],
       "aggError": "",
       "aggOverflow": false,
       "aggSchema": [],
       "aggSeriesLimitReached": false,
       "aggType": "",
       "arguments": {},
       "columnCustomDisplayInfos": {},
       "data": [
        [
         0
        ],
        [
         1
        ],
        [
         2
        ],
        [
         3
        ],
        [
         4
        ],
        [
         5
        ],
        [
         6
        ],
        [
         7
        ],
        [
         8
        ],
        [
         9
        ],
        [
         10
        ],
        [
         11
        ],
        [
         12
        ],
        [
         13
        ],
        [
         14
        ],
        [
         15
        ],
        [
         16
        ],
        [
         17
        ],
        [
         18
        ],
        [
         19
        ],
        [
         20
        ],
        [
         21
        ],
        [
         22
        ],
        [
         23
        ],
        [
         24
        ],
        [
         25
        ],
        [
         26
        ],
        [
         27
        ],
        [
         28
        ],
        [
         29
        ],
        [
         30
        ],
        [
         31
        ],
        [
         32
        ],
        [
         33
        ],
        [
         34
        ],
        [
         35
        ],
        [
         36
        ],
        [
         37
        ],
        [
         38
        ],
        [
         39
        ],
        [
         40
        ],
        [
         41
        ],
        [
         42
        ],
        [
         43
        ],
        [
         44
        ],
        [
         45
        ],
        [
         46
        ],
        [
         47
        ],
        [
         48
        ],
        [
         49
        ],
        [
         50
        ],
        [
         51
        ],
        [
         52
        ],
        [
         53
        ],
        [
         54
        ],
        [
         55
        ],
        [
         56
        ],
        [
         57
        ],
        [
         58
        ],
        [
         59
        ],
        [
         60
        ],
        [
         61
        ],
        [
         62
        ],
        [
         63
        ],
        [
         64
        ],
        [
         65
        ],
        [
         66
        ],
        [
         67
        ],
        [
         68
        ],
        [
         69
        ],
        [
         70
        ],
        [
         71
        ],
        [
         72
        ],
        [
         73
        ],
        [
         74
        ],
        [
         75
        ],
        [
         76
        ],
        [
         77
        ],
        [
         78
        ],
        [
         79
        ],
        [
         80
        ],
        [
         81
        ],
        [
         82
        ],
        [
         83
        ],
        [
         84
        ],
        [
         85
        ],
        [
         86
        ],
        [
         87
        ],
        [
         88
        ],
        [
         89
        ],
        [
         90
        ],
        [
         91
        ],
        [
         92
        ],
        [
         93
        ],
        [
         94
        ],
        [
         95
        ],
        [
         96
        ],
        [
         97
        ],
        [
         98
        ],
        [
         99
        ],
        [
         100
        ],
        [
         101
        ],
        [
         102
        ],
        [
         103
        ],
        [
         104
        ],
        [
         105
        ],
        [
         106
        ],
        [
         107
        ],
        [
         108
        ],
        [
         109
        ],
        [
         110
        ],
        [
         111
        ],
        [
         112
        ],
        [
         113
        ],
        [
         114
        ],
        [
         115
        ],
        [
         116
        ],
        [
         117
        ],
        [
         118
        ],
        [
         119
        ],
        [
         120
        ],
        [
         121
        ],
        [
         122
        ],
        [
         123
        ],
        [
         124
        ],
        [
         125
        ],
        [
         126
        ],
        [
         127
        ],
        [
         128
        ],
        [
         129
        ],
        [
         130
        ],
        [
         131
        ],
        [
         132
        ],
        [
         133
        ],
        [
         134
        ],
        [
         135
        ],
        [
         136
        ],
        [
         137
        ],
        [
         138
        ],
        [
         139
        ],
        [
         140
        ],
        [
         141
        ],
        [
         142
        ],
        [
         143
        ],
        [
         144
        ],
        [
         145
        ],
        [
         146
        ],
        [
         147
        ],
        [
         148
        ],
        [
         149
        ],
        [
         150
        ],
        [
         151
        ],
        [
         152
        ],
        [
         153
        ],
        [
         154
        ],
        [
         155
        ],
        [
         156
        ],
        [
         157
        ],
        [
         158
        ],
        [
         159
        ],
        [
         160
        ],
        [
         161
        ],
        [
         162
        ],
        [
         163
        ],
        [
         164
        ],
        [
         165
        ],
        [
         166
        ],
        [
         167
        ],
        [
         168
        ],
        [
         169
        ],
        [
         170
        ],
        [
         171
        ],
        [
         172
        ],
        [
         173
        ],
        [
         174
        ],
        [
         175
        ],
        [
         176
        ],
        [
         177
        ],
        [
         178
        ],
        [
         179
        ],
        [
         180
        ],
        [
         181
        ],
        [
         182
        ],
        [
         183
        ],
        [
         184
        ],
        [
         185
        ],
        [
         186
        ],
        [
         187
        ],
        [
         188
        ],
        [
         189
        ],
        [
         190
        ],
        [
         191
        ],
        [
         192
        ],
        [
         193
        ],
        [
         194
        ],
        [
         195
        ],
        [
         196
        ],
        [
         197
        ],
        [
         198
        ],
        [
         199
        ],
        [
         200
        ],
        [
         201
        ],
        [
         202
        ],
        [
         203
        ],
        [
         204
        ],
        [
         205
        ],
        [
         206
        ],
        [
         207
        ],
        [
         208
        ],
        [
         209
        ],
        [
         210
        ],
        [
         211
        ],
        [
         212
        ],
        [
         213
        ],
        [
         214
        ],
        [
         215
        ],
        [
         216
        ],
        [
         217
        ],
        [
         218
        ],
        [
         219
        ],
        [
         220
        ],
        [
         221
        ],
        [
         222
        ],
        [
         223
        ],
        [
         224
        ],
        [
         225
        ],
        [
         226
        ],
        [
         227
        ],
        [
         228
        ],
        [
         229
        ],
        [
         230
        ],
        [
         231
        ],
        [
         232
        ],
        [
         233
        ],
        [
         234
        ],
        [
         235
        ],
        [
         236
        ],
        [
         237
        ],
        [
         238
        ],
        [
         239
        ],
        [
         240
        ],
        [
         241
        ],
        [
         242
        ],
        [
         243
        ],
        [
         244
        ],
        [
         245
        ],
        [
         246
        ],
        [
         247
        ],
        [
         248
        ],
        [
         249
        ],
        [
         250
        ],
        [
         251
        ],
        [
         252
        ],
        [
         253
        ],
        [
         254
        ],
        [
         255
        ],
        [
         256
        ],
        [
         257
        ],
        [
         258
        ],
        [
         259
        ],
        [
         260
        ],
        [
         261
        ],
        [
         262
        ],
        [
         263
        ],
        [
         264
        ],
        [
         265
        ],
        [
         266
        ],
        [
         267
        ],
        [
         268
        ],
        [
         269
        ],
        [
         270
        ],
        [
         271
        ],
        [
         272
        ],
        [
         273
        ],
        [
         274
        ],
        [
         275
        ],
        [
         276
        ],
        [
         277
        ],
        [
         278
        ],
        [
         279
        ],
        [
         280
        ],
        [
         281
        ],
        [
         282
        ],
        [
         283
        ],
        [
         284
        ],
        [
         285
        ],
        [
         286
        ],
        [
         287
        ],
        [
         288
        ],
        [
         289
        ],
        [
         290
        ],
        [
         291
        ],
        [
         292
        ],
        [
         293
        ],
        [
         294
        ],
        [
         295
        ],
        [
         296
        ],
        [
         297
        ],
        [
         298
        ],
        [
         299
        ],
        [
         300
        ],
        [
         301
        ],
        [
         302
        ],
        [
         303
        ],
        [
         304
        ],
        [
         305
        ],
        [
         306
        ],
        [
         307
        ],
        [
         308
        ],
        [
         309
        ],
        [
         310
        ],
        [
         311
        ],
        [
         312
        ],
        [
         313
        ],
        [
         314
        ],
        [
         315
        ],
        [
         316
        ],
        [
         317
        ],
        [
         318
        ],
        [
         319
        ],
        [
         320
        ],
        [
         321
        ],
        [
         322
        ],
        [
         323
        ],
        [
         324
        ],
        [
         325
        ],
        [
         326
        ],
        [
         327
        ],
        [
         328
        ],
        [
         329
        ],
        [
         330
        ],
        [
         331
        ],
        [
         332
        ],
        [
         333
        ],
        [
         334
        ],
        [
         335
        ],
        [
         336
        ],
        [
         337
        ],
        [
         338
        ],
        [
         339
        ],
        [
         340
        ],
        [
         341
        ],
        [
         342
        ],
        [
         343
        ],
        [
         344
        ],
        [
         345
        ],
        [
         346
        ],
        [
         347
        ],
        [
         348
        ],
        [
         349
        ],
        [
         350
        ],
        [
         351
        ],
        [
         352
        ],
        [
         353
        ],
        [
         354
        ],
        [
         355
        ],
        [
         356
        ],
        [
         357
        ],
        [
         358
        ],
        [
         359
        ],
        [
         360
        ],
        [
         361
        ],
        [
         362
        ],
        [
         363
        ],
        [
         364
        ],
        [
         365
        ],
        [
         366
        ],
        [
         367
        ],
        [
         368
        ],
        [
         369
        ],
        [
         370
        ],
        [
         371
        ],
        [
         372
        ],
        [
         373
        ],
        [
         374
        ],
        [
         375
        ],
        [
         376
        ],
        [
         377
        ],
        [
         378
        ],
        [
         379
        ],
        [
         380
        ],
        [
         381
        ],
        [
         382
        ],
        [
         383
        ],
        [
         384
        ],
        [
         385
        ],
        [
         386
        ],
        [
         387
        ],
        [
         388
        ],
        [
         389
        ],
        [
         390
        ],
        [
         391
        ],
        [
         392
        ],
        [
         393
        ],
        [
         394
        ],
        [
         395
        ],
        [
         396
        ],
        [
         397
        ],
        [
         398
        ],
        [
         399
        ],
        [
         400
        ],
        [
         401
        ],
        [
         402
        ],
        [
         403
        ],
        [
         404
        ],
        [
         405
        ],
        [
         406
        ],
        [
         407
        ],
        [
         408
        ],
        [
         409
        ],
        [
         410
        ],
        [
         411
        ],
        [
         412
        ],
        [
         413
        ],
        [
         414
        ],
        [
         415
        ],
        [
         416
        ],
        [
         417
        ],
        [
         418
        ],
        [
         419
        ],
        [
         420
        ],
        [
         421
        ],
        [
         422
        ],
        [
         423
        ],
        [
         424
        ],
        [
         425
        ],
        [
         426
        ],
        [
         427
        ],
        [
         428
        ],
        [
         429
        ],
        [
         430
        ],
        [
         431
        ],
        [
         432
        ],
        [
         433
        ],
        [
         434
        ],
        [
         435
        ],
        [
         436
        ],
        [
         437
        ],
        [
         438
        ],
        [
         439
        ],
        [
         440
        ],
        [
         441
        ],
        [
         442
        ],
        [
         443
        ],
        [
         444
        ],
        [
         445
        ],
        [
         446
        ],
        [
         447
        ],
        [
         448
        ],
        [
         449
        ],
        [
         450
        ],
        [
         451
        ],
        [
         452
        ],
        [
         453
        ],
        [
         454
        ],
        [
         455
        ],
        [
         456
        ],
        [
         457
        ],
        [
         458
        ],
        [
         459
        ],
        [
         460
        ],
        [
         461
        ],
        [
         462
        ],
        [
         463
        ],
        [
         464
        ],
        [
         465
        ],
        [
         466
        ],
        [
         467
        ],
        [
         468
        ],
        [
         469
        ],
        [
         470
        ],
        [
         471
        ],
        [
         472
        ],
        [
         473
        ],
        [
         474
        ],
        [
         475
        ],
        [
         476
        ],
        [
         477
        ],
        [
         478
        ],
        [
         479
        ],
        [
         480
        ],
        [
         481
        ],
        [
         482
        ],
        [
         483
        ],
        [
         484
        ],
        [
         485
        ],
        [
         486
        ],
        [
         487
        ],
        [
         488
        ],
        [
         489
        ],
        [
         490
        ],
        [
         491
        ],
        [
         492
        ],
        [
         493
        ],
        [
         494
        ],
        [
         495
        ],
        [
         496
        ],
        [
         497
        ],
        [
         498
        ],
        [
         499
        ],
        [
         500
        ],
        [
         501
        ],
        [
         502
        ],
        [
         503
        ],
        [
         504
        ],
        [
         505
        ],
        [
         506
        ],
        [
         507
        ],
        [
         508
        ],
        [
         509
        ],
        [
         510
        ],
        [
         511
        ],
        [
         512
        ],
        [
         513
        ],
        [
         514
        ],
        [
         515
        ],
        [
         516
        ],
        [
         517
        ],
        [
         518
        ],
        [
         519
        ],
        [
         520
        ],
        [
         521
        ],
        [
         522
        ],
        [
         523
        ],
        [
         524
        ],
        [
         525
        ],
        [
         526
        ],
        [
         527
        ],
        [
         528
        ],
        [
         529
        ],
        [
         530
        ],
        [
         531
        ],
        [
         532
        ],
        [
         533
        ],
        [
         534
        ],
        [
         535
        ],
        [
         536
        ],
        [
         537
        ],
        [
         538
        ],
        [
         539
        ],
        [
         540
        ],
        [
         541
        ],
        [
         542
        ],
        [
         543
        ],
        [
         544
        ],
        [
         545
        ],
        [
         546
        ],
        [
         547
        ],
        [
         548
        ],
        [
         549
        ],
        [
         550
        ],
        [
         551
        ],
        [
         552
        ],
        [
         553
        ],
        [
         554
        ],
        [
         555
        ],
        [
         556
        ],
        [
         557
        ],
        [
         558
        ],
        [
         559
        ],
        [
         560
        ],
        [
         561
        ],
        [
         562
        ],
        [
         563
        ],
        [
         564
        ],
        [
         565
        ],
        [
         566
        ],
        [
         567
        ],
        [
         568
        ],
        [
         569
        ],
        [
         570
        ],
        [
         571
        ],
        [
         572
        ],
        [
         573
        ],
        [
         574
        ],
        [
         575
        ],
        [
         576
        ],
        [
         577
        ],
        [
         578
        ],
        [
         579
        ],
        [
         580
        ],
        [
         581
        ],
        [
         582
        ],
        [
         583
        ],
        [
         584
        ],
        [
         585
        ],
        [
         586
        ],
        [
         587
        ],
        [
         588
        ],
        [
         589
        ],
        [
         590
        ],
        [
         591
        ],
        [
         592
        ],
        [
         593
        ],
        [
         594
        ],
        [
         595
        ],
        [
         596
        ],
        [
         597
        ],
        [
         598
        ],
        [
         599
        ],
        [
         600
        ],
        [
         601
        ],
        [
         602
        ],
        [
         603
        ],
        [
         604
        ],
        [
         605
        ],
        [
         606
        ],
        [
         607
        ],
        [
         608
        ],
        [
         609
        ],
        [
         610
        ],
        [
         611
        ],
        [
         612
        ],
        [
         613
        ],
        [
         614
        ],
        [
         615
        ],
        [
         616
        ],
        [
         617
        ],
        [
         618
        ],
        [
         619
        ],
        [
         620
        ],
        [
         621
        ],
        [
         622
        ],
        [
         623
        ],
        [
         624
        ],
        [
         625
        ],
        [
         626
        ],
        [
         627
        ],
        [
         628
        ],
        [
         629
        ],
        [
         630
        ],
        [
         631
        ],
        [
         632
        ],
        [
         633
        ],
        [
         634
        ],
        [
         635
        ],
        [
         636
        ],
        [
         637
        ],
        [
         638
        ],
        [
         639
        ],
        [
         640
        ],
        [
         641
        ],
        [
         642
        ],
        [
         643
        ],
        [
         644
        ],
        [
         645
        ],
        [
         646
        ],
        [
         647
        ],
        [
         648
        ],
        [
         649
        ],
        [
         650
        ],
        [
         651
        ],
        [
         652
        ],
        [
         653
        ],
        [
         654
        ],
        [
         655
        ],
        [
         656
        ],
        [
         657
        ],
        [
         658
        ],
        [
         659
        ],
        [
         660
        ],
        [
         661
        ],
        [
         662
        ],
        [
         663
        ],
        [
         664
        ],
        [
         665
        ],
        [
         666
        ],
        [
         667
        ],
        [
         668
        ],
        [
         669
        ],
        [
         670
        ],
        [
         671
        ],
        [
         672
        ],
        [
         673
        ],
        [
         674
        ],
        [
         675
        ],
        [
         676
        ],
        [
         677
        ],
        [
         678
        ],
        [
         679
        ],
        [
         680
        ],
        [
         681
        ],
        [
         682
        ],
        [
         683
        ],
        [
         684
        ],
        [
         685
        ],
        [
         686
        ],
        [
         687
        ],
        [
         688
        ],
        [
         689
        ],
        [
         690
        ],
        [
         691
        ],
        [
         692
        ],
        [
         693
        ],
        [
         694
        ],
        [
         695
        ],
        [
         696
        ],
        [
         697
        ],
        [
         698
        ],
        [
         699
        ],
        [
         700
        ],
        [
         701
        ],
        [
         702
        ],
        [
         703
        ],
        [
         704
        ],
        [
         705
        ],
        [
         706
        ],
        [
         707
        ],
        [
         708
        ],
        [
         709
        ],
        [
         710
        ],
        [
         711
        ],
        [
         712
        ],
        [
         713
        ],
        [
         714
        ],
        [
         715
        ],
        [
         716
        ],
        [
         717
        ],
        [
         718
        ],
        [
         719
        ],
        [
         720
        ],
        [
         721
        ],
        [
         722
        ],
        [
         723
        ],
        [
         724
        ],
        [
         725
        ],
        [
         726
        ],
        [
         727
        ],
        [
         728
        ],
        [
         729
        ],
        [
         730
        ],
        [
         731
        ],
        [
         732
        ],
        [
         733
        ],
        [
         734
        ],
        [
         735
        ],
        [
         736
        ],
        [
         737
        ],
        [
         738
        ],
        [
         739
        ],
        [
         740
        ],
        [
         741
        ],
        [
         742
        ],
        [
         743
        ],
        [
         744
        ],
        [
         745
        ],
        [
         746
        ],
        [
         747
        ],
        [
         748
        ],
        [
         749
        ],
        [
         750
        ],
        [
         751
        ],
        [
         752
        ],
        [
         753
        ],
        [
         754
        ],
        [
         755
        ],
        [
         756
        ],
        [
         757
        ],
        [
         758
        ],
        [
         759
        ],
        [
         760
        ],
        [
         761
        ],
        [
         762
        ],
        [
         763
        ],
        [
         764
        ],
        [
         765
        ],
        [
         766
        ],
        [
         767
        ],
        [
         768
        ],
        [
         769
        ],
        [
         770
        ],
        [
         771
        ],
        [
         772
        ],
        [
         773
        ],
        [
         774
        ],
        [
         775
        ],
        [
         776
        ],
        [
         777
        ],
        [
         778
        ],
        [
         779
        ],
        [
         780
        ],
        [
         781
        ],
        [
         782
        ],
        [
         783
        ],
        [
         784
        ],
        [
         785
        ],
        [
         786
        ],
        [
         787
        ],
        [
         788
        ],
        [
         789
        ],
        [
         790
        ],
        [
         791
        ],
        [
         792
        ],
        [
         793
        ],
        [
         794
        ],
        [
         795
        ],
        [
         796
        ],
        [
         797
        ],
        [
         798
        ],
        [
         799
        ],
        [
         800
        ],
        [
         801
        ],
        [
         802
        ],
        [
         803
        ],
        [
         804
        ],
        [
         805
        ],
        [
         806
        ],
        [
         807
        ],
        [
         808
        ],
        [
         809
        ],
        [
         810
        ],
        [
         811
        ],
        [
         812
        ],
        [
         813
        ],
        [
         814
        ],
        [
         815
        ],
        [
         816
        ],
        [
         817
        ],
        [
         818
        ],
        [
         819
        ],
        [
         820
        ],
        [
         821
        ],
        [
         822
        ],
        [
         823
        ],
        [
         824
        ],
        [
         825
        ],
        [
         826
        ],
        [
         827
        ],
        [
         828
        ],
        [
         829
        ],
        [
         830
        ],
        [
         831
        ],
        [
         832
        ],
        [
         833
        ],
        [
         834
        ],
        [
         835
        ],
        [
         836
        ],
        [
         837
        ],
        [
         838
        ],
        [
         839
        ],
        [
         840
        ],
        [
         841
        ],
        [
         842
        ],
        [
         843
        ],
        [
         844
        ],
        [
         845
        ],
        [
         846
        ],
        [
         847
        ],
        [
         848
        ],
        [
         849
        ],
        [
         850
        ],
        [
         851
        ],
        [
         852
        ],
        [
         853
        ],
        [
         854
        ],
        [
         855
        ],
        [
         856
        ],
        [
         857
        ],
        [
         858
        ],
        [
         859
        ],
        [
         860
        ],
        [
         861
        ],
        [
         862
        ],
        [
         863
        ],
        [
         864
        ],
        [
         865
        ],
        [
         866
        ],
        [
         867
        ],
        [
         868
        ],
        [
         869
        ],
        [
         870
        ],
        [
         871
        ],
        [
         872
        ],
        [
         873
        ],
        [
         874
        ],
        [
         875
        ],
        [
         876
        ],
        [
         877
        ],
        [
         878
        ],
        [
         879
        ],
        [
         880
        ],
        [
         881
        ],
        [
         882
        ],
        [
         883
        ],
        [
         884
        ],
        [
         885
        ],
        [
         886
        ],
        [
         887
        ],
        [
         888
        ],
        [
         889
        ],
        [
         890
        ],
        [
         891
        ],
        [
         892
        ],
        [
         893
        ],
        [
         894
        ],
        [
         895
        ],
        [
         896
        ],
        [
         897
        ],
        [
         898
        ],
        [
         899
        ],
        [
         900
        ],
        [
         901
        ],
        [
         902
        ],
        [
         903
        ],
        [
         904
        ],
        [
         905
        ],
        [
         906
        ],
        [
         907
        ],
        [
         908
        ],
        [
         909
        ],
        [
         910
        ],
        [
         911
        ],
        [
         912
        ],
        [
         913
        ],
        [
         914
        ],
        [
         915
        ],
        [
         916
        ],
        [
         917
        ],
        [
         918
        ],
        [
         919
        ],
        [
         920
        ],
        [
         921
        ],
        [
         922
        ],
        [
         923
        ],
        [
         924
        ],
        [
         925
        ],
        [
         926
        ],
        [
         927
        ],
        [
         928
        ],
        [
         929
        ],
        [
         930
        ],
        [
         931
        ],
        [
         932
        ],
        [
         933
        ],
        [
         934
        ],
        [
         935
        ],
        [
         936
        ],
        [
         937
        ],
        [
         938
        ],
        [
         939
        ],
        [
         940
        ],
        [
         941
        ],
        [
         942
        ],
        [
         943
        ],
        [
         944
        ],
        [
         945
        ],
        [
         946
        ],
        [
         947
        ],
        [
         948
        ],
        [
         949
        ],
        [
         950
        ],
        [
         951
        ],
        [
         952
        ],
        [
         953
        ],
        [
         954
        ],
        [
         955
        ],
        [
         956
        ],
        [
         957
        ],
        [
         958
        ],
        [
         959
        ],
        [
         960
        ],
        [
         961
        ],
        [
         962
        ],
        [
         963
        ],
        [
         964
        ],
        [
         965
        ],
        [
         966
        ],
        [
         967
        ],
        [
         968
        ],
        [
         969
        ],
        [
         970
        ],
        [
         971
        ],
        [
         972
        ],
        [
         973
        ],
        [
         974
        ],
        [
         975
        ],
        [
         976
        ],
        [
         977
        ],
        [
         978
        ],
        [
         979
        ],
        [
         980
        ],
        [
         981
        ],
        [
         982
        ],
        [
         983
        ],
        [
         984
        ],
        [
         985
        ],
        [
         986
        ],
        [
         987
        ],
        [
         988
        ],
        [
         989
        ],
        [
         990
        ],
        [
         991
        ],
        [
         992
        ],
        [
         993
        ],
        [
         994
        ],
        [
         995
        ],
        [
         996
        ],
        [
         997
        ],
        [
         998
        ],
        [
         999
        ]
       ],
       "datasetInfos": [],
       "dbfsResultPath": null,
       "isJsonSchema": true,
       "metadata": {},
       "overflow": false,
       "plotOptions": {
        "customPlotOptions": {},
        "displayType": "table",
        "pivotAggregation": null,
        "pivotColumns": null,
        "xColumns": null,
        "yColumns": null
       },
       "removedWidgets": [],
       "schema": [
        {
         "metadata": "{}",
         "name": "number",
         "type": "\"long\""
        }
       ],
       "type": "table"
      }
     },
     "output_type": "display_data"
    }
   ],
   "source": [
    "display(df)"
   ]
  },
  {
   "cell_type": "code",
   "execution_count": 0,
   "metadata": {
    "application/vnd.databricks.v1+cell": {
     "cellMetadata": {
      "byteLimit": 2048000,
      "rowLimit": 10000
     },
     "inputWidgets": {},
     "nuid": "438160ad-3cb1-4624-822e-7154ad53ede8",
     "showTitle": false,
     "tableResultSettingsMap": {},
     "title": ""
    }
   },
   "outputs": [
    {
     "output_type": "stream",
     "name": "stdout",
     "output_type": "stream",
     "text": [
      "Out[2]: [FileInfo(path='dbfs:/FileStore/tables/01_dimensions_toRaw.csv', name='01_dimensions_toRaw.csv', size=214, modificationTime=1740544140000),\n FileInfo(path='dbfs:/FileStore/tables/2015_summary.csv', name='2015_summary.csv', size=7337, modificationTime=1738511442000),\n FileInfo(path='dbfs:/FileStore/tables/2015_summary.json', name='2015_summary.json', size=21624, modificationTime=1742188850000),\n FileInfo(path='dbfs:/FileStore/tables/64814.json', name='64814.json', size=174759, modificationTime=1740311442000),\n FileInfo(path='dbfs:/FileStore/tables/Airline_Dataset_Enhanced_Sample.csv', name='Airline_Dataset_Enhanced_Sample.csv', size=883511, modificationTime=1742062645000),\n FileInfo(path='dbfs:/FileStore/tables/BigMart_Sales.csv', name='BigMart_Sales.csv', size=869537, modificationTime=1736957997000),\n FileInfo(path='dbfs:/FileStore/tables/drivers.json', name='drivers.json', size=180812, modificationTime=1736959171000),\n FileInfo(path='dbfs:/FileStore/tables/matchinfo/', name='matchinfo/', size=0, modificationTime=0),\n FileInfo(path='dbfs:/FileStore/tables/sales_customers.csv', name='sales_customers.csv', size=11619, modificationTime=1737436477000),\n FileInfo(path='dbfs:/FileStore/tables/sales_orders.csv', name='sales_orders.csv', size=128797, modificationTime=1737436478000),\n FileInfo(path='dbfs:/FileStore/tables/sales_orders_details.csv', name='sales_orders_details.csv', size=24626, modificationTime=1737436479000),\n FileInfo(path='dbfs:/FileStore/tables/stream_checkpoint/', name='stream_checkpoint/', size=0, modificationTime=0),\n FileInfo(path='dbfs:/FileStore/tables/stream_read/', name='stream_read/', size=0, modificationTime=0),\n FileInfo(path='dbfs:/FileStore/tables/stream_write/', name='stream_write/', size=0, modificationTime=0)]"
     ]
    }
   ],
   "source": [
    "print(dbutils.fs.ls('/FileStore/tables/'))"
   ]
  },
  {
   "cell_type": "code",
   "execution_count": 0,
   "metadata": {
    "application/vnd.databricks.v1+cell": {
     "cellMetadata": {
      "byteLimit": 2048000,
      "rowLimit": 10000
     },
     "inputWidgets": {},
     "nuid": "2e44d3de-3051-4669-9de7-36fd933a2361",
     "showTitle": false,
     "tableResultSettingsMap": {},
     "title": ""
    }
   },
   "outputs": [],
   "source": [
    "df_flightData = (\n",
    "    spark.read.format(\"csv\")\n",
    "    .option(\"header\", True)\n",
    "    .option(\"inferSchema\", True)\n",
    "    .load(\"/FileStore/tables/2015_summary.csv\")\n",
    ")"
   ]
  },
  {
   "cell_type": "code",
   "execution_count": 0,
   "metadata": {
    "application/vnd.databricks.v1+cell": {
     "cellMetadata": {
      "byteLimit": 2048000,
      "rowLimit": 10000
     },
     "inputWidgets": {},
     "nuid": "8cd843e9-bca7-4c75-8e99-cc4506aa74fd",
     "showTitle": false,
     "tableResultSettingsMap": {},
     "title": ""
    }
   },
   "outputs": [
    {
     "output_type": "stream",
     "name": "stdout",
     "output_type": "stream",
     "text": [
      "root\n |-- DEST_COUNTRY_NAME: string (nullable = true)\n |-- ORIGIN_COUNTRY_NAME: string (nullable = true)\n |-- count: integer (nullable = true)\n\n"
     ]
    }
   ],
   "source": [
    "df_flightData.printSchema()"
   ]
  },
  {
   "cell_type": "code",
   "execution_count": 0,
   "metadata": {
    "application/vnd.databricks.v1+cell": {
     "cellMetadata": {
      "byteLimit": 2048000,
      "rowLimit": 10000
     },
     "inputWidgets": {},
     "nuid": "8a9420f7-5c32-47e9-92cb-80e1d0a68551",
     "showTitle": false,
     "tableResultSettingsMap": {},
     "title": ""
    }
   },
   "outputs": [],
   "source": [
    "df_flightData.createOrReplaceTempView('flight_data_2015')"
   ]
  },
  {
   "cell_type": "code",
   "execution_count": 0,
   "metadata": {
    "application/vnd.databricks.v1+cell": {
     "cellMetadata": {
      "byteLimit": 2048000,
      "rowLimit": 10000
     },
     "inputWidgets": {},
     "nuid": "1fadfd1d-d1a1-4bfc-a402-818f6329a4c4",
     "showTitle": false,
     "tableResultSettingsMap": {},
     "title": ""
    }
   },
   "outputs": [],
   "source": [
    "sqlWay = spark.sql(\"\"\"SELECT DEST_COUNTRY_NAME, COUNT(1) as countRows\n",
    "                FROM flight_data_2015\n",
    "            GROUP BY DEST_COUNTRY_NAME\n",
    "\"\"\")"
   ]
  },
  {
   "cell_type": "code",
   "execution_count": 0,
   "metadata": {
    "application/vnd.databricks.v1+cell": {
     "cellMetadata": {
      "byteLimit": 2048000,
      "rowLimit": 10000
     },
     "inputWidgets": {},
     "nuid": "ada47e97-33dd-48fb-90fc-60e2d9cf0fe3",
     "showTitle": false,
     "tableResultSettingsMap": {},
     "title": ""
    }
   },
   "outputs": [
    {
     "output_type": "display_data",
     "data": {
      "text/html": [
       "<style scoped>\n",
       "  .table-result-container {\n",
       "    max-height: 300px;\n",
       "    overflow: auto;\n",
       "  }\n",
       "  table, th, td {\n",
       "    border: 1px solid black;\n",
       "    border-collapse: collapse;\n",
       "  }\n",
       "  th, td {\n",
       "    padding: 5px;\n",
       "  }\n",
       "  th {\n",
       "    text-align: left;\n",
       "  }\n",
       "</style><div class='table-result-container'><table class='table-result'><thead style='background-color: white'><tr><th>DEST_COUNTRY_NAME</th><th>countRows</th></tr></thead><tbody><tr><td>Anguilla</td><td>1</td></tr><tr><td>Russia</td><td>1</td></tr><tr><td>Paraguay</td><td>1</td></tr><tr><td>Senegal</td><td>1</td></tr><tr><td>Sweden</td><td>1</td></tr><tr><td>Kiribati</td><td>1</td></tr><tr><td>Guyana</td><td>1</td></tr><tr><td>Philippines</td><td>1</td></tr><tr><td>Djibouti</td><td>1</td></tr><tr><td>Malaysia</td><td>1</td></tr><tr><td>Singapore</td><td>1</td></tr><tr><td>Fiji</td><td>1</td></tr><tr><td>Turkey</td><td>1</td></tr><tr><td>Iraq</td><td>1</td></tr><tr><td>Germany</td><td>1</td></tr><tr><td>Jordan</td><td>1</td></tr><tr><td>Palau</td><td>1</td></tr><tr><td>Turks and Caicos Islands</td><td>1</td></tr><tr><td>France</td><td>1</td></tr><tr><td>Greece</td><td>1</td></tr><tr><td>Kosovo</td><td>1</td></tr><tr><td>Taiwan</td><td>1</td></tr><tr><td>British Virgin Islands</td><td>1</td></tr><tr><td>Dominica</td><td>1</td></tr><tr><td>Algeria</td><td>1</td></tr><tr><td>Argentina</td><td>1</td></tr><tr><td>Belgium</td><td>1</td></tr><tr><td>Angola</td><td>1</td></tr><tr><td>Ecuador</td><td>1</td></tr><tr><td>Qatar</td><td>1</td></tr><tr><td>Finland</td><td>1</td></tr><tr><td>New Caledonia</td><td>1</td></tr><tr><td>Nicaragua</td><td>1</td></tr><tr><td>Ghana</td><td>1</td></tr><tr><td>Peru</td><td>1</td></tr><tr><td>United States</td><td>125</td></tr><tr><td>India</td><td>1</td></tr><tr><td>China</td><td>1</td></tr><tr><td>Curacao</td><td>1</td></tr><tr><td>Malta</td><td>1</td></tr><tr><td>Kuwait</td><td>1</td></tr><tr><td>Marshall Islands</td><td>1</td></tr><tr><td>Chile</td><td>1</td></tr><tr><td>Martinique</td><td>1</td></tr><tr><td>Cayman Islands</td><td>1</td></tr><tr><td>Croatia</td><td>1</td></tr><tr><td>Bolivia</td><td>1</td></tr><tr><td>Nigeria</td><td>1</td></tr><tr><td>Italy</td><td>1</td></tr><tr><td>Suriname</td><td>1</td></tr><tr><td>Norway</td><td>1</td></tr><tr><td>Spain</td><td>1</td></tr><tr><td>Cuba</td><td>1</td></tr><tr><td>Guadeloupe</td><td>1</td></tr><tr><td>Denmark</td><td>1</td></tr><tr><td>Niger</td><td>1</td></tr><tr><td>Barbados</td><td>1</td></tr><tr><td>Ireland</td><td>1</td></tr><tr><td>Thailand</td><td>1</td></tr><tr><td>Morocco</td><td>1</td></tr><tr><td>Panama</td><td>1</td></tr><tr><td>Cape Verde</td><td>1</td></tr><tr><td>Hong Kong</td><td>1</td></tr><tr><td>Venezuela</td><td>1</td></tr><tr><td>Ukraine</td><td>1</td></tr><tr><td>Iceland</td><td>1</td></tr><tr><td>Israel</td><td>1</td></tr><tr><td>Saint Barthelemy</td><td>1</td></tr><tr><td>Saint Kitts and Nevis</td><td>1</td></tr><tr><td>French Polynesia</td><td>1</td></tr><tr><td>South Korea</td><td>1</td></tr><tr><td>Cyprus</td><td>1</td></tr><tr><td>Uruguay</td><td>1</td></tr><tr><td>Bonaire, Sint Eustatius, and Saba</td><td>1</td></tr><tr><td>Mexico</td><td>1</td></tr><tr><td>Cote d'Ivoire</td><td>1</td></tr><tr><td>Aruba</td><td>1</td></tr><tr><td>Georgia</td><td>1</td></tr><tr><td>Indonesia</td><td>1</td></tr><tr><td>Saint Vincent and the Grenadines</td><td>1</td></tr><tr><td>The Bahamas</td><td>1</td></tr><tr><td>Guatemala</td><td>1</td></tr><tr><td>Azerbaijan</td><td>1</td></tr><tr><td>Sint Maarten</td><td>1</td></tr><tr><td>Grenada</td><td>1</td></tr><tr><td>Federated States of Micronesia</td><td>1</td></tr><tr><td>Liberia</td><td>1</td></tr><tr><td>Tunisia</td><td>1</td></tr><tr><td>Honduras</td><td>1</td></tr><tr><td>Trinidad and Tobago</td><td>1</td></tr><tr><td>Saudi Arabia</td><td>1</td></tr><tr><td>French Guiana</td><td>1</td></tr><tr><td>Switzerland</td><td>1</td></tr><tr><td>Zambia</td><td>1</td></tr><tr><td>Ethiopia</td><td>1</td></tr><tr><td>Latvia</td><td>1</td></tr><tr><td>Jamaica</td><td>1</td></tr><tr><td>United Arab Emirates</td><td>1</td></tr><tr><td>Saint Lucia</td><td>1</td></tr><tr><td>Canada</td><td>1</td></tr><tr><td>Samoa</td><td>1</td></tr><tr><td>Czech Republic</td><td>1</td></tr><tr><td>Cook Islands</td><td>1</td></tr><tr><td>Brazil</td><td>1</td></tr><tr><td>Belize</td><td>1</td></tr><tr><td>Antigua and Barbuda</td><td>1</td></tr><tr><td>Dominican Republic</td><td>1</td></tr><tr><td>Japan</td><td>1</td></tr><tr><td>Luxembourg</td><td>1</td></tr><tr><td>New Zealand</td><td>1</td></tr><tr><td>Greenland</td><td>1</td></tr><tr><td>Haiti</td><td>1</td></tr><tr><td>Poland</td><td>1</td></tr><tr><td>Portugal</td><td>1</td></tr><tr><td>Papua New Guinea</td><td>1</td></tr><tr><td>Australia</td><td>1</td></tr><tr><td>Romania</td><td>1</td></tr><tr><td>Bulgaria</td><td>1</td></tr><tr><td>Austria</td><td>1</td></tr><tr><td>Egypt</td><td>1</td></tr><tr><td>Costa Rica</td><td>1</td></tr><tr><td>El Salvador</td><td>1</td></tr><tr><td>Burkina Faso</td><td>1</td></tr><tr><td>South Africa</td><td>1</td></tr><tr><td>Bermuda</td><td>1</td></tr><tr><td>Bahrain</td><td>1</td></tr><tr><td>Colombia</td><td>1</td></tr><tr><td>Hungary</td><td>1</td></tr><tr><td>Pakistan</td><td>1</td></tr><tr><td>Moldova</td><td>1</td></tr><tr><td>United Kingdom</td><td>1</td></tr><tr><td>Netherlands</td><td>1</td></tr></tbody></table></div>"
      ]
     },
     "metadata": {
      "application/vnd.databricks.v1+output": {
       "addedWidgets": {},
       "aggData": [],
       "aggError": "",
       "aggOverflow": false,
       "aggSchema": [],
       "aggSeriesLimitReached": false,
       "aggType": "",
       "arguments": {},
       "columnCustomDisplayInfos": {},
       "data": [
        [
         "Anguilla",
         1
        ],
        [
         "Russia",
         1
        ],
        [
         "Paraguay",
         1
        ],
        [
         "Senegal",
         1
        ],
        [
         "Sweden",
         1
        ],
        [
         "Kiribati",
         1
        ],
        [
         "Guyana",
         1
        ],
        [
         "Philippines",
         1
        ],
        [
         "Djibouti",
         1
        ],
        [
         "Malaysia",
         1
        ],
        [
         "Singapore",
         1
        ],
        [
         "Fiji",
         1
        ],
        [
         "Turkey",
         1
        ],
        [
         "Iraq",
         1
        ],
        [
         "Germany",
         1
        ],
        [
         "Jordan",
         1
        ],
        [
         "Palau",
         1
        ],
        [
         "Turks and Caicos Islands",
         1
        ],
        [
         "France",
         1
        ],
        [
         "Greece",
         1
        ],
        [
         "Kosovo",
         1
        ],
        [
         "Taiwan",
         1
        ],
        [
         "British Virgin Islands",
         1
        ],
        [
         "Dominica",
         1
        ],
        [
         "Algeria",
         1
        ],
        [
         "Argentina",
         1
        ],
        [
         "Belgium",
         1
        ],
        [
         "Angola",
         1
        ],
        [
         "Ecuador",
         1
        ],
        [
         "Qatar",
         1
        ],
        [
         "Finland",
         1
        ],
        [
         "New Caledonia",
         1
        ],
        [
         "Nicaragua",
         1
        ],
        [
         "Ghana",
         1
        ],
        [
         "Peru",
         1
        ],
        [
         "United States",
         125
        ],
        [
         "India",
         1
        ],
        [
         "China",
         1
        ],
        [
         "Curacao",
         1
        ],
        [
         "Malta",
         1
        ],
        [
         "Kuwait",
         1
        ],
        [
         "Marshall Islands",
         1
        ],
        [
         "Chile",
         1
        ],
        [
         "Martinique",
         1
        ],
        [
         "Cayman Islands",
         1
        ],
        [
         "Croatia",
         1
        ],
        [
         "Bolivia",
         1
        ],
        [
         "Nigeria",
         1
        ],
        [
         "Italy",
         1
        ],
        [
         "Suriname",
         1
        ],
        [
         "Norway",
         1
        ],
        [
         "Spain",
         1
        ],
        [
         "Cuba",
         1
        ],
        [
         "Guadeloupe",
         1
        ],
        [
         "Denmark",
         1
        ],
        [
         "Niger",
         1
        ],
        [
         "Barbados",
         1
        ],
        [
         "Ireland",
         1
        ],
        [
         "Thailand",
         1
        ],
        [
         "Morocco",
         1
        ],
        [
         "Panama",
         1
        ],
        [
         "Cape Verde",
         1
        ],
        [
         "Hong Kong",
         1
        ],
        [
         "Venezuela",
         1
        ],
        [
         "Ukraine",
         1
        ],
        [
         "Iceland",
         1
        ],
        [
         "Israel",
         1
        ],
        [
         "Saint Barthelemy",
         1
        ],
        [
         "Saint Kitts and Nevis",
         1
        ],
        [
         "French Polynesia",
         1
        ],
        [
         "South Korea",
         1
        ],
        [
         "Cyprus",
         1
        ],
        [
         "Uruguay",
         1
        ],
        [
         "Bonaire, Sint Eustatius, and Saba",
         1
        ],
        [
         "Mexico",
         1
        ],
        [
         "Cote d'Ivoire",
         1
        ],
        [
         "Aruba",
         1
        ],
        [
         "Georgia",
         1
        ],
        [
         "Indonesia",
         1
        ],
        [
         "Saint Vincent and the Grenadines",
         1
        ],
        [
         "The Bahamas",
         1
        ],
        [
         "Guatemala",
         1
        ],
        [
         "Azerbaijan",
         1
        ],
        [
         "Sint Maarten",
         1
        ],
        [
         "Grenada",
         1
        ],
        [
         "Federated States of Micronesia",
         1
        ],
        [
         "Liberia",
         1
        ],
        [
         "Tunisia",
         1
        ],
        [
         "Honduras",
         1
        ],
        [
         "Trinidad and Tobago",
         1
        ],
        [
         "Saudi Arabia",
         1
        ],
        [
         "French Guiana",
         1
        ],
        [
         "Switzerland",
         1
        ],
        [
         "Zambia",
         1
        ],
        [
         "Ethiopia",
         1
        ],
        [
         "Latvia",
         1
        ],
        [
         "Jamaica",
         1
        ],
        [
         "United Arab Emirates",
         1
        ],
        [
         "Saint Lucia",
         1
        ],
        [
         "Canada",
         1
        ],
        [
         "Samoa",
         1
        ],
        [
         "Czech Republic",
         1
        ],
        [
         "Cook Islands",
         1
        ],
        [
         "Brazil",
         1
        ],
        [
         "Belize",
         1
        ],
        [
         "Antigua and Barbuda",
         1
        ],
        [
         "Dominican Republic",
         1
        ],
        [
         "Japan",
         1
        ],
        [
         "Luxembourg",
         1
        ],
        [
         "New Zealand",
         1
        ],
        [
         "Greenland",
         1
        ],
        [
         "Haiti",
         1
        ],
        [
         "Poland",
         1
        ],
        [
         "Portugal",
         1
        ],
        [
         "Papua New Guinea",
         1
        ],
        [
         "Australia",
         1
        ],
        [
         "Romania",
         1
        ],
        [
         "Bulgaria",
         1
        ],
        [
         "Austria",
         1
        ],
        [
         "Egypt",
         1
        ],
        [
         "Costa Rica",
         1
        ],
        [
         "El Salvador",
         1
        ],
        [
         "Burkina Faso",
         1
        ],
        [
         "South Africa",
         1
        ],
        [
         "Bermuda",
         1
        ],
        [
         "Bahrain",
         1
        ],
        [
         "Colombia",
         1
        ],
        [
         "Hungary",
         1
        ],
        [
         "Pakistan",
         1
        ],
        [
         "Moldova",
         1
        ],
        [
         "United Kingdom",
         1
        ],
        [
         "Netherlands",
         1
        ]
       ],
       "datasetInfos": [],
       "dbfsResultPath": null,
       "isJsonSchema": true,
       "metadata": {},
       "overflow": false,
       "plotOptions": {
        "customPlotOptions": {},
        "displayType": "table",
        "pivotAggregation": null,
        "pivotColumns": null,
        "xColumns": null,
        "yColumns": null
       },
       "removedWidgets": [],
       "schema": [
        {
         "metadata": "{}",
         "name": "DEST_COUNTRY_NAME",
         "type": "\"string\""
        },
        {
         "metadata": "{}",
         "name": "countRows",
         "type": "\"long\""
        }
       ],
       "type": "table"
      }
     },
     "output_type": "display_data"
    }
   ],
   "source": [
    "display(sqlWay)"
   ]
  },
  {
   "cell_type": "code",
   "execution_count": 0,
   "metadata": {
    "application/vnd.databricks.v1+cell": {
     "cellMetadata": {
      "byteLimit": 2048000,
      "rowLimit": 10000
     },
     "inputWidgets": {},
     "nuid": "aa1a4eec-2b22-4d75-81a3-11246e9b9745",
     "showTitle": false,
     "tableResultSettingsMap": {},
     "title": ""
    }
   },
   "outputs": [],
   "source": [
    "dfWay = df_flightData.groupBy(\"DEST_COUNTRY_NAME\").count()"
   ]
  },
  {
   "cell_type": "code",
   "execution_count": 0,
   "metadata": {
    "application/vnd.databricks.v1+cell": {
     "cellMetadata": {
      "byteLimit": 2048000,
      "rowLimit": 10000
     },
     "inputWidgets": {},
     "nuid": "b0963da6-adeb-42f9-9559-034f1f27e512",
     "showTitle": false,
     "tableResultSettingsMap": {},
     "title": ""
    }
   },
   "outputs": [
    {
     "output_type": "display_data",
     "data": {
      "text/html": [
       "<style scoped>\n",
       "  .table-result-container {\n",
       "    max-height: 300px;\n",
       "    overflow: auto;\n",
       "  }\n",
       "  table, th, td {\n",
       "    border: 1px solid black;\n",
       "    border-collapse: collapse;\n",
       "  }\n",
       "  th, td {\n",
       "    padding: 5px;\n",
       "  }\n",
       "  th {\n",
       "    text-align: left;\n",
       "  }\n",
       "</style><div class='table-result-container'><table class='table-result'><thead style='background-color: white'><tr><th>DEST_COUNTRY_NAME</th><th>count</th></tr></thead><tbody><tr><td>Anguilla</td><td>1</td></tr><tr><td>Russia</td><td>1</td></tr><tr><td>Paraguay</td><td>1</td></tr><tr><td>Senegal</td><td>1</td></tr><tr><td>Sweden</td><td>1</td></tr><tr><td>Kiribati</td><td>1</td></tr><tr><td>Guyana</td><td>1</td></tr><tr><td>Philippines</td><td>1</td></tr><tr><td>Djibouti</td><td>1</td></tr><tr><td>Malaysia</td><td>1</td></tr><tr><td>Singapore</td><td>1</td></tr><tr><td>Fiji</td><td>1</td></tr><tr><td>Turkey</td><td>1</td></tr><tr><td>Iraq</td><td>1</td></tr><tr><td>Germany</td><td>1</td></tr><tr><td>Jordan</td><td>1</td></tr><tr><td>Palau</td><td>1</td></tr><tr><td>Turks and Caicos Islands</td><td>1</td></tr><tr><td>France</td><td>1</td></tr><tr><td>Greece</td><td>1</td></tr><tr><td>Kosovo</td><td>1</td></tr><tr><td>Taiwan</td><td>1</td></tr><tr><td>British Virgin Islands</td><td>1</td></tr><tr><td>Dominica</td><td>1</td></tr><tr><td>Algeria</td><td>1</td></tr><tr><td>Argentina</td><td>1</td></tr><tr><td>Belgium</td><td>1</td></tr><tr><td>Angola</td><td>1</td></tr><tr><td>Ecuador</td><td>1</td></tr><tr><td>Qatar</td><td>1</td></tr><tr><td>Finland</td><td>1</td></tr><tr><td>New Caledonia</td><td>1</td></tr><tr><td>Nicaragua</td><td>1</td></tr><tr><td>Ghana</td><td>1</td></tr><tr><td>Peru</td><td>1</td></tr><tr><td>United States</td><td>125</td></tr><tr><td>India</td><td>1</td></tr><tr><td>China</td><td>1</td></tr><tr><td>Curacao</td><td>1</td></tr><tr><td>Malta</td><td>1</td></tr><tr><td>Kuwait</td><td>1</td></tr><tr><td>Marshall Islands</td><td>1</td></tr><tr><td>Chile</td><td>1</td></tr><tr><td>Martinique</td><td>1</td></tr><tr><td>Cayman Islands</td><td>1</td></tr><tr><td>Croatia</td><td>1</td></tr><tr><td>Bolivia</td><td>1</td></tr><tr><td>Nigeria</td><td>1</td></tr><tr><td>Italy</td><td>1</td></tr><tr><td>Suriname</td><td>1</td></tr><tr><td>Norway</td><td>1</td></tr><tr><td>Spain</td><td>1</td></tr><tr><td>Cuba</td><td>1</td></tr><tr><td>Guadeloupe</td><td>1</td></tr><tr><td>Denmark</td><td>1</td></tr><tr><td>Niger</td><td>1</td></tr><tr><td>Barbados</td><td>1</td></tr><tr><td>Ireland</td><td>1</td></tr><tr><td>Thailand</td><td>1</td></tr><tr><td>Morocco</td><td>1</td></tr><tr><td>Panama</td><td>1</td></tr><tr><td>Cape Verde</td><td>1</td></tr><tr><td>Hong Kong</td><td>1</td></tr><tr><td>Venezuela</td><td>1</td></tr><tr><td>Ukraine</td><td>1</td></tr><tr><td>Iceland</td><td>1</td></tr><tr><td>Israel</td><td>1</td></tr><tr><td>Saint Barthelemy</td><td>1</td></tr><tr><td>Saint Kitts and Nevis</td><td>1</td></tr><tr><td>French Polynesia</td><td>1</td></tr><tr><td>South Korea</td><td>1</td></tr><tr><td>Cyprus</td><td>1</td></tr><tr><td>Uruguay</td><td>1</td></tr><tr><td>Bonaire, Sint Eustatius, and Saba</td><td>1</td></tr><tr><td>Mexico</td><td>1</td></tr><tr><td>Cote d'Ivoire</td><td>1</td></tr><tr><td>Aruba</td><td>1</td></tr><tr><td>Georgia</td><td>1</td></tr><tr><td>Indonesia</td><td>1</td></tr><tr><td>Saint Vincent and the Grenadines</td><td>1</td></tr><tr><td>The Bahamas</td><td>1</td></tr><tr><td>Guatemala</td><td>1</td></tr><tr><td>Azerbaijan</td><td>1</td></tr><tr><td>Sint Maarten</td><td>1</td></tr><tr><td>Grenada</td><td>1</td></tr><tr><td>Federated States of Micronesia</td><td>1</td></tr><tr><td>Liberia</td><td>1</td></tr><tr><td>Tunisia</td><td>1</td></tr><tr><td>Honduras</td><td>1</td></tr><tr><td>Trinidad and Tobago</td><td>1</td></tr><tr><td>Saudi Arabia</td><td>1</td></tr><tr><td>French Guiana</td><td>1</td></tr><tr><td>Switzerland</td><td>1</td></tr><tr><td>Zambia</td><td>1</td></tr><tr><td>Ethiopia</td><td>1</td></tr><tr><td>Latvia</td><td>1</td></tr><tr><td>Jamaica</td><td>1</td></tr><tr><td>United Arab Emirates</td><td>1</td></tr><tr><td>Saint Lucia</td><td>1</td></tr><tr><td>Canada</td><td>1</td></tr><tr><td>Samoa</td><td>1</td></tr><tr><td>Czech Republic</td><td>1</td></tr><tr><td>Cook Islands</td><td>1</td></tr><tr><td>Brazil</td><td>1</td></tr><tr><td>Belize</td><td>1</td></tr><tr><td>Antigua and Barbuda</td><td>1</td></tr><tr><td>Dominican Republic</td><td>1</td></tr><tr><td>Japan</td><td>1</td></tr><tr><td>Luxembourg</td><td>1</td></tr><tr><td>New Zealand</td><td>1</td></tr><tr><td>Greenland</td><td>1</td></tr><tr><td>Haiti</td><td>1</td></tr><tr><td>Poland</td><td>1</td></tr><tr><td>Portugal</td><td>1</td></tr><tr><td>Papua New Guinea</td><td>1</td></tr><tr><td>Australia</td><td>1</td></tr><tr><td>Romania</td><td>1</td></tr><tr><td>Bulgaria</td><td>1</td></tr><tr><td>Austria</td><td>1</td></tr><tr><td>Egypt</td><td>1</td></tr><tr><td>Costa Rica</td><td>1</td></tr><tr><td>El Salvador</td><td>1</td></tr><tr><td>Burkina Faso</td><td>1</td></tr><tr><td>South Africa</td><td>1</td></tr><tr><td>Bermuda</td><td>1</td></tr><tr><td>Bahrain</td><td>1</td></tr><tr><td>Colombia</td><td>1</td></tr><tr><td>Hungary</td><td>1</td></tr><tr><td>Pakistan</td><td>1</td></tr><tr><td>Moldova</td><td>1</td></tr><tr><td>United Kingdom</td><td>1</td></tr><tr><td>Netherlands</td><td>1</td></tr></tbody></table></div>"
      ]
     },
     "metadata": {
      "application/vnd.databricks.v1+output": {
       "addedWidgets": {},
       "aggData": [],
       "aggError": "",
       "aggOverflow": false,
       "aggSchema": [],
       "aggSeriesLimitReached": false,
       "aggType": "",
       "arguments": {},
       "columnCustomDisplayInfos": {},
       "data": [
        [
         "Anguilla",
         1
        ],
        [
         "Russia",
         1
        ],
        [
         "Paraguay",
         1
        ],
        [
         "Senegal",
         1
        ],
        [
         "Sweden",
         1
        ],
        [
         "Kiribati",
         1
        ],
        [
         "Guyana",
         1
        ],
        [
         "Philippines",
         1
        ],
        [
         "Djibouti",
         1
        ],
        [
         "Malaysia",
         1
        ],
        [
         "Singapore",
         1
        ],
        [
         "Fiji",
         1
        ],
        [
         "Turkey",
         1
        ],
        [
         "Iraq",
         1
        ],
        [
         "Germany",
         1
        ],
        [
         "Jordan",
         1
        ],
        [
         "Palau",
         1
        ],
        [
         "Turks and Caicos Islands",
         1
        ],
        [
         "France",
         1
        ],
        [
         "Greece",
         1
        ],
        [
         "Kosovo",
         1
        ],
        [
         "Taiwan",
         1
        ],
        [
         "British Virgin Islands",
         1
        ],
        [
         "Dominica",
         1
        ],
        [
         "Algeria",
         1
        ],
        [
         "Argentina",
         1
        ],
        [
         "Belgium",
         1
        ],
        [
         "Angola",
         1
        ],
        [
         "Ecuador",
         1
        ],
        [
         "Qatar",
         1
        ],
        [
         "Finland",
         1
        ],
        [
         "New Caledonia",
         1
        ],
        [
         "Nicaragua",
         1
        ],
        [
         "Ghana",
         1
        ],
        [
         "Peru",
         1
        ],
        [
         "United States",
         125
        ],
        [
         "India",
         1
        ],
        [
         "China",
         1
        ],
        [
         "Curacao",
         1
        ],
        [
         "Malta",
         1
        ],
        [
         "Kuwait",
         1
        ],
        [
         "Marshall Islands",
         1
        ],
        [
         "Chile",
         1
        ],
        [
         "Martinique",
         1
        ],
        [
         "Cayman Islands",
         1
        ],
        [
         "Croatia",
         1
        ],
        [
         "Bolivia",
         1
        ],
        [
         "Nigeria",
         1
        ],
        [
         "Italy",
         1
        ],
        [
         "Suriname",
         1
        ],
        [
         "Norway",
         1
        ],
        [
         "Spain",
         1
        ],
        [
         "Cuba",
         1
        ],
        [
         "Guadeloupe",
         1
        ],
        [
         "Denmark",
         1
        ],
        [
         "Niger",
         1
        ],
        [
         "Barbados",
         1
        ],
        [
         "Ireland",
         1
        ],
        [
         "Thailand",
         1
        ],
        [
         "Morocco",
         1
        ],
        [
         "Panama",
         1
        ],
        [
         "Cape Verde",
         1
        ],
        [
         "Hong Kong",
         1
        ],
        [
         "Venezuela",
         1
        ],
        [
         "Ukraine",
         1
        ],
        [
         "Iceland",
         1
        ],
        [
         "Israel",
         1
        ],
        [
         "Saint Barthelemy",
         1
        ],
        [
         "Saint Kitts and Nevis",
         1
        ],
        [
         "French Polynesia",
         1
        ],
        [
         "South Korea",
         1
        ],
        [
         "Cyprus",
         1
        ],
        [
         "Uruguay",
         1
        ],
        [
         "Bonaire, Sint Eustatius, and Saba",
         1
        ],
        [
         "Mexico",
         1
        ],
        [
         "Cote d'Ivoire",
         1
        ],
        [
         "Aruba",
         1
        ],
        [
         "Georgia",
         1
        ],
        [
         "Indonesia",
         1
        ],
        [
         "Saint Vincent and the Grenadines",
         1
        ],
        [
         "The Bahamas",
         1
        ],
        [
         "Guatemala",
         1
        ],
        [
         "Azerbaijan",
         1
        ],
        [
         "Sint Maarten",
         1
        ],
        [
         "Grenada",
         1
        ],
        [
         "Federated States of Micronesia",
         1
        ],
        [
         "Liberia",
         1
        ],
        [
         "Tunisia",
         1
        ],
        [
         "Honduras",
         1
        ],
        [
         "Trinidad and Tobago",
         1
        ],
        [
         "Saudi Arabia",
         1
        ],
        [
         "French Guiana",
         1
        ],
        [
         "Switzerland",
         1
        ],
        [
         "Zambia",
         1
        ],
        [
         "Ethiopia",
         1
        ],
        [
         "Latvia",
         1
        ],
        [
         "Jamaica",
         1
        ],
        [
         "United Arab Emirates",
         1
        ],
        [
         "Saint Lucia",
         1
        ],
        [
         "Canada",
         1
        ],
        [
         "Samoa",
         1
        ],
        [
         "Czech Republic",
         1
        ],
        [
         "Cook Islands",
         1
        ],
        [
         "Brazil",
         1
        ],
        [
         "Belize",
         1
        ],
        [
         "Antigua and Barbuda",
         1
        ],
        [
         "Dominican Republic",
         1
        ],
        [
         "Japan",
         1
        ],
        [
         "Luxembourg",
         1
        ],
        [
         "New Zealand",
         1
        ],
        [
         "Greenland",
         1
        ],
        [
         "Haiti",
         1
        ],
        [
         "Poland",
         1
        ],
        [
         "Portugal",
         1
        ],
        [
         "Papua New Guinea",
         1
        ],
        [
         "Australia",
         1
        ],
        [
         "Romania",
         1
        ],
        [
         "Bulgaria",
         1
        ],
        [
         "Austria",
         1
        ],
        [
         "Egypt",
         1
        ],
        [
         "Costa Rica",
         1
        ],
        [
         "El Salvador",
         1
        ],
        [
         "Burkina Faso",
         1
        ],
        [
         "South Africa",
         1
        ],
        [
         "Bermuda",
         1
        ],
        [
         "Bahrain",
         1
        ],
        [
         "Colombia",
         1
        ],
        [
         "Hungary",
         1
        ],
        [
         "Pakistan",
         1
        ],
        [
         "Moldova",
         1
        ],
        [
         "United Kingdom",
         1
        ],
        [
         "Netherlands",
         1
        ]
       ],
       "datasetInfos": [],
       "dbfsResultPath": null,
       "isJsonSchema": true,
       "metadata": {},
       "overflow": false,
       "plotOptions": {
        "customPlotOptions": {},
        "displayType": "table",
        "pivotAggregation": null,
        "pivotColumns": null,
        "xColumns": null,
        "yColumns": null
       },
       "removedWidgets": [],
       "schema": [
        {
         "metadata": "{}",
         "name": "DEST_COUNTRY_NAME",
         "type": "\"string\""
        },
        {
         "metadata": "{}",
         "name": "count",
         "type": "\"long\""
        }
       ],
       "type": "table"
      }
     },
     "output_type": "display_data"
    }
   ],
   "source": [
    "display(dfWay)"
   ]
  },
  {
   "cell_type": "code",
   "execution_count": 0,
   "metadata": {
    "application/vnd.databricks.v1+cell": {
     "cellMetadata": {
      "byteLimit": 2048000,
      "rowLimit": 10000
     },
     "inputWidgets": {},
     "nuid": "ff15729c-7d91-4992-b257-5fb6799fd0aa",
     "showTitle": false,
     "tableResultSettingsMap": {},
     "title": ""
    }
   },
   "outputs": [
    {
     "output_type": "stream",
     "name": "stdout",
     "output_type": "stream",
     "text": [
      "== Physical Plan ==\nAdaptiveSparkPlan isFinalPlan=true\n+- == Final Plan ==\n   *(2) HashAggregate(keys=[DEST_COUNTRY_NAME#111], functions=[finalmerge_count(merge count#141L) AS count(1)#133L])\n   +- AQEShuffleRead coalesced\n      +- ShuffleQueryStage 0, Statistics(sizeInBytes=4.6 KiB, rowCount=132, isRuntime=true)\n         +- Exchange hashpartitioning(DEST_COUNTRY_NAME#111, 200), ENSURE_REQUIREMENTS, [plan_id=195]\n            +- *(1) HashAggregate(keys=[DEST_COUNTRY_NAME#111], functions=[partial_count(1) AS count#141L])\n               +- FileScan csv [DEST_COUNTRY_NAME#111] Batched: false, DataFilters: [], Format: CSV, Location: InMemoryFileIndex(1 paths)[dbfs:/FileStore/tables/2015_summary.csv], PartitionFilters: [], PushedFilters: [], ReadSchema: struct<DEST_COUNTRY_NAME:string>\n+- == Initial Plan ==\n   HashAggregate(keys=[DEST_COUNTRY_NAME#111], functions=[finalmerge_count(merge count#141L) AS count(1)#133L])\n   +- Exchange hashpartitioning(DEST_COUNTRY_NAME#111, 200), ENSURE_REQUIREMENTS, [plan_id=182]\n      +- HashAggregate(keys=[DEST_COUNTRY_NAME#111], functions=[partial_count(1) AS count#141L])\n         +- FileScan csv [DEST_COUNTRY_NAME#111] Batched: false, DataFilters: [], Format: CSV, Location: InMemoryFileIndex(1 paths)[dbfs:/FileStore/tables/2015_summary.csv], PartitionFilters: [], PushedFilters: [], ReadSchema: struct<DEST_COUNTRY_NAME:string>\n\n\n"
     ]
    }
   ],
   "source": [
    "dfWay.explain()"
   ]
  },
  {
   "cell_type": "code",
   "execution_count": 0,
   "metadata": {
    "application/vnd.databricks.v1+cell": {
     "cellMetadata": {
      "byteLimit": 2048000,
      "rowLimit": 10000
     },
     "inputWidgets": {},
     "nuid": "8e60e898-2e32-40de-bcfb-37c1cce20ee8",
     "showTitle": false,
     "tableResultSettingsMap": {},
     "title": ""
    }
   },
   "outputs": [
    {
     "output_type": "stream",
     "name": "stdout",
     "output_type": "stream",
     "text": [
      "== Physical Plan ==\nAdaptiveSparkPlan isFinalPlan=true\n+- == Final Plan ==\n   *(2) HashAggregate(keys=[DEST_COUNTRY_NAME#111], functions=[finalmerge_count(merge count#124L) AS count(1)#118L])\n   +- AQEShuffleRead coalesced\n      +- ShuffleQueryStage 0, Statistics(sizeInBytes=4.6 KiB, rowCount=132, isRuntime=true)\n         +- Exchange hashpartitioning(DEST_COUNTRY_NAME#111, 200), ENSURE_REQUIREMENTS, [plan_id=230]\n            +- *(1) HashAggregate(keys=[DEST_COUNTRY_NAME#111], functions=[partial_count(1) AS count#124L])\n               +- FileScan csv [DEST_COUNTRY_NAME#111] Batched: false, DataFilters: [], Format: CSV, Location: InMemoryFileIndex(1 paths)[dbfs:/FileStore/tables/2015_summary.csv], PartitionFilters: [], PushedFilters: [], ReadSchema: struct<DEST_COUNTRY_NAME:string>\n+- == Initial Plan ==\n   HashAggregate(keys=[DEST_COUNTRY_NAME#111], functions=[finalmerge_count(merge count#124L) AS count(1)#118L])\n   +- Exchange hashpartitioning(DEST_COUNTRY_NAME#111, 200), ENSURE_REQUIREMENTS, [plan_id=217]\n      +- HashAggregate(keys=[DEST_COUNTRY_NAME#111], functions=[partial_count(1) AS count#124L])\n         +- FileScan csv [DEST_COUNTRY_NAME#111] Batched: false, DataFilters: [], Format: CSV, Location: InMemoryFileIndex(1 paths)[dbfs:/FileStore/tables/2015_summary.csv], PartitionFilters: [], PushedFilters: [], ReadSchema: struct<DEST_COUNTRY_NAME:string>\n\n\n"
     ]
    }
   ],
   "source": [
    "sqlWay.explain()"
   ]
  },
  {
   "cell_type": "code",
   "execution_count": 0,
   "metadata": {
    "application/vnd.databricks.v1+cell": {
     "cellMetadata": {
      "byteLimit": 2048000,
      "rowLimit": 10000
     },
     "inputWidgets": {},
     "nuid": "6e5cee69-ae2d-4d06-b68c-5268acb2c78a",
     "showTitle": false,
     "tableResultSettingsMap": {},
     "title": ""
    }
   },
   "outputs": [
    {
     "output_type": "display_data",
     "data": {
      "text/html": [
       "<style scoped>\n",
       "  .table-result-container {\n",
       "    max-height: 300px;\n",
       "    overflow: auto;\n",
       "  }\n",
       "  table, th, td {\n",
       "    border: 1px solid black;\n",
       "    border-collapse: collapse;\n",
       "  }\n",
       "  th, td {\n",
       "    padding: 5px;\n",
       "  }\n",
       "  th {\n",
       "    text-align: left;\n",
       "  }\n",
       "</style><div class='table-result-container'><table class='table-result'><thead style='background-color: white'><tr><th>max(count)</th></tr></thead><tbody><tr><td>370002</td></tr></tbody></table></div>"
      ]
     },
     "metadata": {
      "application/vnd.databricks.v1+output": {
       "addedWidgets": {},
       "aggData": [],
       "aggError": "",
       "aggOverflow": false,
       "aggSchema": [],
       "aggSeriesLimitReached": false,
       "aggType": "",
       "arguments": {},
       "columnCustomDisplayInfos": {},
       "data": [
        [
         370002
        ]
       ],
       "datasetInfos": [],
       "dbfsResultPath": null,
       "isJsonSchema": true,
       "metadata": {},
       "overflow": false,
       "plotOptions": {
        "customPlotOptions": {},
        "displayType": "table",
        "pivotAggregation": null,
        "pivotColumns": null,
        "xColumns": null,
        "yColumns": null
       },
       "removedWidgets": [],
       "schema": [
        {
         "metadata": "{}",
         "name": "max(count)",
         "type": "\"integer\""
        }
       ],
       "type": "table"
      }
     },
     "output_type": "display_data"
    }
   ],
   "source": [
    "from pyspark.sql.functions import max\n",
    "\n",
    "df_flightData.select(max('count')).display()"
   ]
  },
  {
   "cell_type": "code",
   "execution_count": 0,
   "metadata": {
    "application/vnd.databricks.v1+cell": {
     "cellMetadata": {
      "byteLimit": 2048000,
      "rowLimit": 10000
     },
     "inputWidgets": {},
     "nuid": "fdb91b1e-2bb3-48bf-9608-d21d80ab49f5",
     "showTitle": false,
     "tableResultSettingsMap": {},
     "title": ""
    }
   },
   "outputs": [],
   "source": [
    "maxSQL = spark.sql(\"\"\" SELECT DEST_COUNTRY_NAME, sum(count) as destination_total\n",
    "                            FROM flight_data_2015\n",
    "                        GROUP BY DEST_COUNTRY_NAME\n",
    "                            ORDER BY destination_total DESC\n",
    "                        LIMIT 5\"\"\")"
   ]
  },
  {
   "cell_type": "code",
   "execution_count": 0,
   "metadata": {
    "application/vnd.databricks.v1+cell": {
     "cellMetadata": {
      "byteLimit": 2048000,
      "rowLimit": 10000
     },
     "inputWidgets": {},
     "nuid": "c56b0811-4c45-4106-a125-bec0d534482e",
     "showTitle": false,
     "tableResultSettingsMap": {},
     "title": ""
    }
   },
   "outputs": [
    {
     "output_type": "display_data",
     "data": {
      "text/html": [
       "<style scoped>\n",
       "  .table-result-container {\n",
       "    max-height: 300px;\n",
       "    overflow: auto;\n",
       "  }\n",
       "  table, th, td {\n",
       "    border: 1px solid black;\n",
       "    border-collapse: collapse;\n",
       "  }\n",
       "  th, td {\n",
       "    padding: 5px;\n",
       "  }\n",
       "  th {\n",
       "    text-align: left;\n",
       "  }\n",
       "</style><div class='table-result-container'><table class='table-result'><thead style='background-color: white'><tr><th>DEST_COUNTRY_NAME</th><th>destination_total</th></tr></thead><tbody><tr><td>United States</td><td>411352</td></tr><tr><td>Canada</td><td>8399</td></tr><tr><td>Mexico</td><td>7140</td></tr><tr><td>United Kingdom</td><td>2025</td></tr><tr><td>Japan</td><td>1548</td></tr></tbody></table></div>"
      ]
     },
     "metadata": {
      "application/vnd.databricks.v1+output": {
       "addedWidgets": {},
       "aggData": [],
       "aggError": "",
       "aggOverflow": false,
       "aggSchema": [],
       "aggSeriesLimitReached": false,
       "aggType": "",
       "arguments": {},
       "columnCustomDisplayInfos": {},
       "data": [
        [
         "United States",
         411352
        ],
        [
         "Canada",
         8399
        ],
        [
         "Mexico",
         7140
        ],
        [
         "United Kingdom",
         2025
        ],
        [
         "Japan",
         1548
        ]
       ],
       "datasetInfos": [],
       "dbfsResultPath": null,
       "isJsonSchema": true,
       "metadata": {},
       "overflow": false,
       "plotOptions": {
        "customPlotOptions": {},
        "displayType": "table",
        "pivotAggregation": null,
        "pivotColumns": null,
        "xColumns": null,
        "yColumns": null
       },
       "removedWidgets": [],
       "schema": [
        {
         "metadata": "{}",
         "name": "DEST_COUNTRY_NAME",
         "type": "\"string\""
        },
        {
         "metadata": "{}",
         "name": "destination_total",
         "type": "\"long\""
        }
       ],
       "type": "table"
      }
     },
     "output_type": "display_data"
    }
   ],
   "source": [
    "display(maxSQL)"
   ]
  },
  {
   "cell_type": "code",
   "execution_count": 0,
   "metadata": {
    "application/vnd.databricks.v1+cell": {
     "cellMetadata": {
      "byteLimit": 2048000,
      "rowLimit": 10000
     },
     "inputWidgets": {},
     "nuid": "a0cc1a6e-20e4-4d56-a1d9-779b7555f816",
     "showTitle": false,
     "tableResultSettingsMap": {},
     "title": ""
    }
   },
   "outputs": [],
   "source": [
    "df_flightData = df_flightData.groupBy('DEST_COUNTRY_NAME').sum('count')"
   ]
  },
  {
   "cell_type": "code",
   "execution_count": 0,
   "metadata": {
    "application/vnd.databricks.v1+cell": {
     "cellMetadata": {
      "byteLimit": 2048000,
      "rowLimit": 10000
     },
     "inputWidgets": {},
     "nuid": "3b983895-0be0-4b08-8ea8-afbf92cf8075",
     "showTitle": false,
     "tableResultSettingsMap": {},
     "title": ""
    }
   },
   "outputs": [
    {
     "output_type": "display_data",
     "data": {
      "text/html": [
       "<style scoped>\n",
       "  .table-result-container {\n",
       "    max-height: 300px;\n",
       "    overflow: auto;\n",
       "  }\n",
       "  table, th, td {\n",
       "    border: 1px solid black;\n",
       "    border-collapse: collapse;\n",
       "  }\n",
       "  th, td {\n",
       "    padding: 5px;\n",
       "  }\n",
       "  th {\n",
       "    text-align: left;\n",
       "  }\n",
       "</style><div class='table-result-container'><table class='table-result'><thead style='background-color: white'><tr><th>DEST_COUNTRY_NAME</th><th>sum(count)</th></tr></thead><tbody><tr><td>Anguilla</td><td>41</td></tr><tr><td>Russia</td><td>176</td></tr><tr><td>Paraguay</td><td>60</td></tr><tr><td>Senegal</td><td>40</td></tr><tr><td>Sweden</td><td>118</td></tr><tr><td>Kiribati</td><td>26</td></tr><tr><td>Guyana</td><td>64</td></tr><tr><td>Philippines</td><td>134</td></tr><tr><td>Djibouti</td><td>1</td></tr><tr><td>Malaysia</td><td>2</td></tr><tr><td>Singapore</td><td>3</td></tr><tr><td>Fiji</td><td>24</td></tr><tr><td>Turkey</td><td>138</td></tr><tr><td>Iraq</td><td>1</td></tr><tr><td>Germany</td><td>1468</td></tr><tr><td>Jordan</td><td>44</td></tr><tr><td>Palau</td><td>30</td></tr><tr><td>Turks and Caicos Islands</td><td>230</td></tr><tr><td>France</td><td>935</td></tr><tr><td>Greece</td><td>30</td></tr><tr><td>Kosovo</td><td>1</td></tr><tr><td>Taiwan</td><td>266</td></tr><tr><td>British Virgin Islands</td><td>107</td></tr><tr><td>Dominica</td><td>20</td></tr><tr><td>Algeria</td><td>4</td></tr><tr><td>Argentina</td><td>180</td></tr><tr><td>Belgium</td><td>259</td></tr><tr><td>Angola</td><td>15</td></tr><tr><td>Ecuador</td><td>268</td></tr><tr><td>Qatar</td><td>108</td></tr><tr><td>Finland</td><td>26</td></tr><tr><td>New Caledonia</td><td>1</td></tr><tr><td>Nicaragua</td><td>179</td></tr><tr><td>Ghana</td><td>18</td></tr><tr><td>Peru</td><td>279</td></tr><tr><td>United States</td><td>411352</td></tr><tr><td>India</td><td>61</td></tr><tr><td>China</td><td>772</td></tr><tr><td>Curacao</td><td>90</td></tr><tr><td>Malta</td><td>1</td></tr><tr><td>Kuwait</td><td>32</td></tr><tr><td>Marshall Islands</td><td>42</td></tr><tr><td>Chile</td><td>174</td></tr><tr><td>Martinique</td><td>44</td></tr><tr><td>Cayman Islands</td><td>314</td></tr><tr><td>Croatia</td><td>2</td></tr><tr><td>Bolivia</td><td>30</td></tr><tr><td>Nigeria</td><td>59</td></tr><tr><td>Italy</td><td>382</td></tr><tr><td>Suriname</td><td>1</td></tr><tr><td>Norway</td><td>121</td></tr><tr><td>Spain</td><td>420</td></tr><tr><td>Cuba</td><td>466</td></tr><tr><td>Guadeloupe</td><td>56</td></tr><tr><td>Denmark</td><td>153</td></tr><tr><td>Niger</td><td>2</td></tr><tr><td>Barbados</td><td>154</td></tr><tr><td>Ireland</td><td>335</td></tr><tr><td>Thailand</td><td>3</td></tr><tr><td>Morocco</td><td>15</td></tr><tr><td>Panama</td><td>510</td></tr><tr><td>Cape Verde</td><td>20</td></tr><tr><td>Hong Kong</td><td>332</td></tr><tr><td>Venezuela</td><td>290</td></tr><tr><td>Ukraine</td><td>14</td></tr><tr><td>Iceland</td><td>181</td></tr><tr><td>Israel</td><td>134</td></tr><tr><td>Saint Barthelemy</td><td>39</td></tr><tr><td>Saint Kitts and Nevis</td><td>139</td></tr><tr><td>French Polynesia</td><td>43</td></tr><tr><td>South Korea</td><td>1048</td></tr><tr><td>Cyprus</td><td>1</td></tr><tr><td>Uruguay</td><td>43</td></tr><tr><td>Bonaire, Sint Eustatius, and Saba</td><td>58</td></tr><tr><td>Mexico</td><td>7140</td></tr><tr><td>Cote d'Ivoire</td><td>1</td></tr><tr><td>Aruba</td><td>346</td></tr><tr><td>Georgia</td><td>2</td></tr><tr><td>Indonesia</td><td>1</td></tr><tr><td>Saint Vincent and the Grenadines</td><td>1</td></tr><tr><td>The Bahamas</td><td>955</td></tr><tr><td>Guatemala</td><td>397</td></tr><tr><td>Azerbaijan</td><td>21</td></tr><tr><td>Sint Maarten</td><td>325</td></tr><tr><td>Grenada</td><td>53</td></tr><tr><td>Federated States of Micronesia</td><td>69</td></tr><tr><td>Liberia</td><td>2</td></tr><tr><td>Tunisia</td><td>3</td></tr><tr><td>Honduras</td><td>362</td></tr><tr><td>Trinidad and Tobago</td><td>211</td></tr><tr><td>Saudi Arabia</td><td>83</td></tr><tr><td>French Guiana</td><td>5</td></tr><tr><td>Switzerland</td><td>294</td></tr><tr><td>Zambia</td><td>1</td></tr><tr><td>Ethiopia</td><td>13</td></tr><tr><td>Latvia</td><td>19</td></tr><tr><td>Jamaica</td><td>666</td></tr><tr><td>United Arab Emirates</td><td>320</td></tr><tr><td>Saint Lucia</td><td>123</td></tr><tr><td>Canada</td><td>8399</td></tr><tr><td>Samoa</td><td>25</td></tr><tr><td>Czech Republic</td><td>13</td></tr><tr><td>Cook Islands</td><td>13</td></tr><tr><td>Brazil</td><td>853</td></tr><tr><td>Belize</td><td>188</td></tr><tr><td>Antigua and Barbuda</td><td>126</td></tr><tr><td>Dominican Republic</td><td>1353</td></tr><tr><td>Japan</td><td>1548</td></tr><tr><td>Luxembourg</td><td>155</td></tr><tr><td>New Zealand</td><td>111</td></tr><tr><td>Greenland</td><td>2</td></tr><tr><td>Haiti</td><td>226</td></tr><tr><td>Poland</td><td>32</td></tr><tr><td>Portugal</td><td>127</td></tr><tr><td>Papua New Guinea</td><td>3</td></tr><tr><td>Australia</td><td>329</td></tr><tr><td>Romania</td><td>14</td></tr><tr><td>Bulgaria</td><td>3</td></tr><tr><td>Austria</td><td>62</td></tr><tr><td>Egypt</td><td>15</td></tr><tr><td>Costa Rica</td><td>588</td></tr><tr><td>El Salvador</td><td>561</td></tr><tr><td>Burkina Faso</td><td>1</td></tr><tr><td>South Africa</td><td>36</td></tr><tr><td>Bermuda</td><td>183</td></tr><tr><td>Bahrain</td><td>19</td></tr><tr><td>Colombia</td><td>873</td></tr><tr><td>Hungary</td><td>2</td></tr><tr><td>Pakistan</td><td>12</td></tr><tr><td>Moldova</td><td>1</td></tr><tr><td>United Kingdom</td><td>2025</td></tr><tr><td>Netherlands</td><td>776</td></tr></tbody></table></div>"
      ]
     },
     "metadata": {
      "application/vnd.databricks.v1+output": {
       "addedWidgets": {},
       "aggData": [],
       "aggError": "",
       "aggOverflow": false,
       "aggSchema": [],
       "aggSeriesLimitReached": false,
       "aggType": "",
       "arguments": {},
       "columnCustomDisplayInfos": {},
       "data": [
        [
         "Anguilla",
         41
        ],
        [
         "Russia",
         176
        ],
        [
         "Paraguay",
         60
        ],
        [
         "Senegal",
         40
        ],
        [
         "Sweden",
         118
        ],
        [
         "Kiribati",
         26
        ],
        [
         "Guyana",
         64
        ],
        [
         "Philippines",
         134
        ],
        [
         "Djibouti",
         1
        ],
        [
         "Malaysia",
         2
        ],
        [
         "Singapore",
         3
        ],
        [
         "Fiji",
         24
        ],
        [
         "Turkey",
         138
        ],
        [
         "Iraq",
         1
        ],
        [
         "Germany",
         1468
        ],
        [
         "Jordan",
         44
        ],
        [
         "Palau",
         30
        ],
        [
         "Turks and Caicos Islands",
         230
        ],
        [
         "France",
         935
        ],
        [
         "Greece",
         30
        ],
        [
         "Kosovo",
         1
        ],
        [
         "Taiwan",
         266
        ],
        [
         "British Virgin Islands",
         107
        ],
        [
         "Dominica",
         20
        ],
        [
         "Algeria",
         4
        ],
        [
         "Argentina",
         180
        ],
        [
         "Belgium",
         259
        ],
        [
         "Angola",
         15
        ],
        [
         "Ecuador",
         268
        ],
        [
         "Qatar",
         108
        ],
        [
         "Finland",
         26
        ],
        [
         "New Caledonia",
         1
        ],
        [
         "Nicaragua",
         179
        ],
        [
         "Ghana",
         18
        ],
        [
         "Peru",
         279
        ],
        [
         "United States",
         411352
        ],
        [
         "India",
         61
        ],
        [
         "China",
         772
        ],
        [
         "Curacao",
         90
        ],
        [
         "Malta",
         1
        ],
        [
         "Kuwait",
         32
        ],
        [
         "Marshall Islands",
         42
        ],
        [
         "Chile",
         174
        ],
        [
         "Martinique",
         44
        ],
        [
         "Cayman Islands",
         314
        ],
        [
         "Croatia",
         2
        ],
        [
         "Bolivia",
         30
        ],
        [
         "Nigeria",
         59
        ],
        [
         "Italy",
         382
        ],
        [
         "Suriname",
         1
        ],
        [
         "Norway",
         121
        ],
        [
         "Spain",
         420
        ],
        [
         "Cuba",
         466
        ],
        [
         "Guadeloupe",
         56
        ],
        [
         "Denmark",
         153
        ],
        [
         "Niger",
         2
        ],
        [
         "Barbados",
         154
        ],
        [
         "Ireland",
         335
        ],
        [
         "Thailand",
         3
        ],
        [
         "Morocco",
         15
        ],
        [
         "Panama",
         510
        ],
        [
         "Cape Verde",
         20
        ],
        [
         "Hong Kong",
         332
        ],
        [
         "Venezuela",
         290
        ],
        [
         "Ukraine",
         14
        ],
        [
         "Iceland",
         181
        ],
        [
         "Israel",
         134
        ],
        [
         "Saint Barthelemy",
         39
        ],
        [
         "Saint Kitts and Nevis",
         139
        ],
        [
         "French Polynesia",
         43
        ],
        [
         "South Korea",
         1048
        ],
        [
         "Cyprus",
         1
        ],
        [
         "Uruguay",
         43
        ],
        [
         "Bonaire, Sint Eustatius, and Saba",
         58
        ],
        [
         "Mexico",
         7140
        ],
        [
         "Cote d'Ivoire",
         1
        ],
        [
         "Aruba",
         346
        ],
        [
         "Georgia",
         2
        ],
        [
         "Indonesia",
         1
        ],
        [
         "Saint Vincent and the Grenadines",
         1
        ],
        [
         "The Bahamas",
         955
        ],
        [
         "Guatemala",
         397
        ],
        [
         "Azerbaijan",
         21
        ],
        [
         "Sint Maarten",
         325
        ],
        [
         "Grenada",
         53
        ],
        [
         "Federated States of Micronesia",
         69
        ],
        [
         "Liberia",
         2
        ],
        [
         "Tunisia",
         3
        ],
        [
         "Honduras",
         362
        ],
        [
         "Trinidad and Tobago",
         211
        ],
        [
         "Saudi Arabia",
         83
        ],
        [
         "French Guiana",
         5
        ],
        [
         "Switzerland",
         294
        ],
        [
         "Zambia",
         1
        ],
        [
         "Ethiopia",
         13
        ],
        [
         "Latvia",
         19
        ],
        [
         "Jamaica",
         666
        ],
        [
         "United Arab Emirates",
         320
        ],
        [
         "Saint Lucia",
         123
        ],
        [
         "Canada",
         8399
        ],
        [
         "Samoa",
         25
        ],
        [
         "Czech Republic",
         13
        ],
        [
         "Cook Islands",
         13
        ],
        [
         "Brazil",
         853
        ],
        [
         "Belize",
         188
        ],
        [
         "Antigua and Barbuda",
         126
        ],
        [
         "Dominican Republic",
         1353
        ],
        [
         "Japan",
         1548
        ],
        [
         "Luxembourg",
         155
        ],
        [
         "New Zealand",
         111
        ],
        [
         "Greenland",
         2
        ],
        [
         "Haiti",
         226
        ],
        [
         "Poland",
         32
        ],
        [
         "Portugal",
         127
        ],
        [
         "Papua New Guinea",
         3
        ],
        [
         "Australia",
         329
        ],
        [
         "Romania",
         14
        ],
        [
         "Bulgaria",
         3
        ],
        [
         "Austria",
         62
        ],
        [
         "Egypt",
         15
        ],
        [
         "Costa Rica",
         588
        ],
        [
         "El Salvador",
         561
        ],
        [
         "Burkina Faso",
         1
        ],
        [
         "South Africa",
         36
        ],
        [
         "Bermuda",
         183
        ],
        [
         "Bahrain",
         19
        ],
        [
         "Colombia",
         873
        ],
        [
         "Hungary",
         2
        ],
        [
         "Pakistan",
         12
        ],
        [
         "Moldova",
         1
        ],
        [
         "United Kingdom",
         2025
        ],
        [
         "Netherlands",
         776
        ]
       ],
       "datasetInfos": [],
       "dbfsResultPath": null,
       "isJsonSchema": true,
       "metadata": {},
       "overflow": false,
       "plotOptions": {
        "customPlotOptions": {},
        "displayType": "table",
        "pivotAggregation": null,
        "pivotColumns": null,
        "xColumns": null,
        "yColumns": null
       },
       "removedWidgets": [],
       "schema": [
        {
         "metadata": "{}",
         "name": "DEST_COUNTRY_NAME",
         "type": "\"string\""
        },
        {
         "metadata": "{}",
         "name": "sum(count)",
         "type": "\"long\""
        }
       ],
       "type": "table"
      }
     },
     "output_type": "display_data"
    }
   ],
   "source": [
    "display(df_flightData)"
   ]
  },
  {
   "cell_type": "code",
   "execution_count": 0,
   "metadata": {
    "application/vnd.databricks.v1+cell": {
     "cellMetadata": {
      "byteLimit": 2048000,
      "rowLimit": 10000
     },
     "inputWidgets": {},
     "nuid": "772340d4-b58a-4b58-9877-1d2e80610418",
     "showTitle": false,
     "tableResultSettingsMap": {},
     "title": ""
    }
   },
   "outputs": [],
   "source": [
    "from pyspark.sql.functions import desc\n",
    "maxDF = df_flightData.groupBy('DEST_COUNTRY_NAME')\\\n",
    "                     .sum('count').withColumnRenamed(\"sum(count)\", 'destination_total')\\\n",
    "                     .orderBy(desc('destination_total'))\\\n",
    "                     .limit(5)\\\n",
    "                     .select('DEST_COUNTRY_NAME', 'destination_total')"
   ]
  }
 ],
 "metadata": {
  "application/vnd.databricks.v1+notebook": {
   "computePreferences": null,
   "dashboards": [],
   "environmentMetadata": {
    "base_environment": "",
    "client": "1"
   },
   "language": "python",
   "notebookMetadata": {
    "pythonIndentUnit": 4
   },
   "notebookName": "Spark_Practice_Single_Table",
   "widgets": {}
  }
 },
 "nbformat": 4,
 "nbformat_minor": 0
}
