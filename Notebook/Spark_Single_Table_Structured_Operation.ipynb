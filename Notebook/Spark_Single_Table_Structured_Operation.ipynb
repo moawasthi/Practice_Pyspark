{
 "cells": [
  {
   "cell_type": "code",
   "execution_count": 0,
   "metadata": {
    "application/vnd.databricks.v1+cell": {
     "cellMetadata": {
      "byteLimit": 2048000,
      "rowLimit": 10000
     },
     "inputWidgets": {},
     "nuid": "f033e09c-52ac-4ace-98fd-61af650a6c52",
     "showTitle": false,
     "tableResultSettingsMap": {},
     "title": ""
    }
   },
   "outputs": [],
   "source": [
    "from pyspark.sql.types import StructType, StructField,StringType, IntegerType, LongType"
   ]
  },
  {
   "cell_type": "code",
   "execution_count": 0,
   "metadata": {
    "application/vnd.databricks.v1+cell": {
     "cellMetadata": {
      "byteLimit": 2048000,
      "rowLimit": 10000
     },
     "inputWidgets": {},
     "nuid": "1c452a15-ed01-4178-9b12-8f590494f116",
     "showTitle": false,
     "tableResultSettingsMap": {},
     "title": ""
    }
   },
   "outputs": [],
   "source": [
    "df_flightdata = spark.read.format('json')\\\n",
    "    .option(\"header\", True)\\\n",
    "        .option(\"inferSchema\", True)\\\n",
    "            .load('/FileStore/tables/2015_summary.json')\n",
    "#Transformation"
   ]
  },
  {
   "cell_type": "code",
   "execution_count": 0,
   "metadata": {
    "application/vnd.databricks.v1+cell": {
     "cellMetadata": {
      "byteLimit": 2048000,
      "rowLimit": 10000
     },
     "inputWidgets": {},
     "nuid": "7a22d319-e573-40f4-a21f-5568034a3a0b",
     "showTitle": false,
     "tableResultSettingsMap": {},
     "title": ""
    }
   },
   "outputs": [
    {
     "output_type": "stream",
     "name": "stdout",
     "output_type": "stream",
     "text": [
      "StructType([StructField('DEST_COUNTRY_NAME', StringType(), True), StructField('ORIGIN_COUNTRY_NAME', StringType(), True), StructField('count', LongType(), True)])"
     ]
    }
   ],
   "source": [
    "display(df_flightdata.schema)"
   ]
  },
  {
   "cell_type": "code",
   "execution_count": 0,
   "metadata": {
    "application/vnd.databricks.v1+cell": {
     "cellMetadata": {
      "byteLimit": 2048000,
      "rowLimit": 10000
     },
     "inputWidgets": {},
     "nuid": "de9f1efe-e8c1-406e-bcb7-4e5fa0a63a52",
     "showTitle": false,
     "tableResultSettingsMap": {},
     "title": ""
    }
   },
   "outputs": [],
   "source": [
    "manualSchema = StructType(\n",
    "    [\n",
    "        StructField(\"DEST_COUNTRY_NAME\", StringType(), True),\n",
    "        StructField(\"ORIGIN_COUNTRY_NAME\", StringType(), True),\n",
    "        StructField(\"count\", IntegerType(), True),\n",
    "    ]\n",
    ")"
   ]
  },
  {
   "cell_type": "code",
   "execution_count": 0,
   "metadata": {
    "application/vnd.databricks.v1+cell": {
     "cellMetadata": {
      "byteLimit": 2048000,
      "rowLimit": 10000
     },
     "inputWidgets": {},
     "nuid": "7e0af6de-eb29-4937-887f-771e19c44b7f",
     "showTitle": false,
     "tableResultSettingsMap": {},
     "title": ""
    }
   },
   "outputs": [],
   "source": [
    "df =spark.read.format('json')\\\n",
    "    .option(\"header\", True)\\\n",
    "        .schema(manualSchema)\\\n",
    "            .load('/FileStore/tables/2015_summary.json')"
   ]
  },
  {
   "cell_type": "code",
   "execution_count": 0,
   "metadata": {
    "application/vnd.databricks.v1+cell": {
     "cellMetadata": {
      "byteLimit": 2048000,
      "rowLimit": 10000
     },
     "inputWidgets": {},
     "nuid": "dd68f4fa-f961-4d23-9473-79e371484e48",
     "showTitle": false,
     "tableResultSettingsMap": {},
     "title": ""
    }
   },
   "outputs": [
    {
     "output_type": "stream",
     "name": "stdout",
     "output_type": "stream",
     "text": [
      "root\n |-- DEST_COUNTRY_NAME: string (nullable = true)\n |-- ORIGIN_COUNTRY_NAME: string (nullable = true)\n |-- count: integer (nullable = true)\n\nStructType([StructField('DEST_COUNTRY_NAME', StringType(), True), StructField('ORIGIN_COUNTRY_NAME', StringType(), True), StructField('count', IntegerType(), True)])"
     ]
    }
   ],
   "source": [
    "df.printSchema()\n",
    "display(df.schema)"
   ]
  },
  {
   "cell_type": "code",
   "execution_count": 0,
   "metadata": {
    "application/vnd.databricks.v1+cell": {
     "cellMetadata": {
      "byteLimit": 2048000,
      "rowLimit": 10000
     },
     "inputWidgets": {},
     "nuid": "c83047b9-38a1-466c-b683-cb6487c83149",
     "showTitle": false,
     "tableResultSettingsMap": {},
     "title": ""
    }
   },
   "outputs": [
    {
     "output_type": "stream",
     "name": "stdout",
     "output_type": "stream",
     "text": [
      "Out[20]: Column<'someColumnName'>"
     ]
    }
   ],
   "source": [
    "from pyspark.sql.functions import col, column\n",
    "col(\"someColumnName\")\n",
    "column(\"someColumnName\")"
   ]
  },
  {
   "cell_type": "code",
   "execution_count": 0,
   "metadata": {
    "application/vnd.databricks.v1+cell": {
     "cellMetadata": {
      "byteLimit": 2048000,
      "rowLimit": 10000
     },
     "inputWidgets": {},
     "nuid": "43cc87d9-fc8e-40e0-aa3b-b26cd810858c",
     "showTitle": false,
     "tableResultSettingsMap": {},
     "title": ""
    }
   },
   "outputs": [
    {
     "output_type": "stream",
     "name": "stdout",
     "output_type": "stream",
     "text": [
      "Out[21]: Column<'((((someCol + 5) * 200) - 6) < otherCol)'>"
     ]
    }
   ],
   "source": [
    "from pyspark.sql.functions import expr\n",
    "expr(\"(((someCol + 5) * 200) - 6) < otherCol\")"
   ]
  },
  {
   "cell_type": "code",
   "execution_count": 0,
   "metadata": {
    "application/vnd.databricks.v1+cell": {
     "cellMetadata": {
      "byteLimit": 2048000,
      "rowLimit": 10000
     },
     "inputWidgets": {},
     "nuid": "52799518-ac59-4d4f-ac20-50ee5afbc94c",
     "showTitle": false,
     "tableResultSettingsMap": {},
     "title": ""
    }
   },
   "outputs": [],
   "source": [
    "from pyspark.sql import Row\n",
    "myRow = Row(\"Hello\", None, 1, False)"
   ]
  },
  {
   "cell_type": "code",
   "execution_count": 0,
   "metadata": {
    "application/vnd.databricks.v1+cell": {
     "cellMetadata": {
      "byteLimit": 2048000,
      "rowLimit": 10000
     },
     "inputWidgets": {},
     "nuid": "54ceac9a-8e2e-4452-bcc4-a337acd4437c",
     "showTitle": false,
     "tableResultSettingsMap": {},
     "title": ""
    }
   },
   "outputs": [
    {
     "output_type": "stream",
     "name": "stdout",
     "output_type": "stream",
     "text": [
      "Hello\n"
     ]
    },
    {
     "output_type": "display_data",
     "data": {
      "text/plain": [
       "\u001B[0;31m---------------------------------------------------------------------------\u001B[0m\n",
       "\u001B[0;31mIndexError\u001B[0m                                Traceback (most recent call last)\n",
       "File \u001B[0;32m<command-773797539336978>:2\u001B[0m\n",
       "\u001B[1;32m      1\u001B[0m \u001B[38;5;28mprint\u001B[39m(myRow[\u001B[38;5;241m0\u001B[39m])\n",
       "\u001B[0;32m----> 2\u001B[0m \u001B[38;5;28mprint\u001B[39m(myRow[\u001B[38;5;241m4\u001B[39m])\n",
       "\n",
       "File \u001B[0;32m/databricks/spark/python/pyspark/sql/types.py:2027\u001B[0m, in \u001B[0;36mRow.__getitem__\u001B[0;34m(self, item)\u001B[0m\n",
       "\u001B[1;32m   2025\u001B[0m \u001B[38;5;28;01mdef\u001B[39;00m \u001B[38;5;21m__getitem__\u001B[39m(\u001B[38;5;28mself\u001B[39m, item: Any) \u001B[38;5;241m-\u001B[39m\u001B[38;5;241m>\u001B[39m Any:\n",
       "\u001B[1;32m   2026\u001B[0m     \u001B[38;5;28;01mif\u001B[39;00m \u001B[38;5;28misinstance\u001B[39m(item, (\u001B[38;5;28mint\u001B[39m, \u001B[38;5;28mslice\u001B[39m)):\n",
       "\u001B[0;32m-> 2027\u001B[0m         \u001B[38;5;28;01mreturn\u001B[39;00m \u001B[38;5;28;43msuper\u001B[39;49m\u001B[43m(\u001B[49m\u001B[43mRow\u001B[49m\u001B[43m,\u001B[49m\u001B[43m \u001B[49m\u001B[38;5;28;43mself\u001B[39;49m\u001B[43m)\u001B[49m\u001B[38;5;241;43m.\u001B[39;49m\u001B[38;5;21;43m__getitem__\u001B[39;49m\u001B[43m(\u001B[49m\u001B[43mitem\u001B[49m\u001B[43m)\u001B[49m\n",
       "\u001B[1;32m   2028\u001B[0m     \u001B[38;5;28;01mtry\u001B[39;00m:\n",
       "\u001B[1;32m   2029\u001B[0m         \u001B[38;5;66;03m# it will be slow when it has many fields,\u001B[39;00m\n",
       "\u001B[1;32m   2030\u001B[0m         \u001B[38;5;66;03m# but this will not be used in normal cases\u001B[39;00m\n",
       "\u001B[1;32m   2031\u001B[0m         idx \u001B[38;5;241m=\u001B[39m \u001B[38;5;28mself\u001B[39m\u001B[38;5;241m.\u001B[39m__fields__\u001B[38;5;241m.\u001B[39mindex(item)\n",
       "\n",
       "\u001B[0;31mIndexError\u001B[0m: tuple index out of range"
      ]
     },
     "metadata": {
      "application/vnd.databricks.v1+output": {
       "arguments": {},
       "data": "\u001B[0;31m---------------------------------------------------------------------------\u001B[0m\n\u001B[0;31mIndexError\u001B[0m                                Traceback (most recent call last)\nFile \u001B[0;32m<command-773797539336978>:2\u001B[0m\n\u001B[1;32m      1\u001B[0m \u001B[38;5;28mprint\u001B[39m(myRow[\u001B[38;5;241m0\u001B[39m])\n\u001B[0;32m----> 2\u001B[0m \u001B[38;5;28mprint\u001B[39m(myRow[\u001B[38;5;241m4\u001B[39m])\n\nFile \u001B[0;32m/databricks/spark/python/pyspark/sql/types.py:2027\u001B[0m, in \u001B[0;36mRow.__getitem__\u001B[0;34m(self, item)\u001B[0m\n\u001B[1;32m   2025\u001B[0m \u001B[38;5;28;01mdef\u001B[39;00m \u001B[38;5;21m__getitem__\u001B[39m(\u001B[38;5;28mself\u001B[39m, item: Any) \u001B[38;5;241m-\u001B[39m\u001B[38;5;241m>\u001B[39m Any:\n\u001B[1;32m   2026\u001B[0m     \u001B[38;5;28;01mif\u001B[39;00m \u001B[38;5;28misinstance\u001B[39m(item, (\u001B[38;5;28mint\u001B[39m, \u001B[38;5;28mslice\u001B[39m)):\n\u001B[0;32m-> 2027\u001B[0m         \u001B[38;5;28;01mreturn\u001B[39;00m \u001B[38;5;28;43msuper\u001B[39;49m\u001B[43m(\u001B[49m\u001B[43mRow\u001B[49m\u001B[43m,\u001B[49m\u001B[43m \u001B[49m\u001B[38;5;28;43mself\u001B[39;49m\u001B[43m)\u001B[49m\u001B[38;5;241;43m.\u001B[39;49m\u001B[38;5;21;43m__getitem__\u001B[39;49m\u001B[43m(\u001B[49m\u001B[43mitem\u001B[49m\u001B[43m)\u001B[49m\n\u001B[1;32m   2028\u001B[0m     \u001B[38;5;28;01mtry\u001B[39;00m:\n\u001B[1;32m   2029\u001B[0m         \u001B[38;5;66;03m# it will be slow when it has many fields,\u001B[39;00m\n\u001B[1;32m   2030\u001B[0m         \u001B[38;5;66;03m# but this will not be used in normal cases\u001B[39;00m\n\u001B[1;32m   2031\u001B[0m         idx \u001B[38;5;241m=\u001B[39m \u001B[38;5;28mself\u001B[39m\u001B[38;5;241m.\u001B[39m__fields__\u001B[38;5;241m.\u001B[39mindex(item)\n\n\u001B[0;31mIndexError\u001B[0m: tuple index out of range",
       "errorSummary": "<span class='ansi-red-fg'>IndexError</span>: tuple index out of range",
       "errorTraceType": "ansi",
       "metadata": {},
       "type": "ipynbError"
      }
     },
     "output_type": "display_data"
    }
   ],
   "source": [
    "print(myRow[0])\n",
    "print(myRow[4])"
   ]
  },
  {
   "cell_type": "code",
   "execution_count": 0,
   "metadata": {
    "application/vnd.databricks.v1+cell": {
     "cellMetadata": {
      "byteLimit": 2048000,
      "rowLimit": 10000
     },
     "inputWidgets": {},
     "nuid": "b11a3154-6896-4a4d-8c7c-e3c16dd64c89",
     "showTitle": false,
     "tableResultSettingsMap": {},
     "title": ""
    }
   },
   "outputs": [],
   "source": [
    "from pyspark.sql import Row\n",
    "from pyspark.sql.types import StructField, StructType, StringType, LongType\n",
    "myManualSchema = StructType([\n",
    "  StructField(\"some\", StringType(), True),\n",
    "  StructField(\"col\", StringType(), True),\n",
    "  StructField(\"names\", LongType(), False)\n",
    "])\n",
    "myRow = Row(\"Hello\", None, 1)\n",
    "myDf = spark.createDataFrame([myRow], myManualSchema)"
   ]
  },
  {
   "cell_type": "code",
   "execution_count": 0,
   "metadata": {
    "application/vnd.databricks.v1+cell": {
     "cellMetadata": {
      "byteLimit": 2048000,
      "rowLimit": 10000
     },
     "inputWidgets": {},
     "nuid": "60c79100-b70e-4297-b494-69f6f8ae75c2",
     "showTitle": false,
     "tableResultSettingsMap": {},
     "title": ""
    }
   },
   "outputs": [
    {
     "output_type": "display_data",
     "data": {
      "text/html": [
       "<style scoped>\n",
       "  .table-result-container {\n",
       "    max-height: 300px;\n",
       "    overflow: auto;\n",
       "  }\n",
       "  table, th, td {\n",
       "    border: 1px solid black;\n",
       "    border-collapse: collapse;\n",
       "  }\n",
       "  th, td {\n",
       "    padding: 5px;\n",
       "  }\n",
       "  th {\n",
       "    text-align: left;\n",
       "  }\n",
       "</style><div class='table-result-container'><table class='table-result'><thead style='background-color: white'><tr><th>some</th><th>col</th><th>names</th></tr></thead><tbody><tr><td>Hello</td><td>null</td><td>1</td></tr></tbody></table></div>"
      ]
     },
     "metadata": {
      "application/vnd.databricks.v1+output": {
       "addedWidgets": {},
       "aggData": [],
       "aggError": "",
       "aggOverflow": false,
       "aggSchema": [],
       "aggSeriesLimitReached": false,
       "aggType": "",
       "arguments": {},
       "columnCustomDisplayInfos": {},
       "data": [
        [
         "Hello",
         null,
         1
        ]
       ],
       "datasetInfos": [],
       "dbfsResultPath": null,
       "isJsonSchema": true,
       "metadata": {},
       "overflow": false,
       "plotOptions": {
        "customPlotOptions": {},
        "displayType": "table",
        "pivotAggregation": null,
        "pivotColumns": null,
        "xColumns": null,
        "yColumns": null
       },
       "removedWidgets": [],
       "schema": [
        {
         "metadata": "{}",
         "name": "some",
         "type": "\"string\""
        },
        {
         "metadata": "{}",
         "name": "col",
         "type": "\"string\""
        },
        {
         "metadata": "{}",
         "name": "names",
         "type": "\"long\""
        }
       ],
       "type": "table"
      }
     },
     "output_type": "display_data"
    },
    {
     "output_type": "stream",
     "name": "stdout",
     "output_type": "stream",
     "text": [
      "root\n |-- some: string (nullable = true)\n |-- col: string (nullable = true)\n |-- names: long (nullable = false)\n\n"
     ]
    }
   ],
   "source": [
    "myDf.display()\n",
    "myDf.printSchema()"
   ]
  },
  {
   "cell_type": "code",
   "execution_count": 0,
   "metadata": {
    "application/vnd.databricks.v1+cell": {
     "cellMetadata": {
      "byteLimit": 2048000,
      "rowLimit": 10000
     },
     "inputWidgets": {},
     "nuid": "e25dcaa1-b5f5-46c6-a284-7fe31fef6098",
     "showTitle": false,
     "tableResultSettingsMap": {},
     "title": ""
    }
   },
   "outputs": [
    {
     "output_type": "display_data",
     "data": {
      "text/html": [
       "<style scoped>\n",
       "  .table-result-container {\n",
       "    max-height: 300px;\n",
       "    overflow: auto;\n",
       "  }\n",
       "  table, th, td {\n",
       "    border: 1px solid black;\n",
       "    border-collapse: collapse;\n",
       "  }\n",
       "  th, td {\n",
       "    padding: 5px;\n",
       "  }\n",
       "  th {\n",
       "    text-align: left;\n",
       "  }\n",
       "</style><div class='table-result-container'><table class='table-result'><thead style='background-color: white'><tr><th>destination</th></tr></thead><tbody><tr><td>United States</td></tr><tr><td>United States</td></tr><tr><td>United States</td></tr><tr><td>Egypt</td></tr><tr><td>United States</td></tr><tr><td>United States</td></tr><tr><td>United States</td></tr><tr><td>Costa Rica</td></tr><tr><td>Senegal</td></tr><tr><td>Moldova</td></tr><tr><td>United States</td></tr><tr><td>United States</td></tr><tr><td>Guyana</td></tr><tr><td>Malta</td></tr><tr><td>Anguilla</td></tr><tr><td>Bolivia</td></tr><tr><td>United States</td></tr><tr><td>Algeria</td></tr><tr><td>Turks and Caicos Islands</td></tr><tr><td>United States</td></tr><tr><td>Saint Vincent and the Grenadines</td></tr><tr><td>Italy</td></tr><tr><td>United States</td></tr><tr><td>United States</td></tr><tr><td>Pakistan</td></tr><tr><td>United States</td></tr><tr><td>Iceland</td></tr><tr><td>Marshall Islands</td></tr><tr><td>Luxembourg</td></tr><tr><td>Honduras</td></tr><tr><td>The Bahamas</td></tr><tr><td>United States</td></tr><tr><td>El Salvador</td></tr><tr><td>Samoa</td></tr><tr><td>United States</td></tr><tr><td>Switzerland</td></tr><tr><td>United States</td></tr><tr><td>Sint Maarten</td></tr><tr><td>Hong Kong</td></tr><tr><td>Trinidad and Tobago</td></tr><tr><td>Latvia</td></tr><tr><td>United States</td></tr><tr><td>Suriname</td></tr><tr><td>Mexico</td></tr><tr><td>United States</td></tr><tr><td>Ecuador</td></tr><tr><td>United States</td></tr><tr><td>United States</td></tr><tr><td>United States</td></tr><tr><td>United States</td></tr><tr><td>Colombia</td></tr><tr><td>United States</td></tr><tr><td>United States</td></tr><tr><td>Norway</td></tr><tr><td>United States</td></tr><tr><td>United States</td></tr><tr><td>Thailand</td></tr><tr><td>United States</td></tr><tr><td>Venezuela</td></tr><tr><td>United States</td></tr><tr><td>United States</td></tr><tr><td>Panama</td></tr><tr><td>Antigua and Barbuda</td></tr><tr><td>United States</td></tr><tr><td>Morocco</td></tr><tr><td>United States</td></tr><tr><td>Azerbaijan</td></tr><tr><td>United States</td></tr><tr><td>United States</td></tr><tr><td>New Zealand</td></tr><tr><td>Liberia</td></tr><tr><td>United States</td></tr><tr><td>Hungary</td></tr><tr><td>United States</td></tr><tr><td>United States</td></tr><tr><td>Burkina Faso</td></tr><tr><td>Sweden</td></tr><tr><td>United States</td></tr><tr><td>United States</td></tr><tr><td>United States</td></tr><tr><td>Israel</td></tr><tr><td>United States</td></tr><tr><td>Ethiopia</td></tr><tr><td>United States</td></tr><tr><td>United States</td></tr><tr><td>Martinique</td></tr><tr><td>United States</td></tr><tr><td>Saint Barthelemy</td></tr><tr><td>Barbados</td></tr><tr><td>United States</td></tr><tr><td>Djibouti</td></tr><tr><td>United States</td></tr><tr><td>United States</td></tr><tr><td>Germany</td></tr><tr><td>United States</td></tr><tr><td>United States</td></tr><tr><td>Ireland</td></tr><tr><td>United States</td></tr><tr><td>Zambia</td></tr><tr><td>Malaysia</td></tr><tr><td>United States</td></tr><tr><td>United States</td></tr><tr><td>United States</td></tr><tr><td>United States</td></tr><tr><td>United States</td></tr><tr><td>Croatia</td></tr><tr><td>United States</td></tr><tr><td>Cyprus</td></tr><tr><td>United States</td></tr><tr><td>Fiji</td></tr><tr><td>Qatar</td></tr><tr><td>Saint Kitts and Nevis</td></tr><tr><td>Kuwait</td></tr><tr><td>Taiwan</td></tr><tr><td>Haiti</td></tr><tr><td>Canada</td></tr><tr><td>Federated States of Micronesia</td></tr><tr><td>United States</td></tr><tr><td>Jamaica</td></tr><tr><td>United States</td></tr><tr><td>Dominican Republic</td></tr><tr><td>Japan</td></tr><tr><td>United States</td></tr><tr><td>Finland</td></tr><tr><td>United States</td></tr><tr><td>United States</td></tr><tr><td>United States</td></tr><tr><td>United States</td></tr><tr><td>Aruba</td></tr><tr><td>French Guiana</td></tr><tr><td>United States</td></tr><tr><td>India</td></tr><tr><td>British Virgin Islands</td></tr><tr><td>Brazil</td></tr><tr><td>United States</td></tr><tr><td>United States</td></tr><tr><td>French Polynesia</td></tr><tr><td>United Arab Emirates</td></tr><tr><td>Singapore</td></tr><tr><td>United States</td></tr><tr><td>United States</td></tr><tr><td>Netherlands</td></tr><tr><td>United States</td></tr><tr><td>United States</td></tr><tr><td>United States</td></tr><tr><td>Denmark</td></tr><tr><td>China</td></tr><tr><td>United States</td></tr><tr><td>United States</td></tr><tr><td>United States</td></tr><tr><td>United States</td></tr><tr><td>Cayman Islands</td></tr><tr><td>Argentina</td></tr><tr><td>Peru</td></tr><tr><td>South Africa</td></tr><tr><td>United States</td></tr><tr><td>United States</td></tr><tr><td>Spain</td></tr><tr><td>Bermuda</td></tr><tr><td>United States</td></tr><tr><td>United States</td></tr><tr><td>United States</td></tr><tr><td>Kiribati</td></tr><tr><td>Saudi Arabia</td></tr><tr><td>Czech Republic</td></tr><tr><td>United States</td></tr><tr><td>Belgium</td></tr><tr><td>United States</td></tr><tr><td>United States</td></tr><tr><td>United States</td></tr><tr><td>Curacao</td></tr><tr><td>Georgia</td></tr><tr><td>United States</td></tr><tr><td>United States</td></tr><tr><td>Philippines</td></tr><tr><td>Grenada</td></tr><tr><td>Cape Verde</td></tr><tr><td>Cote d'Ivoire</td></tr><tr><td>Ukraine</td></tr><tr><td>United States</td></tr><tr><td>Russia</td></tr><tr><td>United States</td></tr><tr><td>Guatemala</td></tr><tr><td>Saint Lucia</td></tr><tr><td>Paraguay</td></tr><tr><td>United States</td></tr><tr><td>Kosovo</td></tr><tr><td>United States</td></tr><tr><td>Tunisia</td></tr><tr><td>United States</td></tr><tr><td>Niger</td></tr><tr><td>Turkey</td></tr><tr><td>United Kingdom</td></tr><tr><td>Romania</td></tr><tr><td>United States</td></tr><tr><td>Papua New Guinea</td></tr><tr><td>United States</td></tr><tr><td>Iraq</td></tr><tr><td>United States</td></tr><tr><td>Cuba</td></tr><tr><td>United States</td></tr><tr><td>Dominica</td></tr><tr><td>United States</td></tr><tr><td>Portugal</td></tr><tr><td>United States</td></tr><tr><td>Bahrain</td></tr><tr><td>United States</td></tr><tr><td>Indonesia</td></tr><tr><td>United States</td></tr><tr><td>United States</td></tr><tr><td>Belize</td></tr><tr><td>United States</td></tr><tr><td>United States</td></tr><tr><td>United States</td></tr><tr><td>United States</td></tr><tr><td>United States</td></tr><tr><td>United States</td></tr><tr><td>Nicaragua</td></tr><tr><td>United States</td></tr><tr><td>United States</td></tr><tr><td>United States</td></tr><tr><td>United States</td></tr><tr><td>United States</td></tr><tr><td>Austria</td></tr><tr><td>Jordan</td></tr><tr><td>Palau</td></tr><tr><td>South Korea</td></tr><tr><td>Angola</td></tr><tr><td>Ghana</td></tr><tr><td>New Caledonia</td></tr><tr><td>Guadeloupe</td></tr><tr><td>France</td></tr><tr><td>Poland</td></tr><tr><td>Nigeria</td></tr><tr><td>United States</td></tr><tr><td>Greenland</td></tr><tr><td>United States</td></tr><tr><td>Chile</td></tr><tr><td>United States</td></tr><tr><td>United States</td></tr><tr><td>United States</td></tr><tr><td>United States</td></tr><tr><td>United States</td></tr><tr><td>Australia</td></tr><tr><td>United States</td></tr><tr><td>United States</td></tr><tr><td>United States</td></tr><tr><td>United States</td></tr><tr><td>United States</td></tr><tr><td>Cook Islands</td></tr><tr><td>Bulgaria</td></tr><tr><td>United States</td></tr><tr><td>Uruguay</td></tr><tr><td>United States</td></tr><tr><td>Bonaire, Sint Eustatius, and Saba</td></tr><tr><td>Greece</td></tr></tbody></table></div>"
      ]
     },
     "metadata": {
      "application/vnd.databricks.v1+output": {
       "addedWidgets": {},
       "aggData": [],
       "aggError": "",
       "aggOverflow": false,
       "aggSchema": [],
       "aggSeriesLimitReached": false,
       "aggType": "",
       "arguments": {},
       "columnCustomDisplayInfos": {},
       "data": [
        [
         "United States"
        ],
        [
         "United States"
        ],
        [
         "United States"
        ],
        [
         "Egypt"
        ],
        [
         "United States"
        ],
        [
         "United States"
        ],
        [
         "United States"
        ],
        [
         "Costa Rica"
        ],
        [
         "Senegal"
        ],
        [
         "Moldova"
        ],
        [
         "United States"
        ],
        [
         "United States"
        ],
        [
         "Guyana"
        ],
        [
         "Malta"
        ],
        [
         "Anguilla"
        ],
        [
         "Bolivia"
        ],
        [
         "United States"
        ],
        [
         "Algeria"
        ],
        [
         "Turks and Caicos Islands"
        ],
        [
         "United States"
        ],
        [
         "Saint Vincent and the Grenadines"
        ],
        [
         "Italy"
        ],
        [
         "United States"
        ],
        [
         "United States"
        ],
        [
         "Pakistan"
        ],
        [
         "United States"
        ],
        [
         "Iceland"
        ],
        [
         "Marshall Islands"
        ],
        [
         "Luxembourg"
        ],
        [
         "Honduras"
        ],
        [
         "The Bahamas"
        ],
        [
         "United States"
        ],
        [
         "El Salvador"
        ],
        [
         "Samoa"
        ],
        [
         "United States"
        ],
        [
         "Switzerland"
        ],
        [
         "United States"
        ],
        [
         "Sint Maarten"
        ],
        [
         "Hong Kong"
        ],
        [
         "Trinidad and Tobago"
        ],
        [
         "Latvia"
        ],
        [
         "United States"
        ],
        [
         "Suriname"
        ],
        [
         "Mexico"
        ],
        [
         "United States"
        ],
        [
         "Ecuador"
        ],
        [
         "United States"
        ],
        [
         "United States"
        ],
        [
         "United States"
        ],
        [
         "United States"
        ],
        [
         "Colombia"
        ],
        [
         "United States"
        ],
        [
         "United States"
        ],
        [
         "Norway"
        ],
        [
         "United States"
        ],
        [
         "United States"
        ],
        [
         "Thailand"
        ],
        [
         "United States"
        ],
        [
         "Venezuela"
        ],
        [
         "United States"
        ],
        [
         "United States"
        ],
        [
         "Panama"
        ],
        [
         "Antigua and Barbuda"
        ],
        [
         "United States"
        ],
        [
         "Morocco"
        ],
        [
         "United States"
        ],
        [
         "Azerbaijan"
        ],
        [
         "United States"
        ],
        [
         "United States"
        ],
        [
         "New Zealand"
        ],
        [
         "Liberia"
        ],
        [
         "United States"
        ],
        [
         "Hungary"
        ],
        [
         "United States"
        ],
        [
         "United States"
        ],
        [
         "Burkina Faso"
        ],
        [
         "Sweden"
        ],
        [
         "United States"
        ],
        [
         "United States"
        ],
        [
         "United States"
        ],
        [
         "Israel"
        ],
        [
         "United States"
        ],
        [
         "Ethiopia"
        ],
        [
         "United States"
        ],
        [
         "United States"
        ],
        [
         "Martinique"
        ],
        [
         "United States"
        ],
        [
         "Saint Barthelemy"
        ],
        [
         "Barbados"
        ],
        [
         "United States"
        ],
        [
         "Djibouti"
        ],
        [
         "United States"
        ],
        [
         "United States"
        ],
        [
         "Germany"
        ],
        [
         "United States"
        ],
        [
         "United States"
        ],
        [
         "Ireland"
        ],
        [
         "United States"
        ],
        [
         "Zambia"
        ],
        [
         "Malaysia"
        ],
        [
         "United States"
        ],
        [
         "United States"
        ],
        [
         "United States"
        ],
        [
         "United States"
        ],
        [
         "United States"
        ],
        [
         "Croatia"
        ],
        [
         "United States"
        ],
        [
         "Cyprus"
        ],
        [
         "United States"
        ],
        [
         "Fiji"
        ],
        [
         "Qatar"
        ],
        [
         "Saint Kitts and Nevis"
        ],
        [
         "Kuwait"
        ],
        [
         "Taiwan"
        ],
        [
         "Haiti"
        ],
        [
         "Canada"
        ],
        [
         "Federated States of Micronesia"
        ],
        [
         "United States"
        ],
        [
         "Jamaica"
        ],
        [
         "United States"
        ],
        [
         "Dominican Republic"
        ],
        [
         "Japan"
        ],
        [
         "United States"
        ],
        [
         "Finland"
        ],
        [
         "United States"
        ],
        [
         "United States"
        ],
        [
         "United States"
        ],
        [
         "United States"
        ],
        [
         "Aruba"
        ],
        [
         "French Guiana"
        ],
        [
         "United States"
        ],
        [
         "India"
        ],
        [
         "British Virgin Islands"
        ],
        [
         "Brazil"
        ],
        [
         "United States"
        ],
        [
         "United States"
        ],
        [
         "French Polynesia"
        ],
        [
         "United Arab Emirates"
        ],
        [
         "Singapore"
        ],
        [
         "United States"
        ],
        [
         "United States"
        ],
        [
         "Netherlands"
        ],
        [
         "United States"
        ],
        [
         "United States"
        ],
        [
         "United States"
        ],
        [
         "Denmark"
        ],
        [
         "China"
        ],
        [
         "United States"
        ],
        [
         "United States"
        ],
        [
         "United States"
        ],
        [
         "United States"
        ],
        [
         "Cayman Islands"
        ],
        [
         "Argentina"
        ],
        [
         "Peru"
        ],
        [
         "South Africa"
        ],
        [
         "United States"
        ],
        [
         "United States"
        ],
        [
         "Spain"
        ],
        [
         "Bermuda"
        ],
        [
         "United States"
        ],
        [
         "United States"
        ],
        [
         "United States"
        ],
        [
         "Kiribati"
        ],
        [
         "Saudi Arabia"
        ],
        [
         "Czech Republic"
        ],
        [
         "United States"
        ],
        [
         "Belgium"
        ],
        [
         "United States"
        ],
        [
         "United States"
        ],
        [
         "United States"
        ],
        [
         "Curacao"
        ],
        [
         "Georgia"
        ],
        [
         "United States"
        ],
        [
         "United States"
        ],
        [
         "Philippines"
        ],
        [
         "Grenada"
        ],
        [
         "Cape Verde"
        ],
        [
         "Cote d'Ivoire"
        ],
        [
         "Ukraine"
        ],
        [
         "United States"
        ],
        [
         "Russia"
        ],
        [
         "United States"
        ],
        [
         "Guatemala"
        ],
        [
         "Saint Lucia"
        ],
        [
         "Paraguay"
        ],
        [
         "United States"
        ],
        [
         "Kosovo"
        ],
        [
         "United States"
        ],
        [
         "Tunisia"
        ],
        [
         "United States"
        ],
        [
         "Niger"
        ],
        [
         "Turkey"
        ],
        [
         "United Kingdom"
        ],
        [
         "Romania"
        ],
        [
         "United States"
        ],
        [
         "Papua New Guinea"
        ],
        [
         "United States"
        ],
        [
         "Iraq"
        ],
        [
         "United States"
        ],
        [
         "Cuba"
        ],
        [
         "United States"
        ],
        [
         "Dominica"
        ],
        [
         "United States"
        ],
        [
         "Portugal"
        ],
        [
         "United States"
        ],
        [
         "Bahrain"
        ],
        [
         "United States"
        ],
        [
         "Indonesia"
        ],
        [
         "United States"
        ],
        [
         "United States"
        ],
        [
         "Belize"
        ],
        [
         "United States"
        ],
        [
         "United States"
        ],
        [
         "United States"
        ],
        [
         "United States"
        ],
        [
         "United States"
        ],
        [
         "United States"
        ],
        [
         "Nicaragua"
        ],
        [
         "United States"
        ],
        [
         "United States"
        ],
        [
         "United States"
        ],
        [
         "United States"
        ],
        [
         "United States"
        ],
        [
         "Austria"
        ],
        [
         "Jordan"
        ],
        [
         "Palau"
        ],
        [
         "South Korea"
        ],
        [
         "Angola"
        ],
        [
         "Ghana"
        ],
        [
         "New Caledonia"
        ],
        [
         "Guadeloupe"
        ],
        [
         "France"
        ],
        [
         "Poland"
        ],
        [
         "Nigeria"
        ],
        [
         "United States"
        ],
        [
         "Greenland"
        ],
        [
         "United States"
        ],
        [
         "Chile"
        ],
        [
         "United States"
        ],
        [
         "United States"
        ],
        [
         "United States"
        ],
        [
         "United States"
        ],
        [
         "United States"
        ],
        [
         "Australia"
        ],
        [
         "United States"
        ],
        [
         "United States"
        ],
        [
         "United States"
        ],
        [
         "United States"
        ],
        [
         "United States"
        ],
        [
         "Cook Islands"
        ],
        [
         "Bulgaria"
        ],
        [
         "United States"
        ],
        [
         "Uruguay"
        ],
        [
         "United States"
        ],
        [
         "Bonaire, Sint Eustatius, and Saba"
        ],
        [
         "Greece"
        ]
       ],
       "datasetInfos": [],
       "dbfsResultPath": null,
       "isJsonSchema": true,
       "metadata": {},
       "overflow": false,
       "plotOptions": {
        "customPlotOptions": {},
        "displayType": "table",
        "pivotAggregation": null,
        "pivotColumns": null,
        "xColumns": null,
        "yColumns": null
       },
       "removedWidgets": [],
       "schema": [
        {
         "metadata": "{}",
         "name": "destination",
         "type": "\"string\""
        }
       ],
       "type": "table"
      }
     },
     "output_type": "display_data"
    }
   ],
   "source": [
    "df.select(expr(\"DEST_COUNTRY_NAME AS destination\")).display()"
   ]
  },
  {
   "cell_type": "code",
   "execution_count": 0,
   "metadata": {
    "application/vnd.databricks.v1+cell": {
     "cellMetadata": {
      "byteLimit": 2048000,
      "rowLimit": 10000
     },
     "inputWidgets": {},
     "nuid": "861e99af-9b60-42c0-8cfd-88657987e429",
     "showTitle": false,
     "tableResultSettingsMap": {},
     "title": ""
    }
   },
   "outputs": [
    {
     "output_type": "stream",
     "name": "stdout",
     "output_type": "stream",
     "text": [
      "+-------------+-----------------+\n|  destination|DEST_COUNTRY_NAME|\n+-------------+-----------------+\n|United States|    United States|\n|United States|    United States|\n+-------------+-----------------+\nonly showing top 2 rows\n\n"
     ]
    }
   ],
   "source": [
    "df.selectExpr(\"DEST_COUNTRY_NAME as destination\", \"DEST_COUNTRY_NAME\").show(2)"
   ]
  },
  {
   "cell_type": "code",
   "execution_count": 0,
   "metadata": {
    "application/vnd.databricks.v1+cell": {
     "cellMetadata": {
      "byteLimit": 2048000,
      "rowLimit": 10000
     },
     "inputWidgets": {},
     "nuid": "1c118188-06da-4daa-bd21-21d039aa11aa",
     "showTitle": false,
     "tableResultSettingsMap": {},
     "title": ""
    }
   },
   "outputs": [
    {
     "output_type": "display_data",
     "data": {
      "text/html": [
       "<style scoped>\n",
       "  .table-result-container {\n",
       "    max-height: 300px;\n",
       "    overflow: auto;\n",
       "  }\n",
       "  table, th, td {\n",
       "    border: 1px solid black;\n",
       "    border-collapse: collapse;\n",
       "  }\n",
       "  th, td {\n",
       "    padding: 5px;\n",
       "  }\n",
       "  th {\n",
       "    text-align: left;\n",
       "  }\n",
       "</style><div class='table-result-container'><table class='table-result'><thead style='background-color: white'><tr><th>DEST_COUNTRY_NAME</th><th>ORIGIN_COUNTRY_NAME</th><th>count</th></tr></thead><tbody><tr><td>United States</td><td>Romania</td><td>15</td></tr><tr><td>United States</td><td>Croatia</td><td>1</td></tr><tr><td>United States</td><td>Ireland</td><td>344</td></tr><tr><td>Egypt</td><td>United States</td><td>15</td></tr><tr><td>United States</td><td>India</td><td>62</td></tr><tr><td>United States</td><td>Singapore</td><td>1</td></tr><tr><td>United States</td><td>Grenada</td><td>62</td></tr><tr><td>Costa Rica</td><td>United States</td><td>588</td></tr><tr><td>Senegal</td><td>United States</td><td>40</td></tr><tr><td>Moldova</td><td>United States</td><td>1</td></tr><tr><td>United States</td><td>Sint Maarten</td><td>325</td></tr><tr><td>United States</td><td>Marshall Islands</td><td>39</td></tr><tr><td>Guyana</td><td>United States</td><td>64</td></tr><tr><td>Malta</td><td>United States</td><td>1</td></tr><tr><td>Anguilla</td><td>United States</td><td>41</td></tr><tr><td>Bolivia</td><td>United States</td><td>30</td></tr><tr><td>United States</td><td>Paraguay</td><td>6</td></tr><tr><td>Algeria</td><td>United States</td><td>4</td></tr><tr><td>Turks and Caicos Islands</td><td>United States</td><td>230</td></tr><tr><td>United States</td><td>Gibraltar</td><td>1</td></tr><tr><td>Saint Vincent and the Grenadines</td><td>United States</td><td>1</td></tr><tr><td>Italy</td><td>United States</td><td>382</td></tr><tr><td>United States</td><td>Federated States of Micronesia</td><td>69</td></tr><tr><td>United States</td><td>Russia</td><td>161</td></tr><tr><td>Pakistan</td><td>United States</td><td>12</td></tr><tr><td>United States</td><td>Netherlands</td><td>660</td></tr><tr><td>Iceland</td><td>United States</td><td>181</td></tr><tr><td>Marshall Islands</td><td>United States</td><td>42</td></tr><tr><td>Luxembourg</td><td>United States</td><td>155</td></tr><tr><td>Honduras</td><td>United States</td><td>362</td></tr><tr><td>The Bahamas</td><td>United States</td><td>955</td></tr><tr><td>United States</td><td>Senegal</td><td>42</td></tr><tr><td>El Salvador</td><td>United States</td><td>561</td></tr><tr><td>Samoa</td><td>United States</td><td>25</td></tr><tr><td>United States</td><td>Angola</td><td>13</td></tr><tr><td>Switzerland</td><td>United States</td><td>294</td></tr><tr><td>United States</td><td>Anguilla</td><td>38</td></tr><tr><td>Sint Maarten</td><td>United States</td><td>325</td></tr><tr><td>Hong Kong</td><td>United States</td><td>332</td></tr><tr><td>Trinidad and Tobago</td><td>United States</td><td>211</td></tr><tr><td>Latvia</td><td>United States</td><td>19</td></tr><tr><td>United States</td><td>Ecuador</td><td>300</td></tr><tr><td>Suriname</td><td>United States</td><td>1</td></tr><tr><td>Mexico</td><td>United States</td><td>7140</td></tr><tr><td>United States</td><td>Cyprus</td><td>1</td></tr><tr><td>Ecuador</td><td>United States</td><td>268</td></tr><tr><td>United States</td><td>Portugal</td><td>134</td></tr><tr><td>United States</td><td>Costa Rica</td><td>608</td></tr><tr><td>United States</td><td>Guatemala</td><td>318</td></tr><tr><td>United States</td><td>Suriname</td><td>34</td></tr><tr><td>Colombia</td><td>United States</td><td>873</td></tr><tr><td>United States</td><td>Cape Verde</td><td>14</td></tr><tr><td>United States</td><td>Jamaica</td><td>712</td></tr><tr><td>Norway</td><td>United States</td><td>121</td></tr><tr><td>United States</td><td>Malaysia</td><td>3</td></tr><tr><td>United States</td><td>Morocco</td><td>19</td></tr><tr><td>Thailand</td><td>United States</td><td>3</td></tr><tr><td>United States</td><td>Samoa</td><td>25</td></tr><tr><td>Venezuela</td><td>United States</td><td>290</td></tr><tr><td>United States</td><td>Palau</td><td>31</td></tr><tr><td>United States</td><td>Venezuela</td><td>246</td></tr><tr><td>Panama</td><td>United States</td><td>510</td></tr><tr><td>Antigua and Barbuda</td><td>United States</td><td>126</td></tr><tr><td>United States</td><td>Chile</td><td>185</td></tr><tr><td>Morocco</td><td>United States</td><td>15</td></tr><tr><td>United States</td><td>Finland</td><td>28</td></tr><tr><td>Azerbaijan</td><td>United States</td><td>21</td></tr><tr><td>United States</td><td>Greece</td><td>23</td></tr><tr><td>United States</td><td>The Bahamas</td><td>986</td></tr><tr><td>New Zealand</td><td>United States</td><td>111</td></tr><tr><td>Liberia</td><td>United States</td><td>2</td></tr><tr><td>United States</td><td>Hong Kong</td><td>414</td></tr><tr><td>Hungary</td><td>United States</td><td>2</td></tr><tr><td>United States</td><td>China</td><td>920</td></tr><tr><td>United States</td><td>Vietnam</td><td>2</td></tr><tr><td>Burkina Faso</td><td>United States</td><td>1</td></tr><tr><td>Sweden</td><td>United States</td><td>118</td></tr><tr><td>United States</td><td>Kuwait</td><td>28</td></tr><tr><td>United States</td><td>Dominican Republic</td><td>1420</td></tr><tr><td>United States</td><td>Egypt</td><td>12</td></tr><tr><td>Israel</td><td>United States</td><td>134</td></tr><tr><td>United States</td><td>United States</td><td>370002</td></tr><tr><td>Ethiopia</td><td>United States</td><td>13</td></tr><tr><td>United States</td><td>Luxembourg</td><td>134</td></tr><tr><td>United States</td><td>Poland</td><td>33</td></tr><tr><td>Martinique</td><td>United States</td><td>44</td></tr><tr><td>United States</td><td>Saint Barthelemy</td><td>41</td></tr><tr><td>Saint Barthelemy</td><td>United States</td><td>39</td></tr><tr><td>Barbados</td><td>United States</td><td>154</td></tr><tr><td>United States</td><td>Turkey</td><td>129</td></tr><tr><td>Djibouti</td><td>United States</td><td>1</td></tr><tr><td>United States</td><td>Azerbaijan</td><td>21</td></tr><tr><td>United States</td><td>Estonia</td><td>1</td></tr><tr><td>Germany</td><td>United States</td><td>1468</td></tr><tr><td>United States</td><td>South Korea</td><td>827</td></tr><tr><td>United States</td><td>El Salvador</td><td>508</td></tr><tr><td>Ireland</td><td>United States</td><td>335</td></tr><tr><td>United States</td><td>Hungary</td><td>3</td></tr><tr><td>Zambia</td><td>United States</td><td>1</td></tr><tr><td>Malaysia</td><td>United States</td><td>2</td></tr><tr><td>United States</td><td>Ethiopia</td><td>12</td></tr><tr><td>United States</td><td>Panama</td><td>465</td></tr><tr><td>United States</td><td>Aruba</td><td>342</td></tr><tr><td>United States</td><td>Thailand</td><td>4</td></tr><tr><td>United States</td><td>Turks and Caicos Islands</td><td>236</td></tr><tr><td>Croatia</td><td>United States</td><td>2</td></tr><tr><td>United States</td><td>Pakistan</td><td>12</td></tr><tr><td>Cyprus</td><td>United States</td><td>1</td></tr><tr><td>United States</td><td>Honduras</td><td>407</td></tr><tr><td>Fiji</td><td>United States</td><td>24</td></tr><tr><td>Qatar</td><td>United States</td><td>108</td></tr><tr><td>Saint Kitts and Nevis</td><td>United States</td><td>139</td></tr><tr><td>Kuwait</td><td>United States</td><td>32</td></tr><tr><td>Taiwan</td><td>United States</td><td>266</td></tr><tr><td>Haiti</td><td>United States</td><td>226</td></tr><tr><td>Canada</td><td>United States</td><td>8399</td></tr><tr><td>Federated States of Micronesia</td><td>United States</td><td>69</td></tr><tr><td>United States</td><td>Liberia</td><td>2</td></tr><tr><td>Jamaica</td><td>United States</td><td>666</td></tr><tr><td>United States</td><td>Malta</td><td>2</td></tr><tr><td>Dominican Republic</td><td>United States</td><td>1353</td></tr><tr><td>Japan</td><td>United States</td><td>1548</td></tr><tr><td>United States</td><td>Lithuania</td><td>1</td></tr><tr><td>Finland</td><td>United States</td><td>26</td></tr><tr><td>United States</td><td>Guadeloupe</td><td>59</td></tr><tr><td>United States</td><td>Ukraine</td><td>13</td></tr><tr><td>United States</td><td>France</td><td>952</td></tr><tr><td>United States</td><td>Norway</td><td>115</td></tr><tr><td>Aruba</td><td>United States</td><td>346</td></tr><tr><td>French Guiana</td><td>United States</td><td>5</td></tr><tr><td>United States</td><td>Kiribati</td><td>35</td></tr><tr><td>India</td><td>United States</td><td>61</td></tr><tr><td>British Virgin Islands</td><td>United States</td><td>107</td></tr><tr><td>Brazil</td><td>United States</td><td>853</td></tr><tr><td>United States</td><td>Germany</td><td>1336</td></tr><tr><td>United States</td><td>New Zealand</td><td>74</td></tr><tr><td>French Polynesia</td><td>United States</td><td>43</td></tr><tr><td>United Arab Emirates</td><td>United States</td><td>320</td></tr><tr><td>Singapore</td><td>United States</td><td>3</td></tr><tr><td>United States</td><td>Mexico</td><td>7187</td></tr><tr><td>United States</td><td>Sweden</td><td>119</td></tr><tr><td>Netherlands</td><td>United States</td><td>776</td></tr><tr><td>United States</td><td>Martinique</td><td>43</td></tr><tr><td>United States</td><td>United Arab Emirates</td><td>313</td></tr><tr><td>United States</td><td>Bulgaria</td><td>1</td></tr><tr><td>Denmark</td><td>United States</td><td>153</td></tr><tr><td>China</td><td>United States</td><td>772</td></tr><tr><td>United States</td><td>Nicaragua</td><td>201</td></tr><tr><td>United States</td><td>Philippines</td><td>126</td></tr><tr><td>United States</td><td>Georgia</td><td>1</td></tr><tr><td>United States</td><td>Belgium</td><td>228</td></tr><tr><td>Cayman Islands</td><td>United States</td><td>314</td></tr><tr><td>Argentina</td><td>United States</td><td>180</td></tr><tr><td>Peru</td><td>United States</td><td>279</td></tr><tr><td>South Africa</td><td>United States</td><td>36</td></tr><tr><td>United States</td><td>Iceland</td><td>202</td></tr><tr><td>United States</td><td>Argentina</td><td>141</td></tr><tr><td>Spain</td><td>United States</td><td>420</td></tr><tr><td>Bermuda</td><td>United States</td><td>183</td></tr><tr><td>United States</td><td>Nigeria</td><td>50</td></tr><tr><td>United States</td><td>Austria</td><td>63</td></tr><tr><td>United States</td><td>Bonaire, Sint Eustatius, and Saba</td><td>59</td></tr><tr><td>Kiribati</td><td>United States</td><td>26</td></tr><tr><td>Saudi Arabia</td><td>United States</td><td>83</td></tr><tr><td>Czech Republic</td><td>United States</td><td>13</td></tr><tr><td>United States</td><td>Israel</td><td>127</td></tr><tr><td>Belgium</td><td>United States</td><td>259</td></tr><tr><td>United States</td><td>Saint Lucia</td><td>136</td></tr><tr><td>United States</td><td>Bahrain</td><td>1</td></tr><tr><td>United States</td><td>British Virgin Islands</td><td>80</td></tr><tr><td>Curacao</td><td>United States</td><td>90</td></tr><tr><td>Georgia</td><td>United States</td><td>2</td></tr><tr><td>United States</td><td>Denmark</td><td>152</td></tr><tr><td>United States</td><td>Guyana</td><td>63</td></tr><tr><td>Philippines</td><td>United States</td><td>134</td></tr><tr><td>Grenada</td><td>United States</td><td>53</td></tr><tr><td>Cape Verde</td><td>United States</td><td>20</td></tr><tr><td>Cote d'Ivoire</td><td>United States</td><td>1</td></tr><tr><td>Ukraine</td><td>United States</td><td>14</td></tr><tr><td>United States</td><td>Papua New Guinea</td><td>1</td></tr><tr><td>Russia</td><td>United States</td><td>176</td></tr><tr><td>United States</td><td>Saudi Arabia</td><td>70</td></tr><tr><td>Guatemala</td><td>United States</td><td>397</td></tr><tr><td>Saint Lucia</td><td>United States</td><td>123</td></tr><tr><td>Paraguay</td><td>United States</td><td>60</td></tr><tr><td>United States</td><td>Curacao</td><td>83</td></tr><tr><td>Kosovo</td><td>United States</td><td>1</td></tr><tr><td>United States</td><td>Taiwan</td><td>235</td></tr><tr><td>Tunisia</td><td>United States</td><td>3</td></tr><tr><td>United States</td><td>South Africa</td><td>40</td></tr><tr><td>Niger</td><td>United States</td><td>2</td></tr><tr><td>Turkey</td><td>United States</td><td>138</td></tr><tr><td>United Kingdom</td><td>United States</td><td>2025</td></tr><tr><td>Romania</td><td>United States</td><td>14</td></tr><tr><td>United States</td><td>Greenland</td><td>4</td></tr><tr><td>Papua New Guinea</td><td>United States</td><td>3</td></tr><tr><td>United States</td><td>Spain</td><td>442</td></tr><tr><td>Iraq</td><td>United States</td><td>1</td></tr><tr><td>United States</td><td>Italy</td><td>438</td></tr><tr><td>Cuba</td><td>United States</td><td>466</td></tr><tr><td>United States</td><td>Switzerland</td><td>305</td></tr><tr><td>Dominica</td><td>United States</td><td>20</td></tr><tr><td>United States</td><td>Japan</td><td>1496</td></tr><tr><td>Portugal</td><td>United States</td><td>127</td></tr><tr><td>United States</td><td>Brazil</td><td>619</td></tr><tr><td>Bahrain</td><td>United States</td><td>19</td></tr><tr><td>United States</td><td>Peru</td><td>337</td></tr><tr><td>Indonesia</td><td>United States</td><td>1</td></tr><tr><td>United States</td><td>Belize</td><td>193</td></tr><tr><td>United States</td><td>United Kingdom</td><td>1970</td></tr><tr><td>Belize</td><td>United States</td><td>188</td></tr><tr><td>United States</td><td>Ghana</td><td>20</td></tr><tr><td>United States</td><td>Indonesia</td><td>2</td></tr><tr><td>United States</td><td>Fiji</td><td>25</td></tr><tr><td>United States</td><td>Canada</td><td>8483</td></tr><tr><td>United States</td><td>Antigua and Barbuda</td><td>117</td></tr><tr><td>United States</td><td>French Polynesia</td><td>40</td></tr><tr><td>Nicaragua</td><td>United States</td><td>179</td></tr><tr><td>United States</td><td>Latvia</td><td>15</td></tr><tr><td>United States</td><td>Dominica</td><td>27</td></tr><tr><td>United States</td><td>Czech Republic</td><td>12</td></tr><tr><td>United States</td><td>Australia</td><td>258</td></tr><tr><td>United States</td><td>Cook Islands</td><td>13</td></tr><tr><td>Austria</td><td>United States</td><td>62</td></tr><tr><td>Jordan</td><td>United States</td><td>44</td></tr><tr><td>Palau</td><td>United States</td><td>30</td></tr><tr><td>South Korea</td><td>United States</td><td>1048</td></tr><tr><td>Angola</td><td>United States</td><td>15</td></tr><tr><td>Ghana</td><td>United States</td><td>18</td></tr><tr><td>New Caledonia</td><td>United States</td><td>1</td></tr><tr><td>Guadeloupe</td><td>United States</td><td>56</td></tr><tr><td>France</td><td>United States</td><td>935</td></tr><tr><td>Poland</td><td>United States</td><td>32</td></tr><tr><td>Nigeria</td><td>United States</td><td>59</td></tr><tr><td>United States</td><td>Uruguay</td><td>13</td></tr><tr><td>Greenland</td><td>United States</td><td>2</td></tr><tr><td>United States</td><td>Bermuda</td><td>193</td></tr><tr><td>Chile</td><td>United States</td><td>174</td></tr><tr><td>United States</td><td>Cuba</td><td>478</td></tr><tr><td>United States</td><td>Montenegro</td><td>1</td></tr><tr><td>United States</td><td>Colombia</td><td>867</td></tr><tr><td>United States</td><td>Barbados</td><td>130</td></tr><tr><td>United States</td><td>Qatar</td><td>109</td></tr><tr><td>Australia</td><td>United States</td><td>329</td></tr><tr><td>United States</td><td>Cayman Islands</td><td>310</td></tr><tr><td>United States</td><td>Jordan</td><td>44</td></tr><tr><td>United States</td><td>Namibia</td><td>1</td></tr><tr><td>United States</td><td>Trinidad and Tobago</td><td>217</td></tr><tr><td>United States</td><td>Bolivia</td><td>13</td></tr><tr><td>Cook Islands</td><td>United States</td><td>13</td></tr><tr><td>Bulgaria</td><td>United States</td><td>3</td></tr><tr><td>United States</td><td>Saint Kitts and Nevis</td><td>145</td></tr><tr><td>Uruguay</td><td>United States</td><td>43</td></tr><tr><td>United States</td><td>Haiti</td><td>225</td></tr><tr><td>Bonaire, Sint Eustatius, and Saba</td><td>United States</td><td>58</td></tr><tr><td>Greece</td><td>United States</td><td>30</td></tr></tbody></table></div>"
      ]
     },
     "metadata": {
      "application/vnd.databricks.v1+output": {
       "addedWidgets": {},
       "aggData": [],
       "aggError": "",
       "aggOverflow": false,
       "aggSchema": [],
       "aggSeriesLimitReached": false,
       "aggType": "",
       "arguments": {},
       "columnCustomDisplayInfos": {},
       "data": [
        [
         "United States",
         "Romania",
         15
        ],
        [
         "United States",
         "Croatia",
         1
        ],
        [
         "United States",
         "Ireland",
         344
        ],
        [
         "Egypt",
         "United States",
         15
        ],
        [
         "United States",
         "India",
         62
        ],
        [
         "United States",
         "Singapore",
         1
        ],
        [
         "United States",
         "Grenada",
         62
        ],
        [
         "Costa Rica",
         "United States",
         588
        ],
        [
         "Senegal",
         "United States",
         40
        ],
        [
         "Moldova",
         "United States",
         1
        ],
        [
         "United States",
         "Sint Maarten",
         325
        ],
        [
         "United States",
         "Marshall Islands",
         39
        ],
        [
         "Guyana",
         "United States",
         64
        ],
        [
         "Malta",
         "United States",
         1
        ],
        [
         "Anguilla",
         "United States",
         41
        ],
        [
         "Bolivia",
         "United States",
         30
        ],
        [
         "United States",
         "Paraguay",
         6
        ],
        [
         "Algeria",
         "United States",
         4
        ],
        [
         "Turks and Caicos Islands",
         "United States",
         230
        ],
        [
         "United States",
         "Gibraltar",
         1
        ],
        [
         "Saint Vincent and the Grenadines",
         "United States",
         1
        ],
        [
         "Italy",
         "United States",
         382
        ],
        [
         "United States",
         "Federated States of Micronesia",
         69
        ],
        [
         "United States",
         "Russia",
         161
        ],
        [
         "Pakistan",
         "United States",
         12
        ],
        [
         "United States",
         "Netherlands",
         660
        ],
        [
         "Iceland",
         "United States",
         181
        ],
        [
         "Marshall Islands",
         "United States",
         42
        ],
        [
         "Luxembourg",
         "United States",
         155
        ],
        [
         "Honduras",
         "United States",
         362
        ],
        [
         "The Bahamas",
         "United States",
         955
        ],
        [
         "United States",
         "Senegal",
         42
        ],
        [
         "El Salvador",
         "United States",
         561
        ],
        [
         "Samoa",
         "United States",
         25
        ],
        [
         "United States",
         "Angola",
         13
        ],
        [
         "Switzerland",
         "United States",
         294
        ],
        [
         "United States",
         "Anguilla",
         38
        ],
        [
         "Sint Maarten",
         "United States",
         325
        ],
        [
         "Hong Kong",
         "United States",
         332
        ],
        [
         "Trinidad and Tobago",
         "United States",
         211
        ],
        [
         "Latvia",
         "United States",
         19
        ],
        [
         "United States",
         "Ecuador",
         300
        ],
        [
         "Suriname",
         "United States",
         1
        ],
        [
         "Mexico",
         "United States",
         7140
        ],
        [
         "United States",
         "Cyprus",
         1
        ],
        [
         "Ecuador",
         "United States",
         268
        ],
        [
         "United States",
         "Portugal",
         134
        ],
        [
         "United States",
         "Costa Rica",
         608
        ],
        [
         "United States",
         "Guatemala",
         318
        ],
        [
         "United States",
         "Suriname",
         34
        ],
        [
         "Colombia",
         "United States",
         873
        ],
        [
         "United States",
         "Cape Verde",
         14
        ],
        [
         "United States",
         "Jamaica",
         712
        ],
        [
         "Norway",
         "United States",
         121
        ],
        [
         "United States",
         "Malaysia",
         3
        ],
        [
         "United States",
         "Morocco",
         19
        ],
        [
         "Thailand",
         "United States",
         3
        ],
        [
         "United States",
         "Samoa",
         25
        ],
        [
         "Venezuela",
         "United States",
         290
        ],
        [
         "United States",
         "Palau",
         31
        ],
        [
         "United States",
         "Venezuela",
         246
        ],
        [
         "Panama",
         "United States",
         510
        ],
        [
         "Antigua and Barbuda",
         "United States",
         126
        ],
        [
         "United States",
         "Chile",
         185
        ],
        [
         "Morocco",
         "United States",
         15
        ],
        [
         "United States",
         "Finland",
         28
        ],
        [
         "Azerbaijan",
         "United States",
         21
        ],
        [
         "United States",
         "Greece",
         23
        ],
        [
         "United States",
         "The Bahamas",
         986
        ],
        [
         "New Zealand",
         "United States",
         111
        ],
        [
         "Liberia",
         "United States",
         2
        ],
        [
         "United States",
         "Hong Kong",
         414
        ],
        [
         "Hungary",
         "United States",
         2
        ],
        [
         "United States",
         "China",
         920
        ],
        [
         "United States",
         "Vietnam",
         2
        ],
        [
         "Burkina Faso",
         "United States",
         1
        ],
        [
         "Sweden",
         "United States",
         118
        ],
        [
         "United States",
         "Kuwait",
         28
        ],
        [
         "United States",
         "Dominican Republic",
         1420
        ],
        [
         "United States",
         "Egypt",
         12
        ],
        [
         "Israel",
         "United States",
         134
        ],
        [
         "United States",
         "United States",
         370002
        ],
        [
         "Ethiopia",
         "United States",
         13
        ],
        [
         "United States",
         "Luxembourg",
         134
        ],
        [
         "United States",
         "Poland",
         33
        ],
        [
         "Martinique",
         "United States",
         44
        ],
        [
         "United States",
         "Saint Barthelemy",
         41
        ],
        [
         "Saint Barthelemy",
         "United States",
         39
        ],
        [
         "Barbados",
         "United States",
         154
        ],
        [
         "United States",
         "Turkey",
         129
        ],
        [
         "Djibouti",
         "United States",
         1
        ],
        [
         "United States",
         "Azerbaijan",
         21
        ],
        [
         "United States",
         "Estonia",
         1
        ],
        [
         "Germany",
         "United States",
         1468
        ],
        [
         "United States",
         "South Korea",
         827
        ],
        [
         "United States",
         "El Salvador",
         508
        ],
        [
         "Ireland",
         "United States",
         335
        ],
        [
         "United States",
         "Hungary",
         3
        ],
        [
         "Zambia",
         "United States",
         1
        ],
        [
         "Malaysia",
         "United States",
         2
        ],
        [
         "United States",
         "Ethiopia",
         12
        ],
        [
         "United States",
         "Panama",
         465
        ],
        [
         "United States",
         "Aruba",
         342
        ],
        [
         "United States",
         "Thailand",
         4
        ],
        [
         "United States",
         "Turks and Caicos Islands",
         236
        ],
        [
         "Croatia",
         "United States",
         2
        ],
        [
         "United States",
         "Pakistan",
         12
        ],
        [
         "Cyprus",
         "United States",
         1
        ],
        [
         "United States",
         "Honduras",
         407
        ],
        [
         "Fiji",
         "United States",
         24
        ],
        [
         "Qatar",
         "United States",
         108
        ],
        [
         "Saint Kitts and Nevis",
         "United States",
         139
        ],
        [
         "Kuwait",
         "United States",
         32
        ],
        [
         "Taiwan",
         "United States",
         266
        ],
        [
         "Haiti",
         "United States",
         226
        ],
        [
         "Canada",
         "United States",
         8399
        ],
        [
         "Federated States of Micronesia",
         "United States",
         69
        ],
        [
         "United States",
         "Liberia",
         2
        ],
        [
         "Jamaica",
         "United States",
         666
        ],
        [
         "United States",
         "Malta",
         2
        ],
        [
         "Dominican Republic",
         "United States",
         1353
        ],
        [
         "Japan",
         "United States",
         1548
        ],
        [
         "United States",
         "Lithuania",
         1
        ],
        [
         "Finland",
         "United States",
         26
        ],
        [
         "United States",
         "Guadeloupe",
         59
        ],
        [
         "United States",
         "Ukraine",
         13
        ],
        [
         "United States",
         "France",
         952
        ],
        [
         "United States",
         "Norway",
         115
        ],
        [
         "Aruba",
         "United States",
         346
        ],
        [
         "French Guiana",
         "United States",
         5
        ],
        [
         "United States",
         "Kiribati",
         35
        ],
        [
         "India",
         "United States",
         61
        ],
        [
         "British Virgin Islands",
         "United States",
         107
        ],
        [
         "Brazil",
         "United States",
         853
        ],
        [
         "United States",
         "Germany",
         1336
        ],
        [
         "United States",
         "New Zealand",
         74
        ],
        [
         "French Polynesia",
         "United States",
         43
        ],
        [
         "United Arab Emirates",
         "United States",
         320
        ],
        [
         "Singapore",
         "United States",
         3
        ],
        [
         "United States",
         "Mexico",
         7187
        ],
        [
         "United States",
         "Sweden",
         119
        ],
        [
         "Netherlands",
         "United States",
         776
        ],
        [
         "United States",
         "Martinique",
         43
        ],
        [
         "United States",
         "United Arab Emirates",
         313
        ],
        [
         "United States",
         "Bulgaria",
         1
        ],
        [
         "Denmark",
         "United States",
         153
        ],
        [
         "China",
         "United States",
         772
        ],
        [
         "United States",
         "Nicaragua",
         201
        ],
        [
         "United States",
         "Philippines",
         126
        ],
        [
         "United States",
         "Georgia",
         1
        ],
        [
         "United States",
         "Belgium",
         228
        ],
        [
         "Cayman Islands",
         "United States",
         314
        ],
        [
         "Argentina",
         "United States",
         180
        ],
        [
         "Peru",
         "United States",
         279
        ],
        [
         "South Africa",
         "United States",
         36
        ],
        [
         "United States",
         "Iceland",
         202
        ],
        [
         "United States",
         "Argentina",
         141
        ],
        [
         "Spain",
         "United States",
         420
        ],
        [
         "Bermuda",
         "United States",
         183
        ],
        [
         "United States",
         "Nigeria",
         50
        ],
        [
         "United States",
         "Austria",
         63
        ],
        [
         "United States",
         "Bonaire, Sint Eustatius, and Saba",
         59
        ],
        [
         "Kiribati",
         "United States",
         26
        ],
        [
         "Saudi Arabia",
         "United States",
         83
        ],
        [
         "Czech Republic",
         "United States",
         13
        ],
        [
         "United States",
         "Israel",
         127
        ],
        [
         "Belgium",
         "United States",
         259
        ],
        [
         "United States",
         "Saint Lucia",
         136
        ],
        [
         "United States",
         "Bahrain",
         1
        ],
        [
         "United States",
         "British Virgin Islands",
         80
        ],
        [
         "Curacao",
         "United States",
         90
        ],
        [
         "Georgia",
         "United States",
         2
        ],
        [
         "United States",
         "Denmark",
         152
        ],
        [
         "United States",
         "Guyana",
         63
        ],
        [
         "Philippines",
         "United States",
         134
        ],
        [
         "Grenada",
         "United States",
         53
        ],
        [
         "Cape Verde",
         "United States",
         20
        ],
        [
         "Cote d'Ivoire",
         "United States",
         1
        ],
        [
         "Ukraine",
         "United States",
         14
        ],
        [
         "United States",
         "Papua New Guinea",
         1
        ],
        [
         "Russia",
         "United States",
         176
        ],
        [
         "United States",
         "Saudi Arabia",
         70
        ],
        [
         "Guatemala",
         "United States",
         397
        ],
        [
         "Saint Lucia",
         "United States",
         123
        ],
        [
         "Paraguay",
         "United States",
         60
        ],
        [
         "United States",
         "Curacao",
         83
        ],
        [
         "Kosovo",
         "United States",
         1
        ],
        [
         "United States",
         "Taiwan",
         235
        ],
        [
         "Tunisia",
         "United States",
         3
        ],
        [
         "United States",
         "South Africa",
         40
        ],
        [
         "Niger",
         "United States",
         2
        ],
        [
         "Turkey",
         "United States",
         138
        ],
        [
         "United Kingdom",
         "United States",
         2025
        ],
        [
         "Romania",
         "United States",
         14
        ],
        [
         "United States",
         "Greenland",
         4
        ],
        [
         "Papua New Guinea",
         "United States",
         3
        ],
        [
         "United States",
         "Spain",
         442
        ],
        [
         "Iraq",
         "United States",
         1
        ],
        [
         "United States",
         "Italy",
         438
        ],
        [
         "Cuba",
         "United States",
         466
        ],
        [
         "United States",
         "Switzerland",
         305
        ],
        [
         "Dominica",
         "United States",
         20
        ],
        [
         "United States",
         "Japan",
         1496
        ],
        [
         "Portugal",
         "United States",
         127
        ],
        [
         "United States",
         "Brazil",
         619
        ],
        [
         "Bahrain",
         "United States",
         19
        ],
        [
         "United States",
         "Peru",
         337
        ],
        [
         "Indonesia",
         "United States",
         1
        ],
        [
         "United States",
         "Belize",
         193
        ],
        [
         "United States",
         "United Kingdom",
         1970
        ],
        [
         "Belize",
         "United States",
         188
        ],
        [
         "United States",
         "Ghana",
         20
        ],
        [
         "United States",
         "Indonesia",
         2
        ],
        [
         "United States",
         "Fiji",
         25
        ],
        [
         "United States",
         "Canada",
         8483
        ],
        [
         "United States",
         "Antigua and Barbuda",
         117
        ],
        [
         "United States",
         "French Polynesia",
         40
        ],
        [
         "Nicaragua",
         "United States",
         179
        ],
        [
         "United States",
         "Latvia",
         15
        ],
        [
         "United States",
         "Dominica",
         27
        ],
        [
         "United States",
         "Czech Republic",
         12
        ],
        [
         "United States",
         "Australia",
         258
        ],
        [
         "United States",
         "Cook Islands",
         13
        ],
        [
         "Austria",
         "United States",
         62
        ],
        [
         "Jordan",
         "United States",
         44
        ],
        [
         "Palau",
         "United States",
         30
        ],
        [
         "South Korea",
         "United States",
         1048
        ],
        [
         "Angola",
         "United States",
         15
        ],
        [
         "Ghana",
         "United States",
         18
        ],
        [
         "New Caledonia",
         "United States",
         1
        ],
        [
         "Guadeloupe",
         "United States",
         56
        ],
        [
         "France",
         "United States",
         935
        ],
        [
         "Poland",
         "United States",
         32
        ],
        [
         "Nigeria",
         "United States",
         59
        ],
        [
         "United States",
         "Uruguay",
         13
        ],
        [
         "Greenland",
         "United States",
         2
        ],
        [
         "United States",
         "Bermuda",
         193
        ],
        [
         "Chile",
         "United States",
         174
        ],
        [
         "United States",
         "Cuba",
         478
        ],
        [
         "United States",
         "Montenegro",
         1
        ],
        [
         "United States",
         "Colombia",
         867
        ],
        [
         "United States",
         "Barbados",
         130
        ],
        [
         "United States",
         "Qatar",
         109
        ],
        [
         "Australia",
         "United States",
         329
        ],
        [
         "United States",
         "Cayman Islands",
         310
        ],
        [
         "United States",
         "Jordan",
         44
        ],
        [
         "United States",
         "Namibia",
         1
        ],
        [
         "United States",
         "Trinidad and Tobago",
         217
        ],
        [
         "United States",
         "Bolivia",
         13
        ],
        [
         "Cook Islands",
         "United States",
         13
        ],
        [
         "Bulgaria",
         "United States",
         3
        ],
        [
         "United States",
         "Saint Kitts and Nevis",
         145
        ],
        [
         "Uruguay",
         "United States",
         43
        ],
        [
         "United States",
         "Haiti",
         225
        ],
        [
         "Bonaire, Sint Eustatius, and Saba",
         "United States",
         58
        ],
        [
         "Greece",
         "United States",
         30
        ]
       ],
       "datasetInfos": [],
       "dbfsResultPath": null,
       "isJsonSchema": true,
       "metadata": {},
       "overflow": false,
       "plotOptions": {
        "customPlotOptions": {},
        "displayType": "table",
        "pivotAggregation": null,
        "pivotColumns": null,
        "xColumns": null,
        "yColumns": null
       },
       "removedWidgets": [],
       "schema": [
        {
         "metadata": "{}",
         "name": "DEST_COUNTRY_NAME",
         "type": "\"string\""
        },
        {
         "metadata": "{}",
         "name": "ORIGIN_COUNTRY_NAME",
         "type": "\"string\""
        },
        {
         "metadata": "{}",
         "name": "count",
         "type": "\"integer\""
        }
       ],
       "type": "table"
      }
     },
     "output_type": "display_data"
    }
   ],
   "source": [
    "df.display()"
   ]
  },
  {
   "cell_type": "code",
   "execution_count": 0,
   "metadata": {
    "application/vnd.databricks.v1+cell": {
     "cellMetadata": {
      "byteLimit": 2048000,
      "rowLimit": 10000
     },
     "inputWidgets": {},
     "nuid": "fe154167-b847-43b5-852e-030d55828358",
     "showTitle": false,
     "tableResultSettingsMap": {},
     "title": ""
    }
   },
   "outputs": [
    {
     "output_type": "display_data",
     "data": {
      "text/html": [
       "<style scoped>\n",
       "  .table-result-container {\n",
       "    max-height: 300px;\n",
       "    overflow: auto;\n",
       "  }\n",
       "  table, th, td {\n",
       "    border: 1px solid black;\n",
       "    border-collapse: collapse;\n",
       "  }\n",
       "  th, td {\n",
       "    padding: 5px;\n",
       "  }\n",
       "  th {\n",
       "    text-align: left;\n",
       "  }\n",
       "</style><div class='table-result-container'><table class='table-result'><thead style='background-color: white'><tr><th>DEST_COUNTRY_NAME</th><th>ORIGIN_COUNTRY_NAME</th><th>count</th><th>withinCountry</th></tr></thead><tbody><tr><td>United States</td><td>United States</td><td>370002</td><td>true</td></tr></tbody></table></div>"
      ]
     },
     "metadata": {
      "application/vnd.databricks.v1+output": {
       "addedWidgets": {},
       "aggData": [],
       "aggError": "",
       "aggOverflow": false,
       "aggSchema": [],
       "aggSeriesLimitReached": false,
       "aggType": "",
       "arguments": {},
       "columnCustomDisplayInfos": {},
       "data": [
        [
         "United States",
         "United States",
         370002,
         true
        ]
       ],
       "datasetInfos": [],
       "dbfsResultPath": null,
       "isJsonSchema": true,
       "metadata": {},
       "overflow": false,
       "plotOptions": {
        "customPlotOptions": {},
        "displayType": "table",
        "pivotAggregation": null,
        "pivotColumns": null,
        "xColumns": null,
        "yColumns": null
       },
       "removedWidgets": [],
       "schema": [
        {
         "metadata": "{}",
         "name": "DEST_COUNTRY_NAME",
         "type": "\"string\""
        },
        {
         "metadata": "{}",
         "name": "ORIGIN_COUNTRY_NAME",
         "type": "\"string\""
        },
        {
         "metadata": "{}",
         "name": "count",
         "type": "\"integer\""
        },
        {
         "metadata": "{}",
         "name": "withinCountry",
         "type": "\"boolean\""
        }
       ],
       "type": "table"
      }
     },
     "output_type": "display_data"
    }
   ],
   "source": [
    "df.selectExpr(\n",
    "  \"*\", # all original columns\n",
    "  \"(DEST_COUNTRY_NAME = ORIGIN_COUNTRY_NAME) as withinCountry\")\\\n",
    "      .where(col(\"withinCountry\") == True)\\\n",
    "  .display()"
   ]
  },
  {
   "cell_type": "code",
   "execution_count": 0,
   "metadata": {
    "application/vnd.databricks.v1+cell": {
     "cellMetadata": {
      "byteLimit": 2048000,
      "rowLimit": 10000
     },
     "inputWidgets": {},
     "nuid": "395890cb-4949-4fbf-84ca-7c3f760dc7e0",
     "showTitle": false,
     "tableResultSettingsMap": {},
     "title": ""
    }
   },
   "outputs": [
    {
     "output_type": "display_data",
     "data": {
      "text/html": [
       "<style scoped>\n",
       "  .table-result-container {\n",
       "    max-height: 300px;\n",
       "    overflow: auto;\n",
       "  }\n",
       "  table, th, td {\n",
       "    border: 1px solid black;\n",
       "    border-collapse: collapse;\n",
       "  }\n",
       "  th, td {\n",
       "    padding: 5px;\n",
       "  }\n",
       "  th {\n",
       "    text-align: left;\n",
       "  }\n",
       "</style><div class='table-result-container'><table class='table-result'><thead style='background-color: white'><tr><th>countAvg</th><th>distCountry</th></tr></thead><tbody><tr><td>1770.765625</td><td>132</td></tr></tbody></table></div>"
      ]
     },
     "metadata": {
      "application/vnd.databricks.v1+output": {
       "addedWidgets": {},
       "aggData": [],
       "aggError": "",
       "aggOverflow": false,
       "aggSchema": [],
       "aggSeriesLimitReached": false,
       "aggType": "",
       "arguments": {},
       "columnCustomDisplayInfos": {},
       "data": [
        [
         1770.765625,
         132
        ]
       ],
       "datasetInfos": [],
       "dbfsResultPath": null,
       "isJsonSchema": true,
       "metadata": {},
       "overflow": false,
       "plotOptions": {
        "customPlotOptions": {},
        "displayType": "table",
        "pivotAggregation": null,
        "pivotColumns": null,
        "xColumns": null,
        "yColumns": null
       },
       "removedWidgets": [],
       "schema": [
        {
         "metadata": "{}",
         "name": "countAvg",
         "type": "\"double\""
        },
        {
         "metadata": "{}",
         "name": "distCountry",
         "type": "\"long\""
        }
       ],
       "type": "table"
      }
     },
     "output_type": "display_data"
    }
   ],
   "source": [
    "df.selectExpr(\"avg(count) as countAvg\", \"count(distinct(DEST_COUNTRY_NAME)) as distCountry\").display()"
   ]
  },
  {
   "cell_type": "code",
   "execution_count": 0,
   "metadata": {
    "application/vnd.databricks.v1+cell": {
     "cellMetadata": {
      "byteLimit": 2048000,
      "rowLimit": 10000
     },
     "inputWidgets": {},
     "nuid": "300d0759-d7bd-40f3-abee-fdd33ce54ea2",
     "showTitle": false,
     "tableResultSettingsMap": {},
     "title": ""
    }
   },
   "outputs": [
    {
     "output_type": "stream",
     "name": "stdout",
     "output_type": "stream",
     "text": [
      "+-----------------+-------------------+-----+---+\n|DEST_COUNTRY_NAME|ORIGIN_COUNTRY_NAME|count|One|\n+-----------------+-------------------+-----+---+\n|    United States|            Romania|   15|100|\n|    United States|            Croatia|    1|100|\n+-----------------+-------------------+-----+---+\nonly showing top 2 rows\n\n"
     ]
    }
   ],
   "source": [
    "from pyspark.sql.functions import lit\n",
    "df.select(expr(\"*\"), lit(100).alias(\"One\")).show(2)"
   ]
  },
  {
   "cell_type": "code",
   "execution_count": 0,
   "metadata": {
    "application/vnd.databricks.v1+cell": {
     "cellMetadata": {
      "byteLimit": 2048000,
      "rowLimit": 10000
     },
     "inputWidgets": {},
     "nuid": "e587eb97-da51-4fa4-b842-65056a6f91a6",
     "showTitle": false,
     "tableResultSettingsMap": {},
     "title": ""
    }
   },
   "outputs": [
    {
     "output_type": "stream",
     "name": "stdout",
     "output_type": "stream",
     "text": [
      "+-----------------+-------------------+-----+---------+\n|DEST_COUNTRY_NAME|ORIGIN_COUNTRY_NAME|count|numberOne|\n+-----------------+-------------------+-----+---------+\n|    United States|            Romania|   15|        1|\n|    United States|            Croatia|    1|        1|\n+-----------------+-------------------+-----+---------+\nonly showing top 2 rows\n\n"
     ]
    }
   ],
   "source": [
    "df.withColumn(\"numberOne\", lit(1)).show(2)"
   ]
  },
  {
   "cell_type": "code",
   "execution_count": 0,
   "metadata": {
    "application/vnd.databricks.v1+cell": {
     "cellMetadata": {
      "byteLimit": 2048000,
      "rowLimit": 10000
     },
     "inputWidgets": {},
     "nuid": "9176e1c8-2fb1-4004-a941-50e121063eb7",
     "showTitle": false,
     "tableResultSettingsMap": {},
     "title": ""
    }
   },
   "outputs": [
    {
     "output_type": "display_data",
     "data": {
      "text/html": [
       "<style scoped>\n",
       "  .table-result-container {\n",
       "    max-height: 300px;\n",
       "    overflow: auto;\n",
       "  }\n",
       "  table, th, td {\n",
       "    border: 1px solid black;\n",
       "    border-collapse: collapse;\n",
       "  }\n",
       "  th, td {\n",
       "    padding: 5px;\n",
       "  }\n",
       "  th {\n",
       "    text-align: left;\n",
       "  }\n",
       "</style><div class='table-result-container'><table class='table-result'><thead style='background-color: white'><tr><th>DEST_COUNTRY_NAME</th><th>ORIGIN_COUNTRY_NAME</th><th>count</th><th>withinCountry</th></tr></thead><tbody><tr><td>United States</td><td>United States</td><td>370002</td><td>true</td></tr></tbody></table></div>"
      ]
     },
     "metadata": {
      "application/vnd.databricks.v1+output": {
       "addedWidgets": {},
       "aggData": [],
       "aggError": "",
       "aggOverflow": false,
       "aggSchema": [],
       "aggSeriesLimitReached": false,
       "aggType": "",
       "arguments": {},
       "columnCustomDisplayInfos": {},
       "data": [
        [
         "United States",
         "United States",
         370002,
         true
        ]
       ],
       "datasetInfos": [],
       "dbfsResultPath": null,
       "isJsonSchema": true,
       "metadata": {},
       "overflow": false,
       "plotOptions": {
        "customPlotOptions": {},
        "displayType": "table",
        "pivotAggregation": null,
        "pivotColumns": null,
        "xColumns": null,
        "yColumns": null
       },
       "removedWidgets": [],
       "schema": [
        {
         "metadata": "{}",
         "name": "DEST_COUNTRY_NAME",
         "type": "\"string\""
        },
        {
         "metadata": "{}",
         "name": "ORIGIN_COUNTRY_NAME",
         "type": "\"string\""
        },
        {
         "metadata": "{}",
         "name": "count",
         "type": "\"integer\""
        },
        {
         "metadata": "{}",
         "name": "withinCountry",
         "type": "\"boolean\""
        }
       ],
       "type": "table"
      }
     },
     "output_type": "display_data"
    }
   ],
   "source": [
    "df.withColumn(\"withinCountry\", expr(\"ORIGIN_COUNTRY_NAME == DEST_COUNTRY_NAME\"))\\\n",
    "    .filter(col(\"withinCountry\") == True).display()"
   ]
  },
  {
   "cell_type": "code",
   "execution_count": 0,
   "metadata": {
    "application/vnd.databricks.v1+cell": {
     "cellMetadata": {
      "byteLimit": 2048000,
      "rowLimit": 10000
     },
     "inputWidgets": {},
     "nuid": "5f57c717-9f0d-406b-8f88-fb5947d571a5",
     "showTitle": false,
     "tableResultSettingsMap": {},
     "title": ""
    }
   },
   "outputs": [
    {
     "output_type": "stream",
     "name": "stdout",
     "output_type": "stream",
     "text": [
      "Out[49]: ['dest', 'ORIGIN_COUNTRY_NAME', 'count']"
     ]
    }
   ],
   "source": [
    "df.withColumnRenamed(\"DEST_COUNTRY_NAME\", \"dest\").columns"
   ]
  },
  {
   "cell_type": "code",
   "execution_count": 0,
   "metadata": {
    "application/vnd.databricks.v1+cell": {
     "cellMetadata": {
      "byteLimit": 2048000,
      "rowLimit": 10000
     },
     "inputWidgets": {},
     "nuid": "013e31c8-d09c-4dfb-bc6d-6b62a2f2ca20",
     "showTitle": false,
     "tableResultSettingsMap": {},
     "title": ""
    }
   },
   "outputs": [],
   "source": [
    "dfWithLongColName = df.withColumn(\n",
    "    \"This Long Column-Name\",\n",
    "    expr(\"ORIGIN_COUNTRY_NAME\"))"
   ]
  },
  {
   "cell_type": "code",
   "execution_count": 0,
   "metadata": {
    "application/vnd.databricks.v1+cell": {
     "cellMetadata": {
      "byteLimit": 2048000,
      "rowLimit": 10000
     },
     "inputWidgets": {},
     "nuid": "c96784ce-c269-4127-aa29-c905acaccf85",
     "showTitle": false,
     "tableResultSettingsMap": {},
     "title": ""
    }
   },
   "outputs": [
    {
     "output_type": "stream",
     "name": "stdout",
     "output_type": "stream",
     "text": [
      "+---------------------+-------+\n|This Long Column-Name|new col|\n+---------------------+-------+\n|              Romania|Romania|\n|              Croatia|Croatia|\n+---------------------+-------+\nonly showing top 2 rows\n\n"
     ]
    }
   ],
   "source": [
    "dfWithLongColName.selectExpr(\n",
    "    \"`This Long Column-Name`\",\n",
    "    \"`This Long Column-Name` as `new col`\")\\\n",
    "  .show(2)"
   ]
  }
 ],
 "metadata": {
  "application/vnd.databricks.v1+notebook": {
   "computePreferences": null,
   "dashboards": [],
   "environmentMetadata": {
    "base_environment": "",
    "environment_version": "1"
   },
   "inputWidgetPreferences": null,
   "language": "python",
   "notebookMetadata": {
    "pythonIndentUnit": 4
   },
   "notebookName": "Spark_Single_Table_Structured_Operation",
   "widgets": {}
  }
 },
 "nbformat": 4,
 "nbformat_minor": 0
}
