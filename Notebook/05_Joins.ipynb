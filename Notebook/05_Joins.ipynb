{
 "cells": [
  {
   "cell_type": "code",
   "execution_count": 0,
   "metadata": {
    "application/vnd.databricks.v1+cell": {
     "cellMetadata": {
      "byteLimit": 2048000,
      "rowLimit": 10000
     },
     "inputWidgets": {},
     "nuid": "f3fd7e9b-dfc8-4fcc-b394-0ccf81cce7e0",
     "showTitle": false,
     "tableResultSettingsMap": {},
     "title": ""
    }
   },
   "outputs": [],
   "source": [
    "person = spark.createDataFrame([\n",
    "    (0, \"Bill Chambers\", 0, [100]),\n",
    "    (1, \"Matei Zaharia\", 1, [500, 250, 100]),\n",
    "    (2, \"Michael Armbrust\", 1, [250, 100])])\\\n",
    "  .toDF(\"id\", \"name\", \"graduate_program\", \"spark_status\")\n",
    "graduateProgram = spark.createDataFrame([\n",
    "    (0, \"Masters\", \"School of Information\", \"UC Berkeley\"),\n",
    "    (2, \"Masters\", \"EECS\", \"UC Berkeley\"),\n",
    "    (1, \"Ph.D.\", \"EECS\", \"UC Berkeley\")])\\\n",
    "  .toDF(\"id\", \"degree\", \"department\", \"school\")\n",
    "sparkStatus = spark.createDataFrame([\n",
    "    (500, \"Vice President\"),\n",
    "    (250, \"PMC Member\"),\n",
    "    (100, \"Contributor\")])\\\n",
    "  .toDF(\"id\", \"status\")"
   ]
  },
  {
   "cell_type": "code",
   "execution_count": 0,
   "metadata": {
    "application/vnd.databricks.v1+cell": {
     "cellMetadata": {
      "byteLimit": 2048000,
      "rowLimit": 10000
     },
     "inputWidgets": {},
     "nuid": "e197e046-15b1-48ee-867c-d7cfd8a3af22",
     "showTitle": false,
     "tableResultSettingsMap": {},
     "title": ""
    }
   },
   "outputs": [
    {
     "output_type": "display_data",
     "data": {
      "text/html": [
       "<style scoped>\n",
       "  .table-result-container {\n",
       "    max-height: 300px;\n",
       "    overflow: auto;\n",
       "  }\n",
       "  table, th, td {\n",
       "    border: 1px solid black;\n",
       "    border-collapse: collapse;\n",
       "  }\n",
       "  th, td {\n",
       "    padding: 5px;\n",
       "  }\n",
       "  th {\n",
       "    text-align: left;\n",
       "  }\n",
       "</style><div class='table-result-container'><table class='table-result'><thead style='background-color: white'><tr><th>id</th><th>name</th><th>graduate_program</th><th>spark_status</th></tr></thead><tbody><tr><td>0</td><td>Bill Chambers</td><td>0</td><td>List(100)</td></tr><tr><td>1</td><td>Matei Zaharia</td><td>1</td><td>List(500, 250, 100)</td></tr><tr><td>2</td><td>Michael Armbrust</td><td>1</td><td>List(250, 100)</td></tr></tbody></table></div>"
      ]
     },
     "metadata": {
      "application/vnd.databricks.v1+output": {
       "addedWidgets": {},
       "aggData": [],
       "aggError": "",
       "aggOverflow": false,
       "aggSchema": [],
       "aggSeriesLimitReached": false,
       "aggType": "",
       "arguments": {},
       "columnCustomDisplayInfos": {},
       "data": [
        [
         0,
         "Bill Chambers",
         0,
         [
          100
         ]
        ],
        [
         1,
         "Matei Zaharia",
         1,
         [
          500,
          250,
          100
         ]
        ],
        [
         2,
         "Michael Armbrust",
         1,
         [
          250,
          100
         ]
        ]
       ],
       "datasetInfos": [],
       "dbfsResultPath": null,
       "isJsonSchema": true,
       "metadata": {},
       "overflow": false,
       "plotOptions": {
        "customPlotOptions": {},
        "displayType": "table",
        "pivotAggregation": null,
        "pivotColumns": null,
        "xColumns": null,
        "yColumns": null
       },
       "removedWidgets": [],
       "schema": [
        {
         "metadata": "{}",
         "name": "id",
         "type": "\"long\""
        },
        {
         "metadata": "{}",
         "name": "name",
         "type": "\"string\""
        },
        {
         "metadata": "{}",
         "name": "graduate_program",
         "type": "\"long\""
        },
        {
         "metadata": "{}",
         "name": "spark_status",
         "type": "{\"type\":\"array\",\"elementType\":\"long\",\"containsNull\":true}"
        }
       ],
       "type": "table"
      }
     },
     "output_type": "display_data"
    },
    {
     "output_type": "display_data",
     "data": {
      "text/html": [
       "<style scoped>\n",
       "  .table-result-container {\n",
       "    max-height: 300px;\n",
       "    overflow: auto;\n",
       "  }\n",
       "  table, th, td {\n",
       "    border: 1px solid black;\n",
       "    border-collapse: collapse;\n",
       "  }\n",
       "  th, td {\n",
       "    padding: 5px;\n",
       "  }\n",
       "  th {\n",
       "    text-align: left;\n",
       "  }\n",
       "</style><div class='table-result-container'><table class='table-result'><thead style='background-color: white'><tr><th>id</th><th>degree</th><th>department</th><th>school</th></tr></thead><tbody><tr><td>0</td><td>Masters</td><td>School of Information</td><td>UC Berkeley</td></tr><tr><td>2</td><td>Masters</td><td>EECS</td><td>UC Berkeley</td></tr><tr><td>1</td><td>Ph.D.</td><td>EECS</td><td>UC Berkeley</td></tr></tbody></table></div>"
      ]
     },
     "metadata": {
      "application/vnd.databricks.v1+output": {
       "addedWidgets": {},
       "aggData": [],
       "aggError": "",
       "aggOverflow": false,
       "aggSchema": [],
       "aggSeriesLimitReached": false,
       "aggType": "",
       "arguments": {},
       "columnCustomDisplayInfos": {},
       "data": [
        [
         0,
         "Masters",
         "School of Information",
         "UC Berkeley"
        ],
        [
         2,
         "Masters",
         "EECS",
         "UC Berkeley"
        ],
        [
         1,
         "Ph.D.",
         "EECS",
         "UC Berkeley"
        ]
       ],
       "datasetInfos": [],
       "dbfsResultPath": null,
       "isJsonSchema": true,
       "metadata": {},
       "overflow": false,
       "plotOptions": {
        "customPlotOptions": {},
        "displayType": "table",
        "pivotAggregation": null,
        "pivotColumns": null,
        "xColumns": null,
        "yColumns": null
       },
       "removedWidgets": [],
       "schema": [
        {
         "metadata": "{}",
         "name": "id",
         "type": "\"long\""
        },
        {
         "metadata": "{}",
         "name": "degree",
         "type": "\"string\""
        },
        {
         "metadata": "{}",
         "name": "department",
         "type": "\"string\""
        },
        {
         "metadata": "{}",
         "name": "school",
         "type": "\"string\""
        }
       ],
       "type": "table"
      }
     },
     "output_type": "display_data"
    }
   ],
   "source": [
    "person.display()\n",
    "graduateProgram.display()"
   ]
  },
  {
   "cell_type": "code",
   "execution_count": 0,
   "metadata": {
    "application/vnd.databricks.v1+cell": {
     "cellMetadata": {
      "byteLimit": 2048000,
      "rowLimit": 10000
     },
     "inputWidgets": {},
     "nuid": "a0fec9c1-5a2e-4307-bc9e-5f55b7b4f520",
     "showTitle": false,
     "tableResultSettingsMap": {},
     "title": ""
    }
   },
   "outputs": [],
   "source": [
    "joinExpression = person[\"graduate_program\"] == graduateProgram['id']"
   ]
  },
  {
   "cell_type": "code",
   "execution_count": 0,
   "metadata": {
    "application/vnd.databricks.v1+cell": {
     "cellMetadata": {
      "byteLimit": 2048000,
      "rowLimit": 10000
     },
     "inputWidgets": {},
     "nuid": "2c0d99ed-d45c-4d7e-b2fb-2414390e076c",
     "showTitle": false,
     "tableResultSettingsMap": {},
     "title": ""
    }
   },
   "outputs": [],
   "source": [
    "joinType = \"right_outer\""
   ]
  },
  {
   "cell_type": "code",
   "execution_count": 0,
   "metadata": {
    "application/vnd.databricks.v1+cell": {
     "cellMetadata": {
      "byteLimit": 2048000,
      "rowLimit": 10000
     },
     "inputWidgets": {},
     "nuid": "64c8c49b-b301-4be0-8d46-b2558bcf4fd5",
     "showTitle": false,
     "tableResultSettingsMap": {},
     "title": ""
    }
   },
   "outputs": [
    {
     "output_type": "display_data",
     "data": {
      "text/html": [
       "<style scoped>\n",
       "  .table-result-container {\n",
       "    max-height: 300px;\n",
       "    overflow: auto;\n",
       "  }\n",
       "  table, th, td {\n",
       "    border: 1px solid black;\n",
       "    border-collapse: collapse;\n",
       "  }\n",
       "  th, td {\n",
       "    padding: 5px;\n",
       "  }\n",
       "  th {\n",
       "    text-align: left;\n",
       "  }\n",
       "</style><div class='table-result-container'><table class='table-result'><thead style='background-color: white'><tr><th>id</th><th>name</th><th>graduate_program</th><th>spark_status</th><th>id</th><th>degree</th><th>department</th><th>school</th></tr></thead><tbody><tr><td>0</td><td>Bill Chambers</td><td>0</td><td>List(100)</td><td>0</td><td>Masters</td><td>School of Information</td><td>UC Berkeley</td></tr><tr><td>null</td><td>null</td><td>null</td><td>null</td><td>2</td><td>Masters</td><td>EECS</td><td>UC Berkeley</td></tr><tr><td>2</td><td>Michael Armbrust</td><td>1</td><td>List(250, 100)</td><td>1</td><td>Ph.D.</td><td>EECS</td><td>UC Berkeley</td></tr><tr><td>1</td><td>Matei Zaharia</td><td>1</td><td>List(500, 250, 100)</td><td>1</td><td>Ph.D.</td><td>EECS</td><td>UC Berkeley</td></tr></tbody></table></div>"
      ]
     },
     "metadata": {
      "application/vnd.databricks.v1+output": {
       "addedWidgets": {},
       "aggData": [],
       "aggError": "",
       "aggOverflow": false,
       "aggSchema": [],
       "aggSeriesLimitReached": false,
       "aggType": "",
       "arguments": {},
       "columnCustomDisplayInfos": {},
       "data": [
        [
         0,
         "Bill Chambers",
         0,
         [
          100
         ],
         0,
         "Masters",
         "School of Information",
         "UC Berkeley"
        ],
        [
         null,
         null,
         null,
         null,
         2,
         "Masters",
         "EECS",
         "UC Berkeley"
        ],
        [
         2,
         "Michael Armbrust",
         1,
         [
          250,
          100
         ],
         1,
         "Ph.D.",
         "EECS",
         "UC Berkeley"
        ],
        [
         1,
         "Matei Zaharia",
         1,
         [
          500,
          250,
          100
         ],
         1,
         "Ph.D.",
         "EECS",
         "UC Berkeley"
        ]
       ],
       "datasetInfos": [],
       "dbfsResultPath": null,
       "isJsonSchema": true,
       "metadata": {},
       "overflow": false,
       "plotOptions": {
        "customPlotOptions": {},
        "displayType": "table",
        "pivotAggregation": null,
        "pivotColumns": null,
        "xColumns": null,
        "yColumns": null
       },
       "removedWidgets": [],
       "schema": [
        {
         "metadata": "{}",
         "name": "id",
         "type": "\"long\""
        },
        {
         "metadata": "{}",
         "name": "name",
         "type": "\"string\""
        },
        {
         "metadata": "{}",
         "name": "graduate_program",
         "type": "\"long\""
        },
        {
         "metadata": "{}",
         "name": "spark_status",
         "type": "{\"type\":\"array\",\"elementType\":\"long\",\"containsNull\":true}"
        },
        {
         "metadata": "{}",
         "name": "id",
         "type": "\"long\""
        },
        {
         "metadata": "{}",
         "name": "degree",
         "type": "\"string\""
        },
        {
         "metadata": "{}",
         "name": "department",
         "type": "\"string\""
        },
        {
         "metadata": "{}",
         "name": "school",
         "type": "\"string\""
        }
       ],
       "type": "table"
      }
     },
     "output_type": "display_data"
    }
   ],
   "source": [
    "person.join(graduateProgram, how = joinType, on = joinExpression).display()"
   ]
  },
  {
   "cell_type": "code",
   "execution_count": 0,
   "metadata": {
    "application/vnd.databricks.v1+cell": {
     "cellMetadata": {
      "byteLimit": 2048000,
      "rowLimit": 10000
     },
     "inputWidgets": {},
     "nuid": "19b68014-1eda-4881-894d-bcef2ceeeb98",
     "showTitle": false,
     "tableResultSettingsMap": {},
     "title": ""
    }
   },
   "outputs": [],
   "source": [
    "joinType = \"left_outer\""
   ]
  },
  {
   "cell_type": "code",
   "execution_count": 0,
   "metadata": {
    "application/vnd.databricks.v1+cell": {
     "cellMetadata": {
      "byteLimit": 2048000,
      "rowLimit": 10000
     },
     "inputWidgets": {},
     "nuid": "50472103-a98e-4dc9-bf00-af9f4a73ee98",
     "showTitle": false,
     "tableResultSettingsMap": {},
     "title": ""
    }
   },
   "outputs": [
    {
     "output_type": "display_data",
     "data": {
      "text/html": [
       "<style scoped>\n",
       "  .table-result-container {\n",
       "    max-height: 300px;\n",
       "    overflow: auto;\n",
       "  }\n",
       "  table, th, td {\n",
       "    border: 1px solid black;\n",
       "    border-collapse: collapse;\n",
       "  }\n",
       "  th, td {\n",
       "    padding: 5px;\n",
       "  }\n",
       "  th {\n",
       "    text-align: left;\n",
       "  }\n",
       "</style><div class='table-result-container'><table class='table-result'><thead style='background-color: white'><tr><th>id</th><th>degree</th><th>department</th><th>school</th><th>id</th><th>name</th><th>graduate_program</th><th>spark_status</th></tr></thead><tbody><tr><td>0</td><td>Masters</td><td>School of Information</td><td>UC Berkeley</td><td>0</td><td>Bill Chambers</td><td>0</td><td>List(100)</td></tr><tr><td>2</td><td>Masters</td><td>EECS</td><td>UC Berkeley</td><td>null</td><td>null</td><td>null</td><td>null</td></tr><tr><td>1</td><td>Ph.D.</td><td>EECS</td><td>UC Berkeley</td><td>2</td><td>Michael Armbrust</td><td>1</td><td>List(250, 100)</td></tr><tr><td>1</td><td>Ph.D.</td><td>EECS</td><td>UC Berkeley</td><td>1</td><td>Matei Zaharia</td><td>1</td><td>List(500, 250, 100)</td></tr></tbody></table></div>"
      ]
     },
     "metadata": {
      "application/vnd.databricks.v1+output": {
       "addedWidgets": {},
       "aggData": [],
       "aggError": "",
       "aggOverflow": false,
       "aggSchema": [],
       "aggSeriesLimitReached": false,
       "aggType": "",
       "arguments": {},
       "columnCustomDisplayInfos": {},
       "data": [
        [
         0,
         "Masters",
         "School of Information",
         "UC Berkeley",
         0,
         "Bill Chambers",
         0,
         [
          100
         ]
        ],
        [
         2,
         "Masters",
         "EECS",
         "UC Berkeley",
         null,
         null,
         null,
         null
        ],
        [
         1,
         "Ph.D.",
         "EECS",
         "UC Berkeley",
         2,
         "Michael Armbrust",
         1,
         [
          250,
          100
         ]
        ],
        [
         1,
         "Ph.D.",
         "EECS",
         "UC Berkeley",
         1,
         "Matei Zaharia",
         1,
         [
          500,
          250,
          100
         ]
        ]
       ],
       "datasetInfos": [],
       "dbfsResultPath": null,
       "isJsonSchema": true,
       "metadata": {},
       "overflow": false,
       "plotOptions": {
        "customPlotOptions": {},
        "displayType": "table",
        "pivotAggregation": null,
        "pivotColumns": null,
        "xColumns": null,
        "yColumns": null
       },
       "removedWidgets": [],
       "schema": [
        {
         "metadata": "{}",
         "name": "id",
         "type": "\"long\""
        },
        {
         "metadata": "{}",
         "name": "degree",
         "type": "\"string\""
        },
        {
         "metadata": "{}",
         "name": "department",
         "type": "\"string\""
        },
        {
         "metadata": "{}",
         "name": "school",
         "type": "\"string\""
        },
        {
         "metadata": "{}",
         "name": "id",
         "type": "\"long\""
        },
        {
         "metadata": "{}",
         "name": "name",
         "type": "\"string\""
        },
        {
         "metadata": "{}",
         "name": "graduate_program",
         "type": "\"long\""
        },
        {
         "metadata": "{}",
         "name": "spark_status",
         "type": "{\"type\":\"array\",\"elementType\":\"long\",\"containsNull\":true}"
        }
       ],
       "type": "table"
      }
     },
     "output_type": "display_data"
    }
   ],
   "source": [
    "graduateProgram.join(person, how = joinType, on = joinExpression).display()"
   ]
  },
  {
   "cell_type": "code",
   "execution_count": 0,
   "metadata": {
    "application/vnd.databricks.v1+cell": {
     "cellMetadata": {
      "byteLimit": 2048000,
      "rowLimit": 10000
     },
     "inputWidgets": {},
     "nuid": "4353f725-9df2-43a5-846d-62961a8dfa57",
     "showTitle": false,
     "tableResultSettingsMap": {},
     "title": ""
    }
   },
   "outputs": [],
   "source": [
    "joinType = \"left_anti\""
   ]
  },
  {
   "cell_type": "code",
   "execution_count": 0,
   "metadata": {
    "application/vnd.databricks.v1+cell": {
     "cellMetadata": {
      "byteLimit": 2048000,
      "rowLimit": 10000
     },
     "inputWidgets": {},
     "nuid": "aa2281f2-89b8-43c0-b374-50a241c90aba",
     "showTitle": false,
     "tableResultSettingsMap": {},
     "title": ""
    }
   },
   "outputs": [
    {
     "output_type": "display_data",
     "data": {
      "text/html": [
       "<style scoped>\n",
       "  .table-result-container {\n",
       "    max-height: 300px;\n",
       "    overflow: auto;\n",
       "  }\n",
       "  table, th, td {\n",
       "    border: 1px solid black;\n",
       "    border-collapse: collapse;\n",
       "  }\n",
       "  th, td {\n",
       "    padding: 5px;\n",
       "  }\n",
       "  th {\n",
       "    text-align: left;\n",
       "  }\n",
       "</style><div class='table-result-container'><table class='table-result'><thead style='background-color: white'><tr><th>id</th><th>degree</th><th>department</th><th>school</th></tr></thead><tbody><tr><td>2</td><td>Masters</td><td>EECS</td><td>UC Berkeley</td></tr></tbody></table></div>"
      ]
     },
     "metadata": {
      "application/vnd.databricks.v1+output": {
       "addedWidgets": {},
       "aggData": [],
       "aggError": "",
       "aggOverflow": false,
       "aggSchema": [],
       "aggSeriesLimitReached": false,
       "aggType": "",
       "arguments": {},
       "columnCustomDisplayInfos": {},
       "data": [
        [
         2,
         "Masters",
         "EECS",
         "UC Berkeley"
        ]
       ],
       "datasetInfos": [],
       "dbfsResultPath": null,
       "isJsonSchema": true,
       "metadata": {},
       "overflow": false,
       "plotOptions": {
        "customPlotOptions": {},
        "displayType": "table",
        "pivotAggregation": null,
        "pivotColumns": null,
        "xColumns": null,
        "yColumns": null
       },
       "removedWidgets": [],
       "schema": [
        {
         "metadata": "{}",
         "name": "id",
         "type": "\"long\""
        },
        {
         "metadata": "{}",
         "name": "degree",
         "type": "\"string\""
        },
        {
         "metadata": "{}",
         "name": "department",
         "type": "\"string\""
        },
        {
         "metadata": "{}",
         "name": "school",
         "type": "\"string\""
        }
       ],
       "type": "table"
      }
     },
     "output_type": "display_data"
    }
   ],
   "source": [
    "graduateProgram.join(person, how = joinType, on = joinExpression).display()"
   ]
  },
  {
   "cell_type": "code",
   "execution_count": 0,
   "metadata": {
    "application/vnd.databricks.v1+cell": {
     "cellMetadata": {
      "byteLimit": 2048000,
      "rowLimit": 10000
     },
     "inputWidgets": {},
     "nuid": "04cf72b4-a716-4870-982b-87a8d9c10f0f",
     "showTitle": false,
     "tableResultSettingsMap": {},
     "title": ""
    }
   },
   "outputs": [
    {
     "output_type": "display_data",
     "data": {
      "text/html": [
       "<style scoped>\n",
       "  .table-result-container {\n",
       "    max-height: 300px;\n",
       "    overflow: auto;\n",
       "  }\n",
       "  table, th, td {\n",
       "    border: 1px solid black;\n",
       "    border-collapse: collapse;\n",
       "  }\n",
       "  th, td {\n",
       "    padding: 5px;\n",
       "  }\n",
       "  th {\n",
       "    text-align: left;\n",
       "  }\n",
       "</style><div class='table-result-container'><table class='table-result'><thead style='background-color: white'><tr><th>id</th><th>name</th><th>graduate_program</th><th>spark_status</th><th>id</th><th>degree</th><th>department</th><th>school</th></tr></thead><tbody><tr><td>0</td><td>Bill Chambers</td><td>0</td><td>List(100)</td><td>0</td><td>Masters</td><td>School of Information</td><td>UC Berkeley</td></tr><tr><td>0</td><td>Bill Chambers</td><td>0</td><td>List(100)</td><td>2</td><td>Masters</td><td>EECS</td><td>UC Berkeley</td></tr><tr><td>0</td><td>Bill Chambers</td><td>0</td><td>List(100)</td><td>1</td><td>Ph.D.</td><td>EECS</td><td>UC Berkeley</td></tr><tr><td>1</td><td>Matei Zaharia</td><td>1</td><td>List(500, 250, 100)</td><td>0</td><td>Masters</td><td>School of Information</td><td>UC Berkeley</td></tr><tr><td>1</td><td>Matei Zaharia</td><td>1</td><td>List(500, 250, 100)</td><td>2</td><td>Masters</td><td>EECS</td><td>UC Berkeley</td></tr><tr><td>1</td><td>Matei Zaharia</td><td>1</td><td>List(500, 250, 100)</td><td>1</td><td>Ph.D.</td><td>EECS</td><td>UC Berkeley</td></tr><tr><td>2</td><td>Michael Armbrust</td><td>1</td><td>List(250, 100)</td><td>0</td><td>Masters</td><td>School of Information</td><td>UC Berkeley</td></tr><tr><td>2</td><td>Michael Armbrust</td><td>1</td><td>List(250, 100)</td><td>2</td><td>Masters</td><td>EECS</td><td>UC Berkeley</td></tr><tr><td>2</td><td>Michael Armbrust</td><td>1</td><td>List(250, 100)</td><td>1</td><td>Ph.D.</td><td>EECS</td><td>UC Berkeley</td></tr></tbody></table></div>"
      ]
     },
     "metadata": {
      "application/vnd.databricks.v1+output": {
       "addedWidgets": {},
       "aggData": [],
       "aggError": "",
       "aggOverflow": false,
       "aggSchema": [],
       "aggSeriesLimitReached": false,
       "aggType": "",
       "arguments": {},
       "columnCustomDisplayInfos": {},
       "data": [
        [
         0,
         "Bill Chambers",
         0,
         [
          100
         ],
         0,
         "Masters",
         "School of Information",
         "UC Berkeley"
        ],
        [
         0,
         "Bill Chambers",
         0,
         [
          100
         ],
         2,
         "Masters",
         "EECS",
         "UC Berkeley"
        ],
        [
         0,
         "Bill Chambers",
         0,
         [
          100
         ],
         1,
         "Ph.D.",
         "EECS",
         "UC Berkeley"
        ],
        [
         1,
         "Matei Zaharia",
         1,
         [
          500,
          250,
          100
         ],
         0,
         "Masters",
         "School of Information",
         "UC Berkeley"
        ],
        [
         1,
         "Matei Zaharia",
         1,
         [
          500,
          250,
          100
         ],
         2,
         "Masters",
         "EECS",
         "UC Berkeley"
        ],
        [
         1,
         "Matei Zaharia",
         1,
         [
          500,
          250,
          100
         ],
         1,
         "Ph.D.",
         "EECS",
         "UC Berkeley"
        ],
        [
         2,
         "Michael Armbrust",
         1,
         [
          250,
          100
         ],
         0,
         "Masters",
         "School of Information",
         "UC Berkeley"
        ],
        [
         2,
         "Michael Armbrust",
         1,
         [
          250,
          100
         ],
         2,
         "Masters",
         "EECS",
         "UC Berkeley"
        ],
        [
         2,
         "Michael Armbrust",
         1,
         [
          250,
          100
         ],
         1,
         "Ph.D.",
         "EECS",
         "UC Berkeley"
        ]
       ],
       "datasetInfos": [],
       "dbfsResultPath": null,
       "isJsonSchema": true,
       "metadata": {},
       "overflow": false,
       "plotOptions": {
        "customPlotOptions": {},
        "displayType": "table",
        "pivotAggregation": null,
        "pivotColumns": null,
        "xColumns": null,
        "yColumns": null
       },
       "removedWidgets": [],
       "schema": [
        {
         "metadata": "{}",
         "name": "id",
         "type": "\"long\""
        },
        {
         "metadata": "{}",
         "name": "name",
         "type": "\"string\""
        },
        {
         "metadata": "{}",
         "name": "graduate_program",
         "type": "\"long\""
        },
        {
         "metadata": "{}",
         "name": "spark_status",
         "type": "{\"type\":\"array\",\"elementType\":\"long\",\"containsNull\":true}"
        },
        {
         "metadata": "{}",
         "name": "id",
         "type": "\"long\""
        },
        {
         "metadata": "{}",
         "name": "degree",
         "type": "\"string\""
        },
        {
         "metadata": "{}",
         "name": "department",
         "type": "\"string\""
        },
        {
         "metadata": "{}",
         "name": "school",
         "type": "\"string\""
        }
       ],
       "type": "table"
      }
     },
     "output_type": "display_data"
    }
   ],
   "source": [
    "person.crossJoin(graduateProgram).display()"
   ]
  }
 ],
 "metadata": {
  "application/vnd.databricks.v1+notebook": {
   "computePreferences": null,
   "dashboards": [],
   "environmentMetadata": {
    "base_environment": "",
    "client": "1"
   },
   "language": "python",
   "notebookMetadata": {
    "pythonIndentUnit": 4
   },
   "notebookName": "Joins",
   "widgets": {}
  }
 },
 "nbformat": 4,
 "nbformat_minor": 0
}
