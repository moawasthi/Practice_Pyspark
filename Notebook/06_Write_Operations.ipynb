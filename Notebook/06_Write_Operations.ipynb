{
 "cells": [
  {
   "cell_type": "code",
   "execution_count": 0,
   "metadata": {
    "application/vnd.databricks.v1+cell": {
     "cellMetadata": {
      "byteLimit": 2048000,
      "rowLimit": 10000
     },
     "inputWidgets": {},
     "nuid": "f71f54d9-f3fd-4c85-8e91-7a88b4e4d565",
     "showTitle": false,
     "tableResultSettingsMap": {},
     "title": ""
    }
   },
   "outputs": [
    {
     "output_type": "stream",
     "name": "stdout",
     "output_type": "stream",
     "text": [
      "Out[8]: [FileInfo(path='dbfs:/FileStore/tables/01_dimensions_toRaw.csv', name='01_dimensions_toRaw.csv', size=214, modificationTime=1740544140000),\n FileInfo(path='dbfs:/FileStore/tables/2010_12_01.csv', name='2010_12_01.csv', size=278110, modificationTime=1742357287000),\n FileInfo(path='dbfs:/FileStore/tables/2015_summary.csv', name='2015_summary.csv', size=7337, modificationTime=1738511442000),\n FileInfo(path='dbfs:/FileStore/tables/2015_summary.json', name='2015_summary.json', size=21624, modificationTime=1742188850000),\n FileInfo(path='dbfs:/FileStore/tables/64814.json', name='64814.json', size=174759, modificationTime=1740311442000),\n FileInfo(path='dbfs:/FileStore/tables/Airline_Dataset_Enhanced_Sample.csv', name='Airline_Dataset_Enhanced_Sample.csv', size=883511, modificationTime=1742062645000),\n FileInfo(path='dbfs:/FileStore/tables/BigMart_Sales.csv', name='BigMart_Sales.csv', size=869537, modificationTime=1736957997000),\n FileInfo(path='dbfs:/FileStore/tables/corrected_store_manager_hierarchy.csv', name='corrected_store_manager_hierarchy.csv', size=1345, modificationTime=1742629601000),\n FileInfo(path='dbfs:/FileStore/tables/drivers.json', name='drivers.json', size=180812, modificationTime=1736959171000),\n FileInfo(path='dbfs:/FileStore/tables/enhanced_sample_orders.csv', name='enhanced_sample_orders.csv', size=709597, modificationTime=1742627722000),\n FileInfo(path='dbfs:/FileStore/tables/enhanced_sample_orders_with_store_managers.csv', name='enhanced_sample_orders_with_store_managers.csv', size=704313, modificationTime=1742630438000),\n FileInfo(path='dbfs:/FileStore/tables/matchinfo/', name='matchinfo/', size=0, modificationTime=0),\n FileInfo(path='dbfs:/FileStore/tables/my-tsv-file.tsv/', name='my-tsv-file.tsv/', size=0, modificationTime=0),\n FileInfo(path='dbfs:/FileStore/tables/online_retail_dataset.csv', name='online_retail_dataset.csv', size=45580670, modificationTime=1742483844000),\n FileInfo(path='dbfs:/FileStore/tables/sales_customers.csv', name='sales_customers.csv', size=11619, modificationTime=1737436477000),\n FileInfo(path='dbfs:/FileStore/tables/sales_orders.csv', name='sales_orders.csv', size=128797, modificationTime=1737436478000),\n FileInfo(path='dbfs:/FileStore/tables/sales_orders_details.csv', name='sales_orders_details.csv', size=24626, modificationTime=1737436479000),\n FileInfo(path='dbfs:/FileStore/tables/sample_orders.csv', name='sample_orders.csv', size=701180, modificationTime=1742564712000),\n FileInfo(path='dbfs:/FileStore/tables/self_referencing_hierarchy.csv', name='self_referencing_hierarchy.csv', size=2473, modificationTime=1742635092000),\n FileInfo(path='dbfs:/FileStore/tables/store_manager_hierarchy.csv', name='store_manager_hierarchy.csv', size=54100, modificationTime=1742627721000),\n FileInfo(path='dbfs:/FileStore/tables/store_manager_hierarchy_fixed.csv', name='store_manager_hierarchy_fixed.csv', size=54200, modificationTime=1742628490000),\n FileInfo(path='dbfs:/FileStore/tables/stream_checkpoint/', name='stream_checkpoint/', size=0, modificationTime=0),\n FileInfo(path='dbfs:/FileStore/tables/stream_read/', name='stream_read/', size=0, modificationTime=0),\n FileInfo(path='dbfs:/FileStore/tables/stream_write/', name='stream_write/', size=0, modificationTime=0)]"
     ]
    }
   ],
   "source": [
    "dbutils.fs.ls('/FileStore/tables')"
   ]
  },
  {
   "cell_type": "code",
   "execution_count": 0,
   "metadata": {
    "application/vnd.databricks.v1+cell": {
     "cellMetadata": {
      "byteLimit": 2048000,
      "rowLimit": 10000
     },
     "inputWidgets": {},
     "nuid": "27db1197-e961-41e5-9de9-ca6ae40d978b",
     "showTitle": false,
     "tableResultSettingsMap": {},
     "title": ""
    }
   },
   "outputs": [],
   "source": [
    "csvFile = spark.read.format(\"csv\")\\\n",
    "  .option(\"header\", \"true\")\\\n",
    "  .option(\"mode\", \"FAILFAST\")\\\n",
    "  .option(\"inferSchema\", \"true\")\\\n",
    "  .load(\"/FileStore/tables/2015_summary.csv\")"
   ]
  },
  {
   "cell_type": "code",
   "execution_count": 0,
   "metadata": {
    "application/vnd.databricks.v1+cell": {
     "cellMetadata": {
      "byteLimit": 2048000,
      "rowLimit": 10000
     },
     "inputWidgets": {},
     "nuid": "fc918d76-9bbd-452d-8f36-ce2877ef063b",
     "showTitle": false,
     "tableResultSettingsMap": {},
     "title": ""
    }
   },
   "outputs": [],
   "source": [
    "csvFile.write.format(\"csv\").mode(\"overwrite\").option(\"sep\", \"\\t\")\\\n",
    "  .save(\"/FileStore/tables/my-tsv-file.tsv\")"
   ]
  },
  {
   "cell_type": "code",
   "execution_count": 0,
   "metadata": {
    "application/vnd.databricks.v1+cell": {
     "cellMetadata": {
      "byteLimit": 2048000,
      "rowLimit": 10000
     },
     "inputWidgets": {},
     "nuid": "1cf78b8e-e0da-4536-902d-4f8c269ba0e7",
     "showTitle": false,
     "tableResultSettingsMap": {},
     "title": ""
    }
   },
   "outputs": [],
   "source": [
    "jsonFile = spark.read.format(\"json\").option(\"mode\", \"FAILFAST\")\\\n",
    "  .option(\"inferSchema\", \"true\")\\\n",
    "  .load(\"/FileStore/tables/2015_summary.json\")"
   ]
  },
  {
   "cell_type": "code",
   "execution_count": 0,
   "metadata": {
    "application/vnd.databricks.v1+cell": {
     "cellMetadata": {
      "byteLimit": 2048000,
      "rowLimit": 10000
     },
     "inputWidgets": {},
     "nuid": "b937a138-3b6c-49f9-adbb-2e4b5bd1fad5",
     "showTitle": false,
     "tableResultSettingsMap": {},
     "title": ""
    }
   },
   "outputs": [],
   "source": [
    "jsonFile.write.format(\"json\").mode(\"overwrite\").save(\"/FileStore/tables/my-json-file.json\")"
   ]
  },
  {
   "cell_type": "code",
   "execution_count": 0,
   "metadata": {
    "application/vnd.databricks.v1+cell": {
     "cellMetadata": {
      "byteLimit": 2048000,
      "rowLimit": 10000
     },
     "inputWidgets": {},
     "nuid": "88bc8832-d241-4248-8503-5a18f5121671",
     "showTitle": false,
     "tableResultSettingsMap": {},
     "title": ""
    }
   },
   "outputs": [],
   "source": [
    "#parquetFile = spark.read.format(\"parquet\")\\\n",
    " # .load(\"/FileStore/tables/2010-summary.parquet\")"
   ]
  },
  {
   "cell_type": "code",
   "execution_count": 0,
   "metadata": {
    "application/vnd.databricks.v1+cell": {
     "cellMetadata": {
      "byteLimit": 2048000,
      "rowLimit": 10000
     },
     "inputWidgets": {},
     "nuid": "0c8c7c07-545a-4424-bed4-bada5d37f006",
     "showTitle": false,
     "tableResultSettingsMap": {},
     "title": ""
    }
   },
   "outputs": [],
   "source": [
    "#csvFile.write.format(\"parquet\").mode(\"overwrite\")\\\n",
    " # .save(\"/FileStore/tables/my-parquet-file.parquet\")"
   ]
  },
  {
   "cell_type": "code",
   "execution_count": 0,
   "metadata": {
    "application/vnd.databricks.v1+cell": {
     "cellMetadata": {
      "byteLimit": 2048000,
      "rowLimit": 10000
     },
     "inputWidgets": {},
     "nuid": "5291b545-35bd-4383-bd55-4f8d763fdcf1",
     "showTitle": false,
     "tableResultSettingsMap": {},
     "title": ""
    }
   },
   "outputs": [],
   "source": [
    "#spark.read.format(\"orc\").load(\"/data/flight-data/orc/2010-summary.orc\")"
   ]
  },
  {
   "cell_type": "code",
   "execution_count": 0,
   "metadata": {
    "application/vnd.databricks.v1+cell": {
     "cellMetadata": {
      "byteLimit": 2048000,
      "rowLimit": 10000
     },
     "inputWidgets": {},
     "nuid": "48d1bf38-bfb7-4c8d-8034-5d50dffb3c90",
     "showTitle": false,
     "tableResultSettingsMap": {},
     "title": ""
    }
   },
   "outputs": [],
   "source": [
    "#csvFile.write.format(\"orc\").mode(\"overwrite\").save(\"/tmp/my-json-file.orc\")"
   ]
  },
  {
   "cell_type": "markdown",
   "metadata": {
    "application/vnd.databricks.v1+cell": {
     "cellMetadata": {
      "byteLimit": 2048000,
      "rowLimit": 10000
     },
     "inputWidgets": {},
     "nuid": "c85af7bc-4e48-4f32-8c5a-75a627a91e88",
     "showTitle": false,
     "tableResultSettingsMap": {},
     "title": ""
    }
   },
   "source": [
    "## Database connectivity to be covered later"
   ]
  },
  {
   "cell_type": "code",
   "execution_count": 0,
   "metadata": {
    "application/vnd.databricks.v1+cell": {
     "cellMetadata": {
      "byteLimit": 2048000,
      "rowLimit": 10000
     },
     "inputWidgets": {},
     "nuid": "05981b99-d581-45dc-bde9-cfe0c02c341a",
     "showTitle": false,
     "tableResultSettingsMap": {},
     "title": ""
    }
   },
   "outputs": [],
   "source": [
    "csvFile.limit(10).write.mode(\"overwrite\").partitionBy(\"DEST_COUNTRY_NAME\")\\\n",
    "  .save(\"/FileStore/tables/partitioned-files.parquet\")"
   ]
  },
  {
   "cell_type": "code",
   "execution_count": 0,
   "metadata": {
    "application/vnd.databricks.v1+cell": {
     "cellMetadata": {
      "byteLimit": 2048000,
      "rowLimit": 10000
     },
     "inputWidgets": {},
     "nuid": "f8bbf609-b33f-4d16-9edc-223857af488f",
     "showTitle": false,
     "tableResultSettingsMap": {},
     "title": ""
    }
   },
   "outputs": [
    {
     "output_type": "stream",
     "name": "stdout",
     "output_type": "stream",
     "text": [
      "Out[18]: [FileInfo(path='dbfs:/FileStore/tables/01_dimensions_toRaw.csv', name='01_dimensions_toRaw.csv', size=214, modificationTime=1740544140000),\n FileInfo(path='dbfs:/FileStore/tables/2010_12_01.csv', name='2010_12_01.csv', size=278110, modificationTime=1742357287000),\n FileInfo(path='dbfs:/FileStore/tables/2015_summary.csv', name='2015_summary.csv', size=7337, modificationTime=1738511442000),\n FileInfo(path='dbfs:/FileStore/tables/2015_summary.json', name='2015_summary.json', size=21624, modificationTime=1742188850000),\n FileInfo(path='dbfs:/FileStore/tables/64814.json', name='64814.json', size=174759, modificationTime=1740311442000),\n FileInfo(path='dbfs:/FileStore/tables/Airline_Dataset_Enhanced_Sample.csv', name='Airline_Dataset_Enhanced_Sample.csv', size=883511, modificationTime=1742062645000),\n FileInfo(path='dbfs:/FileStore/tables/BigMart_Sales.csv', name='BigMart_Sales.csv', size=869537, modificationTime=1736957997000),\n FileInfo(path='dbfs:/FileStore/tables/corrected_store_manager_hierarchy.csv', name='corrected_store_manager_hierarchy.csv', size=1345, modificationTime=1742629601000),\n FileInfo(path='dbfs:/FileStore/tables/drivers.json', name='drivers.json', size=180812, modificationTime=1736959171000),\n FileInfo(path='dbfs:/FileStore/tables/enhanced_sample_orders.csv', name='enhanced_sample_orders.csv', size=709597, modificationTime=1742627722000),\n FileInfo(path='dbfs:/FileStore/tables/enhanced_sample_orders_with_store_managers.csv', name='enhanced_sample_orders_with_store_managers.csv', size=704313, modificationTime=1742630438000),\n FileInfo(path='dbfs:/FileStore/tables/matchinfo/', name='matchinfo/', size=0, modificationTime=0),\n FileInfo(path='dbfs:/FileStore/tables/my-json-file.json/', name='my-json-file.json/', size=0, modificationTime=0),\n FileInfo(path='dbfs:/FileStore/tables/my-tsv-file.tsv/', name='my-tsv-file.tsv/', size=0, modificationTime=0),\n FileInfo(path='dbfs:/FileStore/tables/online_retail_dataset.csv', name='online_retail_dataset.csv', size=45580670, modificationTime=1742483844000),\n FileInfo(path='dbfs:/FileStore/tables/partitioned-files.parquet/', name='partitioned-files.parquet/', size=0, modificationTime=0),\n FileInfo(path='dbfs:/FileStore/tables/sales_customers.csv', name='sales_customers.csv', size=11619, modificationTime=1737436477000),\n FileInfo(path='dbfs:/FileStore/tables/sales_orders.csv', name='sales_orders.csv', size=128797, modificationTime=1737436478000),\n FileInfo(path='dbfs:/FileStore/tables/sales_orders_details.csv', name='sales_orders_details.csv', size=24626, modificationTime=1737436479000),\n FileInfo(path='dbfs:/FileStore/tables/sample_orders.csv', name='sample_orders.csv', size=701180, modificationTime=1742564712000),\n FileInfo(path='dbfs:/FileStore/tables/self_referencing_hierarchy.csv', name='self_referencing_hierarchy.csv', size=2473, modificationTime=1742635092000),\n FileInfo(path='dbfs:/FileStore/tables/store_manager_hierarchy.csv', name='store_manager_hierarchy.csv', size=54100, modificationTime=1742627721000),\n FileInfo(path='dbfs:/FileStore/tables/store_manager_hierarchy_fixed.csv', name='store_manager_hierarchy_fixed.csv', size=54200, modificationTime=1742628490000),\n FileInfo(path='dbfs:/FileStore/tables/stream_checkpoint/', name='stream_checkpoint/', size=0, modificationTime=0),\n FileInfo(path='dbfs:/FileStore/tables/stream_read/', name='stream_read/', size=0, modificationTime=0),\n FileInfo(path='dbfs:/FileStore/tables/stream_write/', name='stream_write/', size=0, modificationTime=0)]"
     ]
    }
   ],
   "source": [
    "dbutils.fs.ls('/FileStore/tables/')"
   ]
  }
 ],
 "metadata": {
  "application/vnd.databricks.v1+notebook": {
   "computePreferences": null,
   "dashboards": [],
   "environmentMetadata": {
    "base_environment": "",
    "client": "1"
   },
   "language": "python",
   "notebookMetadata": {
    "pythonIndentUnit": 4
   },
   "notebookName": "Chapter_9",
   "widgets": {}
  }
 },
 "nbformat": 4,
 "nbformat_minor": 0
}
