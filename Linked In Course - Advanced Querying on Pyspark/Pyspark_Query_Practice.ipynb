{
 "cells": [
  {
   "cell_type": "code",
   "execution_count": 0,
   "metadata": {
    "application/vnd.databricks.v1+cell": {
     "cellMetadata": {
      "byteLimit": 2048000,
      "rowLimit": 10000
     },
     "inputWidgets": {},
     "nuid": "2bb30577-dfa2-42e1-8ad4-4f044702ba9b",
     "showTitle": false,
     "tableResultSettingsMap": {},
     "title": ""
    }
   },
   "outputs": [],
   "source": [
    "from pyspark.sql.functions import lit, col,isnull, count\n",
    "from pyspark.sql.types import StructType, StructField, IntegerType, TimestampType, StringType, DateType"
   ]
  },
  {
   "cell_type": "markdown",
   "metadata": {
    "application/vnd.databricks.v1+cell": {
     "cellMetadata": {
      "byteLimit": 2048000,
      "rowLimit": 10000
     },
     "inputWidgets": {},
     "nuid": "11380052-b3f6-4688-87fa-f67c8cab6ec2",
     "showTitle": false,
     "tableResultSettingsMap": {},
     "title": ""
    }
   },
   "source": [
    "## Reading Source Data - Single Table Queries"
   ]
  },
  {
   "cell_type": "code",
   "execution_count": 0,
   "metadata": {
    "application/vnd.databricks.v1+cell": {
     "cellMetadata": {
      "byteLimit": 2048000,
      "rowLimit": 10000
     },
     "inputWidgets": {},
     "nuid": "20f599bc-7187-4f79-8673-c0055d324d3a",
     "showTitle": false,
     "tableResultSettingsMap": {},
     "title": ""
    }
   },
   "outputs": [],
   "source": [
    "staff_Schema = StructType([StructField('Email', StringType(), True), StructField('Hire_Date', DateType(), True), StructField('IsActive', StringType(), False)])\n",
    "\n",
    "animals_Schema = StructType([StructField('Name', StringType(), True), StructField('Species', StringType(), True), StructField('Primary_Color', StringType(), True), StructField('Implant_Chip_ID', StringType(), True), StructField('Breed', StringType(), True), StructField('Gender', StringType(), True), StructField('Birth_Date', DateType(), True), StructField('Pattern', StringType(), True), StructField('Admission_Date', DateType(), True)])\n",
    "\n",
    "adoptions_Schema = StructType([StructField('Name', StringType(), True), StructField('Species', StringType(), True), StructField('Adopter_Email', StringType(), True), StructField('Adoption_Date', DateType(), True), StructField('Adoption_Fee', IntegerType(), True)])\n",
    "\n",
    "persons_Schema = StructType([StructField('Email', StringType(), True), StructField('First_Name', StringType(), True), StructField('Last_Name', StringType(), True), StructField('Birth_Date', StringType(), True), StructField('Address', StringType(), True), StructField('State', StringType(), True), StructField('City', StringType(), True), StructField('Zip_Code', IntegerType(), True)])\n",
    "\n",
    "vaccinations_Schema = StructType([StructField('Name', StringType(), True), StructField('Species', StringType(), True), StructField('Vaccination_Time', TimestampType(), True), StructField('Vaccine', StringType(), True), StructField('Batch', StringType(), True), StructField('Comments', StringType(), True), StructField('Email', StringType(), True)])"
   ]
  },
  {
   "cell_type": "code",
   "execution_count": 0,
   "metadata": {
    "application/vnd.databricks.v1+cell": {
     "cellMetadata": {
      "byteLimit": 2048000,
      "rowLimit": 10000
     },
     "inputWidgets": {},
     "nuid": "f07c5dd1-73a6-4c98-8a89-66a0b2bbda9a",
     "showTitle": false,
     "tableResultSettingsMap": {},
     "title": ""
    }
   },
   "outputs": [],
   "source": [
    "staff = spark.read.format('csv').schema(staff_Schema).load('/FileStore/tables/Animal_Shelter_Staff.csv')\n",
    "animals = spark.read.format('csv').schema(animals_Schema).load('/FileStore/tables/Animal_Shelter_Animals.csv')\n",
    "adoptions = spark.read.format('csv').schema(adoptions_Schema).load('/FileStore/tables/Animal_Shelter_Adoptions.csv')\n",
    "persons = spark.read.format('csv').schema(persons_Schema).load('/FileStore/tables/Animal_Shelter_Persons.csv')\n",
    "vaccinations = spark.read.format('csv').schema(vaccinations_Schema).load('/FileStore/tables/Animal_Shelter_Vaccinations.csv')"
   ]
  },
  {
   "cell_type": "code",
   "execution_count": 0,
   "metadata": {
    "application/vnd.databricks.v1+cell": {
     "cellMetadata": {
      "byteLimit": 2048000,
      "rowLimit": 10000
     },
     "inputWidgets": {},
     "nuid": "79683cd9-2fb3-4711-8395-c3f1fb6b2f5a",
     "showTitle": false,
     "tableResultSettingsMap": {},
     "title": ""
    }
   },
   "outputs": [
    {
     "output_type": "stream",
     "name": "stdout",
     "output_type": "stream",
     "text": [
      "StructType([StructField('Name', StringType(), True), StructField('Species', StringType(), True), StructField('Vaccination_Time', TimestampType(), True), StructField('Vaccine', StringType(), True), StructField('Batch', StringType(), True), StructField('Comments', StringType(), True), StructField('Email', StringType(), True)])"
     ]
    }
   ],
   "source": [
    "display(vaccinations.schema)"
   ]
  },
  {
   "cell_type": "code",
   "execution_count": 0,
   "metadata": {
    "application/vnd.databricks.v1+cell": {
     "cellMetadata": {
      "byteLimit": 2048000,
      "rowLimit": 10000
     },
     "inputWidgets": {},
     "nuid": "385c933a-e929-4ce0-9859-68fe0f27bc1b",
     "showTitle": false,
     "tableResultSettingsMap": {},
     "title": ""
    }
   },
   "outputs": [
    {
     "output_type": "display_data",
     "data": {
      "text/html": [
       "<style scoped>\n",
       "  .table-result-container {\n",
       "    max-height: 300px;\n",
       "    overflow: auto;\n",
       "  }\n",
       "  table, th, td {\n",
       "    border: 1px solid black;\n",
       "    border-collapse: collapse;\n",
       "  }\n",
       "  th, td {\n",
       "    padding: 5px;\n",
       "  }\n",
       "  th {\n",
       "    text-align: left;\n",
       "  }\n",
       "</style><div class='table-result-container'><table class='table-result'><thead style='background-color: white'><tr><th>Email</th><th>Hire_Date</th><th>IsActive</th></tr></thead><tbody><tr><td>ashley.flores@animalshelter.com</td><td>2016-01-01</td><td>null</td></tr><tr><td>dennis.hill@animalshelter.com</td><td>2018-10-07</td><td>null</td></tr><tr><td>frances.hill@animalshelter.com</td><td>2016-01-01</td><td>null</td></tr><tr><td>gerald.reyes@animalshelter.com</td><td>2018-03-20</td><td>null</td></tr><tr><td>patrick.hughes@animalshelter.com</td><td>2018-12-15</td><td>null</td></tr><tr><td>robin.murphy@animalshelter.com</td><td>2018-08-15</td><td>null</td></tr><tr><td>sharon.davis@animalshelter.com</td><td>2016-01-01</td><td>null</td></tr><tr><td>wanda.myers@animalshelter.com</td><td>2016-01-01</td><td>null</td></tr><tr><td>wayne.carter@animalshelter.com</td><td>2018-04-02</td><td>null</td></tr></tbody></table></div>"
      ]
     },
     "metadata": {
      "application/vnd.databricks.v1+output": {
       "addedWidgets": {},
       "aggData": [],
       "aggError": "",
       "aggOverflow": false,
       "aggSchema": [],
       "aggSeriesLimitReached": false,
       "aggType": "",
       "arguments": {},
       "columnCustomDisplayInfos": {},
       "data": [
        [
         "ashley.flores@animalshelter.com",
         "2016-01-01",
         null
        ],
        [
         "dennis.hill@animalshelter.com",
         "2018-10-07",
         null
        ],
        [
         "frances.hill@animalshelter.com",
         "2016-01-01",
         null
        ],
        [
         "gerald.reyes@animalshelter.com",
         "2018-03-20",
         null
        ],
        [
         "patrick.hughes@animalshelter.com",
         "2018-12-15",
         null
        ],
        [
         "robin.murphy@animalshelter.com",
         "2018-08-15",
         null
        ],
        [
         "sharon.davis@animalshelter.com",
         "2016-01-01",
         null
        ],
        [
         "wanda.myers@animalshelter.com",
         "2016-01-01",
         null
        ],
        [
         "wayne.carter@animalshelter.com",
         "2018-04-02",
         null
        ]
       ],
       "datasetInfos": [],
       "dbfsResultPath": null,
       "isJsonSchema": true,
       "metadata": {},
       "overflow": false,
       "plotOptions": {
        "customPlotOptions": {},
        "displayType": "table",
        "pivotAggregation": null,
        "pivotColumns": null,
        "xColumns": null,
        "yColumns": null
       },
       "removedWidgets": [],
       "schema": [
        {
         "metadata": "{}",
         "name": "Email",
         "type": "\"string\""
        },
        {
         "metadata": "{}",
         "name": "Hire_Date",
         "type": "\"date\""
        },
        {
         "metadata": "{}",
         "name": "IsActive",
         "type": "\"string\""
        }
       ],
       "type": "table"
      }
     },
     "output_type": "display_data"
    }
   ],
   "source": [
    "display(staff)"
   ]
  },
  {
   "cell_type": "markdown",
   "metadata": {
    "application/vnd.databricks.v1+cell": {
     "cellMetadata": {
      "byteLimit": 2048000,
      "rowLimit": 10000
     },
     "inputWidgets": {},
     "nuid": "3e08bac7-1306-4ad1-be1c-14cd5b729cb7",
     "showTitle": false,
     "tableResultSettingsMap": {},
     "title": ""
    }
   },
   "source": [
    "## Adding a literal"
   ]
  },
  {
   "cell_type": "code",
   "execution_count": 0,
   "metadata": {
    "application/vnd.databricks.v1+cell": {
     "cellMetadata": {
      "byteLimit": 2048000,
      "rowLimit": 10000
     },
     "inputWidgets": {},
     "nuid": "1cd89665-bbf5-4177-8402-54946ba733a1",
     "showTitle": false,
     "tableResultSettingsMap": {},
     "title": ""
    }
   },
   "outputs": [],
   "source": [
    "staff = staff.withColumn('IsActive', lit('Y'))"
   ]
  },
  {
   "cell_type": "markdown",
   "metadata": {
    "application/vnd.databricks.v1+cell": {
     "cellMetadata": {
      "byteLimit": 2048000,
      "rowLimit": 10000
     },
     "inputWidgets": {},
     "nuid": "bb6af146-bd47-42cf-9dfd-8376d72df398",
     "showTitle": false,
     "tableResultSettingsMap": {},
     "title": ""
    }
   },
   "source": [
    "## Single Table : Display Staffs"
   ]
  },
  {
   "cell_type": "code",
   "execution_count": 0,
   "metadata": {
    "application/vnd.databricks.v1+cell": {
     "cellMetadata": {
      "byteLimit": 2048000,
      "rowLimit": 10000
     },
     "inputWidgets": {},
     "nuid": "b0e21a62-9d13-4581-b740-4a537bfd4bf8",
     "showTitle": false,
     "tableResultSettingsMap": {},
     "title": ""
    }
   },
   "outputs": [
    {
     "output_type": "display_data",
     "data": {
      "text/html": [
       "<style scoped>\n",
       "  .table-result-container {\n",
       "    max-height: 300px;\n",
       "    overflow: auto;\n",
       "  }\n",
       "  table, th, td {\n",
       "    border: 1px solid black;\n",
       "    border-collapse: collapse;\n",
       "  }\n",
       "  th, td {\n",
       "    padding: 5px;\n",
       "  }\n",
       "  th {\n",
       "    text-align: left;\n",
       "  }\n",
       "</style><div class='table-result-container'><table class='table-result'><thead style='background-color: white'><tr><th>Email</th><th>Hire_Date</th><th>IsActive</th></tr></thead><tbody><tr><td>ashley.flores@animalshelter.com</td><td>2016-01-01</td><td>Y</td></tr><tr><td>dennis.hill@animalshelter.com</td><td>2018-10-07</td><td>Y</td></tr><tr><td>frances.hill@animalshelter.com</td><td>2016-01-01</td><td>Y</td></tr><tr><td>gerald.reyes@animalshelter.com</td><td>2018-03-20</td><td>Y</td></tr><tr><td>patrick.hughes@animalshelter.com</td><td>2018-12-15</td><td>Y</td></tr><tr><td>robin.murphy@animalshelter.com</td><td>2018-08-15</td><td>Y</td></tr><tr><td>sharon.davis@animalshelter.com</td><td>2016-01-01</td><td>Y</td></tr><tr><td>wanda.myers@animalshelter.com</td><td>2016-01-01</td><td>Y</td></tr><tr><td>wayne.carter@animalshelter.com</td><td>2018-04-02</td><td>Y</td></tr></tbody></table></div>"
      ]
     },
     "metadata": {
      "application/vnd.databricks.v1+output": {
       "addedWidgets": {},
       "aggData": [],
       "aggError": "",
       "aggOverflow": false,
       "aggSchema": [],
       "aggSeriesLimitReached": false,
       "aggType": "",
       "arguments": {},
       "columnCustomDisplayInfos": {},
       "data": [
        [
         "ashley.flores@animalshelter.com",
         "2016-01-01",
         "Y"
        ],
        [
         "dennis.hill@animalshelter.com",
         "2018-10-07",
         "Y"
        ],
        [
         "frances.hill@animalshelter.com",
         "2016-01-01",
         "Y"
        ],
        [
         "gerald.reyes@animalshelter.com",
         "2018-03-20",
         "Y"
        ],
        [
         "patrick.hughes@animalshelter.com",
         "2018-12-15",
         "Y"
        ],
        [
         "robin.murphy@animalshelter.com",
         "2018-08-15",
         "Y"
        ],
        [
         "sharon.davis@animalshelter.com",
         "2016-01-01",
         "Y"
        ],
        [
         "wanda.myers@animalshelter.com",
         "2016-01-01",
         "Y"
        ],
        [
         "wayne.carter@animalshelter.com",
         "2018-04-02",
         "Y"
        ]
       ],
       "datasetInfos": [],
       "dbfsResultPath": null,
       "isJsonSchema": true,
       "metadata": {},
       "overflow": false,
       "plotOptions": {
        "customPlotOptions": {},
        "displayType": "table",
        "pivotAggregation": null,
        "pivotColumns": null,
        "xColumns": null,
        "yColumns": null
       },
       "removedWidgets": [],
       "schema": [
        {
         "metadata": "{}",
         "name": "Email",
         "type": "\"string\""
        },
        {
         "metadata": "{}",
         "name": "Hire_Date",
         "type": "\"date\""
        },
        {
         "metadata": "{}",
         "name": "IsActive",
         "type": "\"string\""
        }
       ],
       "type": "table"
      }
     },
     "output_type": "display_data"
    }
   ],
   "source": [
    "display(staff)"
   ]
  },
  {
   "cell_type": "markdown",
   "metadata": {
    "application/vnd.databricks.v1+cell": {
     "cellMetadata": {
      "byteLimit": 2048000,
      "rowLimit": 10000
     },
     "inputWidgets": {},
     "nuid": "372ae0ca-f532-4946-9a53-dc9fe58e3722",
     "showTitle": false,
     "tableResultSettingsMap": {},
     "title": ""
    }
   },
   "source": [
    "## Joins : Animals with Breeds Information"
   ]
  },
  {
   "cell_type": "code",
   "execution_count": 0,
   "metadata": {
    "application/vnd.databricks.v1+cell": {
     "cellMetadata": {
      "byteLimit": 2048000,
      "rowLimit": 10000
     },
     "inputWidgets": {},
     "nuid": "0c061e86-1049-41d7-ae12-48d86cdb016f",
     "showTitle": false,
     "tableResultSettingsMap": {},
     "title": ""
    }
   },
   "outputs": [],
   "source": [
    "animals_With_Tags_Breeds = animals.join(adoptions, (animals.Name == adoptions.Name) & (animals.Species == adoptions.Species ), how = \"inner\").select(adoptions.Name, adoptions.Species,adoptions.Adopter_Email, adoptions.Adoption_Date, adoptions.Adoption_Fee, animals.Breed, animals.Implant_Chip_ID )"
   ]
  },
  {
   "cell_type": "code",
   "execution_count": 0,
   "metadata": {
    "application/vnd.databricks.v1+cell": {
     "cellMetadata": {
      "byteLimit": 2048000,
      "rowLimit": 10000
     },
     "inputWidgets": {},
     "nuid": "fc30e98d-0a37-4dbb-b319-561f69729fad",
     "showTitle": false,
     "tableResultSettingsMap": {},
     "title": ""
    }
   },
   "outputs": [
    {
     "output_type": "display_data",
     "data": {
      "text/html": [
       "<style scoped>\n",
       "  .table-result-container {\n",
       "    max-height: 300px;\n",
       "    overflow: auto;\n",
       "  }\n",
       "  table, th, td {\n",
       "    border: 1px solid black;\n",
       "    border-collapse: collapse;\n",
       "  }\n",
       "  th, td {\n",
       "    padding: 5px;\n",
       "  }\n",
       "  th {\n",
       "    text-align: left;\n",
       "  }\n",
       "</style><div class='table-result-container'><table class='table-result'><thead style='background-color: white'><tr><th>Name</th><th>Species</th><th>Adopter_Email</th><th>Adoption_Date</th><th>Adoption_Fee</th><th>Breed</th><th>Implant_Chip_ID</th></tr></thead><tbody><tr><td>Abby</td><td>Dog</td><td>patrick.hughes@animalshelter.com</td><td>2018-08-30</td><td>58</td><td>NULL</td><td>FDFDB6FE-3347-4E80-8C8A-2E3235C6D1DE</td></tr><tr><td>Ace</td><td>Dog</td><td>justin.ruiz@hotmail.com</td><td>2019-10-26</td><td>68</td><td>NULL</td><td>33D50C6B-9D2E-4EB1-8171-0466DEE4F349</td></tr><tr><td>Archie</td><td>Cat</td><td>patrick.hughes@animalshelter.com</td><td>2018-08-30</td><td>82</td><td>Persian</td><td>970D7094-AB66-4DCA-A0D1-0C16264989AF</td></tr><tr><td>Bailey</td><td>Dog</td><td>wayne.turner@icloud.com</td><td>2019-07-26</td><td>50</td><td>NULL</td><td>36438BC9-E225-4038-97B2-1E28FD287957</td></tr><tr><td>Baloo</td><td>Rabbit</td><td>jesse.cox@yahoo.com</td><td>2017-12-16</td><td>58</td><td>English Lop</td><td>F5CE3A02-1EC7-431D-8A76-09369E8D798B</td></tr><tr><td>Beau</td><td>Dog</td><td>shirley.williams@outlook.com</td><td>2018-04-15</td><td>90</td><td>NULL</td><td>4B94A68C-0C97-4F70-9275-35B3A9EEE8D9</td></tr><tr><td>Benji</td><td>Dog</td><td>sharon.davis@animalshelter.com</td><td>2018-11-18</td><td>97</td><td>English setter</td><td>646F0A76-14E4-42E7-9554-3AF1EA6CC78F</td></tr><tr><td>Brody</td><td>Dog</td><td>george.scott@hotmail.com</td><td>2019-02-21</td><td>83</td><td>Schnauzer</td><td>EB517826-E48A-41AE-A5FB-1BBECA23C05D</td></tr><tr><td>Brutus</td><td>Dog</td><td>virginia.baker@gmail.com</td><td>2019-01-28</td><td>66</td><td>Weimaraner</td><td>B7FAD096-7CD1-42A7-85D6-0C3E6599DBEB</td></tr><tr><td>Buddy</td><td>Cat</td><td>karen.smith@icloud.com</td><td>2019-09-27</td><td>73</td><td>NULL</td><td>6D49B3F6-E075-4F33-97A3-1D4878EE1345</td></tr><tr><td>Callie</td><td>Dog</td><td>peter.smith@hotmail.com</td><td>2018-09-06</td><td>57</td><td>English setter</td><td>2636F17F-5893-482F-94A7-47EEB715047A</td></tr><tr><td>Chico</td><td>Dog</td><td>lori.smith@icloud.com</td><td>2019-12-29</td><td>86</td><td>NULL</td><td>C6614119-945A-45A9-A5A2-3C8F840EDC01</td></tr><tr><td>Chubby</td><td>Rabbit</td><td>adam.brown@gmail.com</td><td>2018-05-27</td><td>65</td><td>NULL</td><td>561FEA02-9C12-43B1-9EA8-071C9EAE4C55</td></tr><tr><td>Cleo</td><td>Cat</td><td>melissa.lopez@gmail.com</td><td>2019-12-15</td><td>56</td><td>NULL</td><td>0897655B-1486-4D5D-AD60-03A855AFCAF3</td></tr><tr><td>Cooper</td><td>Dog</td><td>lisa.perez@icloud.com</td><td>2018-01-10</td><td>61</td><td>NULL</td><td>14F9E97B-6CD4-4EE4-9798-1C4F2376141B</td></tr><tr><td>Cosmo</td><td>Cat</td><td>diane.thompson@hotmail.com</td><td>2019-06-16</td><td>100</td><td>NULL</td><td>2754B9C9-5DF4-4206-818D-21BDD1A093ED</td></tr><tr><td>Dolly</td><td>Dog</td><td>laura.young@gmail.com</td><td>2019-12-30</td><td>93</td><td>NULL</td><td>DBDC4F81-1709-49D6-9F73-1D2099ECA35C</td></tr><tr><td>Emma</td><td>Dog</td><td>melissa.moore@icloud.com</td><td>2019-12-28</td><td>76</td><td>Schnauzer</td><td>BAC4C56D-EBB6-43E3-86F3-36506E17F74D</td></tr><tr><td>Fiona</td><td>Cat</td><td>jerry.mitchell@icloud.com</td><td>2018-02-23</td><td>96</td><td>NULL</td><td>90226140-F54E-419D-82E5-0EA81E0E6384</td></tr><tr><td>George</td><td>Cat</td><td>kevin.diaz@hotmail.com</td><td>2018-09-13</td><td>97</td><td>NULL</td><td>6FEFC95E-7D46-4E25-B90A-0BA75F45D972</td></tr><tr><td>Ginger</td><td>Dog</td><td>julie.adams@gmail.com</td><td>2017-03-07</td><td>79</td><td>NULL</td><td>9E241A82-AD77-49DC-AD15-0AC8D2E89DDE</td></tr><tr><td>Gizmo</td><td>Dog</td><td>lori.smith@icloud.com</td><td>2019-12-26</td><td>54</td><td>NULL</td><td>78556795-4748-447F-A2CE-336B01173A18</td></tr><tr><td>Gracie</td><td>Cat</td><td>gerald.reyes@animalshelter.com</td><td>2017-09-09</td><td>82</td><td>NULL</td><td>66691184-06B1-4AA8-89B3-0DEF5FD9FBE1</td></tr><tr><td>Gus</td><td>Dog</td><td>frances.cook@yahoo.com</td><td>2018-12-29</td><td>96</td><td>English setter</td><td>104A1427-D921-4D11-B45C-370C70E1578F</td></tr><tr><td>Hobbes</td><td>Cat</td><td>timothy.anderson@gmail.com</td><td>2017-11-08</td><td>73</td><td>NULL</td><td>8788E7B9-DC20-45EF-8778-0066F60D790D</td></tr><tr><td>Hudini</td><td>Rabbit</td><td>kathy.thomas@gmail.com</td><td>2019-12-24</td><td>57</td><td>NULL</td><td>DE295DD6-502F-43E3-B139-06CEB3FA2128</td></tr><tr><td>Humphrey</td><td>Rabbit</td><td>kelly.allen@hotmail.com</td><td>2019-01-17</td><td>85</td><td>Belgian Hare</td><td>2A423596-5BF8-41A7-906A-0BD3EA15E17C</td></tr><tr><td>Jake</td><td>Dog</td><td>shirley.williams@outlook.com</td><td>2019-11-12</td><td>84</td><td>Bullmastiff</td><td>9209D54C-0238-457B-9922-02171E9DF0E6</td></tr><tr><td>Jax</td><td>Dog</td><td>wayne.turner@icloud.com</td><td>2018-04-01</td><td>85</td><td>Weimaraner</td><td>24AD2ED9-E7E6-4571-8A45-3C9361418B07</td></tr><tr><td>Kiki</td><td>Cat</td><td>james.ramos@hotmail.com</td><td>2019-12-01</td><td>87</td><td>NULL</td><td>4E029101-2326-461C-8FF7-0EB809F110CB</td></tr><tr><td>King</td><td>Dog</td><td>charles.phillips@gmail.com</td><td>2019-07-18</td><td>57</td><td>NULL</td><td>793E68EB-B952-4425-B9E2-0406EA01AC53</td></tr><tr><td>Lexi</td><td>Dog</td><td>virginia.baker@gmail.com</td><td>2018-07-28</td><td>54</td><td>NULL</td><td>BFD890AA-AFB6-4E8F-B60B-0124840EB504</td></tr><tr><td>Lily</td><td>Dog</td><td>mildred.gray@yahoo.com</td><td>2019-09-01</td><td>99</td><td>Schnauzer</td><td>11DE2603-8BCF-49B6-9DDE-46F893D93948</td></tr><tr><td>Lucy</td><td>Dog</td><td>richard.castillo@icloud.com</td><td>2018-07-07</td><td>78</td><td>Weimaraner</td><td>3A389EAF-F623-4CD7-9EC9-2144CA9D244C</td></tr><tr><td>Luke</td><td>Dog</td><td>ryan.garcia@hotmail.com</td><td>2018-05-04</td><td>65</td><td>NULL</td><td>FD6E5E29-0515-47A8-890D-096F07C83738</td></tr><tr><td>Luna</td><td>Rabbit</td><td>ryan.wright@hotmail.com</td><td>2019-04-14</td><td>55</td><td>NULL</td><td>202C2C7D-7A25-449D-AD71-05482B04346F</td></tr><tr><td>Mac</td><td>Dog</td><td>randy.bailey@icloud.com</td><td>2018-06-12</td><td>51</td><td>English setter</td><td>3B55A74D-C5F7-44BC-9E6A-11C446628A0D</td></tr><tr><td>Maddie</td><td>Dog</td><td>theresa.carter@icloud.com</td><td>2017-09-18</td><td>87</td><td>NULL</td><td>2A37B609-D1F6-475F-A890-0234FCB2F0B8</td></tr><tr><td>Max</td><td>Dog</td><td>roy.rogers@hotmail.com</td><td>2017-09-23</td><td>62</td><td>NULL</td><td>EB92C3B9-19BD-4AB1-B0F3-11DD7ADB3CF0</td></tr><tr><td>Millie</td><td>Dog</td><td>richard.castillo@icloud.com</td><td>2018-05-21</td><td>98</td><td>NULL</td><td>7D69F605-C2FF-42AC-A5AC-20B63EB881CA</td></tr><tr><td>Miss Kitty</td><td>Cat</td><td>anna.thompson@hotmail.com</td><td>2019-11-11</td><td>83</td><td>Maine Coon</td><td>1AB8347C-6349-4092-9667-09653A9FD09C</td></tr><tr><td>Misty</td><td>Cat</td><td>frances.hill@animalshelter.com</td><td>2019-12-13</td><td>86</td><td>Siamese</td><td>805281A0-5DE6-4BA8-8FB1-11CEFE0575E0</td></tr><tr><td>Mocha</td><td>Dog</td><td>roger.adams@hotmail.com</td><td>2019-07-22</td><td>93</td><td>NULL</td><td>63DC76E7-3431-4455-9AD8-2FE4FF72F4AF</td></tr><tr><td>Nala</td><td>Dog</td><td>wayne.turner@icloud.com</td><td>2019-07-26</td><td>77</td><td>English setter</td><td>2929BBA7-ED35-43F1-9F3E-01120BEB4F8B</td></tr><tr><td>Nova</td><td>Cat</td><td>walter.edwards@icloud.com</td><td>2018-09-03</td><td>98</td><td>Sphynx</td><td>81802526-CAE2-40BB-846A-01D2156545B4</td></tr><tr><td>Oscar</td><td>Cat</td><td>bruce.harris@hotmail.com</td><td>2018-11-19</td><td>79</td><td>NULL</td><td>18C0C340-E7A3-430E-BAF5-13C938287D4F</td></tr><tr><td>Otis</td><td>Dog</td><td>doris.young@icloud.com</td><td>2019-08-02</td><td>51</td><td>NULL</td><td>CB5444D8-39FC-4A56-AA83-17E1BFD6E960</td></tr><tr><td>Peanut</td><td>Rabbit</td><td>richard.castillo@icloud.com</td><td>2019-03-21</td><td>83</td><td>NULL</td><td>99A021D1-5E5A-4499-8759-02B3D89CE9AF</td></tr><tr><td>Pearl</td><td>Cat</td><td>doris.young@icloud.com</td><td>2019-10-13</td><td>94</td><td>American Bobtail</td><td>DF9291B5-9F82-4AD1-A9FD-1206FD6CD837</td></tr><tr><td>Penelope</td><td>Cat</td><td>emily.perez@gmail.com</td><td>2018-06-02</td><td>54</td><td>Scottish Fold</td><td>5A6A4DC1-B813-4331-B027-1718EB50BC9E</td></tr><tr><td>Penelope</td><td>Dog</td><td>virginia.baker@gmail.com</td><td>2018-10-22</td><td>54</td><td>Bullmastiff</td><td>E4E5609A-9C86-4C59-8EEE-47ED74FF04B5</td></tr><tr><td>Penny</td><td>Cat</td><td>roy.rogers@hotmail.com</td><td>2017-04-08</td><td>66</td><td>NULL</td><td>B947B10B-C402-4DA5-9713-185FD21065C4</td></tr><tr><td>Piper</td><td>Dog</td><td>margaret.campbell@hotmail.com</td><td>2016-06-16</td><td>61</td><td>NULL</td><td>B6BD98C9-5F0D-4AC2-81AD-278ACF2AFD46</td></tr><tr><td>Poppy</td><td>Dog</td><td>phyllis.moore@gmail.com</td><td>2019-03-15</td><td>93</td><td>Weimaraner</td><td>10E33EB3-A2D5-4FCD-9428-1DBB389FBB30</td></tr><tr><td>Prince</td><td>Dog</td><td>virginia.baker@gmail.com</td><td>2018-03-13</td><td>95</td><td>NULL</td><td>06C5CFCB-2C24-4030-ACDA-06FB3343A173</td></tr><tr><td>Pumpkin</td><td>Cat</td><td>scott.gutierrez@gmail.com</td><td>2019-09-12</td><td>64</td><td>Russian Blue</td><td>64085FE7-0F2E-4E80-A170-286F1519FDA8</td></tr><tr><td>Ranger</td><td>Dog</td><td>charles.phillips@gmail.com</td><td>2019-01-06</td><td>61</td><td>NULL</td><td>559412C8-2C13-4A18-8B94-481BC06099DE</td></tr><tr><td>Remi / Remy</td><td>Dog</td><td>jesse.cox@yahoo.com</td><td>2019-04-29</td><td>61</td><td>NULL</td><td>835106AA-CFA5-47FB-BA29-0071D1A1592A</td></tr><tr><td>Riley</td><td>Dog</td><td>sara.nelson@icloud.com</td><td>2019-09-30</td><td>54</td><td>NULL</td><td>E042131E-2921-442C-9BBD-107507293BB2</td></tr><tr><td>Rocky</td><td>Cat</td><td>patricia.wright@icloud.com</td><td>2019-11-21</td><td>60</td><td>NULL</td><td>6C07246C-3107-4651-8F5C-1EB14D1C5EA5</td></tr><tr><td>Roxy</td><td>Dog</td><td>julie.adams@gmail.com</td><td>2019-08-07</td><td>86</td><td>Weimaraner</td><td>01DFA05C-86B4-4936-A608-1C59097FA2D3</td></tr><tr><td>Rusty</td><td>Dog</td><td>jacqueline.phillips@gmail.com</td><td>2016-04-23</td><td>50</td><td>NULL</td><td>92FFDE28-B23A-4249-A32D-07BA417AA143</td></tr><tr><td>Sadie</td><td>Cat</td><td>jonathan.mez@hotmail.com</td><td>2018-12-07</td><td>85</td><td>NULL</td><td>C231514D-61C1-4180-B679-0BDBA7314FD6</td></tr><tr><td>Salem</td><td>Cat</td><td>bruce.cook@icloud.com</td><td>2018-02-09</td><td>55</td><td>Sphynx</td><td>59F3AA7B-4D2B-49F6-9964-0155880B0473</td></tr><tr><td>Sam</td><td>Cat</td><td>frances.cook@yahoo.com</td><td>2018-12-29</td><td>51</td><td>NULL</td><td>27F6F2B4-3570-43E1-8B64-05A1DC86FD8D</td></tr><tr><td>Shadow</td><td>Dog</td><td>wayne.turner@icloud.com</td><td>2018-04-01</td><td>73</td><td>NULL</td><td>02DC6920-79BD-430A-A1ED-3196366F9BFE</td></tr><tr><td>Skye</td><td>Dog</td><td>jerry.mitchell@icloud.com</td><td>2016-09-25</td><td>67</td><td>Bullmastiff</td><td>B7DB3359-2E5D-42AB-AF61-0F1D97EE195C</td></tr><tr><td>Thomas</td><td>Cat</td><td>george.scott@hotmail.com</td><td>2019-05-23</td><td>96</td><td>NULL</td><td>265151DD-F5F0-4DCB-A0E7-0371960D9741</td></tr><tr><td>Toby</td><td>Rabbit</td><td>phyllis.moore@gmail.com</td><td>2019-11-26</td><td>96</td><td>NULL</td><td>01DD3B07-EBD6-4A7F-98BC-0A38AA48B139</td></tr><tr><td>Whitney</td><td>Rabbit</td><td>margaret.campbell@hotmail.com</td><td>2019-07-17</td><td>75</td><td>Lionhead</td><td>F8FC5DFC-B0F1-4C91-AD34-06D16F2DEA33</td></tr></tbody></table></div>"
      ]
     },
     "metadata": {
      "application/vnd.databricks.v1+output": {
       "addedWidgets": {},
       "aggData": [],
       "aggError": "",
       "aggOverflow": false,
       "aggSchema": [],
       "aggSeriesLimitReached": false,
       "aggType": "",
       "arguments": {},
       "columnCustomDisplayInfos": {},
       "data": [
        [
         "Abby",
         "Dog",
         "patrick.hughes@animalshelter.com",
         "2018-08-30",
         58,
         "NULL",
         "FDFDB6FE-3347-4E80-8C8A-2E3235C6D1DE"
        ],
        [
         "Ace",
         "Dog",
         "justin.ruiz@hotmail.com",
         "2019-10-26",
         68,
         "NULL",
         "33D50C6B-9D2E-4EB1-8171-0466DEE4F349"
        ],
        [
         "Archie",
         "Cat",
         "patrick.hughes@animalshelter.com",
         "2018-08-30",
         82,
         "Persian",
         "970D7094-AB66-4DCA-A0D1-0C16264989AF"
        ],
        [
         "Bailey",
         "Dog",
         "wayne.turner@icloud.com",
         "2019-07-26",
         50,
         "NULL",
         "36438BC9-E225-4038-97B2-1E28FD287957"
        ],
        [
         "Baloo",
         "Rabbit",
         "jesse.cox@yahoo.com",
         "2017-12-16",
         58,
         "English Lop",
         "F5CE3A02-1EC7-431D-8A76-09369E8D798B"
        ],
        [
         "Beau",
         "Dog",
         "shirley.williams@outlook.com",
         "2018-04-15",
         90,
         "NULL",
         "4B94A68C-0C97-4F70-9275-35B3A9EEE8D9"
        ],
        [
         "Benji",
         "Dog",
         "sharon.davis@animalshelter.com",
         "2018-11-18",
         97,
         "English setter",
         "646F0A76-14E4-42E7-9554-3AF1EA6CC78F"
        ],
        [
         "Brody",
         "Dog",
         "george.scott@hotmail.com",
         "2019-02-21",
         83,
         "Schnauzer",
         "EB517826-E48A-41AE-A5FB-1BBECA23C05D"
        ],
        [
         "Brutus",
         "Dog",
         "virginia.baker@gmail.com",
         "2019-01-28",
         66,
         "Weimaraner",
         "B7FAD096-7CD1-42A7-85D6-0C3E6599DBEB"
        ],
        [
         "Buddy",
         "Cat",
         "karen.smith@icloud.com",
         "2019-09-27",
         73,
         "NULL",
         "6D49B3F6-E075-4F33-97A3-1D4878EE1345"
        ],
        [
         "Callie",
         "Dog",
         "peter.smith@hotmail.com",
         "2018-09-06",
         57,
         "English setter",
         "2636F17F-5893-482F-94A7-47EEB715047A"
        ],
        [
         "Chico",
         "Dog",
         "lori.smith@icloud.com",
         "2019-12-29",
         86,
         "NULL",
         "C6614119-945A-45A9-A5A2-3C8F840EDC01"
        ],
        [
         "Chubby",
         "Rabbit",
         "adam.brown@gmail.com",
         "2018-05-27",
         65,
         "NULL",
         "561FEA02-9C12-43B1-9EA8-071C9EAE4C55"
        ],
        [
         "Cleo",
         "Cat",
         "melissa.lopez@gmail.com",
         "2019-12-15",
         56,
         "NULL",
         "0897655B-1486-4D5D-AD60-03A855AFCAF3"
        ],
        [
         "Cooper",
         "Dog",
         "lisa.perez@icloud.com",
         "2018-01-10",
         61,
         "NULL",
         "14F9E97B-6CD4-4EE4-9798-1C4F2376141B"
        ],
        [
         "Cosmo",
         "Cat",
         "diane.thompson@hotmail.com",
         "2019-06-16",
         100,
         "NULL",
         "2754B9C9-5DF4-4206-818D-21BDD1A093ED"
        ],
        [
         "Dolly",
         "Dog",
         "laura.young@gmail.com",
         "2019-12-30",
         93,
         "NULL",
         "DBDC4F81-1709-49D6-9F73-1D2099ECA35C"
        ],
        [
         "Emma",
         "Dog",
         "melissa.moore@icloud.com",
         "2019-12-28",
         76,
         "Schnauzer",
         "BAC4C56D-EBB6-43E3-86F3-36506E17F74D"
        ],
        [
         "Fiona",
         "Cat",
         "jerry.mitchell@icloud.com",
         "2018-02-23",
         96,
         "NULL",
         "90226140-F54E-419D-82E5-0EA81E0E6384"
        ],
        [
         "George",
         "Cat",
         "kevin.diaz@hotmail.com",
         "2018-09-13",
         97,
         "NULL",
         "6FEFC95E-7D46-4E25-B90A-0BA75F45D972"
        ],
        [
         "Ginger",
         "Dog",
         "julie.adams@gmail.com",
         "2017-03-07",
         79,
         "NULL",
         "9E241A82-AD77-49DC-AD15-0AC8D2E89DDE"
        ],
        [
         "Gizmo",
         "Dog",
         "lori.smith@icloud.com",
         "2019-12-26",
         54,
         "NULL",
         "78556795-4748-447F-A2CE-336B01173A18"
        ],
        [
         "Gracie",
         "Cat",
         "gerald.reyes@animalshelter.com",
         "2017-09-09",
         82,
         "NULL",
         "66691184-06B1-4AA8-89B3-0DEF5FD9FBE1"
        ],
        [
         "Gus",
         "Dog",
         "frances.cook@yahoo.com",
         "2018-12-29",
         96,
         "English setter",
         "104A1427-D921-4D11-B45C-370C70E1578F"
        ],
        [
         "Hobbes",
         "Cat",
         "timothy.anderson@gmail.com",
         "2017-11-08",
         73,
         "NULL",
         "8788E7B9-DC20-45EF-8778-0066F60D790D"
        ],
        [
         "Hudini",
         "Rabbit",
         "kathy.thomas@gmail.com",
         "2019-12-24",
         57,
         "NULL",
         "DE295DD6-502F-43E3-B139-06CEB3FA2128"
        ],
        [
         "Humphrey",
         "Rabbit",
         "kelly.allen@hotmail.com",
         "2019-01-17",
         85,
         "Belgian Hare",
         "2A423596-5BF8-41A7-906A-0BD3EA15E17C"
        ],
        [
         "Jake",
         "Dog",
         "shirley.williams@outlook.com",
         "2019-11-12",
         84,
         "Bullmastiff",
         "9209D54C-0238-457B-9922-02171E9DF0E6"
        ],
        [
         "Jax",
         "Dog",
         "wayne.turner@icloud.com",
         "2018-04-01",
         85,
         "Weimaraner",
         "24AD2ED9-E7E6-4571-8A45-3C9361418B07"
        ],
        [
         "Kiki",
         "Cat",
         "james.ramos@hotmail.com",
         "2019-12-01",
         87,
         "NULL",
         "4E029101-2326-461C-8FF7-0EB809F110CB"
        ],
        [
         "King",
         "Dog",
         "charles.phillips@gmail.com",
         "2019-07-18",
         57,
         "NULL",
         "793E68EB-B952-4425-B9E2-0406EA01AC53"
        ],
        [
         "Lexi",
         "Dog",
         "virginia.baker@gmail.com",
         "2018-07-28",
         54,
         "NULL",
         "BFD890AA-AFB6-4E8F-B60B-0124840EB504"
        ],
        [
         "Lily",
         "Dog",
         "mildred.gray@yahoo.com",
         "2019-09-01",
         99,
         "Schnauzer",
         "11DE2603-8BCF-49B6-9DDE-46F893D93948"
        ],
        [
         "Lucy",
         "Dog",
         "richard.castillo@icloud.com",
         "2018-07-07",
         78,
         "Weimaraner",
         "3A389EAF-F623-4CD7-9EC9-2144CA9D244C"
        ],
        [
         "Luke",
         "Dog",
         "ryan.garcia@hotmail.com",
         "2018-05-04",
         65,
         "NULL",
         "FD6E5E29-0515-47A8-890D-096F07C83738"
        ],
        [
         "Luna",
         "Rabbit",
         "ryan.wright@hotmail.com",
         "2019-04-14",
         55,
         "NULL",
         "202C2C7D-7A25-449D-AD71-05482B04346F"
        ],
        [
         "Mac",
         "Dog",
         "randy.bailey@icloud.com",
         "2018-06-12",
         51,
         "English setter",
         "3B55A74D-C5F7-44BC-9E6A-11C446628A0D"
        ],
        [
         "Maddie",
         "Dog",
         "theresa.carter@icloud.com",
         "2017-09-18",
         87,
         "NULL",
         "2A37B609-D1F6-475F-A890-0234FCB2F0B8"
        ],
        [
         "Max",
         "Dog",
         "roy.rogers@hotmail.com",
         "2017-09-23",
         62,
         "NULL",
         "EB92C3B9-19BD-4AB1-B0F3-11DD7ADB3CF0"
        ],
        [
         "Millie",
         "Dog",
         "richard.castillo@icloud.com",
         "2018-05-21",
         98,
         "NULL",
         "7D69F605-C2FF-42AC-A5AC-20B63EB881CA"
        ],
        [
         "Miss Kitty",
         "Cat",
         "anna.thompson@hotmail.com",
         "2019-11-11",
         83,
         "Maine Coon",
         "1AB8347C-6349-4092-9667-09653A9FD09C"
        ],
        [
         "Misty",
         "Cat",
         "frances.hill@animalshelter.com",
         "2019-12-13",
         86,
         "Siamese",
         "805281A0-5DE6-4BA8-8FB1-11CEFE0575E0"
        ],
        [
         "Mocha",
         "Dog",
         "roger.adams@hotmail.com",
         "2019-07-22",
         93,
         "NULL",
         "63DC76E7-3431-4455-9AD8-2FE4FF72F4AF"
        ],
        [
         "Nala",
         "Dog",
         "wayne.turner@icloud.com",
         "2019-07-26",
         77,
         "English setter",
         "2929BBA7-ED35-43F1-9F3E-01120BEB4F8B"
        ],
        [
         "Nova",
         "Cat",
         "walter.edwards@icloud.com",
         "2018-09-03",
         98,
         "Sphynx",
         "81802526-CAE2-40BB-846A-01D2156545B4"
        ],
        [
         "Oscar",
         "Cat",
         "bruce.harris@hotmail.com",
         "2018-11-19",
         79,
         "NULL",
         "18C0C340-E7A3-430E-BAF5-13C938287D4F"
        ],
        [
         "Otis",
         "Dog",
         "doris.young@icloud.com",
         "2019-08-02",
         51,
         "NULL",
         "CB5444D8-39FC-4A56-AA83-17E1BFD6E960"
        ],
        [
         "Peanut",
         "Rabbit",
         "richard.castillo@icloud.com",
         "2019-03-21",
         83,
         "NULL",
         "99A021D1-5E5A-4499-8759-02B3D89CE9AF"
        ],
        [
         "Pearl",
         "Cat",
         "doris.young@icloud.com",
         "2019-10-13",
         94,
         "American Bobtail",
         "DF9291B5-9F82-4AD1-A9FD-1206FD6CD837"
        ],
        [
         "Penelope",
         "Cat",
         "emily.perez@gmail.com",
         "2018-06-02",
         54,
         "Scottish Fold",
         "5A6A4DC1-B813-4331-B027-1718EB50BC9E"
        ],
        [
         "Penelope",
         "Dog",
         "virginia.baker@gmail.com",
         "2018-10-22",
         54,
         "Bullmastiff",
         "E4E5609A-9C86-4C59-8EEE-47ED74FF04B5"
        ],
        [
         "Penny",
         "Cat",
         "roy.rogers@hotmail.com",
         "2017-04-08",
         66,
         "NULL",
         "B947B10B-C402-4DA5-9713-185FD21065C4"
        ],
        [
         "Piper",
         "Dog",
         "margaret.campbell@hotmail.com",
         "2016-06-16",
         61,
         "NULL",
         "B6BD98C9-5F0D-4AC2-81AD-278ACF2AFD46"
        ],
        [
         "Poppy",
         "Dog",
         "phyllis.moore@gmail.com",
         "2019-03-15",
         93,
         "Weimaraner",
         "10E33EB3-A2D5-4FCD-9428-1DBB389FBB30"
        ],
        [
         "Prince",
         "Dog",
         "virginia.baker@gmail.com",
         "2018-03-13",
         95,
         "NULL",
         "06C5CFCB-2C24-4030-ACDA-06FB3343A173"
        ],
        [
         "Pumpkin",
         "Cat",
         "scott.gutierrez@gmail.com",
         "2019-09-12",
         64,
         "Russian Blue",
         "64085FE7-0F2E-4E80-A170-286F1519FDA8"
        ],
        [
         "Ranger",
         "Dog",
         "charles.phillips@gmail.com",
         "2019-01-06",
         61,
         "NULL",
         "559412C8-2C13-4A18-8B94-481BC06099DE"
        ],
        [
         "Remi / Remy",
         "Dog",
         "jesse.cox@yahoo.com",
         "2019-04-29",
         61,
         "NULL",
         "835106AA-CFA5-47FB-BA29-0071D1A1592A"
        ],
        [
         "Riley",
         "Dog",
         "sara.nelson@icloud.com",
         "2019-09-30",
         54,
         "NULL",
         "E042131E-2921-442C-9BBD-107507293BB2"
        ],
        [
         "Rocky",
         "Cat",
         "patricia.wright@icloud.com",
         "2019-11-21",
         60,
         "NULL",
         "6C07246C-3107-4651-8F5C-1EB14D1C5EA5"
        ],
        [
         "Roxy",
         "Dog",
         "julie.adams@gmail.com",
         "2019-08-07",
         86,
         "Weimaraner",
         "01DFA05C-86B4-4936-A608-1C59097FA2D3"
        ],
        [
         "Rusty",
         "Dog",
         "jacqueline.phillips@gmail.com",
         "2016-04-23",
         50,
         "NULL",
         "92FFDE28-B23A-4249-A32D-07BA417AA143"
        ],
        [
         "Sadie",
         "Cat",
         "jonathan.mez@hotmail.com",
         "2018-12-07",
         85,
         "NULL",
         "C231514D-61C1-4180-B679-0BDBA7314FD6"
        ],
        [
         "Salem",
         "Cat",
         "bruce.cook@icloud.com",
         "2018-02-09",
         55,
         "Sphynx",
         "59F3AA7B-4D2B-49F6-9964-0155880B0473"
        ],
        [
         "Sam",
         "Cat",
         "frances.cook@yahoo.com",
         "2018-12-29",
         51,
         "NULL",
         "27F6F2B4-3570-43E1-8B64-05A1DC86FD8D"
        ],
        [
         "Shadow",
         "Dog",
         "wayne.turner@icloud.com",
         "2018-04-01",
         73,
         "NULL",
         "02DC6920-79BD-430A-A1ED-3196366F9BFE"
        ],
        [
         "Skye",
         "Dog",
         "jerry.mitchell@icloud.com",
         "2016-09-25",
         67,
         "Bullmastiff",
         "B7DB3359-2E5D-42AB-AF61-0F1D97EE195C"
        ],
        [
         "Thomas",
         "Cat",
         "george.scott@hotmail.com",
         "2019-05-23",
         96,
         "NULL",
         "265151DD-F5F0-4DCB-A0E7-0371960D9741"
        ],
        [
         "Toby",
         "Rabbit",
         "phyllis.moore@gmail.com",
         "2019-11-26",
         96,
         "NULL",
         "01DD3B07-EBD6-4A7F-98BC-0A38AA48B139"
        ],
        [
         "Whitney",
         "Rabbit",
         "margaret.campbell@hotmail.com",
         "2019-07-17",
         75,
         "Lionhead",
         "F8FC5DFC-B0F1-4C91-AD34-06D16F2DEA33"
        ]
       ],
       "datasetInfos": [],
       "dbfsResultPath": null,
       "isJsonSchema": true,
       "metadata": {},
       "overflow": false,
       "plotOptions": {
        "customPlotOptions": {},
        "displayType": "table",
        "pivotAggregation": null,
        "pivotColumns": null,
        "xColumns": null,
        "yColumns": null
       },
       "removedWidgets": [],
       "schema": [
        {
         "metadata": "{}",
         "name": "Name",
         "type": "\"string\""
        },
        {
         "metadata": "{}",
         "name": "Species",
         "type": "\"string\""
        },
        {
         "metadata": "{}",
         "name": "Adopter_Email",
         "type": "\"string\""
        },
        {
         "metadata": "{}",
         "name": "Adoption_Date",
         "type": "\"date\""
        },
        {
         "metadata": "{}",
         "name": "Adoption_Fee",
         "type": "\"integer\""
        },
        {
         "metadata": "{}",
         "name": "Breed",
         "type": "\"string\""
        },
        {
         "metadata": "{}",
         "name": "Implant_Chip_ID",
         "type": "\"string\""
        }
       ],
       "type": "table"
      }
     },
     "output_type": "display_data"
    }
   ],
   "source": [
    "display(animals_With_Tags_Breeds)"
   ]
  },
  {
   "cell_type": "code",
   "execution_count": 0,
   "metadata": {
    "application/vnd.databricks.v1+cell": {
     "cellMetadata": {
      "byteLimit": 2048000,
      "rowLimit": 10000
     },
     "inputWidgets": {},
     "nuid": "0080255f-350c-45d2-a1de-1382420ed192",
     "showTitle": false,
     "tableResultSettingsMap": {},
     "title": ""
    }
   },
   "outputs": [],
   "source": [
    "all_Animals_Adopted_Or_Not = animals.join(adoptions , (animals.Name == adoptions.Name) & (animals.Species== adoptions.Species), \"left\" ).select(adoptions.Name, adoptions.Species,adoptions.Adopter_Email, adoptions.Adoption_Date, adoptions.Adoption_Fee, animals.Breed, animals.Implant_Chip_ID )"
   ]
  },
  {
   "cell_type": "code",
   "execution_count": 0,
   "metadata": {
    "application/vnd.databricks.v1+cell": {
     "cellMetadata": {
      "byteLimit": 2048000,
      "rowLimit": 10000
     },
     "inputWidgets": {},
     "nuid": "9632eee8-0440-4c0b-b05f-fd866e458f5e",
     "showTitle": false,
     "tableResultSettingsMap": {},
     "title": ""
    }
   },
   "outputs": [
    {
     "output_type": "display_data",
     "data": {
      "text/html": [
       "<style scoped>\n",
       "  .table-result-container {\n",
       "    max-height: 300px;\n",
       "    overflow: auto;\n",
       "  }\n",
       "  table, th, td {\n",
       "    border: 1px solid black;\n",
       "    border-collapse: collapse;\n",
       "  }\n",
       "  th, td {\n",
       "    padding: 5px;\n",
       "  }\n",
       "  th {\n",
       "    text-align: left;\n",
       "  }\n",
       "</style><div class='table-result-container'><table class='table-result'><thead style='background-color: white'><tr><th>Name</th><th>Species</th><th>Adopter_Email</th><th>Adoption_Date</th><th>Adoption_Fee</th><th>Breed</th><th>Implant_Chip_ID</th></tr></thead><tbody><tr><td>Abby</td><td>Dog</td><td>patrick.hughes@animalshelter.com</td><td>2018-08-30</td><td>58</td><td>NULL</td><td>FDFDB6FE-3347-4E80-8C8A-2E3235C6D1DE</td></tr><tr><td>Ace</td><td>Dog</td><td>justin.ruiz@hotmail.com</td><td>2019-10-26</td><td>68</td><td>NULL</td><td>33D50C6B-9D2E-4EB1-8171-0466DEE4F349</td></tr><tr><td>null</td><td>null</td><td>null</td><td>null</td><td>null</td><td>NULL</td><td>F0769A5E-1A11-49F1-AC80-3F40A32EA158</td></tr><tr><td>null</td><td>null</td><td>null</td><td>null</td><td>null</td><td>NULL</td><td>CCFEF7E8-6FAD-4BA0-81EA-0611DD229E42</td></tr><tr><td>Archie</td><td>Cat</td><td>patrick.hughes@animalshelter.com</td><td>2018-08-30</td><td>82</td><td>Persian</td><td>970D7094-AB66-4DCA-A0D1-0C16264989AF</td></tr><tr><td>null</td><td>null</td><td>null</td><td>null</td><td>null</td><td>NULL</td><td>CD1528AD-C91D-47EA-9B70-3CACD5BDBE71</td></tr><tr><td>null</td><td>null</td><td>null</td><td>null</td><td>null</td><td>NULL</td><td>51D4CFD1-CD25-4C5A-AA52-0BFD771F8886</td></tr><tr><td>Bailey</td><td>Dog</td><td>wayne.turner@icloud.com</td><td>2019-07-26</td><td>50</td><td>NULL</td><td>36438BC9-E225-4038-97B2-1E28FD287957</td></tr><tr><td>Baloo</td><td>Rabbit</td><td>jesse.cox@yahoo.com</td><td>2017-12-16</td><td>58</td><td>English Lop</td><td>F5CE3A02-1EC7-431D-8A76-09369E8D798B</td></tr><tr><td>Beau</td><td>Dog</td><td>shirley.williams@outlook.com</td><td>2018-04-15</td><td>90</td><td>NULL</td><td>4B94A68C-0C97-4F70-9275-35B3A9EEE8D9</td></tr><tr><td>Benji</td><td>Dog</td><td>sharon.davis@animalshelter.com</td><td>2018-11-18</td><td>97</td><td>English setter</td><td>646F0A76-14E4-42E7-9554-3AF1EA6CC78F</td></tr><tr><td>null</td><td>null</td><td>null</td><td>null</td><td>null</td><td>NULL</td><td>2AE54BBB-A587-49D5-9A4D-1400A303C4BF</td></tr><tr><td>null</td><td>null</td><td>null</td><td>null</td><td>null</td><td>NULL</td><td>6D296D1D-E14D-4308-8B4F-27F87FE1534E</td></tr><tr><td>null</td><td>null</td><td>null</td><td>null</td><td>null</td><td>NULL</td><td>BCE7E239-304A-483D-9E38-05B9B66AF496</td></tr><tr><td>null</td><td>null</td><td>null</td><td>null</td><td>null</td><td>Schnauzer</td><td>01E2AD60-DAA5-4681-B934-40C9DCF7D73A</td></tr><tr><td>Brody</td><td>Dog</td><td>george.scott@hotmail.com</td><td>2019-02-21</td><td>83</td><td>Schnauzer</td><td>EB517826-E48A-41AE-A5FB-1BBECA23C05D</td></tr><tr><td>Brutus</td><td>Dog</td><td>virginia.baker@gmail.com</td><td>2019-01-28</td><td>66</td><td>Weimaraner</td><td>B7FAD096-7CD1-42A7-85D6-0C3E6599DBEB</td></tr><tr><td>Buddy</td><td>Cat</td><td>karen.smith@icloud.com</td><td>2019-09-27</td><td>73</td><td>NULL</td><td>6D49B3F6-E075-4F33-97A3-1D4878EE1345</td></tr><tr><td>Callie</td><td>Dog</td><td>peter.smith@hotmail.com</td><td>2018-09-06</td><td>57</td><td>English setter</td><td>2636F17F-5893-482F-94A7-47EEB715047A</td></tr><tr><td>null</td><td>null</td><td>null</td><td>null</td><td>null</td><td>NULL</td><td>AB967364-43CC-4DD2-A4D9-080F0DEF56CA</td></tr><tr><td>Chico</td><td>Dog</td><td>lori.smith@icloud.com</td><td>2019-12-29</td><td>86</td><td>NULL</td><td>C6614119-945A-45A9-A5A2-3C8F840EDC01</td></tr><tr><td>Chubby</td><td>Rabbit</td><td>adam.brown@gmail.com</td><td>2018-05-27</td><td>65</td><td>NULL</td><td>561FEA02-9C12-43B1-9EA8-071C9EAE4C55</td></tr><tr><td>Cleo</td><td>Cat</td><td>melissa.lopez@gmail.com</td><td>2019-12-15</td><td>56</td><td>NULL</td><td>0897655B-1486-4D5D-AD60-03A855AFCAF3</td></tr><tr><td>Cooper</td><td>Dog</td><td>lisa.perez@icloud.com</td><td>2018-01-10</td><td>61</td><td>NULL</td><td>14F9E97B-6CD4-4EE4-9798-1C4F2376141B</td></tr><tr><td>Cosmo</td><td>Cat</td><td>diane.thompson@hotmail.com</td><td>2019-06-16</td><td>100</td><td>NULL</td><td>2754B9C9-5DF4-4206-818D-21BDD1A093ED</td></tr><tr><td>Dolly</td><td>Dog</td><td>laura.young@gmail.com</td><td>2019-12-30</td><td>93</td><td>NULL</td><td>DBDC4F81-1709-49D6-9F73-1D2099ECA35C</td></tr><tr><td>Emma</td><td>Dog</td><td>melissa.moore@icloud.com</td><td>2019-12-28</td><td>76</td><td>Schnauzer</td><td>BAC4C56D-EBB6-43E3-86F3-36506E17F74D</td></tr><tr><td>Fiona</td><td>Cat</td><td>jerry.mitchell@icloud.com</td><td>2018-02-23</td><td>96</td><td>NULL</td><td>90226140-F54E-419D-82E5-0EA81E0E6384</td></tr><tr><td>null</td><td>null</td><td>null</td><td>null</td><td>null</td><td>English setter</td><td>CC96E651-2F1C-45F8-BCE2-26AC8C9868A7</td></tr><tr><td>George</td><td>Cat</td><td>kevin.diaz@hotmail.com</td><td>2018-09-13</td><td>97</td><td>NULL</td><td>6FEFC95E-7D46-4E25-B90A-0BA75F45D972</td></tr><tr><td>Ginger</td><td>Dog</td><td>julie.adams@gmail.com</td><td>2017-03-07</td><td>79</td><td>NULL</td><td>9E241A82-AD77-49DC-AD15-0AC8D2E89DDE</td></tr><tr><td>Gizmo</td><td>Dog</td><td>lori.smith@icloud.com</td><td>2019-12-26</td><td>54</td><td>NULL</td><td>78556795-4748-447F-A2CE-336B01173A18</td></tr><tr><td>Gracie</td><td>Cat</td><td>gerald.reyes@animalshelter.com</td><td>2017-09-09</td><td>82</td><td>NULL</td><td>66691184-06B1-4AA8-89B3-0DEF5FD9FBE1</td></tr><tr><td>Gus</td><td>Dog</td><td>frances.cook@yahoo.com</td><td>2018-12-29</td><td>96</td><td>English setter</td><td>104A1427-D921-4D11-B45C-370C70E1578F</td></tr><tr><td>Hobbes</td><td>Cat</td><td>timothy.anderson@gmail.com</td><td>2017-11-08</td><td>73</td><td>NULL</td><td>8788E7B9-DC20-45EF-8778-0066F60D790D</td></tr><tr><td>null</td><td>null</td><td>null</td><td>null</td><td>null</td><td>NULL</td><td>DD737E6E-3B26-43B4-AD4B-28398602DF74</td></tr><tr><td>Hudini</td><td>Rabbit</td><td>kathy.thomas@gmail.com</td><td>2019-12-24</td><td>57</td><td>NULL</td><td>DE295DD6-502F-43E3-B139-06CEB3FA2128</td></tr><tr><td>Humphrey</td><td>Rabbit</td><td>kelly.allen@hotmail.com</td><td>2019-01-17</td><td>85</td><td>Belgian Hare</td><td>2A423596-5BF8-41A7-906A-0BD3EA15E17C</td></tr><tr><td>null</td><td>null</td><td>null</td><td>null</td><td>null</td><td>Turkish Angora</td><td>0955C70B-A2B6-4D78-8E4B-1F6386FFC763</td></tr><tr><td>Jake</td><td>Dog</td><td>shirley.williams@outlook.com</td><td>2019-11-12</td><td>84</td><td>Bullmastiff</td><td>9209D54C-0238-457B-9922-02171E9DF0E6</td></tr><tr><td>Jax</td><td>Dog</td><td>wayne.turner@icloud.com</td><td>2018-04-01</td><td>85</td><td>Weimaraner</td><td>24AD2ED9-E7E6-4571-8A45-3C9361418B07</td></tr><tr><td>Kiki</td><td>Cat</td><td>james.ramos@hotmail.com</td><td>2019-12-01</td><td>87</td><td>NULL</td><td>4E029101-2326-461C-8FF7-0EB809F110CB</td></tr><tr><td>King</td><td>Dog</td><td>charles.phillips@gmail.com</td><td>2019-07-18</td><td>57</td><td>NULL</td><td>793E68EB-B952-4425-B9E2-0406EA01AC53</td></tr><tr><td>null</td><td>null</td><td>null</td><td>null</td><td>null</td><td>NULL</td><td>C87EE041-973F-482C-B5E4-3310B4D80612</td></tr><tr><td>null</td><td>null</td><td>null</td><td>null</td><td>null</td><td>NULL</td><td>DF2E0BBC-ACB7-413C-90BC-2AAE37ACEB90</td></tr><tr><td>Lexi</td><td>Dog</td><td>virginia.baker@gmail.com</td><td>2018-07-28</td><td>54</td><td>NULL</td><td>BFD890AA-AFB6-4E8F-B60B-0124840EB504</td></tr><tr><td>Lily</td><td>Dog</td><td>mildred.gray@yahoo.com</td><td>2019-09-01</td><td>99</td><td>Schnauzer</td><td>11DE2603-8BCF-49B6-9DDE-46F893D93948</td></tr><tr><td>Lucy</td><td>Dog</td><td>richard.castillo@icloud.com</td><td>2018-07-07</td><td>78</td><td>Weimaraner</td><td>3A389EAF-F623-4CD7-9EC9-2144CA9D244C</td></tr><tr><td>Luke</td><td>Dog</td><td>ryan.garcia@hotmail.com</td><td>2018-05-04</td><td>65</td><td>NULL</td><td>FD6E5E29-0515-47A8-890D-096F07C83738</td></tr><tr><td>null</td><td>null</td><td>null</td><td>null</td><td>null</td><td>NULL</td><td>9F018ECD-7D17-4027-8751-2167300D6CF3</td></tr><tr><td>null</td><td>null</td><td>null</td><td>null</td><td>null</td><td>NULL</td><td>74C3566B-A889-4861-B67E-3570AAC7247A</td></tr><tr><td>Luna</td><td>Rabbit</td><td>ryan.wright@hotmail.com</td><td>2019-04-14</td><td>55</td><td>NULL</td><td>202C2C7D-7A25-449D-AD71-05482B04346F</td></tr><tr><td>Mac</td><td>Dog</td><td>randy.bailey@icloud.com</td><td>2018-06-12</td><td>51</td><td>English setter</td><td>3B55A74D-C5F7-44BC-9E6A-11C446628A0D</td></tr><tr><td>Maddie</td><td>Dog</td><td>theresa.carter@icloud.com</td><td>2017-09-18</td><td>87</td><td>NULL</td><td>2A37B609-D1F6-475F-A890-0234FCB2F0B8</td></tr><tr><td>Max</td><td>Dog</td><td>roy.rogers@hotmail.com</td><td>2017-09-23</td><td>62</td><td>NULL</td><td>EB92C3B9-19BD-4AB1-B0F3-11DD7ADB3CF0</td></tr><tr><td>Millie</td><td>Dog</td><td>richard.castillo@icloud.com</td><td>2018-05-21</td><td>98</td><td>NULL</td><td>7D69F605-C2FF-42AC-A5AC-20B63EB881CA</td></tr><tr><td>Miss Kitty</td><td>Cat</td><td>anna.thompson@hotmail.com</td><td>2019-11-11</td><td>83</td><td>Maine Coon</td><td>1AB8347C-6349-4092-9667-09653A9FD09C</td></tr><tr><td>Misty</td><td>Cat</td><td>frances.hill@animalshelter.com</td><td>2019-12-13</td><td>86</td><td>Siamese</td><td>805281A0-5DE6-4BA8-8FB1-11CEFE0575E0</td></tr><tr><td>Mocha</td><td>Dog</td><td>roger.adams@hotmail.com</td><td>2019-07-22</td><td>93</td><td>NULL</td><td>63DC76E7-3431-4455-9AD8-2FE4FF72F4AF</td></tr><tr><td>Nala</td><td>Dog</td><td>wayne.turner@icloud.com</td><td>2019-07-26</td><td>77</td><td>English setter</td><td>2929BBA7-ED35-43F1-9F3E-01120BEB4F8B</td></tr><tr><td>Nova</td><td>Cat</td><td>walter.edwards@icloud.com</td><td>2018-09-03</td><td>98</td><td>Sphynx</td><td>81802526-CAE2-40BB-846A-01D2156545B4</td></tr><tr><td>null</td><td>null</td><td>null</td><td>null</td><td>null</td><td>NULL</td><td>D6088551-BAD5-41F6-B9A5-09A3A50CB2FF</td></tr><tr><td>Oscar</td><td>Cat</td><td>bruce.harris@hotmail.com</td><td>2018-11-19</td><td>79</td><td>NULL</td><td>18C0C340-E7A3-430E-BAF5-13C938287D4F</td></tr><tr><td>Otis</td><td>Dog</td><td>doris.young@icloud.com</td><td>2019-08-02</td><td>51</td><td>NULL</td><td>CB5444D8-39FC-4A56-AA83-17E1BFD6E960</td></tr><tr><td>null</td><td>null</td><td>null</td><td>null</td><td>null</td><td>NULL</td><td>21247670-2E5A-43EF-ACF9-0E794463C466</td></tr><tr><td>Peanut</td><td>Rabbit</td><td>richard.castillo@icloud.com</td><td>2019-03-21</td><td>83</td><td>NULL</td><td>99A021D1-5E5A-4499-8759-02B3D89CE9AF</td></tr><tr><td>Pearl</td><td>Cat</td><td>doris.young@icloud.com</td><td>2019-10-13</td><td>94</td><td>American Bobtail</td><td>DF9291B5-9F82-4AD1-A9FD-1206FD6CD837</td></tr><tr><td>Penelope</td><td>Cat</td><td>emily.perez@gmail.com</td><td>2018-06-02</td><td>54</td><td>Scottish Fold</td><td>5A6A4DC1-B813-4331-B027-1718EB50BC9E</td></tr><tr><td>Penelope</td><td>Dog</td><td>virginia.baker@gmail.com</td><td>2018-10-22</td><td>54</td><td>Bullmastiff</td><td>E4E5609A-9C86-4C59-8EEE-47ED74FF04B5</td></tr><tr><td>Penny</td><td>Cat</td><td>roy.rogers@hotmail.com</td><td>2017-04-08</td><td>66</td><td>NULL</td><td>B947B10B-C402-4DA5-9713-185FD21065C4</td></tr><tr><td>Piper</td><td>Dog</td><td>margaret.campbell@hotmail.com</td><td>2016-06-16</td><td>61</td><td>NULL</td><td>B6BD98C9-5F0D-4AC2-81AD-278ACF2AFD46</td></tr><tr><td>Poppy</td><td>Dog</td><td>phyllis.moore@gmail.com</td><td>2019-03-15</td><td>93</td><td>Weimaraner</td><td>10E33EB3-A2D5-4FCD-9428-1DBB389FBB30</td></tr><tr><td>Prince</td><td>Dog</td><td>virginia.baker@gmail.com</td><td>2018-03-13</td><td>95</td><td>NULL</td><td>06C5CFCB-2C24-4030-ACDA-06FB3343A173</td></tr><tr><td>Pumpkin</td><td>Cat</td><td>scott.gutierrez@gmail.com</td><td>2019-09-12</td><td>64</td><td>Russian Blue</td><td>64085FE7-0F2E-4E80-A170-286F1519FDA8</td></tr><tr><td>Ranger</td><td>Dog</td><td>charles.phillips@gmail.com</td><td>2019-01-06</td><td>61</td><td>NULL</td><td>559412C8-2C13-4A18-8B94-481BC06099DE</td></tr><tr><td>Remi / Remy</td><td>Dog</td><td>jesse.cox@yahoo.com</td><td>2019-04-29</td><td>61</td><td>NULL</td><td>835106AA-CFA5-47FB-BA29-0071D1A1592A</td></tr><tr><td>Riley</td><td>Dog</td><td>sara.nelson@icloud.com</td><td>2019-09-30</td><td>54</td><td>NULL</td><td>E042131E-2921-442C-9BBD-107507293BB2</td></tr><tr><td>Rocky</td><td>Cat</td><td>patricia.wright@icloud.com</td><td>2019-11-21</td><td>60</td><td>NULL</td><td>6C07246C-3107-4651-8F5C-1EB14D1C5EA5</td></tr><tr><td>Roxy</td><td>Dog</td><td>julie.adams@gmail.com</td><td>2019-08-07</td><td>86</td><td>Weimaraner</td><td>01DFA05C-86B4-4936-A608-1C59097FA2D3</td></tr><tr><td>Rusty</td><td>Dog</td><td>jacqueline.phillips@gmail.com</td><td>2016-04-23</td><td>50</td><td>NULL</td><td>92FFDE28-B23A-4249-A32D-07BA417AA143</td></tr><tr><td>Sadie</td><td>Cat</td><td>jonathan.mez@hotmail.com</td><td>2018-12-07</td><td>85</td><td>NULL</td><td>C231514D-61C1-4180-B679-0BDBA7314FD6</td></tr><tr><td>Salem</td><td>Cat</td><td>bruce.cook@icloud.com</td><td>2018-02-09</td><td>55</td><td>Sphynx</td><td>59F3AA7B-4D2B-49F6-9964-0155880B0473</td></tr><tr><td>Sam</td><td>Cat</td><td>frances.cook@yahoo.com</td><td>2018-12-29</td><td>51</td><td>NULL</td><td>27F6F2B4-3570-43E1-8B64-05A1DC86FD8D</td></tr><tr><td>null</td><td>null</td><td>null</td><td>null</td><td>null</td><td>NULL</td><td>42D68579-C4BE-4DC3-9C35-1C40A9EF7B11</td></tr><tr><td>null</td><td>null</td><td>null</td><td>null</td><td>null</td><td>NULL</td><td>A5FA2DC8-9708-465F-9F64-0B39D31BE53A</td></tr><tr><td>Shadow</td><td>Dog</td><td>wayne.turner@icloud.com</td><td>2018-04-01</td><td>73</td><td>NULL</td><td>02DC6920-79BD-430A-A1ED-3196366F9BFE</td></tr><tr><td>null</td><td>null</td><td>null</td><td>null</td><td>null</td><td>NULL</td><td>83F5B5B0-AF40-4A45-9BDF-0F8EA289E906</td></tr><tr><td>null</td><td>null</td><td>null</td><td>null</td><td>null</td><td>NULL</td><td>39ED8368-B8BC-433E-8678-0199BCE6259E</td></tr><tr><td>Skye</td><td>Dog</td><td>jerry.mitchell@icloud.com</td><td>2016-09-25</td><td>67</td><td>Bullmastiff</td><td>B7DB3359-2E5D-42AB-AF61-0F1D97EE195C</td></tr><tr><td>null</td><td>null</td><td>null</td><td>null</td><td>null</td><td>NULL</td><td>44B218EF-C708-46B7-967E-16C16E4AD577</td></tr><tr><td>null</td><td>null</td><td>null</td><td>null</td><td>null</td><td>NULL</td><td>20CCAE0A-96FF-43C1-9FD4-2CF0916620ED</td></tr><tr><td>Thomas</td><td>Cat</td><td>george.scott@hotmail.com</td><td>2019-05-23</td><td>96</td><td>NULL</td><td>265151DD-F5F0-4DCB-A0E7-0371960D9741</td></tr><tr><td>null</td><td>null</td><td>null</td><td>null</td><td>null</td><td>NULL</td><td>ED0BA7EE-6694-452F-92AB-19BD52A750DF</td></tr><tr><td>null</td><td>null</td><td>null</td><td>null</td><td>null</td><td>Turkish Angora</td><td>6F39F088-A2EA-40FC-9F7E-0DEA387A5B59</td></tr><tr><td>null</td><td>null</td><td>null</td><td>null</td><td>null</td><td>NULL</td><td>E16F5AB8-9E18-4F58-ADF8-00BE13E5EFA0</td></tr><tr><td>null</td><td>null</td><td>null</td><td>null</td><td>null</td><td>Bullmastiff</td><td>A457D717-2C6B-4AD2-8383-3974DF128D4F</td></tr><tr><td>Toby</td><td>Rabbit</td><td>phyllis.moore@gmail.com</td><td>2019-11-26</td><td>96</td><td>NULL</td><td>01DD3B07-EBD6-4A7F-98BC-0A38AA48B139</td></tr><tr><td>null</td><td>null</td><td>null</td><td>null</td><td>null</td><td>NULL</td><td>193E62EB-31CC-49AE-AD45-46CB9CEE0EFA</td></tr><tr><td>null</td><td>null</td><td>null</td><td>null</td><td>null</td><td>NULL</td><td>293AE36F-BFBE-4EBC-B90C-4A2BE6055CD1</td></tr><tr><td>Whitney</td><td>Rabbit</td><td>margaret.campbell@hotmail.com</td><td>2019-07-17</td><td>75</td><td>Lionhead</td><td>F8FC5DFC-B0F1-4C91-AD34-06D16F2DEA33</td></tr></tbody></table></div>"
      ]
     },
     "metadata": {
      "application/vnd.databricks.v1+output": {
       "addedWidgets": {},
       "aggData": [],
       "aggError": "",
       "aggOverflow": false,
       "aggSchema": [],
       "aggSeriesLimitReached": false,
       "aggType": "",
       "arguments": {},
       "columnCustomDisplayInfos": {},
       "data": [
        [
         "Abby",
         "Dog",
         "patrick.hughes@animalshelter.com",
         "2018-08-30",
         58,
         "NULL",
         "FDFDB6FE-3347-4E80-8C8A-2E3235C6D1DE"
        ],
        [
         "Ace",
         "Dog",
         "justin.ruiz@hotmail.com",
         "2019-10-26",
         68,
         "NULL",
         "33D50C6B-9D2E-4EB1-8171-0466DEE4F349"
        ],
        [
         null,
         null,
         null,
         null,
         null,
         "NULL",
         "F0769A5E-1A11-49F1-AC80-3F40A32EA158"
        ],
        [
         null,
         null,
         null,
         null,
         null,
         "NULL",
         "CCFEF7E8-6FAD-4BA0-81EA-0611DD229E42"
        ],
        [
         "Archie",
         "Cat",
         "patrick.hughes@animalshelter.com",
         "2018-08-30",
         82,
         "Persian",
         "970D7094-AB66-4DCA-A0D1-0C16264989AF"
        ],
        [
         null,
         null,
         null,
         null,
         null,
         "NULL",
         "CD1528AD-C91D-47EA-9B70-3CACD5BDBE71"
        ],
        [
         null,
         null,
         null,
         null,
         null,
         "NULL",
         "51D4CFD1-CD25-4C5A-AA52-0BFD771F8886"
        ],
        [
         "Bailey",
         "Dog",
         "wayne.turner@icloud.com",
         "2019-07-26",
         50,
         "NULL",
         "36438BC9-E225-4038-97B2-1E28FD287957"
        ],
        [
         "Baloo",
         "Rabbit",
         "jesse.cox@yahoo.com",
         "2017-12-16",
         58,
         "English Lop",
         "F5CE3A02-1EC7-431D-8A76-09369E8D798B"
        ],
        [
         "Beau",
         "Dog",
         "shirley.williams@outlook.com",
         "2018-04-15",
         90,
         "NULL",
         "4B94A68C-0C97-4F70-9275-35B3A9EEE8D9"
        ],
        [
         "Benji",
         "Dog",
         "sharon.davis@animalshelter.com",
         "2018-11-18",
         97,
         "English setter",
         "646F0A76-14E4-42E7-9554-3AF1EA6CC78F"
        ],
        [
         null,
         null,
         null,
         null,
         null,
         "NULL",
         "2AE54BBB-A587-49D5-9A4D-1400A303C4BF"
        ],
        [
         null,
         null,
         null,
         null,
         null,
         "NULL",
         "6D296D1D-E14D-4308-8B4F-27F87FE1534E"
        ],
        [
         null,
         null,
         null,
         null,
         null,
         "NULL",
         "BCE7E239-304A-483D-9E38-05B9B66AF496"
        ],
        [
         null,
         null,
         null,
         null,
         null,
         "Schnauzer",
         "01E2AD60-DAA5-4681-B934-40C9DCF7D73A"
        ],
        [
         "Brody",
         "Dog",
         "george.scott@hotmail.com",
         "2019-02-21",
         83,
         "Schnauzer",
         "EB517826-E48A-41AE-A5FB-1BBECA23C05D"
        ],
        [
         "Brutus",
         "Dog",
         "virginia.baker@gmail.com",
         "2019-01-28",
         66,
         "Weimaraner",
         "B7FAD096-7CD1-42A7-85D6-0C3E6599DBEB"
        ],
        [
         "Buddy",
         "Cat",
         "karen.smith@icloud.com",
         "2019-09-27",
         73,
         "NULL",
         "6D49B3F6-E075-4F33-97A3-1D4878EE1345"
        ],
        [
         "Callie",
         "Dog",
         "peter.smith@hotmail.com",
         "2018-09-06",
         57,
         "English setter",
         "2636F17F-5893-482F-94A7-47EEB715047A"
        ],
        [
         null,
         null,
         null,
         null,
         null,
         "NULL",
         "AB967364-43CC-4DD2-A4D9-080F0DEF56CA"
        ],
        [
         "Chico",
         "Dog",
         "lori.smith@icloud.com",
         "2019-12-29",
         86,
         "NULL",
         "C6614119-945A-45A9-A5A2-3C8F840EDC01"
        ],
        [
         "Chubby",
         "Rabbit",
         "adam.brown@gmail.com",
         "2018-05-27",
         65,
         "NULL",
         "561FEA02-9C12-43B1-9EA8-071C9EAE4C55"
        ],
        [
         "Cleo",
         "Cat",
         "melissa.lopez@gmail.com",
         "2019-12-15",
         56,
         "NULL",
         "0897655B-1486-4D5D-AD60-03A855AFCAF3"
        ],
        [
         "Cooper",
         "Dog",
         "lisa.perez@icloud.com",
         "2018-01-10",
         61,
         "NULL",
         "14F9E97B-6CD4-4EE4-9798-1C4F2376141B"
        ],
        [
         "Cosmo",
         "Cat",
         "diane.thompson@hotmail.com",
         "2019-06-16",
         100,
         "NULL",
         "2754B9C9-5DF4-4206-818D-21BDD1A093ED"
        ],
        [
         "Dolly",
         "Dog",
         "laura.young@gmail.com",
         "2019-12-30",
         93,
         "NULL",
         "DBDC4F81-1709-49D6-9F73-1D2099ECA35C"
        ],
        [
         "Emma",
         "Dog",
         "melissa.moore@icloud.com",
         "2019-12-28",
         76,
         "Schnauzer",
         "BAC4C56D-EBB6-43E3-86F3-36506E17F74D"
        ],
        [
         "Fiona",
         "Cat",
         "jerry.mitchell@icloud.com",
         "2018-02-23",
         96,
         "NULL",
         "90226140-F54E-419D-82E5-0EA81E0E6384"
        ],
        [
         null,
         null,
         null,
         null,
         null,
         "English setter",
         "CC96E651-2F1C-45F8-BCE2-26AC8C9868A7"
        ],
        [
         "George",
         "Cat",
         "kevin.diaz@hotmail.com",
         "2018-09-13",
         97,
         "NULL",
         "6FEFC95E-7D46-4E25-B90A-0BA75F45D972"
        ],
        [
         "Ginger",
         "Dog",
         "julie.adams@gmail.com",
         "2017-03-07",
         79,
         "NULL",
         "9E241A82-AD77-49DC-AD15-0AC8D2E89DDE"
        ],
        [
         "Gizmo",
         "Dog",
         "lori.smith@icloud.com",
         "2019-12-26",
         54,
         "NULL",
         "78556795-4748-447F-A2CE-336B01173A18"
        ],
        [
         "Gracie",
         "Cat",
         "gerald.reyes@animalshelter.com",
         "2017-09-09",
         82,
         "NULL",
         "66691184-06B1-4AA8-89B3-0DEF5FD9FBE1"
        ],
        [
         "Gus",
         "Dog",
         "frances.cook@yahoo.com",
         "2018-12-29",
         96,
         "English setter",
         "104A1427-D921-4D11-B45C-370C70E1578F"
        ],
        [
         "Hobbes",
         "Cat",
         "timothy.anderson@gmail.com",
         "2017-11-08",
         73,
         "NULL",
         "8788E7B9-DC20-45EF-8778-0066F60D790D"
        ],
        [
         null,
         null,
         null,
         null,
         null,
         "NULL",
         "DD737E6E-3B26-43B4-AD4B-28398602DF74"
        ],
        [
         "Hudini",
         "Rabbit",
         "kathy.thomas@gmail.com",
         "2019-12-24",
         57,
         "NULL",
         "DE295DD6-502F-43E3-B139-06CEB3FA2128"
        ],
        [
         "Humphrey",
         "Rabbit",
         "kelly.allen@hotmail.com",
         "2019-01-17",
         85,
         "Belgian Hare",
         "2A423596-5BF8-41A7-906A-0BD3EA15E17C"
        ],
        [
         null,
         null,
         null,
         null,
         null,
         "Turkish Angora",
         "0955C70B-A2B6-4D78-8E4B-1F6386FFC763"
        ],
        [
         "Jake",
         "Dog",
         "shirley.williams@outlook.com",
         "2019-11-12",
         84,
         "Bullmastiff",
         "9209D54C-0238-457B-9922-02171E9DF0E6"
        ],
        [
         "Jax",
         "Dog",
         "wayne.turner@icloud.com",
         "2018-04-01",
         85,
         "Weimaraner",
         "24AD2ED9-E7E6-4571-8A45-3C9361418B07"
        ],
        [
         "Kiki",
         "Cat",
         "james.ramos@hotmail.com",
         "2019-12-01",
         87,
         "NULL",
         "4E029101-2326-461C-8FF7-0EB809F110CB"
        ],
        [
         "King",
         "Dog",
         "charles.phillips@gmail.com",
         "2019-07-18",
         57,
         "NULL",
         "793E68EB-B952-4425-B9E2-0406EA01AC53"
        ],
        [
         null,
         null,
         null,
         null,
         null,
         "NULL",
         "C87EE041-973F-482C-B5E4-3310B4D80612"
        ],
        [
         null,
         null,
         null,
         null,
         null,
         "NULL",
         "DF2E0BBC-ACB7-413C-90BC-2AAE37ACEB90"
        ],
        [
         "Lexi",
         "Dog",
         "virginia.baker@gmail.com",
         "2018-07-28",
         54,
         "NULL",
         "BFD890AA-AFB6-4E8F-B60B-0124840EB504"
        ],
        [
         "Lily",
         "Dog",
         "mildred.gray@yahoo.com",
         "2019-09-01",
         99,
         "Schnauzer",
         "11DE2603-8BCF-49B6-9DDE-46F893D93948"
        ],
        [
         "Lucy",
         "Dog",
         "richard.castillo@icloud.com",
         "2018-07-07",
         78,
         "Weimaraner",
         "3A389EAF-F623-4CD7-9EC9-2144CA9D244C"
        ],
        [
         "Luke",
         "Dog",
         "ryan.garcia@hotmail.com",
         "2018-05-04",
         65,
         "NULL",
         "FD6E5E29-0515-47A8-890D-096F07C83738"
        ],
        [
         null,
         null,
         null,
         null,
         null,
         "NULL",
         "9F018ECD-7D17-4027-8751-2167300D6CF3"
        ],
        [
         null,
         null,
         null,
         null,
         null,
         "NULL",
         "74C3566B-A889-4861-B67E-3570AAC7247A"
        ],
        [
         "Luna",
         "Rabbit",
         "ryan.wright@hotmail.com",
         "2019-04-14",
         55,
         "NULL",
         "202C2C7D-7A25-449D-AD71-05482B04346F"
        ],
        [
         "Mac",
         "Dog",
         "randy.bailey@icloud.com",
         "2018-06-12",
         51,
         "English setter",
         "3B55A74D-C5F7-44BC-9E6A-11C446628A0D"
        ],
        [
         "Maddie",
         "Dog",
         "theresa.carter@icloud.com",
         "2017-09-18",
         87,
         "NULL",
         "2A37B609-D1F6-475F-A890-0234FCB2F0B8"
        ],
        [
         "Max",
         "Dog",
         "roy.rogers@hotmail.com",
         "2017-09-23",
         62,
         "NULL",
         "EB92C3B9-19BD-4AB1-B0F3-11DD7ADB3CF0"
        ],
        [
         "Millie",
         "Dog",
         "richard.castillo@icloud.com",
         "2018-05-21",
         98,
         "NULL",
         "7D69F605-C2FF-42AC-A5AC-20B63EB881CA"
        ],
        [
         "Miss Kitty",
         "Cat",
         "anna.thompson@hotmail.com",
         "2019-11-11",
         83,
         "Maine Coon",
         "1AB8347C-6349-4092-9667-09653A9FD09C"
        ],
        [
         "Misty",
         "Cat",
         "frances.hill@animalshelter.com",
         "2019-12-13",
         86,
         "Siamese",
         "805281A0-5DE6-4BA8-8FB1-11CEFE0575E0"
        ],
        [
         "Mocha",
         "Dog",
         "roger.adams@hotmail.com",
         "2019-07-22",
         93,
         "NULL",
         "63DC76E7-3431-4455-9AD8-2FE4FF72F4AF"
        ],
        [
         "Nala",
         "Dog",
         "wayne.turner@icloud.com",
         "2019-07-26",
         77,
         "English setter",
         "2929BBA7-ED35-43F1-9F3E-01120BEB4F8B"
        ],
        [
         "Nova",
         "Cat",
         "walter.edwards@icloud.com",
         "2018-09-03",
         98,
         "Sphynx",
         "81802526-CAE2-40BB-846A-01D2156545B4"
        ],
        [
         null,
         null,
         null,
         null,
         null,
         "NULL",
         "D6088551-BAD5-41F6-B9A5-09A3A50CB2FF"
        ],
        [
         "Oscar",
         "Cat",
         "bruce.harris@hotmail.com",
         "2018-11-19",
         79,
         "NULL",
         "18C0C340-E7A3-430E-BAF5-13C938287D4F"
        ],
        [
         "Otis",
         "Dog",
         "doris.young@icloud.com",
         "2019-08-02",
         51,
         "NULL",
         "CB5444D8-39FC-4A56-AA83-17E1BFD6E960"
        ],
        [
         null,
         null,
         null,
         null,
         null,
         "NULL",
         "21247670-2E5A-43EF-ACF9-0E794463C466"
        ],
        [
         "Peanut",
         "Rabbit",
         "richard.castillo@icloud.com",
         "2019-03-21",
         83,
         "NULL",
         "99A021D1-5E5A-4499-8759-02B3D89CE9AF"
        ],
        [
         "Pearl",
         "Cat",
         "doris.young@icloud.com",
         "2019-10-13",
         94,
         "American Bobtail",
         "DF9291B5-9F82-4AD1-A9FD-1206FD6CD837"
        ],
        [
         "Penelope",
         "Cat",
         "emily.perez@gmail.com",
         "2018-06-02",
         54,
         "Scottish Fold",
         "5A6A4DC1-B813-4331-B027-1718EB50BC9E"
        ],
        [
         "Penelope",
         "Dog",
         "virginia.baker@gmail.com",
         "2018-10-22",
         54,
         "Bullmastiff",
         "E4E5609A-9C86-4C59-8EEE-47ED74FF04B5"
        ],
        [
         "Penny",
         "Cat",
         "roy.rogers@hotmail.com",
         "2017-04-08",
         66,
         "NULL",
         "B947B10B-C402-4DA5-9713-185FD21065C4"
        ],
        [
         "Piper",
         "Dog",
         "margaret.campbell@hotmail.com",
         "2016-06-16",
         61,
         "NULL",
         "B6BD98C9-5F0D-4AC2-81AD-278ACF2AFD46"
        ],
        [
         "Poppy",
         "Dog",
         "phyllis.moore@gmail.com",
         "2019-03-15",
         93,
         "Weimaraner",
         "10E33EB3-A2D5-4FCD-9428-1DBB389FBB30"
        ],
        [
         "Prince",
         "Dog",
         "virginia.baker@gmail.com",
         "2018-03-13",
         95,
         "NULL",
         "06C5CFCB-2C24-4030-ACDA-06FB3343A173"
        ],
        [
         "Pumpkin",
         "Cat",
         "scott.gutierrez@gmail.com",
         "2019-09-12",
         64,
         "Russian Blue",
         "64085FE7-0F2E-4E80-A170-286F1519FDA8"
        ],
        [
         "Ranger",
         "Dog",
         "charles.phillips@gmail.com",
         "2019-01-06",
         61,
         "NULL",
         "559412C8-2C13-4A18-8B94-481BC06099DE"
        ],
        [
         "Remi / Remy",
         "Dog",
         "jesse.cox@yahoo.com",
         "2019-04-29",
         61,
         "NULL",
         "835106AA-CFA5-47FB-BA29-0071D1A1592A"
        ],
        [
         "Riley",
         "Dog",
         "sara.nelson@icloud.com",
         "2019-09-30",
         54,
         "NULL",
         "E042131E-2921-442C-9BBD-107507293BB2"
        ],
        [
         "Rocky",
         "Cat",
         "patricia.wright@icloud.com",
         "2019-11-21",
         60,
         "NULL",
         "6C07246C-3107-4651-8F5C-1EB14D1C5EA5"
        ],
        [
         "Roxy",
         "Dog",
         "julie.adams@gmail.com",
         "2019-08-07",
         86,
         "Weimaraner",
         "01DFA05C-86B4-4936-A608-1C59097FA2D3"
        ],
        [
         "Rusty",
         "Dog",
         "jacqueline.phillips@gmail.com",
         "2016-04-23",
         50,
         "NULL",
         "92FFDE28-B23A-4249-A32D-07BA417AA143"
        ],
        [
         "Sadie",
         "Cat",
         "jonathan.mez@hotmail.com",
         "2018-12-07",
         85,
         "NULL",
         "C231514D-61C1-4180-B679-0BDBA7314FD6"
        ],
        [
         "Salem",
         "Cat",
         "bruce.cook@icloud.com",
         "2018-02-09",
         55,
         "Sphynx",
         "59F3AA7B-4D2B-49F6-9964-0155880B0473"
        ],
        [
         "Sam",
         "Cat",
         "frances.cook@yahoo.com",
         "2018-12-29",
         51,
         "NULL",
         "27F6F2B4-3570-43E1-8B64-05A1DC86FD8D"
        ],
        [
         null,
         null,
         null,
         null,
         null,
         "NULL",
         "42D68579-C4BE-4DC3-9C35-1C40A9EF7B11"
        ],
        [
         null,
         null,
         null,
         null,
         null,
         "NULL",
         "A5FA2DC8-9708-465F-9F64-0B39D31BE53A"
        ],
        [
         "Shadow",
         "Dog",
         "wayne.turner@icloud.com",
         "2018-04-01",
         73,
         "NULL",
         "02DC6920-79BD-430A-A1ED-3196366F9BFE"
        ],
        [
         null,
         null,
         null,
         null,
         null,
         "NULL",
         "83F5B5B0-AF40-4A45-9BDF-0F8EA289E906"
        ],
        [
         null,
         null,
         null,
         null,
         null,
         "NULL",
         "39ED8368-B8BC-433E-8678-0199BCE6259E"
        ],
        [
         "Skye",
         "Dog",
         "jerry.mitchell@icloud.com",
         "2016-09-25",
         67,
         "Bullmastiff",
         "B7DB3359-2E5D-42AB-AF61-0F1D97EE195C"
        ],
        [
         null,
         null,
         null,
         null,
         null,
         "NULL",
         "44B218EF-C708-46B7-967E-16C16E4AD577"
        ],
        [
         null,
         null,
         null,
         null,
         null,
         "NULL",
         "20CCAE0A-96FF-43C1-9FD4-2CF0916620ED"
        ],
        [
         "Thomas",
         "Cat",
         "george.scott@hotmail.com",
         "2019-05-23",
         96,
         "NULL",
         "265151DD-F5F0-4DCB-A0E7-0371960D9741"
        ],
        [
         null,
         null,
         null,
         null,
         null,
         "NULL",
         "ED0BA7EE-6694-452F-92AB-19BD52A750DF"
        ],
        [
         null,
         null,
         null,
         null,
         null,
         "Turkish Angora",
         "6F39F088-A2EA-40FC-9F7E-0DEA387A5B59"
        ],
        [
         null,
         null,
         null,
         null,
         null,
         "NULL",
         "E16F5AB8-9E18-4F58-ADF8-00BE13E5EFA0"
        ],
        [
         null,
         null,
         null,
         null,
         null,
         "Bullmastiff",
         "A457D717-2C6B-4AD2-8383-3974DF128D4F"
        ],
        [
         "Toby",
         "Rabbit",
         "phyllis.moore@gmail.com",
         "2019-11-26",
         96,
         "NULL",
         "01DD3B07-EBD6-4A7F-98BC-0A38AA48B139"
        ],
        [
         null,
         null,
         null,
         null,
         null,
         "NULL",
         "193E62EB-31CC-49AE-AD45-46CB9CEE0EFA"
        ],
        [
         null,
         null,
         null,
         null,
         null,
         "NULL",
         "293AE36F-BFBE-4EBC-B90C-4A2BE6055CD1"
        ],
        [
         "Whitney",
         "Rabbit",
         "margaret.campbell@hotmail.com",
         "2019-07-17",
         75,
         "Lionhead",
         "F8FC5DFC-B0F1-4C91-AD34-06D16F2DEA33"
        ]
       ],
       "datasetInfos": [],
       "dbfsResultPath": null,
       "isJsonSchema": true,
       "metadata": {},
       "overflow": false,
       "plotOptions": {
        "customPlotOptions": {},
        "displayType": "table",
        "pivotAggregation": null,
        "pivotColumns": null,
        "xColumns": null,
        "yColumns": null
       },
       "removedWidgets": [],
       "schema": [
        {
         "metadata": "{}",
         "name": "Name",
         "type": "\"string\""
        },
        {
         "metadata": "{}",
         "name": "Species",
         "type": "\"string\""
        },
        {
         "metadata": "{}",
         "name": "Adopter_Email",
         "type": "\"string\""
        },
        {
         "metadata": "{}",
         "name": "Adoption_Date",
         "type": "\"date\""
        },
        {
         "metadata": "{}",
         "name": "Adoption_Fee",
         "type": "\"integer\""
        },
        {
         "metadata": "{}",
         "name": "Breed",
         "type": "\"string\""
        },
        {
         "metadata": "{}",
         "name": "Implant_Chip_ID",
         "type": "\"string\""
        }
       ],
       "type": "table"
      }
     },
     "output_type": "display_data"
    }
   ],
   "source": [
    "display(all_Animals_Adopted_Or_Not)"
   ]
  },
  {
   "cell_type": "markdown",
   "metadata": {
    "application/vnd.databricks.v1+cell": {
     "cellMetadata": {
      "byteLimit": 2048000,
      "rowLimit": 10000
     },
     "inputWidgets": {},
     "nuid": "f740312d-8c3f-4492-b063-61a71e1a9d00",
     "showTitle": false,
     "tableResultSettingsMap": {},
     "title": ""
    }
   },
   "source": [
    "## Multi table Joins : Animals with Adopters"
   ]
  },
  {
   "cell_type": "code",
   "execution_count": 0,
   "metadata": {
    "application/vnd.databricks.v1+cell": {
     "cellMetadata": {
      "byteLimit": 2048000,
      "rowLimit": 10000
     },
     "inputWidgets": {},
     "nuid": "a32dd49f-e281-4df4-938d-3dcf931547e3",
     "showTitle": false,
     "tableResultSettingsMap": {},
     "title": ""
    }
   },
   "outputs": [],
   "source": [
    "a = animals\n",
    "ad = adoptions\n",
    "p = persons\n",
    "v = vaccinations\n",
    "s = staff"
   ]
  },
  {
   "cell_type": "code",
   "execution_count": 0,
   "metadata": {
    "application/vnd.databricks.v1+cell": {
     "cellMetadata": {
      "byteLimit": 2048000,
      "rowLimit": 10000
     },
     "inputWidgets": {},
     "nuid": "3fbaaba1-9312-46f4-acc6-137b26a1e9dd",
     "showTitle": false,
     "tableResultSettingsMap": {},
     "title": ""
    }
   },
   "outputs": [],
   "source": [
    "a = animals\n",
    "ad = adoptions\n",
    "p = persons\n",
    "animals_with_Adoption_Names = animals.join(adoptions, (a.Name == ad.Name) & (a.Species == ad.Species), \"inner\" ).join(persons, p.Email == ad.Adopter_Email).select(a.Name, a.Species, a.Implant_Chip_ID, a.Breed, ad.Adoption_Date, ad.Adoption_Fee, p.First_Name, p.Last_Name)"
   ]
  },
  {
   "cell_type": "code",
   "execution_count": 0,
   "metadata": {
    "application/vnd.databricks.v1+cell": {
     "cellMetadata": {
      "byteLimit": 2048000,
      "rowLimit": 10000
     },
     "inputWidgets": {},
     "nuid": "cdbfae88-f389-4454-b9f9-991cac908028",
     "showTitle": false,
     "tableResultSettingsMap": {},
     "title": ""
    }
   },
   "outputs": [
    {
     "output_type": "display_data",
     "data": {
      "text/html": [
       "<style scoped>\n",
       "  .table-result-container {\n",
       "    max-height: 300px;\n",
       "    overflow: auto;\n",
       "  }\n",
       "  table, th, td {\n",
       "    border: 1px solid black;\n",
       "    border-collapse: collapse;\n",
       "  }\n",
       "  th, td {\n",
       "    padding: 5px;\n",
       "  }\n",
       "  th {\n",
       "    text-align: left;\n",
       "  }\n",
       "</style><div class='table-result-container'><table class='table-result'><thead style='background-color: white'><tr><th>Name</th><th>Species</th><th>Implant_Chip_ID</th><th>Breed</th><th>Adoption_Date</th><th>Adoption_Fee</th><th>First_Name</th><th>Last_Name</th></tr></thead><tbody><tr><td>Abby</td><td>Dog</td><td>FDFDB6FE-3347-4E80-8C8A-2E3235C6D1DE</td><td>NULL</td><td>2018-08-30</td><td>58</td><td>Patrick</td><td>Hughes</td></tr><tr><td>Ace</td><td>Dog</td><td>33D50C6B-9D2E-4EB1-8171-0466DEE4F349</td><td>NULL</td><td>2019-10-26</td><td>68</td><td>Justin</td><td>Ruiz</td></tr><tr><td>Archie</td><td>Cat</td><td>970D7094-AB66-4DCA-A0D1-0C16264989AF</td><td>Persian</td><td>2018-08-30</td><td>82</td><td>Patrick</td><td>Hughes</td></tr><tr><td>Bailey</td><td>Dog</td><td>36438BC9-E225-4038-97B2-1E28FD287957</td><td>NULL</td><td>2019-07-26</td><td>50</td><td>Wayne</td><td>Turner</td></tr><tr><td>Baloo</td><td>Rabbit</td><td>F5CE3A02-1EC7-431D-8A76-09369E8D798B</td><td>English Lop</td><td>2017-12-16</td><td>58</td><td>Jesse</td><td>Cox</td></tr><tr><td>Beau</td><td>Dog</td><td>4B94A68C-0C97-4F70-9275-35B3A9EEE8D9</td><td>NULL</td><td>2018-04-15</td><td>90</td><td>Shirley</td><td>Williams</td></tr><tr><td>Benji</td><td>Dog</td><td>646F0A76-14E4-42E7-9554-3AF1EA6CC78F</td><td>English setter</td><td>2018-11-18</td><td>97</td><td>Sharon</td><td>Davis</td></tr><tr><td>Brody</td><td>Dog</td><td>EB517826-E48A-41AE-A5FB-1BBECA23C05D</td><td>Schnauzer</td><td>2019-02-21</td><td>83</td><td>George</td><td>Scott</td></tr><tr><td>Brutus</td><td>Dog</td><td>B7FAD096-7CD1-42A7-85D6-0C3E6599DBEB</td><td>Weimaraner</td><td>2019-01-28</td><td>66</td><td>Virginia</td><td>Baker</td></tr><tr><td>Buddy</td><td>Cat</td><td>6D49B3F6-E075-4F33-97A3-1D4878EE1345</td><td>NULL</td><td>2019-09-27</td><td>73</td><td>Karen</td><td>Smith</td></tr><tr><td>Callie</td><td>Dog</td><td>2636F17F-5893-482F-94A7-47EEB715047A</td><td>English setter</td><td>2018-09-06</td><td>57</td><td>Peter</td><td>Smith</td></tr><tr><td>Chico</td><td>Dog</td><td>C6614119-945A-45A9-A5A2-3C8F840EDC01</td><td>NULL</td><td>2019-12-29</td><td>86</td><td>Lori</td><td>Smith</td></tr><tr><td>Chubby</td><td>Rabbit</td><td>561FEA02-9C12-43B1-9EA8-071C9EAE4C55</td><td>NULL</td><td>2018-05-27</td><td>65</td><td>Adam</td><td>Brown</td></tr><tr><td>Cleo</td><td>Cat</td><td>0897655B-1486-4D5D-AD60-03A855AFCAF3</td><td>NULL</td><td>2019-12-15</td><td>56</td><td>Melissa</td><td>Lopez</td></tr><tr><td>Cooper</td><td>Dog</td><td>14F9E97B-6CD4-4EE4-9798-1C4F2376141B</td><td>NULL</td><td>2018-01-10</td><td>61</td><td>Lisa</td><td>Perez</td></tr><tr><td>Cosmo</td><td>Cat</td><td>2754B9C9-5DF4-4206-818D-21BDD1A093ED</td><td>NULL</td><td>2019-06-16</td><td>100</td><td>Diane</td><td>Thompson</td></tr><tr><td>Dolly</td><td>Dog</td><td>DBDC4F81-1709-49D6-9F73-1D2099ECA35C</td><td>NULL</td><td>2019-12-30</td><td>93</td><td>Laura</td><td>Young</td></tr><tr><td>Emma</td><td>Dog</td><td>BAC4C56D-EBB6-43E3-86F3-36506E17F74D</td><td>Schnauzer</td><td>2019-12-28</td><td>76</td><td>Melissa</td><td>Moore</td></tr><tr><td>Fiona</td><td>Cat</td><td>90226140-F54E-419D-82E5-0EA81E0E6384</td><td>NULL</td><td>2018-02-23</td><td>96</td><td>Jerry</td><td>Mitchell</td></tr><tr><td>George</td><td>Cat</td><td>6FEFC95E-7D46-4E25-B90A-0BA75F45D972</td><td>NULL</td><td>2018-09-13</td><td>97</td><td>Kevin</td><td>Diaz</td></tr><tr><td>Ginger</td><td>Dog</td><td>9E241A82-AD77-49DC-AD15-0AC8D2E89DDE</td><td>NULL</td><td>2017-03-07</td><td>79</td><td>Julie</td><td>Adams</td></tr><tr><td>Gizmo</td><td>Dog</td><td>78556795-4748-447F-A2CE-336B01173A18</td><td>NULL</td><td>2019-12-26</td><td>54</td><td>Lori</td><td>Smith</td></tr><tr><td>Gracie</td><td>Cat</td><td>66691184-06B1-4AA8-89B3-0DEF5FD9FBE1</td><td>NULL</td><td>2017-09-09</td><td>82</td><td>Gerald</td><td>Reyes</td></tr><tr><td>Gus</td><td>Dog</td><td>104A1427-D921-4D11-B45C-370C70E1578F</td><td>English setter</td><td>2018-12-29</td><td>96</td><td>Frances</td><td>Cook</td></tr><tr><td>Hobbes</td><td>Cat</td><td>8788E7B9-DC20-45EF-8778-0066F60D790D</td><td>NULL</td><td>2017-11-08</td><td>73</td><td>Timothy</td><td>Anderson</td></tr><tr><td>Hudini</td><td>Rabbit</td><td>DE295DD6-502F-43E3-B139-06CEB3FA2128</td><td>NULL</td><td>2019-12-24</td><td>57</td><td>Kathy</td><td>Thomas</td></tr><tr><td>Humphrey</td><td>Rabbit</td><td>2A423596-5BF8-41A7-906A-0BD3EA15E17C</td><td>Belgian Hare</td><td>2019-01-17</td><td>85</td><td>Kelly</td><td>Allen</td></tr><tr><td>Jake</td><td>Dog</td><td>9209D54C-0238-457B-9922-02171E9DF0E6</td><td>Bullmastiff</td><td>2019-11-12</td><td>84</td><td>Shirley</td><td>Williams</td></tr><tr><td>Jax</td><td>Dog</td><td>24AD2ED9-E7E6-4571-8A45-3C9361418B07</td><td>Weimaraner</td><td>2018-04-01</td><td>85</td><td>Wayne</td><td>Turner</td></tr><tr><td>Kiki</td><td>Cat</td><td>4E029101-2326-461C-8FF7-0EB809F110CB</td><td>NULL</td><td>2019-12-01</td><td>87</td><td>James</td><td>Ramos</td></tr><tr><td>King</td><td>Dog</td><td>793E68EB-B952-4425-B9E2-0406EA01AC53</td><td>NULL</td><td>2019-07-18</td><td>57</td><td>Charles</td><td>Phillips</td></tr><tr><td>Lexi</td><td>Dog</td><td>BFD890AA-AFB6-4E8F-B60B-0124840EB504</td><td>NULL</td><td>2018-07-28</td><td>54</td><td>Virginia</td><td>Baker</td></tr><tr><td>Lily</td><td>Dog</td><td>11DE2603-8BCF-49B6-9DDE-46F893D93948</td><td>Schnauzer</td><td>2019-09-01</td><td>99</td><td>Mildred</td><td>Gray</td></tr><tr><td>Lucy</td><td>Dog</td><td>3A389EAF-F623-4CD7-9EC9-2144CA9D244C</td><td>Weimaraner</td><td>2018-07-07</td><td>78</td><td>Richard</td><td>Castillo</td></tr><tr><td>Luke</td><td>Dog</td><td>FD6E5E29-0515-47A8-890D-096F07C83738</td><td>NULL</td><td>2018-05-04</td><td>65</td><td>Ryan</td><td>Garcia</td></tr><tr><td>Luna</td><td>Rabbit</td><td>202C2C7D-7A25-449D-AD71-05482B04346F</td><td>NULL</td><td>2019-04-14</td><td>55</td><td>Ryan</td><td>Wright</td></tr><tr><td>Mac</td><td>Dog</td><td>3B55A74D-C5F7-44BC-9E6A-11C446628A0D</td><td>English setter</td><td>2018-06-12</td><td>51</td><td>Randy</td><td>Bailey</td></tr><tr><td>Maddie</td><td>Dog</td><td>2A37B609-D1F6-475F-A890-0234FCB2F0B8</td><td>NULL</td><td>2017-09-18</td><td>87</td><td>Theresa</td><td>Carter</td></tr><tr><td>Max</td><td>Dog</td><td>EB92C3B9-19BD-4AB1-B0F3-11DD7ADB3CF0</td><td>NULL</td><td>2017-09-23</td><td>62</td><td>Roy</td><td>Rogers</td></tr><tr><td>Millie</td><td>Dog</td><td>7D69F605-C2FF-42AC-A5AC-20B63EB881CA</td><td>NULL</td><td>2018-05-21</td><td>98</td><td>Richard</td><td>Castillo</td></tr><tr><td>Miss Kitty</td><td>Cat</td><td>1AB8347C-6349-4092-9667-09653A9FD09C</td><td>Maine Coon</td><td>2019-11-11</td><td>83</td><td>Anna</td><td>Thompson</td></tr><tr><td>Misty</td><td>Cat</td><td>805281A0-5DE6-4BA8-8FB1-11CEFE0575E0</td><td>Siamese</td><td>2019-12-13</td><td>86</td><td>Frances</td><td>Hill</td></tr><tr><td>Mocha</td><td>Dog</td><td>63DC76E7-3431-4455-9AD8-2FE4FF72F4AF</td><td>NULL</td><td>2019-07-22</td><td>93</td><td>Roger</td><td>Adams</td></tr><tr><td>Nala</td><td>Dog</td><td>2929BBA7-ED35-43F1-9F3E-01120BEB4F8B</td><td>English setter</td><td>2019-07-26</td><td>77</td><td>Wayne</td><td>Turner</td></tr><tr><td>Nova</td><td>Cat</td><td>81802526-CAE2-40BB-846A-01D2156545B4</td><td>Sphynx</td><td>2018-09-03</td><td>98</td><td>Walter</td><td>Edwards</td></tr><tr><td>Oscar</td><td>Cat</td><td>18C0C340-E7A3-430E-BAF5-13C938287D4F</td><td>NULL</td><td>2018-11-19</td><td>79</td><td>Bruce</td><td>Harris</td></tr><tr><td>Otis</td><td>Dog</td><td>CB5444D8-39FC-4A56-AA83-17E1BFD6E960</td><td>NULL</td><td>2019-08-02</td><td>51</td><td>Doris</td><td>Young</td></tr><tr><td>Peanut</td><td>Rabbit</td><td>99A021D1-5E5A-4499-8759-02B3D89CE9AF</td><td>NULL</td><td>2019-03-21</td><td>83</td><td>Richard</td><td>Castillo</td></tr><tr><td>Pearl</td><td>Cat</td><td>DF9291B5-9F82-4AD1-A9FD-1206FD6CD837</td><td>American Bobtail</td><td>2019-10-13</td><td>94</td><td>Doris</td><td>Young</td></tr><tr><td>Penelope</td><td>Cat</td><td>5A6A4DC1-B813-4331-B027-1718EB50BC9E</td><td>Scottish Fold</td><td>2018-06-02</td><td>54</td><td>Emily</td><td>Perez</td></tr><tr><td>Penelope</td><td>Dog</td><td>E4E5609A-9C86-4C59-8EEE-47ED74FF04B5</td><td>Bullmastiff</td><td>2018-10-22</td><td>54</td><td>Virginia</td><td>Baker</td></tr><tr><td>Penny</td><td>Cat</td><td>B947B10B-C402-4DA5-9713-185FD21065C4</td><td>NULL</td><td>2017-04-08</td><td>66</td><td>Roy</td><td>Rogers</td></tr><tr><td>Piper</td><td>Dog</td><td>B6BD98C9-5F0D-4AC2-81AD-278ACF2AFD46</td><td>NULL</td><td>2016-06-16</td><td>61</td><td>Margaret</td><td>Campbell</td></tr><tr><td>Poppy</td><td>Dog</td><td>10E33EB3-A2D5-4FCD-9428-1DBB389FBB30</td><td>Weimaraner</td><td>2019-03-15</td><td>93</td><td>Phyllis</td><td>Moore</td></tr><tr><td>Prince</td><td>Dog</td><td>06C5CFCB-2C24-4030-ACDA-06FB3343A173</td><td>NULL</td><td>2018-03-13</td><td>95</td><td>Virginia</td><td>Baker</td></tr><tr><td>Pumpkin</td><td>Cat</td><td>64085FE7-0F2E-4E80-A170-286F1519FDA8</td><td>Russian Blue</td><td>2019-09-12</td><td>64</td><td>Scott</td><td>Gutierrez</td></tr><tr><td>Ranger</td><td>Dog</td><td>559412C8-2C13-4A18-8B94-481BC06099DE</td><td>NULL</td><td>2019-01-06</td><td>61</td><td>Charles</td><td>Phillips</td></tr><tr><td>Remi / Remy</td><td>Dog</td><td>835106AA-CFA5-47FB-BA29-0071D1A1592A</td><td>NULL</td><td>2019-04-29</td><td>61</td><td>Jesse</td><td>Cox</td></tr><tr><td>Riley</td><td>Dog</td><td>E042131E-2921-442C-9BBD-107507293BB2</td><td>NULL</td><td>2019-09-30</td><td>54</td><td>Sara</td><td>Nelson</td></tr><tr><td>Rocky</td><td>Cat</td><td>6C07246C-3107-4651-8F5C-1EB14D1C5EA5</td><td>NULL</td><td>2019-11-21</td><td>60</td><td>Patricia</td><td>Wright</td></tr><tr><td>Roxy</td><td>Dog</td><td>01DFA05C-86B4-4936-A608-1C59097FA2D3</td><td>Weimaraner</td><td>2019-08-07</td><td>86</td><td>Julie</td><td>Adams</td></tr><tr><td>Rusty</td><td>Dog</td><td>92FFDE28-B23A-4249-A32D-07BA417AA143</td><td>NULL</td><td>2016-04-23</td><td>50</td><td>Jacqueline</td><td>Phillips</td></tr><tr><td>Sadie</td><td>Cat</td><td>C231514D-61C1-4180-B679-0BDBA7314FD6</td><td>NULL</td><td>2018-12-07</td><td>85</td><td>Jonathan</td><td>mez</td></tr><tr><td>Salem</td><td>Cat</td><td>59F3AA7B-4D2B-49F6-9964-0155880B0473</td><td>Sphynx</td><td>2018-02-09</td><td>55</td><td>Bruce</td><td>Cook</td></tr><tr><td>Sam</td><td>Cat</td><td>27F6F2B4-3570-43E1-8B64-05A1DC86FD8D</td><td>NULL</td><td>2018-12-29</td><td>51</td><td>Frances</td><td>Cook</td></tr><tr><td>Shadow</td><td>Dog</td><td>02DC6920-79BD-430A-A1ED-3196366F9BFE</td><td>NULL</td><td>2018-04-01</td><td>73</td><td>Wayne</td><td>Turner</td></tr><tr><td>Skye</td><td>Dog</td><td>B7DB3359-2E5D-42AB-AF61-0F1D97EE195C</td><td>Bullmastiff</td><td>2016-09-25</td><td>67</td><td>Jerry</td><td>Mitchell</td></tr><tr><td>Thomas</td><td>Cat</td><td>265151DD-F5F0-4DCB-A0E7-0371960D9741</td><td>NULL</td><td>2019-05-23</td><td>96</td><td>George</td><td>Scott</td></tr><tr><td>Toby</td><td>Rabbit</td><td>01DD3B07-EBD6-4A7F-98BC-0A38AA48B139</td><td>NULL</td><td>2019-11-26</td><td>96</td><td>Phyllis</td><td>Moore</td></tr><tr><td>Whitney</td><td>Rabbit</td><td>F8FC5DFC-B0F1-4C91-AD34-06D16F2DEA33</td><td>Lionhead</td><td>2019-07-17</td><td>75</td><td>Margaret</td><td>Campbell</td></tr></tbody></table></div>"
      ]
     },
     "metadata": {
      "application/vnd.databricks.v1+output": {
       "addedWidgets": {},
       "aggData": [],
       "aggError": "",
       "aggOverflow": false,
       "aggSchema": [],
       "aggSeriesLimitReached": false,
       "aggType": "",
       "arguments": {},
       "columnCustomDisplayInfos": {},
       "data": [
        [
         "Abby",
         "Dog",
         "FDFDB6FE-3347-4E80-8C8A-2E3235C6D1DE",
         "NULL",
         "2018-08-30",
         58,
         "Patrick",
         "Hughes"
        ],
        [
         "Ace",
         "Dog",
         "33D50C6B-9D2E-4EB1-8171-0466DEE4F349",
         "NULL",
         "2019-10-26",
         68,
         "Justin",
         "Ruiz"
        ],
        [
         "Archie",
         "Cat",
         "970D7094-AB66-4DCA-A0D1-0C16264989AF",
         "Persian",
         "2018-08-30",
         82,
         "Patrick",
         "Hughes"
        ],
        [
         "Bailey",
         "Dog",
         "36438BC9-E225-4038-97B2-1E28FD287957",
         "NULL",
         "2019-07-26",
         50,
         "Wayne",
         "Turner"
        ],
        [
         "Baloo",
         "Rabbit",
         "F5CE3A02-1EC7-431D-8A76-09369E8D798B",
         "English Lop",
         "2017-12-16",
         58,
         "Jesse",
         "Cox"
        ],
        [
         "Beau",
         "Dog",
         "4B94A68C-0C97-4F70-9275-35B3A9EEE8D9",
         "NULL",
         "2018-04-15",
         90,
         "Shirley",
         "Williams"
        ],
        [
         "Benji",
         "Dog",
         "646F0A76-14E4-42E7-9554-3AF1EA6CC78F",
         "English setter",
         "2018-11-18",
         97,
         "Sharon",
         "Davis"
        ],
        [
         "Brody",
         "Dog",
         "EB517826-E48A-41AE-A5FB-1BBECA23C05D",
         "Schnauzer",
         "2019-02-21",
         83,
         "George",
         "Scott"
        ],
        [
         "Brutus",
         "Dog",
         "B7FAD096-7CD1-42A7-85D6-0C3E6599DBEB",
         "Weimaraner",
         "2019-01-28",
         66,
         "Virginia",
         "Baker"
        ],
        [
         "Buddy",
         "Cat",
         "6D49B3F6-E075-4F33-97A3-1D4878EE1345",
         "NULL",
         "2019-09-27",
         73,
         "Karen",
         "Smith"
        ],
        [
         "Callie",
         "Dog",
         "2636F17F-5893-482F-94A7-47EEB715047A",
         "English setter",
         "2018-09-06",
         57,
         "Peter",
         "Smith"
        ],
        [
         "Chico",
         "Dog",
         "C6614119-945A-45A9-A5A2-3C8F840EDC01",
         "NULL",
         "2019-12-29",
         86,
         "Lori",
         "Smith"
        ],
        [
         "Chubby",
         "Rabbit",
         "561FEA02-9C12-43B1-9EA8-071C9EAE4C55",
         "NULL",
         "2018-05-27",
         65,
         "Adam",
         "Brown"
        ],
        [
         "Cleo",
         "Cat",
         "0897655B-1486-4D5D-AD60-03A855AFCAF3",
         "NULL",
         "2019-12-15",
         56,
         "Melissa",
         "Lopez"
        ],
        [
         "Cooper",
         "Dog",
         "14F9E97B-6CD4-4EE4-9798-1C4F2376141B",
         "NULL",
         "2018-01-10",
         61,
         "Lisa",
         "Perez"
        ],
        [
         "Cosmo",
         "Cat",
         "2754B9C9-5DF4-4206-818D-21BDD1A093ED",
         "NULL",
         "2019-06-16",
         100,
         "Diane",
         "Thompson"
        ],
        [
         "Dolly",
         "Dog",
         "DBDC4F81-1709-49D6-9F73-1D2099ECA35C",
         "NULL",
         "2019-12-30",
         93,
         "Laura",
         "Young"
        ],
        [
         "Emma",
         "Dog",
         "BAC4C56D-EBB6-43E3-86F3-36506E17F74D",
         "Schnauzer",
         "2019-12-28",
         76,
         "Melissa",
         "Moore"
        ],
        [
         "Fiona",
         "Cat",
         "90226140-F54E-419D-82E5-0EA81E0E6384",
         "NULL",
         "2018-02-23",
         96,
         "Jerry",
         "Mitchell"
        ],
        [
         "George",
         "Cat",
         "6FEFC95E-7D46-4E25-B90A-0BA75F45D972",
         "NULL",
         "2018-09-13",
         97,
         "Kevin",
         "Diaz"
        ],
        [
         "Ginger",
         "Dog",
         "9E241A82-AD77-49DC-AD15-0AC8D2E89DDE",
         "NULL",
         "2017-03-07",
         79,
         "Julie",
         "Adams"
        ],
        [
         "Gizmo",
         "Dog",
         "78556795-4748-447F-A2CE-336B01173A18",
         "NULL",
         "2019-12-26",
         54,
         "Lori",
         "Smith"
        ],
        [
         "Gracie",
         "Cat",
         "66691184-06B1-4AA8-89B3-0DEF5FD9FBE1",
         "NULL",
         "2017-09-09",
         82,
         "Gerald",
         "Reyes"
        ],
        [
         "Gus",
         "Dog",
         "104A1427-D921-4D11-B45C-370C70E1578F",
         "English setter",
         "2018-12-29",
         96,
         "Frances",
         "Cook"
        ],
        [
         "Hobbes",
         "Cat",
         "8788E7B9-DC20-45EF-8778-0066F60D790D",
         "NULL",
         "2017-11-08",
         73,
         "Timothy",
         "Anderson"
        ],
        [
         "Hudini",
         "Rabbit",
         "DE295DD6-502F-43E3-B139-06CEB3FA2128",
         "NULL",
         "2019-12-24",
         57,
         "Kathy",
         "Thomas"
        ],
        [
         "Humphrey",
         "Rabbit",
         "2A423596-5BF8-41A7-906A-0BD3EA15E17C",
         "Belgian Hare",
         "2019-01-17",
         85,
         "Kelly",
         "Allen"
        ],
        [
         "Jake",
         "Dog",
         "9209D54C-0238-457B-9922-02171E9DF0E6",
         "Bullmastiff",
         "2019-11-12",
         84,
         "Shirley",
         "Williams"
        ],
        [
         "Jax",
         "Dog",
         "24AD2ED9-E7E6-4571-8A45-3C9361418B07",
         "Weimaraner",
         "2018-04-01",
         85,
         "Wayne",
         "Turner"
        ],
        [
         "Kiki",
         "Cat",
         "4E029101-2326-461C-8FF7-0EB809F110CB",
         "NULL",
         "2019-12-01",
         87,
         "James",
         "Ramos"
        ],
        [
         "King",
         "Dog",
         "793E68EB-B952-4425-B9E2-0406EA01AC53",
         "NULL",
         "2019-07-18",
         57,
         "Charles",
         "Phillips"
        ],
        [
         "Lexi",
         "Dog",
         "BFD890AA-AFB6-4E8F-B60B-0124840EB504",
         "NULL",
         "2018-07-28",
         54,
         "Virginia",
         "Baker"
        ],
        [
         "Lily",
         "Dog",
         "11DE2603-8BCF-49B6-9DDE-46F893D93948",
         "Schnauzer",
         "2019-09-01",
         99,
         "Mildred",
         "Gray"
        ],
        [
         "Lucy",
         "Dog",
         "3A389EAF-F623-4CD7-9EC9-2144CA9D244C",
         "Weimaraner",
         "2018-07-07",
         78,
         "Richard",
         "Castillo"
        ],
        [
         "Luke",
         "Dog",
         "FD6E5E29-0515-47A8-890D-096F07C83738",
         "NULL",
         "2018-05-04",
         65,
         "Ryan",
         "Garcia"
        ],
        [
         "Luna",
         "Rabbit",
         "202C2C7D-7A25-449D-AD71-05482B04346F",
         "NULL",
         "2019-04-14",
         55,
         "Ryan",
         "Wright"
        ],
        [
         "Mac",
         "Dog",
         "3B55A74D-C5F7-44BC-9E6A-11C446628A0D",
         "English setter",
         "2018-06-12",
         51,
         "Randy",
         "Bailey"
        ],
        [
         "Maddie",
         "Dog",
         "2A37B609-D1F6-475F-A890-0234FCB2F0B8",
         "NULL",
         "2017-09-18",
         87,
         "Theresa",
         "Carter"
        ],
        [
         "Max",
         "Dog",
         "EB92C3B9-19BD-4AB1-B0F3-11DD7ADB3CF0",
         "NULL",
         "2017-09-23",
         62,
         "Roy",
         "Rogers"
        ],
        [
         "Millie",
         "Dog",
         "7D69F605-C2FF-42AC-A5AC-20B63EB881CA",
         "NULL",
         "2018-05-21",
         98,
         "Richard",
         "Castillo"
        ],
        [
         "Miss Kitty",
         "Cat",
         "1AB8347C-6349-4092-9667-09653A9FD09C",
         "Maine Coon",
         "2019-11-11",
         83,
         "Anna",
         "Thompson"
        ],
        [
         "Misty",
         "Cat",
         "805281A0-5DE6-4BA8-8FB1-11CEFE0575E0",
         "Siamese",
         "2019-12-13",
         86,
         "Frances",
         "Hill"
        ],
        [
         "Mocha",
         "Dog",
         "63DC76E7-3431-4455-9AD8-2FE4FF72F4AF",
         "NULL",
         "2019-07-22",
         93,
         "Roger",
         "Adams"
        ],
        [
         "Nala",
         "Dog",
         "2929BBA7-ED35-43F1-9F3E-01120BEB4F8B",
         "English setter",
         "2019-07-26",
         77,
         "Wayne",
         "Turner"
        ],
        [
         "Nova",
         "Cat",
         "81802526-CAE2-40BB-846A-01D2156545B4",
         "Sphynx",
         "2018-09-03",
         98,
         "Walter",
         "Edwards"
        ],
        [
         "Oscar",
         "Cat",
         "18C0C340-E7A3-430E-BAF5-13C938287D4F",
         "NULL",
         "2018-11-19",
         79,
         "Bruce",
         "Harris"
        ],
        [
         "Otis",
         "Dog",
         "CB5444D8-39FC-4A56-AA83-17E1BFD6E960",
         "NULL",
         "2019-08-02",
         51,
         "Doris",
         "Young"
        ],
        [
         "Peanut",
         "Rabbit",
         "99A021D1-5E5A-4499-8759-02B3D89CE9AF",
         "NULL",
         "2019-03-21",
         83,
         "Richard",
         "Castillo"
        ],
        [
         "Pearl",
         "Cat",
         "DF9291B5-9F82-4AD1-A9FD-1206FD6CD837",
         "American Bobtail",
         "2019-10-13",
         94,
         "Doris",
         "Young"
        ],
        [
         "Penelope",
         "Cat",
         "5A6A4DC1-B813-4331-B027-1718EB50BC9E",
         "Scottish Fold",
         "2018-06-02",
         54,
         "Emily",
         "Perez"
        ],
        [
         "Penelope",
         "Dog",
         "E4E5609A-9C86-4C59-8EEE-47ED74FF04B5",
         "Bullmastiff",
         "2018-10-22",
         54,
         "Virginia",
         "Baker"
        ],
        [
         "Penny",
         "Cat",
         "B947B10B-C402-4DA5-9713-185FD21065C4",
         "NULL",
         "2017-04-08",
         66,
         "Roy",
         "Rogers"
        ],
        [
         "Piper",
         "Dog",
         "B6BD98C9-5F0D-4AC2-81AD-278ACF2AFD46",
         "NULL",
         "2016-06-16",
         61,
         "Margaret",
         "Campbell"
        ],
        [
         "Poppy",
         "Dog",
         "10E33EB3-A2D5-4FCD-9428-1DBB389FBB30",
         "Weimaraner",
         "2019-03-15",
         93,
         "Phyllis",
         "Moore"
        ],
        [
         "Prince",
         "Dog",
         "06C5CFCB-2C24-4030-ACDA-06FB3343A173",
         "NULL",
         "2018-03-13",
         95,
         "Virginia",
         "Baker"
        ],
        [
         "Pumpkin",
         "Cat",
         "64085FE7-0F2E-4E80-A170-286F1519FDA8",
         "Russian Blue",
         "2019-09-12",
         64,
         "Scott",
         "Gutierrez"
        ],
        [
         "Ranger",
         "Dog",
         "559412C8-2C13-4A18-8B94-481BC06099DE",
         "NULL",
         "2019-01-06",
         61,
         "Charles",
         "Phillips"
        ],
        [
         "Remi / Remy",
         "Dog",
         "835106AA-CFA5-47FB-BA29-0071D1A1592A",
         "NULL",
         "2019-04-29",
         61,
         "Jesse",
         "Cox"
        ],
        [
         "Riley",
         "Dog",
         "E042131E-2921-442C-9BBD-107507293BB2",
         "NULL",
         "2019-09-30",
         54,
         "Sara",
         "Nelson"
        ],
        [
         "Rocky",
         "Cat",
         "6C07246C-3107-4651-8F5C-1EB14D1C5EA5",
         "NULL",
         "2019-11-21",
         60,
         "Patricia",
         "Wright"
        ],
        [
         "Roxy",
         "Dog",
         "01DFA05C-86B4-4936-A608-1C59097FA2D3",
         "Weimaraner",
         "2019-08-07",
         86,
         "Julie",
         "Adams"
        ],
        [
         "Rusty",
         "Dog",
         "92FFDE28-B23A-4249-A32D-07BA417AA143",
         "NULL",
         "2016-04-23",
         50,
         "Jacqueline",
         "Phillips"
        ],
        [
         "Sadie",
         "Cat",
         "C231514D-61C1-4180-B679-0BDBA7314FD6",
         "NULL",
         "2018-12-07",
         85,
         "Jonathan",
         "mez"
        ],
        [
         "Salem",
         "Cat",
         "59F3AA7B-4D2B-49F6-9964-0155880B0473",
         "Sphynx",
         "2018-02-09",
         55,
         "Bruce",
         "Cook"
        ],
        [
         "Sam",
         "Cat",
         "27F6F2B4-3570-43E1-8B64-05A1DC86FD8D",
         "NULL",
         "2018-12-29",
         51,
         "Frances",
         "Cook"
        ],
        [
         "Shadow",
         "Dog",
         "02DC6920-79BD-430A-A1ED-3196366F9BFE",
         "NULL",
         "2018-04-01",
         73,
         "Wayne",
         "Turner"
        ],
        [
         "Skye",
         "Dog",
         "B7DB3359-2E5D-42AB-AF61-0F1D97EE195C",
         "Bullmastiff",
         "2016-09-25",
         67,
         "Jerry",
         "Mitchell"
        ],
        [
         "Thomas",
         "Cat",
         "265151DD-F5F0-4DCB-A0E7-0371960D9741",
         "NULL",
         "2019-05-23",
         96,
         "George",
         "Scott"
        ],
        [
         "Toby",
         "Rabbit",
         "01DD3B07-EBD6-4A7F-98BC-0A38AA48B139",
         "NULL",
         "2019-11-26",
         96,
         "Phyllis",
         "Moore"
        ],
        [
         "Whitney",
         "Rabbit",
         "F8FC5DFC-B0F1-4C91-AD34-06D16F2DEA33",
         "Lionhead",
         "2019-07-17",
         75,
         "Margaret",
         "Campbell"
        ]
       ],
       "datasetInfos": [],
       "dbfsResultPath": null,
       "isJsonSchema": true,
       "metadata": {},
       "overflow": false,
       "plotOptions": {
        "customPlotOptions": {},
        "displayType": "table",
        "pivotAggregation": null,
        "pivotColumns": null,
        "xColumns": null,
        "yColumns": null
       },
       "removedWidgets": [],
       "schema": [
        {
         "metadata": "{}",
         "name": "Name",
         "type": "\"string\""
        },
        {
         "metadata": "{}",
         "name": "Species",
         "type": "\"string\""
        },
        {
         "metadata": "{}",
         "name": "Implant_Chip_ID",
         "type": "\"string\""
        },
        {
         "metadata": "{}",
         "name": "Breed",
         "type": "\"string\""
        },
        {
         "metadata": "{}",
         "name": "Adoption_Date",
         "type": "\"date\""
        },
        {
         "metadata": "{}",
         "name": "Adoption_Fee",
         "type": "\"integer\""
        },
        {
         "metadata": "{}",
         "name": "First_Name",
         "type": "\"string\""
        },
        {
         "metadata": "{}",
         "name": "Last_Name",
         "type": "\"string\""
        }
       ],
       "type": "table"
      }
     },
     "output_type": "display_data"
    }
   ],
   "source": [
    "display(animals_with_Adoption_Names)"
   ]
  },
  {
   "cell_type": "code",
   "execution_count": 0,
   "metadata": {
    "application/vnd.databricks.v1+cell": {
     "cellMetadata": {
      "byteLimit": 2048000,
      "rowLimit": 10000
     },
     "inputWidgets": {},
     "nuid": "f4feea0b-7c7d-4882-9448-0541f5b62698",
     "showTitle": false,
     "tableResultSettingsMap": {},
     "title": ""
    }
   },
   "outputs": [],
   "source": [
    "\n",
    "all_Animals_Ad_Or_NAd_with_Ad = adoptions.join(\n",
    "                                                persons, p.Email == ad.Adopter_Email, \"inner\")\\\n",
    "                                    .join(animals,  \n",
    "                                            (a.Name == ad.Name) & (a.Species == ad.Species), \"right\" )\\\n",
    "                                .select(a.Name, a.Species, a.Implant_Chip_ID, a.Breed, ad.Adoption_Date, \\\n",
    "                                    ad.Adoption_Fee, p.First_Name, p.Last_Name)"
   ]
  },
  {
   "cell_type": "code",
   "execution_count": 0,
   "metadata": {
    "application/vnd.databricks.v1+cell": {
     "cellMetadata": {
      "byteLimit": 2048000,
      "rowLimit": 10000
     },
     "inputWidgets": {},
     "nuid": "80a2f866-c0cf-45fa-aa07-f2a796e55434",
     "showTitle": false,
     "tableResultSettingsMap": {},
     "title": ""
    }
   },
   "outputs": [
    {
     "output_type": "display_data",
     "data": {
      "text/html": [
       "<style scoped>\n",
       "  .table-result-container {\n",
       "    max-height: 300px;\n",
       "    overflow: auto;\n",
       "  }\n",
       "  table, th, td {\n",
       "    border: 1px solid black;\n",
       "    border-collapse: collapse;\n",
       "  }\n",
       "  th, td {\n",
       "    padding: 5px;\n",
       "  }\n",
       "  th {\n",
       "    text-align: left;\n",
       "  }\n",
       "</style><div class='table-result-container'><table class='table-result'><thead style='background-color: white'><tr><th>Name</th><th>Species</th><th>Implant_Chip_ID</th><th>Breed</th><th>Adoption_Date</th><th>Adoption_Fee</th><th>First_Name</th><th>Last_Name</th></tr></thead><tbody><tr><td>Abby</td><td>Dog</td><td>FDFDB6FE-3347-4E80-8C8A-2E3235C6D1DE</td><td>NULL</td><td>2018-08-30</td><td>58</td><td>Patrick</td><td>Hughes</td></tr><tr><td>Ace</td><td>Dog</td><td>33D50C6B-9D2E-4EB1-8171-0466DEE4F349</td><td>NULL</td><td>2019-10-26</td><td>68</td><td>Justin</td><td>Ruiz</td></tr><tr><td>Angel</td><td>Dog</td><td>F0769A5E-1A11-49F1-AC80-3F40A32EA158</td><td>NULL</td><td>null</td><td>null</td><td>null</td><td>null</td></tr><tr><td>April</td><td>Rabbit</td><td>CCFEF7E8-6FAD-4BA0-81EA-0611DD229E42</td><td>NULL</td><td>null</td><td>null</td><td>null</td><td>null</td></tr><tr><td>Archie</td><td>Cat</td><td>970D7094-AB66-4DCA-A0D1-0C16264989AF</td><td>Persian</td><td>2018-08-30</td><td>82</td><td>Patrick</td><td>Hughes</td></tr><tr><td>Arya</td><td>Dog</td><td>CD1528AD-C91D-47EA-9B70-3CACD5BDBE71</td><td>NULL</td><td>null</td><td>null</td><td>null</td><td>null</td></tr><tr><td>Aspen</td><td>Dog</td><td>51D4CFD1-CD25-4C5A-AA52-0BFD771F8886</td><td>NULL</td><td>null</td><td>null</td><td>null</td><td>null</td></tr><tr><td>Bailey</td><td>Dog</td><td>36438BC9-E225-4038-97B2-1E28FD287957</td><td>NULL</td><td>2019-07-26</td><td>50</td><td>Wayne</td><td>Turner</td></tr><tr><td>Baloo</td><td>Rabbit</td><td>F5CE3A02-1EC7-431D-8A76-09369E8D798B</td><td>English Lop</td><td>2017-12-16</td><td>58</td><td>Jesse</td><td>Cox</td></tr><tr><td>Beau</td><td>Dog</td><td>4B94A68C-0C97-4F70-9275-35B3A9EEE8D9</td><td>NULL</td><td>2018-04-15</td><td>90</td><td>Shirley</td><td>Williams</td></tr><tr><td>Benji</td><td>Dog</td><td>646F0A76-14E4-42E7-9554-3AF1EA6CC78F</td><td>English setter</td><td>2018-11-18</td><td>97</td><td>Sharon</td><td>Davis</td></tr><tr><td>Benny</td><td>Dog</td><td>2AE54BBB-A587-49D5-9A4D-1400A303C4BF</td><td>NULL</td><td>null</td><td>null</td><td>null</td><td>null</td></tr><tr><td>Blue</td><td>Dog</td><td>6D296D1D-E14D-4308-8B4F-27F87FE1534E</td><td>NULL</td><td>null</td><td>null</td><td>null</td><td>null</td></tr><tr><td>Bon bon</td><td>Rabbit</td><td>BCE7E239-304A-483D-9E38-05B9B66AF496</td><td>NULL</td><td>null</td><td>null</td><td>null</td><td>null</td></tr><tr><td>Boomer</td><td>Dog</td><td>01E2AD60-DAA5-4681-B934-40C9DCF7D73A</td><td>Schnauzer</td><td>null</td><td>null</td><td>null</td><td>null</td></tr><tr><td>Brody</td><td>Dog</td><td>EB517826-E48A-41AE-A5FB-1BBECA23C05D</td><td>Schnauzer</td><td>2019-02-21</td><td>83</td><td>George</td><td>Scott</td></tr><tr><td>Brutus</td><td>Dog</td><td>B7FAD096-7CD1-42A7-85D6-0C3E6599DBEB</td><td>Weimaraner</td><td>2019-01-28</td><td>66</td><td>Virginia</td><td>Baker</td></tr><tr><td>Buddy</td><td>Cat</td><td>6D49B3F6-E075-4F33-97A3-1D4878EE1345</td><td>NULL</td><td>2019-09-27</td><td>73</td><td>Karen</td><td>Smith</td></tr><tr><td>Callie</td><td>Dog</td><td>2636F17F-5893-482F-94A7-47EEB715047A</td><td>English setter</td><td>2018-09-06</td><td>57</td><td>Peter</td><td>Smith</td></tr><tr><td>Charlie</td><td>Cat</td><td>AB967364-43CC-4DD2-A4D9-080F0DEF56CA</td><td>NULL</td><td>null</td><td>null</td><td>null</td><td>null</td></tr><tr><td>Chico</td><td>Dog</td><td>C6614119-945A-45A9-A5A2-3C8F840EDC01</td><td>NULL</td><td>2019-12-29</td><td>86</td><td>Lori</td><td>Smith</td></tr><tr><td>Chubby</td><td>Rabbit</td><td>561FEA02-9C12-43B1-9EA8-071C9EAE4C55</td><td>NULL</td><td>2018-05-27</td><td>65</td><td>Adam</td><td>Brown</td></tr><tr><td>Cleo</td><td>Cat</td><td>0897655B-1486-4D5D-AD60-03A855AFCAF3</td><td>NULL</td><td>2019-12-15</td><td>56</td><td>Melissa</td><td>Lopez</td></tr><tr><td>Cooper</td><td>Dog</td><td>14F9E97B-6CD4-4EE4-9798-1C4F2376141B</td><td>NULL</td><td>2018-01-10</td><td>61</td><td>Lisa</td><td>Perez</td></tr><tr><td>Cosmo</td><td>Cat</td><td>2754B9C9-5DF4-4206-818D-21BDD1A093ED</td><td>NULL</td><td>2019-06-16</td><td>100</td><td>Diane</td><td>Thompson</td></tr><tr><td>Dolly</td><td>Dog</td><td>DBDC4F81-1709-49D6-9F73-1D2099ECA35C</td><td>NULL</td><td>2019-12-30</td><td>93</td><td>Laura</td><td>Young</td></tr><tr><td>Emma</td><td>Dog</td><td>BAC4C56D-EBB6-43E3-86F3-36506E17F74D</td><td>Schnauzer</td><td>2019-12-28</td><td>76</td><td>Melissa</td><td>Moore</td></tr><tr><td>Fiona</td><td>Cat</td><td>90226140-F54E-419D-82E5-0EA81E0E6384</td><td>NULL</td><td>2018-02-23</td><td>96</td><td>Jerry</td><td>Mitchell</td></tr><tr><td>Frankie</td><td>Dog</td><td>CC96E651-2F1C-45F8-BCE2-26AC8C9868A7</td><td>English setter</td><td>null</td><td>null</td><td>null</td><td>null</td></tr><tr><td>George</td><td>Cat</td><td>6FEFC95E-7D46-4E25-B90A-0BA75F45D972</td><td>NULL</td><td>2018-09-13</td><td>97</td><td>Kevin</td><td>Diaz</td></tr><tr><td>Ginger</td><td>Dog</td><td>9E241A82-AD77-49DC-AD15-0AC8D2E89DDE</td><td>NULL</td><td>2017-03-07</td><td>79</td><td>Julie</td><td>Adams</td></tr><tr><td>Gizmo</td><td>Dog</td><td>78556795-4748-447F-A2CE-336B01173A18</td><td>NULL</td><td>2019-12-26</td><td>54</td><td>Lori</td><td>Smith</td></tr><tr><td>Gracie</td><td>Cat</td><td>66691184-06B1-4AA8-89B3-0DEF5FD9FBE1</td><td>NULL</td><td>2017-09-09</td><td>82</td><td>Gerald</td><td>Reyes</td></tr><tr><td>Gus</td><td>Dog</td><td>104A1427-D921-4D11-B45C-370C70E1578F</td><td>English setter</td><td>2018-12-29</td><td>96</td><td>Frances</td><td>Cook</td></tr><tr><td>Hobbes</td><td>Cat</td><td>8788E7B9-DC20-45EF-8778-0066F60D790D</td><td>NULL</td><td>2017-11-08</td><td>73</td><td>Timothy</td><td>Anderson</td></tr><tr><td>Holly</td><td>Dog</td><td>DD737E6E-3B26-43B4-AD4B-28398602DF74</td><td>NULL</td><td>null</td><td>null</td><td>null</td><td>null</td></tr><tr><td>Hudini</td><td>Rabbit</td><td>DE295DD6-502F-43E3-B139-06CEB3FA2128</td><td>NULL</td><td>2019-12-24</td><td>57</td><td>Kathy</td><td>Thomas</td></tr><tr><td>Humphrey</td><td>Rabbit</td><td>2A423596-5BF8-41A7-906A-0BD3EA15E17C</td><td>Belgian Hare</td><td>2019-01-17</td><td>85</td><td>Kelly</td><td>Allen</td></tr><tr><td>Ivy</td><td>Cat</td><td>0955C70B-A2B6-4D78-8E4B-1F6386FFC763</td><td>Turkish Angora</td><td>null</td><td>null</td><td>null</td><td>null</td></tr><tr><td>Jake</td><td>Dog</td><td>9209D54C-0238-457B-9922-02171E9DF0E6</td><td>Bullmastiff</td><td>2019-11-12</td><td>84</td><td>Shirley</td><td>Williams</td></tr><tr><td>Jax</td><td>Dog</td><td>24AD2ED9-E7E6-4571-8A45-3C9361418B07</td><td>Weimaraner</td><td>2018-04-01</td><td>85</td><td>Wayne</td><td>Turner</td></tr><tr><td>Kiki</td><td>Cat</td><td>4E029101-2326-461C-8FF7-0EB809F110CB</td><td>NULL</td><td>2019-12-01</td><td>87</td><td>James</td><td>Ramos</td></tr><tr><td>King</td><td>Dog</td><td>793E68EB-B952-4425-B9E2-0406EA01AC53</td><td>NULL</td><td>2019-07-18</td><td>57</td><td>Charles</td><td>Phillips</td></tr><tr><td>Kona</td><td>Dog</td><td>C87EE041-973F-482C-B5E4-3310B4D80612</td><td>NULL</td><td>null</td><td>null</td><td>null</td><td>null</td></tr><tr><td>Layla</td><td>Dog</td><td>DF2E0BBC-ACB7-413C-90BC-2AAE37ACEB90</td><td>NULL</td><td>null</td><td>null</td><td>null</td><td>null</td></tr><tr><td>Lexi</td><td>Dog</td><td>BFD890AA-AFB6-4E8F-B60B-0124840EB504</td><td>NULL</td><td>2018-07-28</td><td>54</td><td>Virginia</td><td>Baker</td></tr><tr><td>Lily</td><td>Dog</td><td>11DE2603-8BCF-49B6-9DDE-46F893D93948</td><td>Schnauzer</td><td>2019-09-01</td><td>99</td><td>Mildred</td><td>Gray</td></tr><tr><td>Lucy</td><td>Dog</td><td>3A389EAF-F623-4CD7-9EC9-2144CA9D244C</td><td>Weimaraner</td><td>2018-07-07</td><td>78</td><td>Richard</td><td>Castillo</td></tr><tr><td>Luke</td><td>Dog</td><td>FD6E5E29-0515-47A8-890D-096F07C83738</td><td>NULL</td><td>2018-05-04</td><td>65</td><td>Ryan</td><td>Garcia</td></tr><tr><td>Lulu</td><td>Cat</td><td>9F018ECD-7D17-4027-8751-2167300D6CF3</td><td>NULL</td><td>null</td><td>null</td><td>null</td><td>null</td></tr><tr><td>Luna</td><td>Dog</td><td>74C3566B-A889-4861-B67E-3570AAC7247A</td><td>NULL</td><td>null</td><td>null</td><td>null</td><td>null</td></tr><tr><td>Luna</td><td>Rabbit</td><td>202C2C7D-7A25-449D-AD71-05482B04346F</td><td>NULL</td><td>2019-04-14</td><td>55</td><td>Ryan</td><td>Wright</td></tr><tr><td>Mac</td><td>Dog</td><td>3B55A74D-C5F7-44BC-9E6A-11C446628A0D</td><td>English setter</td><td>2018-06-12</td><td>51</td><td>Randy</td><td>Bailey</td></tr><tr><td>Maddie</td><td>Dog</td><td>2A37B609-D1F6-475F-A890-0234FCB2F0B8</td><td>NULL</td><td>2017-09-18</td><td>87</td><td>Theresa</td><td>Carter</td></tr><tr><td>Max</td><td>Dog</td><td>EB92C3B9-19BD-4AB1-B0F3-11DD7ADB3CF0</td><td>NULL</td><td>2017-09-23</td><td>62</td><td>Roy</td><td>Rogers</td></tr><tr><td>Millie</td><td>Dog</td><td>7D69F605-C2FF-42AC-A5AC-20B63EB881CA</td><td>NULL</td><td>2018-05-21</td><td>98</td><td>Richard</td><td>Castillo</td></tr><tr><td>Miss Kitty</td><td>Cat</td><td>1AB8347C-6349-4092-9667-09653A9FD09C</td><td>Maine Coon</td><td>2019-11-11</td><td>83</td><td>Anna</td><td>Thompson</td></tr><tr><td>Misty</td><td>Cat</td><td>805281A0-5DE6-4BA8-8FB1-11CEFE0575E0</td><td>Siamese</td><td>2019-12-13</td><td>86</td><td>Frances</td><td>Hill</td></tr><tr><td>Mocha</td><td>Dog</td><td>63DC76E7-3431-4455-9AD8-2FE4FF72F4AF</td><td>NULL</td><td>2019-07-22</td><td>93</td><td>Roger</td><td>Adams</td></tr><tr><td>Nala</td><td>Dog</td><td>2929BBA7-ED35-43F1-9F3E-01120BEB4F8B</td><td>English setter</td><td>2019-07-26</td><td>77</td><td>Wayne</td><td>Turner</td></tr><tr><td>Nova</td><td>Cat</td><td>81802526-CAE2-40BB-846A-01D2156545B4</td><td>Sphynx</td><td>2018-09-03</td><td>98</td><td>Walter</td><td>Edwards</td></tr><tr><td>Odin</td><td>Dog</td><td>D6088551-BAD5-41F6-B9A5-09A3A50CB2FF</td><td>NULL</td><td>null</td><td>null</td><td>null</td><td>null</td></tr><tr><td>Oscar</td><td>Cat</td><td>18C0C340-E7A3-430E-BAF5-13C938287D4F</td><td>NULL</td><td>2018-11-19</td><td>79</td><td>Bruce</td><td>Harris</td></tr><tr><td>Otis</td><td>Dog</td><td>CB5444D8-39FC-4A56-AA83-17E1BFD6E960</td><td>NULL</td><td>2019-08-02</td><td>51</td><td>Doris</td><td>Young</td></tr><tr><td>Patches</td><td>Cat</td><td>21247670-2E5A-43EF-ACF9-0E794463C466</td><td>NULL</td><td>null</td><td>null</td><td>null</td><td>null</td></tr><tr><td>Peanut</td><td>Rabbit</td><td>99A021D1-5E5A-4499-8759-02B3D89CE9AF</td><td>NULL</td><td>2019-03-21</td><td>83</td><td>Richard</td><td>Castillo</td></tr><tr><td>Pearl</td><td>Cat</td><td>DF9291B5-9F82-4AD1-A9FD-1206FD6CD837</td><td>American Bobtail</td><td>2019-10-13</td><td>94</td><td>Doris</td><td>Young</td></tr><tr><td>Penelope</td><td>Cat</td><td>5A6A4DC1-B813-4331-B027-1718EB50BC9E</td><td>Scottish Fold</td><td>2018-06-02</td><td>54</td><td>Emily</td><td>Perez</td></tr><tr><td>Penelope</td><td>Dog</td><td>E4E5609A-9C86-4C59-8EEE-47ED74FF04B5</td><td>Bullmastiff</td><td>2018-10-22</td><td>54</td><td>Virginia</td><td>Baker</td></tr><tr><td>Penny</td><td>Cat</td><td>B947B10B-C402-4DA5-9713-185FD21065C4</td><td>NULL</td><td>2017-04-08</td><td>66</td><td>Roy</td><td>Rogers</td></tr><tr><td>Piper</td><td>Dog</td><td>B6BD98C9-5F0D-4AC2-81AD-278ACF2AFD46</td><td>NULL</td><td>2016-06-16</td><td>61</td><td>Margaret</td><td>Campbell</td></tr><tr><td>Poppy</td><td>Dog</td><td>10E33EB3-A2D5-4FCD-9428-1DBB389FBB30</td><td>Weimaraner</td><td>2019-03-15</td><td>93</td><td>Phyllis</td><td>Moore</td></tr><tr><td>Prince</td><td>Dog</td><td>06C5CFCB-2C24-4030-ACDA-06FB3343A173</td><td>NULL</td><td>2018-03-13</td><td>95</td><td>Virginia</td><td>Baker</td></tr><tr><td>Pumpkin</td><td>Cat</td><td>64085FE7-0F2E-4E80-A170-286F1519FDA8</td><td>Russian Blue</td><td>2019-09-12</td><td>64</td><td>Scott</td><td>Gutierrez</td></tr><tr><td>Ranger</td><td>Dog</td><td>559412C8-2C13-4A18-8B94-481BC06099DE</td><td>NULL</td><td>2019-01-06</td><td>61</td><td>Charles</td><td>Phillips</td></tr><tr><td>Remi / Remy</td><td>Dog</td><td>835106AA-CFA5-47FB-BA29-0071D1A1592A</td><td>NULL</td><td>2019-04-29</td><td>61</td><td>Jesse</td><td>Cox</td></tr><tr><td>Riley</td><td>Dog</td><td>E042131E-2921-442C-9BBD-107507293BB2</td><td>NULL</td><td>2019-09-30</td><td>54</td><td>Sara</td><td>Nelson</td></tr><tr><td>Rocky</td><td>Cat</td><td>6C07246C-3107-4651-8F5C-1EB14D1C5EA5</td><td>NULL</td><td>2019-11-21</td><td>60</td><td>Patricia</td><td>Wright</td></tr><tr><td>Roxy</td><td>Dog</td><td>01DFA05C-86B4-4936-A608-1C59097FA2D3</td><td>Weimaraner</td><td>2019-08-07</td><td>86</td><td>Julie</td><td>Adams</td></tr><tr><td>Rusty</td><td>Dog</td><td>92FFDE28-B23A-4249-A32D-07BA417AA143</td><td>NULL</td><td>2016-04-23</td><td>50</td><td>Jacqueline</td><td>Phillips</td></tr><tr><td>Sadie</td><td>Cat</td><td>C231514D-61C1-4180-B679-0BDBA7314FD6</td><td>NULL</td><td>2018-12-07</td><td>85</td><td>Jonathan</td><td>mez</td></tr><tr><td>Salem</td><td>Cat</td><td>59F3AA7B-4D2B-49F6-9964-0155880B0473</td><td>Sphynx</td><td>2018-02-09</td><td>55</td><td>Bruce</td><td>Cook</td></tr><tr><td>Sam</td><td>Cat</td><td>27F6F2B4-3570-43E1-8B64-05A1DC86FD8D</td><td>NULL</td><td>2018-12-29</td><td>51</td><td>Frances</td><td>Cook</td></tr><tr><td>Sammy</td><td>Dog</td><td>42D68579-C4BE-4DC3-9C35-1C40A9EF7B11</td><td>NULL</td><td>null</td><td>null</td><td>null</td><td>null</td></tr><tr><td>Samson</td><td>Dog</td><td>A5FA2DC8-9708-465F-9F64-0B39D31BE53A</td><td>NULL</td><td>null</td><td>null</td><td>null</td><td>null</td></tr><tr><td>Shadow</td><td>Dog</td><td>02DC6920-79BD-430A-A1ED-3196366F9BFE</td><td>NULL</td><td>2018-04-01</td><td>73</td><td>Wayne</td><td>Turner</td></tr><tr><td>Shelby</td><td>Dog</td><td>83F5B5B0-AF40-4A45-9BDF-0F8EA289E906</td><td>NULL</td><td>null</td><td>null</td><td>null</td><td>null</td></tr><tr><td>Simon</td><td>Cat</td><td>39ED8368-B8BC-433E-8678-0199BCE6259E</td><td>NULL</td><td>null</td><td>null</td><td>null</td><td>null</td></tr><tr><td>Skye</td><td>Dog</td><td>B7DB3359-2E5D-42AB-AF61-0F1D97EE195C</td><td>Bullmastiff</td><td>2016-09-25</td><td>67</td><td>Jerry</td><td>Mitchell</td></tr><tr><td>Stanley</td><td>Cat</td><td>44B218EF-C708-46B7-967E-16C16E4AD577</td><td>NULL</td><td>null</td><td>null</td><td>null</td><td>null</td></tr><tr><td>Stella</td><td>Dog</td><td>20CCAE0A-96FF-43C1-9FD4-2CF0916620ED</td><td>NULL</td><td>null</td><td>null</td><td>null</td><td>null</td></tr><tr><td>Thomas</td><td>Cat</td><td>265151DD-F5F0-4DCB-A0E7-0371960D9741</td><td>NULL</td><td>2019-05-23</td><td>96</td><td>George</td><td>Scott</td></tr><tr><td>Thor</td><td>Dog</td><td>ED0BA7EE-6694-452F-92AB-19BD52A750DF</td><td>NULL</td><td>null</td><td>null</td><td>null</td><td>null</td></tr><tr><td>Tigger</td><td>Cat</td><td>6F39F088-A2EA-40FC-9F7E-0DEA387A5B59</td><td>Turkish Angora</td><td>null</td><td>null</td><td>null</td><td>null</td></tr><tr><td>Toby</td><td>Cat</td><td>E16F5AB8-9E18-4F58-ADF8-00BE13E5EFA0</td><td>NULL</td><td>null</td><td>null</td><td>null</td><td>null</td></tr><tr><td>Toby</td><td>Dog</td><td>A457D717-2C6B-4AD2-8383-3974DF128D4F</td><td>Bullmastiff</td><td>null</td><td>null</td><td>null</td><td>null</td></tr><tr><td>Toby</td><td>Rabbit</td><td>01DD3B07-EBD6-4A7F-98BC-0A38AA48B139</td><td>NULL</td><td>2019-11-26</td><td>96</td><td>Phyllis</td><td>Moore</td></tr><tr><td>Tyson</td><td>Dog</td><td>193E62EB-31CC-49AE-AD45-46CB9CEE0EFA</td><td>NULL</td><td>null</td><td>null</td><td>null</td><td>null</td></tr><tr><td>Walter</td><td>Dog</td><td>293AE36F-BFBE-4EBC-B90C-4A2BE6055CD1</td><td>NULL</td><td>null</td><td>null</td><td>null</td><td>null</td></tr><tr><td>Whitney</td><td>Rabbit</td><td>F8FC5DFC-B0F1-4C91-AD34-06D16F2DEA33</td><td>Lionhead</td><td>2019-07-17</td><td>75</td><td>Margaret</td><td>Campbell</td></tr></tbody></table></div>"
      ]
     },
     "metadata": {
      "application/vnd.databricks.v1+output": {
       "addedWidgets": {},
       "aggData": [],
       "aggError": "",
       "aggOverflow": false,
       "aggSchema": [],
       "aggSeriesLimitReached": false,
       "aggType": "",
       "arguments": {},
       "columnCustomDisplayInfos": {},
       "data": [
        [
         "Abby",
         "Dog",
         "FDFDB6FE-3347-4E80-8C8A-2E3235C6D1DE",
         "NULL",
         "2018-08-30",
         58,
         "Patrick",
         "Hughes"
        ],
        [
         "Ace",
         "Dog",
         "33D50C6B-9D2E-4EB1-8171-0466DEE4F349",
         "NULL",
         "2019-10-26",
         68,
         "Justin",
         "Ruiz"
        ],
        [
         "Angel",
         "Dog",
         "F0769A5E-1A11-49F1-AC80-3F40A32EA158",
         "NULL",
         null,
         null,
         null,
         null
        ],
        [
         "April",
         "Rabbit",
         "CCFEF7E8-6FAD-4BA0-81EA-0611DD229E42",
         "NULL",
         null,
         null,
         null,
         null
        ],
        [
         "Archie",
         "Cat",
         "970D7094-AB66-4DCA-A0D1-0C16264989AF",
         "Persian",
         "2018-08-30",
         82,
         "Patrick",
         "Hughes"
        ],
        [
         "Arya",
         "Dog",
         "CD1528AD-C91D-47EA-9B70-3CACD5BDBE71",
         "NULL",
         null,
         null,
         null,
         null
        ],
        [
         "Aspen",
         "Dog",
         "51D4CFD1-CD25-4C5A-AA52-0BFD771F8886",
         "NULL",
         null,
         null,
         null,
         null
        ],
        [
         "Bailey",
         "Dog",
         "36438BC9-E225-4038-97B2-1E28FD287957",
         "NULL",
         "2019-07-26",
         50,
         "Wayne",
         "Turner"
        ],
        [
         "Baloo",
         "Rabbit",
         "F5CE3A02-1EC7-431D-8A76-09369E8D798B",
         "English Lop",
         "2017-12-16",
         58,
         "Jesse",
         "Cox"
        ],
        [
         "Beau",
         "Dog",
         "4B94A68C-0C97-4F70-9275-35B3A9EEE8D9",
         "NULL",
         "2018-04-15",
         90,
         "Shirley",
         "Williams"
        ],
        [
         "Benji",
         "Dog",
         "646F0A76-14E4-42E7-9554-3AF1EA6CC78F",
         "English setter",
         "2018-11-18",
         97,
         "Sharon",
         "Davis"
        ],
        [
         "Benny",
         "Dog",
         "2AE54BBB-A587-49D5-9A4D-1400A303C4BF",
         "NULL",
         null,
         null,
         null,
         null
        ],
        [
         "Blue",
         "Dog",
         "6D296D1D-E14D-4308-8B4F-27F87FE1534E",
         "NULL",
         null,
         null,
         null,
         null
        ],
        [
         "Bon bon",
         "Rabbit",
         "BCE7E239-304A-483D-9E38-05B9B66AF496",
         "NULL",
         null,
         null,
         null,
         null
        ],
        [
         "Boomer",
         "Dog",
         "01E2AD60-DAA5-4681-B934-40C9DCF7D73A",
         "Schnauzer",
         null,
         null,
         null,
         null
        ],
        [
         "Brody",
         "Dog",
         "EB517826-E48A-41AE-A5FB-1BBECA23C05D",
         "Schnauzer",
         "2019-02-21",
         83,
         "George",
         "Scott"
        ],
        [
         "Brutus",
         "Dog",
         "B7FAD096-7CD1-42A7-85D6-0C3E6599DBEB",
         "Weimaraner",
         "2019-01-28",
         66,
         "Virginia",
         "Baker"
        ],
        [
         "Buddy",
         "Cat",
         "6D49B3F6-E075-4F33-97A3-1D4878EE1345",
         "NULL",
         "2019-09-27",
         73,
         "Karen",
         "Smith"
        ],
        [
         "Callie",
         "Dog",
         "2636F17F-5893-482F-94A7-47EEB715047A",
         "English setter",
         "2018-09-06",
         57,
         "Peter",
         "Smith"
        ],
        [
         "Charlie",
         "Cat",
         "AB967364-43CC-4DD2-A4D9-080F0DEF56CA",
         "NULL",
         null,
         null,
         null,
         null
        ],
        [
         "Chico",
         "Dog",
         "C6614119-945A-45A9-A5A2-3C8F840EDC01",
         "NULL",
         "2019-12-29",
         86,
         "Lori",
         "Smith"
        ],
        [
         "Chubby",
         "Rabbit",
         "561FEA02-9C12-43B1-9EA8-071C9EAE4C55",
         "NULL",
         "2018-05-27",
         65,
         "Adam",
         "Brown"
        ],
        [
         "Cleo",
         "Cat",
         "0897655B-1486-4D5D-AD60-03A855AFCAF3",
         "NULL",
         "2019-12-15",
         56,
         "Melissa",
         "Lopez"
        ],
        [
         "Cooper",
         "Dog",
         "14F9E97B-6CD4-4EE4-9798-1C4F2376141B",
         "NULL",
         "2018-01-10",
         61,
         "Lisa",
         "Perez"
        ],
        [
         "Cosmo",
         "Cat",
         "2754B9C9-5DF4-4206-818D-21BDD1A093ED",
         "NULL",
         "2019-06-16",
         100,
         "Diane",
         "Thompson"
        ],
        [
         "Dolly",
         "Dog",
         "DBDC4F81-1709-49D6-9F73-1D2099ECA35C",
         "NULL",
         "2019-12-30",
         93,
         "Laura",
         "Young"
        ],
        [
         "Emma",
         "Dog",
         "BAC4C56D-EBB6-43E3-86F3-36506E17F74D",
         "Schnauzer",
         "2019-12-28",
         76,
         "Melissa",
         "Moore"
        ],
        [
         "Fiona",
         "Cat",
         "90226140-F54E-419D-82E5-0EA81E0E6384",
         "NULL",
         "2018-02-23",
         96,
         "Jerry",
         "Mitchell"
        ],
        [
         "Frankie",
         "Dog",
         "CC96E651-2F1C-45F8-BCE2-26AC8C9868A7",
         "English setter",
         null,
         null,
         null,
         null
        ],
        [
         "George",
         "Cat",
         "6FEFC95E-7D46-4E25-B90A-0BA75F45D972",
         "NULL",
         "2018-09-13",
         97,
         "Kevin",
         "Diaz"
        ],
        [
         "Ginger",
         "Dog",
         "9E241A82-AD77-49DC-AD15-0AC8D2E89DDE",
         "NULL",
         "2017-03-07",
         79,
         "Julie",
         "Adams"
        ],
        [
         "Gizmo",
         "Dog",
         "78556795-4748-447F-A2CE-336B01173A18",
         "NULL",
         "2019-12-26",
         54,
         "Lori",
         "Smith"
        ],
        [
         "Gracie",
         "Cat",
         "66691184-06B1-4AA8-89B3-0DEF5FD9FBE1",
         "NULL",
         "2017-09-09",
         82,
         "Gerald",
         "Reyes"
        ],
        [
         "Gus",
         "Dog",
         "104A1427-D921-4D11-B45C-370C70E1578F",
         "English setter",
         "2018-12-29",
         96,
         "Frances",
         "Cook"
        ],
        [
         "Hobbes",
         "Cat",
         "8788E7B9-DC20-45EF-8778-0066F60D790D",
         "NULL",
         "2017-11-08",
         73,
         "Timothy",
         "Anderson"
        ],
        [
         "Holly",
         "Dog",
         "DD737E6E-3B26-43B4-AD4B-28398602DF74",
         "NULL",
         null,
         null,
         null,
         null
        ],
        [
         "Hudini",
         "Rabbit",
         "DE295DD6-502F-43E3-B139-06CEB3FA2128",
         "NULL",
         "2019-12-24",
         57,
         "Kathy",
         "Thomas"
        ],
        [
         "Humphrey",
         "Rabbit",
         "2A423596-5BF8-41A7-906A-0BD3EA15E17C",
         "Belgian Hare",
         "2019-01-17",
         85,
         "Kelly",
         "Allen"
        ],
        [
         "Ivy",
         "Cat",
         "0955C70B-A2B6-4D78-8E4B-1F6386FFC763",
         "Turkish Angora",
         null,
         null,
         null,
         null
        ],
        [
         "Jake",
         "Dog",
         "9209D54C-0238-457B-9922-02171E9DF0E6",
         "Bullmastiff",
         "2019-11-12",
         84,
         "Shirley",
         "Williams"
        ],
        [
         "Jax",
         "Dog",
         "24AD2ED9-E7E6-4571-8A45-3C9361418B07",
         "Weimaraner",
         "2018-04-01",
         85,
         "Wayne",
         "Turner"
        ],
        [
         "Kiki",
         "Cat",
         "4E029101-2326-461C-8FF7-0EB809F110CB",
         "NULL",
         "2019-12-01",
         87,
         "James",
         "Ramos"
        ],
        [
         "King",
         "Dog",
         "793E68EB-B952-4425-B9E2-0406EA01AC53",
         "NULL",
         "2019-07-18",
         57,
         "Charles",
         "Phillips"
        ],
        [
         "Kona",
         "Dog",
         "C87EE041-973F-482C-B5E4-3310B4D80612",
         "NULL",
         null,
         null,
         null,
         null
        ],
        [
         "Layla",
         "Dog",
         "DF2E0BBC-ACB7-413C-90BC-2AAE37ACEB90",
         "NULL",
         null,
         null,
         null,
         null
        ],
        [
         "Lexi",
         "Dog",
         "BFD890AA-AFB6-4E8F-B60B-0124840EB504",
         "NULL",
         "2018-07-28",
         54,
         "Virginia",
         "Baker"
        ],
        [
         "Lily",
         "Dog",
         "11DE2603-8BCF-49B6-9DDE-46F893D93948",
         "Schnauzer",
         "2019-09-01",
         99,
         "Mildred",
         "Gray"
        ],
        [
         "Lucy",
         "Dog",
         "3A389EAF-F623-4CD7-9EC9-2144CA9D244C",
         "Weimaraner",
         "2018-07-07",
         78,
         "Richard",
         "Castillo"
        ],
        [
         "Luke",
         "Dog",
         "FD6E5E29-0515-47A8-890D-096F07C83738",
         "NULL",
         "2018-05-04",
         65,
         "Ryan",
         "Garcia"
        ],
        [
         "Lulu",
         "Cat",
         "9F018ECD-7D17-4027-8751-2167300D6CF3",
         "NULL",
         null,
         null,
         null,
         null
        ],
        [
         "Luna",
         "Dog",
         "74C3566B-A889-4861-B67E-3570AAC7247A",
         "NULL",
         null,
         null,
         null,
         null
        ],
        [
         "Luna",
         "Rabbit",
         "202C2C7D-7A25-449D-AD71-05482B04346F",
         "NULL",
         "2019-04-14",
         55,
         "Ryan",
         "Wright"
        ],
        [
         "Mac",
         "Dog",
         "3B55A74D-C5F7-44BC-9E6A-11C446628A0D",
         "English setter",
         "2018-06-12",
         51,
         "Randy",
         "Bailey"
        ],
        [
         "Maddie",
         "Dog",
         "2A37B609-D1F6-475F-A890-0234FCB2F0B8",
         "NULL",
         "2017-09-18",
         87,
         "Theresa",
         "Carter"
        ],
        [
         "Max",
         "Dog",
         "EB92C3B9-19BD-4AB1-B0F3-11DD7ADB3CF0",
         "NULL",
         "2017-09-23",
         62,
         "Roy",
         "Rogers"
        ],
        [
         "Millie",
         "Dog",
         "7D69F605-C2FF-42AC-A5AC-20B63EB881CA",
         "NULL",
         "2018-05-21",
         98,
         "Richard",
         "Castillo"
        ],
        [
         "Miss Kitty",
         "Cat",
         "1AB8347C-6349-4092-9667-09653A9FD09C",
         "Maine Coon",
         "2019-11-11",
         83,
         "Anna",
         "Thompson"
        ],
        [
         "Misty",
         "Cat",
         "805281A0-5DE6-4BA8-8FB1-11CEFE0575E0",
         "Siamese",
         "2019-12-13",
         86,
         "Frances",
         "Hill"
        ],
        [
         "Mocha",
         "Dog",
         "63DC76E7-3431-4455-9AD8-2FE4FF72F4AF",
         "NULL",
         "2019-07-22",
         93,
         "Roger",
         "Adams"
        ],
        [
         "Nala",
         "Dog",
         "2929BBA7-ED35-43F1-9F3E-01120BEB4F8B",
         "English setter",
         "2019-07-26",
         77,
         "Wayne",
         "Turner"
        ],
        [
         "Nova",
         "Cat",
         "81802526-CAE2-40BB-846A-01D2156545B4",
         "Sphynx",
         "2018-09-03",
         98,
         "Walter",
         "Edwards"
        ],
        [
         "Odin",
         "Dog",
         "D6088551-BAD5-41F6-B9A5-09A3A50CB2FF",
         "NULL",
         null,
         null,
         null,
         null
        ],
        [
         "Oscar",
         "Cat",
         "18C0C340-E7A3-430E-BAF5-13C938287D4F",
         "NULL",
         "2018-11-19",
         79,
         "Bruce",
         "Harris"
        ],
        [
         "Otis",
         "Dog",
         "CB5444D8-39FC-4A56-AA83-17E1BFD6E960",
         "NULL",
         "2019-08-02",
         51,
         "Doris",
         "Young"
        ],
        [
         "Patches",
         "Cat",
         "21247670-2E5A-43EF-ACF9-0E794463C466",
         "NULL",
         null,
         null,
         null,
         null
        ],
        [
         "Peanut",
         "Rabbit",
         "99A021D1-5E5A-4499-8759-02B3D89CE9AF",
         "NULL",
         "2019-03-21",
         83,
         "Richard",
         "Castillo"
        ],
        [
         "Pearl",
         "Cat",
         "DF9291B5-9F82-4AD1-A9FD-1206FD6CD837",
         "American Bobtail",
         "2019-10-13",
         94,
         "Doris",
         "Young"
        ],
        [
         "Penelope",
         "Cat",
         "5A6A4DC1-B813-4331-B027-1718EB50BC9E",
         "Scottish Fold",
         "2018-06-02",
         54,
         "Emily",
         "Perez"
        ],
        [
         "Penelope",
         "Dog",
         "E4E5609A-9C86-4C59-8EEE-47ED74FF04B5",
         "Bullmastiff",
         "2018-10-22",
         54,
         "Virginia",
         "Baker"
        ],
        [
         "Penny",
         "Cat",
         "B947B10B-C402-4DA5-9713-185FD21065C4",
         "NULL",
         "2017-04-08",
         66,
         "Roy",
         "Rogers"
        ],
        [
         "Piper",
         "Dog",
         "B6BD98C9-5F0D-4AC2-81AD-278ACF2AFD46",
         "NULL",
         "2016-06-16",
         61,
         "Margaret",
         "Campbell"
        ],
        [
         "Poppy",
         "Dog",
         "10E33EB3-A2D5-4FCD-9428-1DBB389FBB30",
         "Weimaraner",
         "2019-03-15",
         93,
         "Phyllis",
         "Moore"
        ],
        [
         "Prince",
         "Dog",
         "06C5CFCB-2C24-4030-ACDA-06FB3343A173",
         "NULL",
         "2018-03-13",
         95,
         "Virginia",
         "Baker"
        ],
        [
         "Pumpkin",
         "Cat",
         "64085FE7-0F2E-4E80-A170-286F1519FDA8",
         "Russian Blue",
         "2019-09-12",
         64,
         "Scott",
         "Gutierrez"
        ],
        [
         "Ranger",
         "Dog",
         "559412C8-2C13-4A18-8B94-481BC06099DE",
         "NULL",
         "2019-01-06",
         61,
         "Charles",
         "Phillips"
        ],
        [
         "Remi / Remy",
         "Dog",
         "835106AA-CFA5-47FB-BA29-0071D1A1592A",
         "NULL",
         "2019-04-29",
         61,
         "Jesse",
         "Cox"
        ],
        [
         "Riley",
         "Dog",
         "E042131E-2921-442C-9BBD-107507293BB2",
         "NULL",
         "2019-09-30",
         54,
         "Sara",
         "Nelson"
        ],
        [
         "Rocky",
         "Cat",
         "6C07246C-3107-4651-8F5C-1EB14D1C5EA5",
         "NULL",
         "2019-11-21",
         60,
         "Patricia",
         "Wright"
        ],
        [
         "Roxy",
         "Dog",
         "01DFA05C-86B4-4936-A608-1C59097FA2D3",
         "Weimaraner",
         "2019-08-07",
         86,
         "Julie",
         "Adams"
        ],
        [
         "Rusty",
         "Dog",
         "92FFDE28-B23A-4249-A32D-07BA417AA143",
         "NULL",
         "2016-04-23",
         50,
         "Jacqueline",
         "Phillips"
        ],
        [
         "Sadie",
         "Cat",
         "C231514D-61C1-4180-B679-0BDBA7314FD6",
         "NULL",
         "2018-12-07",
         85,
         "Jonathan",
         "mez"
        ],
        [
         "Salem",
         "Cat",
         "59F3AA7B-4D2B-49F6-9964-0155880B0473",
         "Sphynx",
         "2018-02-09",
         55,
         "Bruce",
         "Cook"
        ],
        [
         "Sam",
         "Cat",
         "27F6F2B4-3570-43E1-8B64-05A1DC86FD8D",
         "NULL",
         "2018-12-29",
         51,
         "Frances",
         "Cook"
        ],
        [
         "Sammy",
         "Dog",
         "42D68579-C4BE-4DC3-9C35-1C40A9EF7B11",
         "NULL",
         null,
         null,
         null,
         null
        ],
        [
         "Samson",
         "Dog",
         "A5FA2DC8-9708-465F-9F64-0B39D31BE53A",
         "NULL",
         null,
         null,
         null,
         null
        ],
        [
         "Shadow",
         "Dog",
         "02DC6920-79BD-430A-A1ED-3196366F9BFE",
         "NULL",
         "2018-04-01",
         73,
         "Wayne",
         "Turner"
        ],
        [
         "Shelby",
         "Dog",
         "83F5B5B0-AF40-4A45-9BDF-0F8EA289E906",
         "NULL",
         null,
         null,
         null,
         null
        ],
        [
         "Simon",
         "Cat",
         "39ED8368-B8BC-433E-8678-0199BCE6259E",
         "NULL",
         null,
         null,
         null,
         null
        ],
        [
         "Skye",
         "Dog",
         "B7DB3359-2E5D-42AB-AF61-0F1D97EE195C",
         "Bullmastiff",
         "2016-09-25",
         67,
         "Jerry",
         "Mitchell"
        ],
        [
         "Stanley",
         "Cat",
         "44B218EF-C708-46B7-967E-16C16E4AD577",
         "NULL",
         null,
         null,
         null,
         null
        ],
        [
         "Stella",
         "Dog",
         "20CCAE0A-96FF-43C1-9FD4-2CF0916620ED",
         "NULL",
         null,
         null,
         null,
         null
        ],
        [
         "Thomas",
         "Cat",
         "265151DD-F5F0-4DCB-A0E7-0371960D9741",
         "NULL",
         "2019-05-23",
         96,
         "George",
         "Scott"
        ],
        [
         "Thor",
         "Dog",
         "ED0BA7EE-6694-452F-92AB-19BD52A750DF",
         "NULL",
         null,
         null,
         null,
         null
        ],
        [
         "Tigger",
         "Cat",
         "6F39F088-A2EA-40FC-9F7E-0DEA387A5B59",
         "Turkish Angora",
         null,
         null,
         null,
         null
        ],
        [
         "Toby",
         "Cat",
         "E16F5AB8-9E18-4F58-ADF8-00BE13E5EFA0",
         "NULL",
         null,
         null,
         null,
         null
        ],
        [
         "Toby",
         "Dog",
         "A457D717-2C6B-4AD2-8383-3974DF128D4F",
         "Bullmastiff",
         null,
         null,
         null,
         null
        ],
        [
         "Toby",
         "Rabbit",
         "01DD3B07-EBD6-4A7F-98BC-0A38AA48B139",
         "NULL",
         "2019-11-26",
         96,
         "Phyllis",
         "Moore"
        ],
        [
         "Tyson",
         "Dog",
         "193E62EB-31CC-49AE-AD45-46CB9CEE0EFA",
         "NULL",
         null,
         null,
         null,
         null
        ],
        [
         "Walter",
         "Dog",
         "293AE36F-BFBE-4EBC-B90C-4A2BE6055CD1",
         "NULL",
         null,
         null,
         null,
         null
        ],
        [
         "Whitney",
         "Rabbit",
         "F8FC5DFC-B0F1-4C91-AD34-06D16F2DEA33",
         "Lionhead",
         "2019-07-17",
         75,
         "Margaret",
         "Campbell"
        ]
       ],
       "datasetInfos": [],
       "dbfsResultPath": null,
       "isJsonSchema": true,
       "metadata": {},
       "overflow": false,
       "plotOptions": {
        "customPlotOptions": {},
        "displayType": "table",
        "pivotAggregation": null,
        "pivotColumns": null,
        "xColumns": null,
        "yColumns": null
       },
       "removedWidgets": [],
       "schema": [
        {
         "metadata": "{}",
         "name": "Name",
         "type": "\"string\""
        },
        {
         "metadata": "{}",
         "name": "Species",
         "type": "\"string\""
        },
        {
         "metadata": "{}",
         "name": "Implant_Chip_ID",
         "type": "\"string\""
        },
        {
         "metadata": "{}",
         "name": "Breed",
         "type": "\"string\""
        },
        {
         "metadata": "{}",
         "name": "Adoption_Date",
         "type": "\"date\""
        },
        {
         "metadata": "{}",
         "name": "Adoption_Fee",
         "type": "\"integer\""
        },
        {
         "metadata": "{}",
         "name": "First_Name",
         "type": "\"string\""
        },
        {
         "metadata": "{}",
         "name": "Last_Name",
         "type": "\"string\""
        }
       ],
       "type": "table"
      }
     },
     "output_type": "display_data"
    }
   ],
   "source": [
    "display(all_Animals_Ad_Or_NAd_with_Ad)"
   ]
  },
  {
   "cell_type": "markdown",
   "metadata": {
    "application/vnd.databricks.v1+cell": {
     "cellMetadata": {
      "byteLimit": 2048000,
      "rowLimit": 10000
     },
     "inputWidgets": {},
     "nuid": "dbaf5074-3a66-47dc-b689-a32080599c31",
     "showTitle": false,
     "tableResultSettingsMap": {},
     "title": ""
    }
   },
   "source": [
    "## Multi Table Exercise : Animals and Vaccinations"
   ]
  },
  {
   "cell_type": "code",
   "execution_count": 0,
   "metadata": {
    "application/vnd.databricks.v1+cell": {
     "cellMetadata": {
      "byteLimit": 2048000,
      "rowLimit": 10000
     },
     "inputWidgets": {},
     "nuid": "36acac71-59ca-4d94-80ef-28fa26f3cce0",
     "showTitle": false,
     "tableResultSettingsMap": {},
     "title": ""
    }
   },
   "outputs": [
    {
     "output_type": "display_data",
     "data": {
      "text/html": [
       "<style scoped>\n",
       "  .table-result-container {\n",
       "    max-height: 300px;\n",
       "    overflow: auto;\n",
       "  }\n",
       "  table, th, td {\n",
       "    border: 1px solid black;\n",
       "    border-collapse: collapse;\n",
       "  }\n",
       "  th, td {\n",
       "    padding: 5px;\n",
       "  }\n",
       "  th {\n",
       "    text-align: left;\n",
       "  }\n",
       "</style><div class='table-result-container'><table class='table-result'><thead style='background-color: white'><tr><th>Name</th><th>Species</th><th>Primary_Color</th><th>Implant_Chip_ID</th><th>Breed</th><th>Gender</th><th>Birth_Date</th><th>Pattern</th><th>Admission_Date</th></tr></thead><tbody><tr><td>Abby</td><td>Dog</td><td>Black</td><td>FDFDB6FE-3347-4E80-8C8A-2E3235C6D1DE</td><td>NULL</td><td>F</td><td>1999-02-19</td><td>Tricolor</td><td>2016-07-19</td></tr><tr><td>Ace</td><td>Dog</td><td>Ginger</td><td>33D50C6B-9D2E-4EB1-8171-0466DEE4F349</td><td>NULL</td><td>M</td><td>2005-12-19</td><td>Bicolor</td><td>2019-06-25</td></tr><tr><td>Angel</td><td>Dog</td><td>Brown</td><td>F0769A5E-1A11-49F1-AC80-3F40A32EA158</td><td>NULL</td><td>F</td><td>2001-09-19</td><td>Tuxedo</td><td>2017-02-04</td></tr><tr><td>April</td><td>Rabbit</td><td>Gray</td><td>CCFEF7E8-6FAD-4BA0-81EA-0611DD229E42</td><td>NULL</td><td>F</td><td>2005-01-27</td><td>Broken</td><td>2019-04-24</td></tr><tr><td>Archie</td><td>Cat</td><td>Ginger</td><td>970D7094-AB66-4DCA-A0D1-0C16264989AF</td><td>Persian</td><td>M</td><td>2009-08-26</td><td>Tricolor</td><td>2016-07-10</td></tr><tr><td>Arya</td><td>Dog</td><td>Gray</td><td>CD1528AD-C91D-47EA-9B70-3CACD5BDBE71</td><td>NULL</td><td>F</td><td>2014-04-14</td><td>Bicolor</td><td>2018-06-10</td></tr><tr><td>Aspen</td><td>Dog</td><td>Brown</td><td>51D4CFD1-CD25-4C5A-AA52-0BFD771F8886</td><td>NULL</td><td>F</td><td>2010-04-17</td><td>Tuxedo</td><td>2016-02-09</td></tr><tr><td>Bailey</td><td>Dog</td><td>Ginger</td><td>36438BC9-E225-4038-97B2-1E28FD287957</td><td>NULL</td><td>F</td><td>2014-09-28</td><td>Bicolor</td><td>2018-10-01</td></tr><tr><td>Baloo</td><td>Rabbit</td><td>White</td><td>F5CE3A02-1EC7-431D-8A76-09369E8D798B</td><td>English Lop</td><td>M</td><td>2015-04-27</td><td>Broken</td><td>2016-08-21</td></tr><tr><td>Beau</td><td>Dog</td><td>Cream</td><td>4B94A68C-0C97-4F70-9275-35B3A9EEE8D9</td><td>NULL</td><td>M</td><td>2016-02-09</td><td>Solid</td><td>2017-05-24</td></tr><tr><td>Benji</td><td>Dog</td><td>Gray</td><td>646F0A76-14E4-42E7-9554-3AF1EA6CC78F</td><td>English setter</td><td>M</td><td>2012-05-21</td><td>Bicolor</td><td>2018-10-02</td></tr><tr><td>Benny</td><td>Dog</td><td>Brown</td><td>2AE54BBB-A587-49D5-9A4D-1400A303C4BF</td><td>NULL</td><td>M</td><td>2010-03-04</td><td>Tuxedo</td><td>2018-09-30</td></tr><tr><td>Blue</td><td>Dog</td><td>Ginger</td><td>6D296D1D-E14D-4308-8B4F-27F87FE1534E</td><td>NULL</td><td>M</td><td>2003-09-03</td><td>Bicolor</td><td>2016-04-03</td></tr><tr><td>Bon bon</td><td>Rabbit</td><td>Gray</td><td>BCE7E239-304A-483D-9E38-05B9B66AF496</td><td>NULL</td><td>F</td><td>2002-06-29</td><td>Broken</td><td>2016-01-03</td></tr><tr><td>Boomer</td><td>Dog</td><td>Black</td><td>01E2AD60-DAA5-4681-B934-40C9DCF7D73A</td><td>Schnauzer</td><td>M</td><td>2013-08-11</td><td>Tricolor</td><td>2017-01-11</td></tr><tr><td>Brody</td><td>Dog</td><td>Black</td><td>EB517826-E48A-41AE-A5FB-1BBECA23C05D</td><td>Schnauzer</td><td>M</td><td>2007-08-23</td><td>Tricolor</td><td>2018-12-05</td></tr><tr><td>Brutus</td><td>Dog</td><td>Ginger</td><td>B7FAD096-7CD1-42A7-85D6-0C3E6599DBEB</td><td>Weimaraner</td><td>M</td><td>2011-04-04</td><td>Bicolor</td><td>2018-08-03</td></tr><tr><td>Buddy</td><td>Cat</td><td>White</td><td>6D49B3F6-E075-4F33-97A3-1D4878EE1345</td><td>NULL</td><td>M</td><td>2017-01-26</td><td>Tortoiseshell</td><td>2018-12-20</td></tr><tr><td>Callie</td><td>Dog</td><td>Cream</td><td>2636F17F-5893-482F-94A7-47EEB715047A</td><td>English setter</td><td>F</td><td>2003-08-28</td><td>Solid</td><td>2017-12-19</td></tr><tr><td>Charlie</td><td>Cat</td><td>Gray</td><td>AB967364-43CC-4DD2-A4D9-080F0DEF56CA</td><td>NULL</td><td>M</td><td>2016-06-16</td><td>Calico</td><td>2018-02-16</td></tr><tr><td>Chico</td><td>Dog</td><td>Brown</td><td>C6614119-945A-45A9-A5A2-3C8F840EDC01</td><td>NULL</td><td>M</td><td>2014-03-20</td><td>Tuxedo</td><td>2019-03-22</td></tr><tr><td>Chubby</td><td>Rabbit</td><td>Ginger</td><td>561FEA02-9C12-43B1-9EA8-071C9EAE4C55</td><td>NULL</td><td>M</td><td>2013-02-07</td><td>Broken</td><td>2017-10-31</td></tr><tr><td>Cleo</td><td>Cat</td><td>Black</td><td>0897655B-1486-4D5D-AD60-03A855AFCAF3</td><td>NULL</td><td>F</td><td>2015-08-13</td><td>Tortoiseshell</td><td>2019-09-06</td></tr><tr><td>Cooper</td><td>Dog</td><td>Black</td><td>14F9E97B-6CD4-4EE4-9798-1C4F2376141B</td><td>NULL</td><td>M</td><td>2009-11-15</td><td>Tricolor</td><td>2017-01-15</td></tr><tr><td>Cosmo</td><td>Cat</td><td>Cream</td><td>2754B9C9-5DF4-4206-818D-21BDD1A093ED</td><td>NULL</td><td>M</td><td>2017-11-09</td><td>Solid</td><td>2019-05-13</td></tr><tr><td>Dolly</td><td>Dog</td><td>Gray</td><td>DBDC4F81-1709-49D6-9F73-1D2099ECA35C</td><td>NULL</td><td>F</td><td>2013-09-29</td><td>Bicolor</td><td>2018-04-27</td></tr><tr><td>Emma</td><td>Dog</td><td>Black</td><td>BAC4C56D-EBB6-43E3-86F3-36506E17F74D</td><td>Schnauzer</td><td>F</td><td>2006-12-26</td><td>Tricolor</td><td>2019-03-28</td></tr><tr><td>Fiona</td><td>Cat</td><td>Gray</td><td>90226140-F54E-419D-82E5-0EA81E0E6384</td><td>NULL</td><td>F</td><td>1999-05-23</td><td>Calico</td><td>2017-01-13</td></tr><tr><td>Frankie</td><td>Dog</td><td>Gray</td><td>CC96E651-2F1C-45F8-BCE2-26AC8C9868A7</td><td>English setter</td><td>M</td><td>2003-09-10</td><td>Bicolor</td><td>2016-06-20</td></tr><tr><td>George</td><td>Cat</td><td>Brown</td><td>6FEFC95E-7D46-4E25-B90A-0BA75F45D972</td><td>NULL</td><td>M</td><td>2001-10-04</td><td>Bicolor</td><td>2017-11-24</td></tr><tr><td>Ginger</td><td>Dog</td><td>Ginger</td><td>9E241A82-AD77-49DC-AD15-0AC8D2E89DDE</td><td>NULL</td><td>F</td><td>2015-11-17</td><td>Bicolor</td><td>2016-11-27</td></tr><tr><td>Gizmo</td><td>Dog</td><td>Brown</td><td>78556795-4748-447F-A2CE-336B01173A18</td><td>NULL</td><td>M</td><td>2006-01-23</td><td>Tuxedo</td><td>2019-08-14</td></tr><tr><td>Gracie</td><td>Cat</td><td>Black</td><td>66691184-06B1-4AA8-89B3-0DEF5FD9FBE1</td><td>NULL</td><td>F</td><td>2007-11-20</td><td>Spotted</td><td>2017-05-21</td></tr><tr><td>Gus</td><td>Dog</td><td>Cream</td><td>104A1427-D921-4D11-B45C-370C70E1578F</td><td>English setter</td><td>M</td><td>2014-10-29</td><td>Solid</td><td>2016-09-28</td></tr><tr><td>Hobbes</td><td>Cat</td><td>Gray</td><td>8788E7B9-DC20-45EF-8778-0066F60D790D</td><td>NULL</td><td>M</td><td>2002-01-01</td><td>Spotted</td><td>2016-07-29</td></tr><tr><td>Holly</td><td>Dog</td><td>Cream</td><td>DD737E6E-3B26-43B4-AD4B-28398602DF74</td><td>NULL</td><td>F</td><td>2011-06-13</td><td>Solid</td><td>2016-12-30</td></tr><tr><td>Hudini</td><td>Rabbit</td><td>Cream</td><td>DE295DD6-502F-43E3-B139-06CEB3FA2128</td><td>NULL</td><td>M</td><td>2018-03-22</td><td>Brindle</td><td>2019-12-10</td></tr><tr><td>Humphrey</td><td>Rabbit</td><td>Cream</td><td>2A423596-5BF8-41A7-906A-0BD3EA15E17C</td><td>Belgian Hare</td><td>M</td><td>2008-12-22</td><td>Brindle</td><td>2017-12-31</td></tr><tr><td>Ivy</td><td>Cat</td><td>Brown</td><td>0955C70B-A2B6-4D78-8E4B-1F6386FFC763</td><td>Turkish Angora</td><td>F</td><td>2013-05-13</td><td>Spotted</td><td>2018-05-20</td></tr><tr><td>Jake</td><td>Dog</td><td>White</td><td>9209D54C-0238-457B-9922-02171E9DF0E6</td><td>Bullmastiff</td><td>M</td><td>2011-02-27</td><td>Tuxedo</td><td>2016-12-14</td></tr><tr><td>Jax</td><td>Dog</td><td>Ginger</td><td>24AD2ED9-E7E6-4571-8A45-3C9361418B07</td><td>Weimaraner</td><td>M</td><td>2009-02-06</td><td>Bicolor</td><td>2017-10-03</td></tr><tr><td>Kiki</td><td>Cat</td><td>Cream</td><td>4E029101-2326-461C-8FF7-0EB809F110CB</td><td>NULL</td><td>F</td><td>2015-07-07</td><td>Tricolor</td><td>2019-11-16</td></tr><tr><td>King</td><td>Dog</td><td>Brown</td><td>793E68EB-B952-4425-B9E2-0406EA01AC53</td><td>NULL</td><td>M</td><td>2015-09-12</td><td>Tuxedo</td><td>2017-08-29</td></tr><tr><td>Kona</td><td>Dog</td><td>Gray</td><td>C87EE041-973F-482C-B5E4-3310B4D80612</td><td>NULL</td><td>F</td><td>2008-10-16</td><td>Bicolor</td><td>2019-12-13</td></tr><tr><td>Layla</td><td>Dog</td><td>Cream</td><td>DF2E0BBC-ACB7-413C-90BC-2AAE37ACEB90</td><td>NULL</td><td>F</td><td>2006-03-11</td><td>Solid</td><td>2018-06-14</td></tr><tr><td>Lexi</td><td>Dog</td><td>Brown</td><td>BFD890AA-AFB6-4E8F-B60B-0124840EB504</td><td>NULL</td><td>F</td><td>2017-09-17</td><td>Tuxedo</td><td>2018-06-22</td></tr><tr><td>Lily</td><td>Dog</td><td>Black</td><td>11DE2603-8BCF-49B6-9DDE-46F893D93948</td><td>Schnauzer</td><td>F</td><td>2001-04-03</td><td>Tricolor</td><td>2016-06-18</td></tr><tr><td>Lucy</td><td>Dog</td><td>Brown</td><td>3A389EAF-F623-4CD7-9EC9-2144CA9D244C</td><td>Weimaraner</td><td>F</td><td>2003-04-04</td><td>Tuxedo</td><td>2018-02-22</td></tr><tr><td>Luke</td><td>Dog</td><td>Gray</td><td>FD6E5E29-0515-47A8-890D-096F07C83738</td><td>NULL</td><td>M</td><td>2017-04-23</td><td>Bicolor</td><td>2017-12-23</td></tr><tr><td>Lulu</td><td>Cat</td><td>Ginger</td><td>9F018ECD-7D17-4027-8751-2167300D6CF3</td><td>NULL</td><td>F</td><td>2003-12-19</td><td>Calico</td><td>2019-10-09</td></tr><tr><td>Luna</td><td>Dog</td><td>Cream</td><td>74C3566B-A889-4861-B67E-3570AAC7247A</td><td>NULL</td><td>F</td><td>2009-01-14</td><td>Solid</td><td>2017-03-02</td></tr><tr><td>Luna</td><td>Rabbit</td><td>Black</td><td>202C2C7D-7A25-449D-AD71-05482B04346F</td><td>NULL</td><td>F</td><td>2010-11-16</td><td>Broken</td><td>2017-08-18</td></tr><tr><td>Mac</td><td>Dog</td><td>Gray</td><td>3B55A74D-C5F7-44BC-9E6A-11C446628A0D</td><td>English setter</td><td>M</td><td>2006-12-23</td><td>Bicolor</td><td>2018-01-03</td></tr><tr><td>Maddie</td><td>Dog</td><td>Brown</td><td>2A37B609-D1F6-475F-A890-0234FCB2F0B8</td><td>NULL</td><td>F</td><td>2014-09-26</td><td>Tuxedo</td><td>2017-05-02</td></tr><tr><td>Max</td><td>Dog</td><td>Gray</td><td>EB92C3B9-19BD-4AB1-B0F3-11DD7ADB3CF0</td><td>NULL</td><td>M</td><td>2001-12-01</td><td>Bicolor</td><td>2017-07-26</td></tr><tr><td>Millie</td><td>Dog</td><td>Ginger</td><td>7D69F605-C2FF-42AC-A5AC-20B63EB881CA</td><td>NULL</td><td>F</td><td>2015-05-18</td><td>Bicolor</td><td>2016-10-27</td></tr><tr><td>Miss Kitty</td><td>Cat</td><td>Black</td><td>1AB8347C-6349-4092-9667-09653A9FD09C</td><td>Maine Coon</td><td>F</td><td>2016-09-19</td><td>Bicolor</td><td>2019-10-19</td></tr><tr><td>Misty</td><td>Cat</td><td>Ginger</td><td>805281A0-5DE6-4BA8-8FB1-11CEFE0575E0</td><td>Siamese</td><td>F</td><td>2009-02-21</td><td>Spotted</td><td>2019-06-06</td></tr><tr><td>Mocha</td><td>Dog</td><td>Brown</td><td>63DC76E7-3431-4455-9AD8-2FE4FF72F4AF</td><td>NULL</td><td>F</td><td>2002-09-23</td><td>Tuxedo</td><td>2019-01-10</td></tr><tr><td>Nala</td><td>Dog</td><td>Gray</td><td>2929BBA7-ED35-43F1-9F3E-01120BEB4F8B</td><td>English setter</td><td>F</td><td>2018-06-02</td><td>Bicolor</td><td>2019-07-19</td></tr><tr><td>Nova</td><td>Cat</td><td>White</td><td>81802526-CAE2-40BB-846A-01D2156545B4</td><td>Sphynx</td><td>F</td><td>2011-04-07</td><td>Tortoiseshell</td><td>2017-12-09</td></tr><tr><td>Odin</td><td>Dog</td><td>Ginger</td><td>D6088551-BAD5-41F6-B9A5-09A3A50CB2FF</td><td>NULL</td><td>M</td><td>2007-07-10</td><td>Bicolor</td><td>2016-09-15</td></tr><tr><td>Oscar</td><td>Cat</td><td>White</td><td>18C0C340-E7A3-430E-BAF5-13C938287D4F</td><td>NULL</td><td>M</td><td>2008-06-08</td><td>Bicolor</td><td>2018-02-23</td></tr><tr><td>Otis</td><td>Dog</td><td>Ginger</td><td>CB5444D8-39FC-4A56-AA83-17E1BFD6E960</td><td>NULL</td><td>M</td><td>2008-05-15</td><td>Bicolor</td><td>2018-07-22</td></tr><tr><td>Patches</td><td>Cat</td><td>Gray</td><td>21247670-2E5A-43EF-ACF9-0E794463C466</td><td>NULL</td><td>F</td><td>2014-07-29</td><td>Bicolor</td><td>2018-11-04</td></tr><tr><td>Peanut</td><td>Rabbit</td><td>Gray</td><td>99A021D1-5E5A-4499-8759-02B3D89CE9AF</td><td>NULL</td><td>M</td><td>2008-10-14</td><td>Broken</td><td>2018-04-11</td></tr><tr><td>Pearl</td><td>Cat</td><td>Brown</td><td>DF9291B5-9F82-4AD1-A9FD-1206FD6CD837</td><td>American Bobtail</td><td>F</td><td>2012-07-05</td><td>Tricolor</td><td>2019-04-09</td></tr><tr><td>Penelope</td><td>Cat</td><td>Brown</td><td>5A6A4DC1-B813-4331-B027-1718EB50BC9E</td><td>Scottish Fold</td><td>F</td><td>2000-09-21</td><td>Tabby</td><td>2017-07-12</td></tr><tr><td>Penelope</td><td>Dog</td><td>White</td><td>E4E5609A-9C86-4C59-8EEE-47ED74FF04B5</td><td>Bullmastiff</td><td>F</td><td>2008-06-28</td><td>Tuxedo</td><td>2016-01-14</td></tr><tr><td>Penny</td><td>Cat</td><td>Cream</td><td>B947B10B-C402-4DA5-9713-185FD21065C4</td><td>NULL</td><td>F</td><td>2005-11-02</td><td>Tricolor</td><td>2017-02-15</td></tr><tr><td>Piper</td><td>Dog</td><td>Ginger</td><td>B6BD98C9-5F0D-4AC2-81AD-278ACF2AFD46</td><td>NULL</td><td>F</td><td>2012-03-08</td><td>Bicolor</td><td>2016-03-21</td></tr><tr><td>Poppy</td><td>Dog</td><td>Brown</td><td>10E33EB3-A2D5-4FCD-9428-1DBB389FBB30</td><td>Weimaraner</td><td>F</td><td>2011-04-09</td><td>Tuxedo</td><td>2018-05-05</td></tr><tr><td>Prince</td><td>Dog</td><td>Cream</td><td>06C5CFCB-2C24-4030-ACDA-06FB3343A173</td><td>NULL</td><td>M</td><td>2016-11-06</td><td>Solid</td><td>2017-08-29</td></tr><tr><td>Pumpkin</td><td>Cat</td><td>Gray</td><td>64085FE7-0F2E-4E80-A170-286F1519FDA8</td><td>Russian Blue</td><td>M</td><td>2002-12-28</td><td>Spotted</td><td>2019-01-18</td></tr><tr><td>Ranger</td><td>Dog</td><td>Ginger</td><td>559412C8-2C13-4A18-8B94-481BC06099DE</td><td>NULL</td><td>M</td><td>2015-07-12</td><td>Bicolor</td><td>2017-09-25</td></tr><tr><td>Remi / Remy</td><td>Dog</td><td>Cream</td><td>835106AA-CFA5-47FB-BA29-0071D1A1592A</td><td>NULL</td><td>M</td><td>2001-08-12</td><td>Solid</td><td>2018-10-13</td></tr><tr><td>Riley</td><td>Dog</td><td>Ginger</td><td>E042131E-2921-442C-9BBD-107507293BB2</td><td>NULL</td><td>F</td><td>2013-05-01</td><td>Bicolor</td><td>2019-03-08</td></tr><tr><td>Rocky</td><td>Cat</td><td>Brown</td><td>6C07246C-3107-4651-8F5C-1EB14D1C5EA5</td><td>NULL</td><td>M</td><td>2009-03-26</td><td>Solid</td><td>2019-11-18</td></tr><tr><td>Roxy</td><td>Dog</td><td>Brown</td><td>01DFA05C-86B4-4936-A608-1C59097FA2D3</td><td>Weimaraner</td><td>F</td><td>2013-03-28</td><td>Tuxedo</td><td>2018-07-23</td></tr><tr><td>Rusty</td><td>Dog</td><td>Ginger</td><td>92FFDE28-B23A-4249-A32D-07BA417AA143</td><td>NULL</td><td>M</td><td>2005-01-27</td><td>Bicolor</td><td>2016-01-05</td></tr><tr><td>Sadie</td><td>Cat</td><td>Gray</td><td>C231514D-61C1-4180-B679-0BDBA7314FD6</td><td>NULL</td><td>F</td><td>2016-08-24</td><td>Bicolor</td><td>2016-09-19</td></tr><tr><td>Salem</td><td>Cat</td><td>Ginger</td><td>59F3AA7B-4D2B-49F6-9964-0155880B0473</td><td>Sphynx</td><td>M</td><td>2011-02-26</td><td>Spotted</td><td>2017-10-29</td></tr><tr><td>Sam</td><td>Cat</td><td>Gray</td><td>27F6F2B4-3570-43E1-8B64-05A1DC86FD8D</td><td>NULL</td><td>M</td><td>2016-09-18</td><td>Bicolor</td><td>2018-10-09</td></tr><tr><td>Sammy</td><td>Dog</td><td>Black</td><td>42D68579-C4BE-4DC3-9C35-1C40A9EF7B11</td><td>NULL</td><td>M</td><td>2012-08-24</td><td>Tricolor</td><td>2018-04-05</td></tr><tr><td>Samson</td><td>Dog</td><td>Ginger</td><td>A5FA2DC8-9708-465F-9F64-0B39D31BE53A</td><td>NULL</td><td>M</td><td>2008-01-24</td><td>Bicolor</td><td>2018-12-28</td></tr><tr><td>Shadow</td><td>Dog</td><td>Black</td><td>02DC6920-79BD-430A-A1ED-3196366F9BFE</td><td>NULL</td><td>M</td><td>2014-07-09</td><td>Tricolor</td><td>2016-04-07</td></tr><tr><td>Shelby</td><td>Dog</td><td>Gray</td><td>83F5B5B0-AF40-4A45-9BDF-0F8EA289E906</td><td>NULL</td><td>F</td><td>2004-08-04</td><td>Bicolor</td><td>2016-01-28</td></tr><tr><td>Simon</td><td>Cat</td><td>Gray</td><td>39ED8368-B8BC-433E-8678-0199BCE6259E</td><td>NULL</td><td>M</td><td>2008-07-19</td><td>Bicolor</td><td>2017-10-23</td></tr><tr><td>Skye</td><td>Dog</td><td>White</td><td>B7DB3359-2E5D-42AB-AF61-0F1D97EE195C</td><td>Bullmastiff</td><td>F</td><td>2013-12-10</td><td>Tuxedo</td><td>2016-04-20</td></tr><tr><td>Stanley</td><td>Cat</td><td>Cream</td><td>44B218EF-C708-46B7-967E-16C16E4AD577</td><td>NULL</td><td>M</td><td>2005-01-19</td><td>Tabby</td><td>2019-11-26</td></tr><tr><td>Stella</td><td>Dog</td><td>Cream</td><td>20CCAE0A-96FF-43C1-9FD4-2CF0916620ED</td><td>NULL</td><td>F</td><td>2005-03-11</td><td>Solid</td><td>2017-02-18</td></tr><tr><td>Thomas</td><td>Cat</td><td>Brown</td><td>265151DD-F5F0-4DCB-A0E7-0371960D9741</td><td>NULL</td><td>M</td><td>2002-12-11</td><td>Tricolor</td><td>2018-08-04</td></tr><tr><td>Thor</td><td>Dog</td><td>Black</td><td>ED0BA7EE-6694-452F-92AB-19BD52A750DF</td><td>NULL</td><td>M</td><td>2011-05-28</td><td>Tricolor</td><td>2016-07-24</td></tr><tr><td>Tigger</td><td>Cat</td><td>Brown</td><td>6F39F088-A2EA-40FC-9F7E-0DEA387A5B59</td><td>Turkish Angora</td><td>M</td><td>2005-06-07</td><td>Tabby</td><td>2016-01-18</td></tr><tr><td>Toby</td><td>Cat</td><td>Gray</td><td>E16F5AB8-9E18-4F58-ADF8-00BE13E5EFA0</td><td>NULL</td><td>M</td><td>2012-04-07</td><td>Spotted</td><td>2019-08-30</td></tr><tr><td>Toby</td><td>Dog</td><td>White</td><td>A457D717-2C6B-4AD2-8383-3974DF128D4F</td><td>Bullmastiff</td><td>M</td><td>2003-10-05</td><td>Tuxedo</td><td>2019-05-08</td></tr><tr><td>Toby</td><td>Rabbit</td><td>White</td><td>01DD3B07-EBD6-4A7F-98BC-0A38AA48B139</td><td>NULL</td><td>M</td><td>2011-10-27</td><td>Broken</td><td>2019-05-23</td></tr><tr><td>Tyson</td><td>Dog</td><td>Gray</td><td>193E62EB-31CC-49AE-AD45-46CB9CEE0EFA</td><td>NULL</td><td>M</td><td>2016-01-09</td><td>Bicolor</td><td>2018-08-19</td></tr><tr><td>Walter</td><td>Dog</td><td>Cream</td><td>293AE36F-BFBE-4EBC-B90C-4A2BE6055CD1</td><td>NULL</td><td>M</td><td>2001-12-24</td><td>Solid</td><td>2016-02-21</td></tr><tr><td>Whitney</td><td>Rabbit</td><td>Black</td><td>F8FC5DFC-B0F1-4C91-AD34-06D16F2DEA33</td><td>Lionhead</td><td>F</td><td>2017-03-02</td><td>Broken</td><td>2017-09-08</td></tr></tbody></table></div>"
      ]
     },
     "metadata": {
      "application/vnd.databricks.v1+output": {
       "addedWidgets": {},
       "aggData": [],
       "aggError": "",
       "aggOverflow": false,
       "aggSchema": [],
       "aggSeriesLimitReached": false,
       "aggType": "",
       "arguments": {},
       "columnCustomDisplayInfos": {},
       "data": [
        [
         "Abby",
         "Dog",
         "Black",
         "FDFDB6FE-3347-4E80-8C8A-2E3235C6D1DE",
         "NULL",
         "F",
         "1999-02-19",
         "Tricolor",
         "2016-07-19"
        ],
        [
         "Ace",
         "Dog",
         "Ginger",
         "33D50C6B-9D2E-4EB1-8171-0466DEE4F349",
         "NULL",
         "M",
         "2005-12-19",
         "Bicolor",
         "2019-06-25"
        ],
        [
         "Angel",
         "Dog",
         "Brown",
         "F0769A5E-1A11-49F1-AC80-3F40A32EA158",
         "NULL",
         "F",
         "2001-09-19",
         "Tuxedo",
         "2017-02-04"
        ],
        [
         "April",
         "Rabbit",
         "Gray",
         "CCFEF7E8-6FAD-4BA0-81EA-0611DD229E42",
         "NULL",
         "F",
         "2005-01-27",
         "Broken",
         "2019-04-24"
        ],
        [
         "Archie",
         "Cat",
         "Ginger",
         "970D7094-AB66-4DCA-A0D1-0C16264989AF",
         "Persian",
         "M",
         "2009-08-26",
         "Tricolor",
         "2016-07-10"
        ],
        [
         "Arya",
         "Dog",
         "Gray",
         "CD1528AD-C91D-47EA-9B70-3CACD5BDBE71",
         "NULL",
         "F",
         "2014-04-14",
         "Bicolor",
         "2018-06-10"
        ],
        [
         "Aspen",
         "Dog",
         "Brown",
         "51D4CFD1-CD25-4C5A-AA52-0BFD771F8886",
         "NULL",
         "F",
         "2010-04-17",
         "Tuxedo",
         "2016-02-09"
        ],
        [
         "Bailey",
         "Dog",
         "Ginger",
         "36438BC9-E225-4038-97B2-1E28FD287957",
         "NULL",
         "F",
         "2014-09-28",
         "Bicolor",
         "2018-10-01"
        ],
        [
         "Baloo",
         "Rabbit",
         "White",
         "F5CE3A02-1EC7-431D-8A76-09369E8D798B",
         "English Lop",
         "M",
         "2015-04-27",
         "Broken",
         "2016-08-21"
        ],
        [
         "Beau",
         "Dog",
         "Cream",
         "4B94A68C-0C97-4F70-9275-35B3A9EEE8D9",
         "NULL",
         "M",
         "2016-02-09",
         "Solid",
         "2017-05-24"
        ],
        [
         "Benji",
         "Dog",
         "Gray",
         "646F0A76-14E4-42E7-9554-3AF1EA6CC78F",
         "English setter",
         "M",
         "2012-05-21",
         "Bicolor",
         "2018-10-02"
        ],
        [
         "Benny",
         "Dog",
         "Brown",
         "2AE54BBB-A587-49D5-9A4D-1400A303C4BF",
         "NULL",
         "M",
         "2010-03-04",
         "Tuxedo",
         "2018-09-30"
        ],
        [
         "Blue",
         "Dog",
         "Ginger",
         "6D296D1D-E14D-4308-8B4F-27F87FE1534E",
         "NULL",
         "M",
         "2003-09-03",
         "Bicolor",
         "2016-04-03"
        ],
        [
         "Bon bon",
         "Rabbit",
         "Gray",
         "BCE7E239-304A-483D-9E38-05B9B66AF496",
         "NULL",
         "F",
         "2002-06-29",
         "Broken",
         "2016-01-03"
        ],
        [
         "Boomer",
         "Dog",
         "Black",
         "01E2AD60-DAA5-4681-B934-40C9DCF7D73A",
         "Schnauzer",
         "M",
         "2013-08-11",
         "Tricolor",
         "2017-01-11"
        ],
        [
         "Brody",
         "Dog",
         "Black",
         "EB517826-E48A-41AE-A5FB-1BBECA23C05D",
         "Schnauzer",
         "M",
         "2007-08-23",
         "Tricolor",
         "2018-12-05"
        ],
        [
         "Brutus",
         "Dog",
         "Ginger",
         "B7FAD096-7CD1-42A7-85D6-0C3E6599DBEB",
         "Weimaraner",
         "M",
         "2011-04-04",
         "Bicolor",
         "2018-08-03"
        ],
        [
         "Buddy",
         "Cat",
         "White",
         "6D49B3F6-E075-4F33-97A3-1D4878EE1345",
         "NULL",
         "M",
         "2017-01-26",
         "Tortoiseshell",
         "2018-12-20"
        ],
        [
         "Callie",
         "Dog",
         "Cream",
         "2636F17F-5893-482F-94A7-47EEB715047A",
         "English setter",
         "F",
         "2003-08-28",
         "Solid",
         "2017-12-19"
        ],
        [
         "Charlie",
         "Cat",
         "Gray",
         "AB967364-43CC-4DD2-A4D9-080F0DEF56CA",
         "NULL",
         "M",
         "2016-06-16",
         "Calico",
         "2018-02-16"
        ],
        [
         "Chico",
         "Dog",
         "Brown",
         "C6614119-945A-45A9-A5A2-3C8F840EDC01",
         "NULL",
         "M",
         "2014-03-20",
         "Tuxedo",
         "2019-03-22"
        ],
        [
         "Chubby",
         "Rabbit",
         "Ginger",
         "561FEA02-9C12-43B1-9EA8-071C9EAE4C55",
         "NULL",
         "M",
         "2013-02-07",
         "Broken",
         "2017-10-31"
        ],
        [
         "Cleo",
         "Cat",
         "Black",
         "0897655B-1486-4D5D-AD60-03A855AFCAF3",
         "NULL",
         "F",
         "2015-08-13",
         "Tortoiseshell",
         "2019-09-06"
        ],
        [
         "Cooper",
         "Dog",
         "Black",
         "14F9E97B-6CD4-4EE4-9798-1C4F2376141B",
         "NULL",
         "M",
         "2009-11-15",
         "Tricolor",
         "2017-01-15"
        ],
        [
         "Cosmo",
         "Cat",
         "Cream",
         "2754B9C9-5DF4-4206-818D-21BDD1A093ED",
         "NULL",
         "M",
         "2017-11-09",
         "Solid",
         "2019-05-13"
        ],
        [
         "Dolly",
         "Dog",
         "Gray",
         "DBDC4F81-1709-49D6-9F73-1D2099ECA35C",
         "NULL",
         "F",
         "2013-09-29",
         "Bicolor",
         "2018-04-27"
        ],
        [
         "Emma",
         "Dog",
         "Black",
         "BAC4C56D-EBB6-43E3-86F3-36506E17F74D",
         "Schnauzer",
         "F",
         "2006-12-26",
         "Tricolor",
         "2019-03-28"
        ],
        [
         "Fiona",
         "Cat",
         "Gray",
         "90226140-F54E-419D-82E5-0EA81E0E6384",
         "NULL",
         "F",
         "1999-05-23",
         "Calico",
         "2017-01-13"
        ],
        [
         "Frankie",
         "Dog",
         "Gray",
         "CC96E651-2F1C-45F8-BCE2-26AC8C9868A7",
         "English setter",
         "M",
         "2003-09-10",
         "Bicolor",
         "2016-06-20"
        ],
        [
         "George",
         "Cat",
         "Brown",
         "6FEFC95E-7D46-4E25-B90A-0BA75F45D972",
         "NULL",
         "M",
         "2001-10-04",
         "Bicolor",
         "2017-11-24"
        ],
        [
         "Ginger",
         "Dog",
         "Ginger",
         "9E241A82-AD77-49DC-AD15-0AC8D2E89DDE",
         "NULL",
         "F",
         "2015-11-17",
         "Bicolor",
         "2016-11-27"
        ],
        [
         "Gizmo",
         "Dog",
         "Brown",
         "78556795-4748-447F-A2CE-336B01173A18",
         "NULL",
         "M",
         "2006-01-23",
         "Tuxedo",
         "2019-08-14"
        ],
        [
         "Gracie",
         "Cat",
         "Black",
         "66691184-06B1-4AA8-89B3-0DEF5FD9FBE1",
         "NULL",
         "F",
         "2007-11-20",
         "Spotted",
         "2017-05-21"
        ],
        [
         "Gus",
         "Dog",
         "Cream",
         "104A1427-D921-4D11-B45C-370C70E1578F",
         "English setter",
         "M",
         "2014-10-29",
         "Solid",
         "2016-09-28"
        ],
        [
         "Hobbes",
         "Cat",
         "Gray",
         "8788E7B9-DC20-45EF-8778-0066F60D790D",
         "NULL",
         "M",
         "2002-01-01",
         "Spotted",
         "2016-07-29"
        ],
        [
         "Holly",
         "Dog",
         "Cream",
         "DD737E6E-3B26-43B4-AD4B-28398602DF74",
         "NULL",
         "F",
         "2011-06-13",
         "Solid",
         "2016-12-30"
        ],
        [
         "Hudini",
         "Rabbit",
         "Cream",
         "DE295DD6-502F-43E3-B139-06CEB3FA2128",
         "NULL",
         "M",
         "2018-03-22",
         "Brindle",
         "2019-12-10"
        ],
        [
         "Humphrey",
         "Rabbit",
         "Cream",
         "2A423596-5BF8-41A7-906A-0BD3EA15E17C",
         "Belgian Hare",
         "M",
         "2008-12-22",
         "Brindle",
         "2017-12-31"
        ],
        [
         "Ivy",
         "Cat",
         "Brown",
         "0955C70B-A2B6-4D78-8E4B-1F6386FFC763",
         "Turkish Angora",
         "F",
         "2013-05-13",
         "Spotted",
         "2018-05-20"
        ],
        [
         "Jake",
         "Dog",
         "White",
         "9209D54C-0238-457B-9922-02171E9DF0E6",
         "Bullmastiff",
         "M",
         "2011-02-27",
         "Tuxedo",
         "2016-12-14"
        ],
        [
         "Jax",
         "Dog",
         "Ginger",
         "24AD2ED9-E7E6-4571-8A45-3C9361418B07",
         "Weimaraner",
         "M",
         "2009-02-06",
         "Bicolor",
         "2017-10-03"
        ],
        [
         "Kiki",
         "Cat",
         "Cream",
         "4E029101-2326-461C-8FF7-0EB809F110CB",
         "NULL",
         "F",
         "2015-07-07",
         "Tricolor",
         "2019-11-16"
        ],
        [
         "King",
         "Dog",
         "Brown",
         "793E68EB-B952-4425-B9E2-0406EA01AC53",
         "NULL",
         "M",
         "2015-09-12",
         "Tuxedo",
         "2017-08-29"
        ],
        [
         "Kona",
         "Dog",
         "Gray",
         "C87EE041-973F-482C-B5E4-3310B4D80612",
         "NULL",
         "F",
         "2008-10-16",
         "Bicolor",
         "2019-12-13"
        ],
        [
         "Layla",
         "Dog",
         "Cream",
         "DF2E0BBC-ACB7-413C-90BC-2AAE37ACEB90",
         "NULL",
         "F",
         "2006-03-11",
         "Solid",
         "2018-06-14"
        ],
        [
         "Lexi",
         "Dog",
         "Brown",
         "BFD890AA-AFB6-4E8F-B60B-0124840EB504",
         "NULL",
         "F",
         "2017-09-17",
         "Tuxedo",
         "2018-06-22"
        ],
        [
         "Lily",
         "Dog",
         "Black",
         "11DE2603-8BCF-49B6-9DDE-46F893D93948",
         "Schnauzer",
         "F",
         "2001-04-03",
         "Tricolor",
         "2016-06-18"
        ],
        [
         "Lucy",
         "Dog",
         "Brown",
         "3A389EAF-F623-4CD7-9EC9-2144CA9D244C",
         "Weimaraner",
         "F",
         "2003-04-04",
         "Tuxedo",
         "2018-02-22"
        ],
        [
         "Luke",
         "Dog",
         "Gray",
         "FD6E5E29-0515-47A8-890D-096F07C83738",
         "NULL",
         "M",
         "2017-04-23",
         "Bicolor",
         "2017-12-23"
        ],
        [
         "Lulu",
         "Cat",
         "Ginger",
         "9F018ECD-7D17-4027-8751-2167300D6CF3",
         "NULL",
         "F",
         "2003-12-19",
         "Calico",
         "2019-10-09"
        ],
        [
         "Luna",
         "Dog",
         "Cream",
         "74C3566B-A889-4861-B67E-3570AAC7247A",
         "NULL",
         "F",
         "2009-01-14",
         "Solid",
         "2017-03-02"
        ],
        [
         "Luna",
         "Rabbit",
         "Black",
         "202C2C7D-7A25-449D-AD71-05482B04346F",
         "NULL",
         "F",
         "2010-11-16",
         "Broken",
         "2017-08-18"
        ],
        [
         "Mac",
         "Dog",
         "Gray",
         "3B55A74D-C5F7-44BC-9E6A-11C446628A0D",
         "English setter",
         "M",
         "2006-12-23",
         "Bicolor",
         "2018-01-03"
        ],
        [
         "Maddie",
         "Dog",
         "Brown",
         "2A37B609-D1F6-475F-A890-0234FCB2F0B8",
         "NULL",
         "F",
         "2014-09-26",
         "Tuxedo",
         "2017-05-02"
        ],
        [
         "Max",
         "Dog",
         "Gray",
         "EB92C3B9-19BD-4AB1-B0F3-11DD7ADB3CF0",
         "NULL",
         "M",
         "2001-12-01",
         "Bicolor",
         "2017-07-26"
        ],
        [
         "Millie",
         "Dog",
         "Ginger",
         "7D69F605-C2FF-42AC-A5AC-20B63EB881CA",
         "NULL",
         "F",
         "2015-05-18",
         "Bicolor",
         "2016-10-27"
        ],
        [
         "Miss Kitty",
         "Cat",
         "Black",
         "1AB8347C-6349-4092-9667-09653A9FD09C",
         "Maine Coon",
         "F",
         "2016-09-19",
         "Bicolor",
         "2019-10-19"
        ],
        [
         "Misty",
         "Cat",
         "Ginger",
         "805281A0-5DE6-4BA8-8FB1-11CEFE0575E0",
         "Siamese",
         "F",
         "2009-02-21",
         "Spotted",
         "2019-06-06"
        ],
        [
         "Mocha",
         "Dog",
         "Brown",
         "63DC76E7-3431-4455-9AD8-2FE4FF72F4AF",
         "NULL",
         "F",
         "2002-09-23",
         "Tuxedo",
         "2019-01-10"
        ],
        [
         "Nala",
         "Dog",
         "Gray",
         "2929BBA7-ED35-43F1-9F3E-01120BEB4F8B",
         "English setter",
         "F",
         "2018-06-02",
         "Bicolor",
         "2019-07-19"
        ],
        [
         "Nova",
         "Cat",
         "White",
         "81802526-CAE2-40BB-846A-01D2156545B4",
         "Sphynx",
         "F",
         "2011-04-07",
         "Tortoiseshell",
         "2017-12-09"
        ],
        [
         "Odin",
         "Dog",
         "Ginger",
         "D6088551-BAD5-41F6-B9A5-09A3A50CB2FF",
         "NULL",
         "M",
         "2007-07-10",
         "Bicolor",
         "2016-09-15"
        ],
        [
         "Oscar",
         "Cat",
         "White",
         "18C0C340-E7A3-430E-BAF5-13C938287D4F",
         "NULL",
         "M",
         "2008-06-08",
         "Bicolor",
         "2018-02-23"
        ],
        [
         "Otis",
         "Dog",
         "Ginger",
         "CB5444D8-39FC-4A56-AA83-17E1BFD6E960",
         "NULL",
         "M",
         "2008-05-15",
         "Bicolor",
         "2018-07-22"
        ],
        [
         "Patches",
         "Cat",
         "Gray",
         "21247670-2E5A-43EF-ACF9-0E794463C466",
         "NULL",
         "F",
         "2014-07-29",
         "Bicolor",
         "2018-11-04"
        ],
        [
         "Peanut",
         "Rabbit",
         "Gray",
         "99A021D1-5E5A-4499-8759-02B3D89CE9AF",
         "NULL",
         "M",
         "2008-10-14",
         "Broken",
         "2018-04-11"
        ],
        [
         "Pearl",
         "Cat",
         "Brown",
         "DF9291B5-9F82-4AD1-A9FD-1206FD6CD837",
         "American Bobtail",
         "F",
         "2012-07-05",
         "Tricolor",
         "2019-04-09"
        ],
        [
         "Penelope",
         "Cat",
         "Brown",
         "5A6A4DC1-B813-4331-B027-1718EB50BC9E",
         "Scottish Fold",
         "F",
         "2000-09-21",
         "Tabby",
         "2017-07-12"
        ],
        [
         "Penelope",
         "Dog",
         "White",
         "E4E5609A-9C86-4C59-8EEE-47ED74FF04B5",
         "Bullmastiff",
         "F",
         "2008-06-28",
         "Tuxedo",
         "2016-01-14"
        ],
        [
         "Penny",
         "Cat",
         "Cream",
         "B947B10B-C402-4DA5-9713-185FD21065C4",
         "NULL",
         "F",
         "2005-11-02",
         "Tricolor",
         "2017-02-15"
        ],
        [
         "Piper",
         "Dog",
         "Ginger",
         "B6BD98C9-5F0D-4AC2-81AD-278ACF2AFD46",
         "NULL",
         "F",
         "2012-03-08",
         "Bicolor",
         "2016-03-21"
        ],
        [
         "Poppy",
         "Dog",
         "Brown",
         "10E33EB3-A2D5-4FCD-9428-1DBB389FBB30",
         "Weimaraner",
         "F",
         "2011-04-09",
         "Tuxedo",
         "2018-05-05"
        ],
        [
         "Prince",
         "Dog",
         "Cream",
         "06C5CFCB-2C24-4030-ACDA-06FB3343A173",
         "NULL",
         "M",
         "2016-11-06",
         "Solid",
         "2017-08-29"
        ],
        [
         "Pumpkin",
         "Cat",
         "Gray",
         "64085FE7-0F2E-4E80-A170-286F1519FDA8",
         "Russian Blue",
         "M",
         "2002-12-28",
         "Spotted",
         "2019-01-18"
        ],
        [
         "Ranger",
         "Dog",
         "Ginger",
         "559412C8-2C13-4A18-8B94-481BC06099DE",
         "NULL",
         "M",
         "2015-07-12",
         "Bicolor",
         "2017-09-25"
        ],
        [
         "Remi / Remy",
         "Dog",
         "Cream",
         "835106AA-CFA5-47FB-BA29-0071D1A1592A",
         "NULL",
         "M",
         "2001-08-12",
         "Solid",
         "2018-10-13"
        ],
        [
         "Riley",
         "Dog",
         "Ginger",
         "E042131E-2921-442C-9BBD-107507293BB2",
         "NULL",
         "F",
         "2013-05-01",
         "Bicolor",
         "2019-03-08"
        ],
        [
         "Rocky",
         "Cat",
         "Brown",
         "6C07246C-3107-4651-8F5C-1EB14D1C5EA5",
         "NULL",
         "M",
         "2009-03-26",
         "Solid",
         "2019-11-18"
        ],
        [
         "Roxy",
         "Dog",
         "Brown",
         "01DFA05C-86B4-4936-A608-1C59097FA2D3",
         "Weimaraner",
         "F",
         "2013-03-28",
         "Tuxedo",
         "2018-07-23"
        ],
        [
         "Rusty",
         "Dog",
         "Ginger",
         "92FFDE28-B23A-4249-A32D-07BA417AA143",
         "NULL",
         "M",
         "2005-01-27",
         "Bicolor",
         "2016-01-05"
        ],
        [
         "Sadie",
         "Cat",
         "Gray",
         "C231514D-61C1-4180-B679-0BDBA7314FD6",
         "NULL",
         "F",
         "2016-08-24",
         "Bicolor",
         "2016-09-19"
        ],
        [
         "Salem",
         "Cat",
         "Ginger",
         "59F3AA7B-4D2B-49F6-9964-0155880B0473",
         "Sphynx",
         "M",
         "2011-02-26",
         "Spotted",
         "2017-10-29"
        ],
        [
         "Sam",
         "Cat",
         "Gray",
         "27F6F2B4-3570-43E1-8B64-05A1DC86FD8D",
         "NULL",
         "M",
         "2016-09-18",
         "Bicolor",
         "2018-10-09"
        ],
        [
         "Sammy",
         "Dog",
         "Black",
         "42D68579-C4BE-4DC3-9C35-1C40A9EF7B11",
         "NULL",
         "M",
         "2012-08-24",
         "Tricolor",
         "2018-04-05"
        ],
        [
         "Samson",
         "Dog",
         "Ginger",
         "A5FA2DC8-9708-465F-9F64-0B39D31BE53A",
         "NULL",
         "M",
         "2008-01-24",
         "Bicolor",
         "2018-12-28"
        ],
        [
         "Shadow",
         "Dog",
         "Black",
         "02DC6920-79BD-430A-A1ED-3196366F9BFE",
         "NULL",
         "M",
         "2014-07-09",
         "Tricolor",
         "2016-04-07"
        ],
        [
         "Shelby",
         "Dog",
         "Gray",
         "83F5B5B0-AF40-4A45-9BDF-0F8EA289E906",
         "NULL",
         "F",
         "2004-08-04",
         "Bicolor",
         "2016-01-28"
        ],
        [
         "Simon",
         "Cat",
         "Gray",
         "39ED8368-B8BC-433E-8678-0199BCE6259E",
         "NULL",
         "M",
         "2008-07-19",
         "Bicolor",
         "2017-10-23"
        ],
        [
         "Skye",
         "Dog",
         "White",
         "B7DB3359-2E5D-42AB-AF61-0F1D97EE195C",
         "Bullmastiff",
         "F",
         "2013-12-10",
         "Tuxedo",
         "2016-04-20"
        ],
        [
         "Stanley",
         "Cat",
         "Cream",
         "44B218EF-C708-46B7-967E-16C16E4AD577",
         "NULL",
         "M",
         "2005-01-19",
         "Tabby",
         "2019-11-26"
        ],
        [
         "Stella",
         "Dog",
         "Cream",
         "20CCAE0A-96FF-43C1-9FD4-2CF0916620ED",
         "NULL",
         "F",
         "2005-03-11",
         "Solid",
         "2017-02-18"
        ],
        [
         "Thomas",
         "Cat",
         "Brown",
         "265151DD-F5F0-4DCB-A0E7-0371960D9741",
         "NULL",
         "M",
         "2002-12-11",
         "Tricolor",
         "2018-08-04"
        ],
        [
         "Thor",
         "Dog",
         "Black",
         "ED0BA7EE-6694-452F-92AB-19BD52A750DF",
         "NULL",
         "M",
         "2011-05-28",
         "Tricolor",
         "2016-07-24"
        ],
        [
         "Tigger",
         "Cat",
         "Brown",
         "6F39F088-A2EA-40FC-9F7E-0DEA387A5B59",
         "Turkish Angora",
         "M",
         "2005-06-07",
         "Tabby",
         "2016-01-18"
        ],
        [
         "Toby",
         "Cat",
         "Gray",
         "E16F5AB8-9E18-4F58-ADF8-00BE13E5EFA0",
         "NULL",
         "M",
         "2012-04-07",
         "Spotted",
         "2019-08-30"
        ],
        [
         "Toby",
         "Dog",
         "White",
         "A457D717-2C6B-4AD2-8383-3974DF128D4F",
         "Bullmastiff",
         "M",
         "2003-10-05",
         "Tuxedo",
         "2019-05-08"
        ],
        [
         "Toby",
         "Rabbit",
         "White",
         "01DD3B07-EBD6-4A7F-98BC-0A38AA48B139",
         "NULL",
         "M",
         "2011-10-27",
         "Broken",
         "2019-05-23"
        ],
        [
         "Tyson",
         "Dog",
         "Gray",
         "193E62EB-31CC-49AE-AD45-46CB9CEE0EFA",
         "NULL",
         "M",
         "2016-01-09",
         "Bicolor",
         "2018-08-19"
        ],
        [
         "Walter",
         "Dog",
         "Cream",
         "293AE36F-BFBE-4EBC-B90C-4A2BE6055CD1",
         "NULL",
         "M",
         "2001-12-24",
         "Solid",
         "2016-02-21"
        ],
        [
         "Whitney",
         "Rabbit",
         "Black",
         "F8FC5DFC-B0F1-4C91-AD34-06D16F2DEA33",
         "Lionhead",
         "F",
         "2017-03-02",
         "Broken",
         "2017-09-08"
        ]
       ],
       "datasetInfos": [],
       "dbfsResultPath": null,
       "isJsonSchema": true,
       "metadata": {},
       "overflow": false,
       "plotOptions": {
        "customPlotOptions": {},
        "displayType": "table",
        "pivotAggregation": null,
        "pivotColumns": null,
        "xColumns": null,
        "yColumns": null
       },
       "removedWidgets": [],
       "schema": [
        {
         "metadata": "{}",
         "name": "Name",
         "type": "\"string\""
        },
        {
         "metadata": "{}",
         "name": "Species",
         "type": "\"string\""
        },
        {
         "metadata": "{}",
         "name": "Primary_Color",
         "type": "\"string\""
        },
        {
         "metadata": "{}",
         "name": "Implant_Chip_ID",
         "type": "\"string\""
        },
        {
         "metadata": "{}",
         "name": "Breed",
         "type": "\"string\""
        },
        {
         "metadata": "{}",
         "name": "Gender",
         "type": "\"string\""
        },
        {
         "metadata": "{}",
         "name": "Birth_Date",
         "type": "\"date\""
        },
        {
         "metadata": "{}",
         "name": "Pattern",
         "type": "\"string\""
        },
        {
         "metadata": "{}",
         "name": "Admission_Date",
         "type": "\"date\""
        }
       ],
       "type": "table"
      }
     },
     "output_type": "display_data"
    }
   ],
   "source": [
    "a.display()"
   ]
  },
  {
   "cell_type": "code",
   "execution_count": 0,
   "metadata": {
    "application/vnd.databricks.v1+cell": {
     "cellMetadata": {
      "byteLimit": 2048000,
      "rowLimit": 10000
     },
     "inputWidgets": {},
     "nuid": "b875e455-ff64-4502-8cfd-0c59cb2978d1",
     "showTitle": false,
     "tableResultSettingsMap": {},
     "title": ""
    }
   },
   "outputs": [],
   "source": [
    "all_animals_vaccinated = animals.join(vaccinations, (a.Name == v.Name) & (a.Species == v.Species) , \"left\").join(staff, v.Email == s.Email, \"left\")\\\n",
    "    .join(persons,s.Email == p.Email, \"left\").select(a.Name, a.Species, v.Vaccination_Time, v.Vaccine, p.First_Name, p.Last_Name)"
   ]
  },
  {
   "cell_type": "code",
   "execution_count": 0,
   "metadata": {
    "application/vnd.databricks.v1+cell": {
     "cellMetadata": {
      "byteLimit": 2048000,
      "rowLimit": 10000
     },
     "inputWidgets": {},
     "nuid": "c620db71-96ba-49e3-a1cd-5dc1a766018c",
     "showTitle": false,
     "tableResultSettingsMap": {},
     "title": ""
    }
   },
   "outputs": [
    {
     "output_type": "display_data",
     "data": {
      "text/html": [
       "<style scoped>\n",
       "  .table-result-container {\n",
       "    max-height: 300px;\n",
       "    overflow: auto;\n",
       "  }\n",
       "  table, th, td {\n",
       "    border: 1px solid black;\n",
       "    border-collapse: collapse;\n",
       "  }\n",
       "  th, td {\n",
       "    padding: 5px;\n",
       "  }\n",
       "  th {\n",
       "    text-align: left;\n",
       "  }\n",
       "</style><div class='table-result-container'><table class='table-result'><thead style='background-color: white'><tr><th>Name</th><th>Species</th><th>Vaccination_Time</th><th>Vaccine</th><th>First_Name</th><th>Last_Name</th></tr></thead><tbody><tr><td>Abby</td><td>Dog</td><td>2018-04-19T10:44:00.000+0000</td><td>Distemper Virus</td><td>Wanda</td><td>Myers</td></tr><tr><td>Abby</td><td>Dog</td><td>2017-04-19T09:01:00.000+0000</td><td>Distemper Virus</td><td>Ashley</td><td>Flores</td></tr><tr><td>Ace</td><td>Dog</td><td>null</td><td>null</td><td>null</td><td>null</td></tr><tr><td>Angel</td><td>Dog</td><td>2018-05-04T11:18:00.000+0000</td><td>Rabies</td><td>Ashley</td><td>Flores</td></tr><tr><td>Angel</td><td>Dog</td><td>2017-05-04T12:49:00.000+0000</td><td>Rabies</td><td>Wanda</td><td>Myers</td></tr><tr><td>Angel</td><td>Dog</td><td>2018-05-04T09:47:00.000+0000</td><td>Distemper Virus</td><td>Wanda</td><td>Myers</td></tr><tr><td>Angel</td><td>Dog</td><td>2017-05-04T10:38:00.000+0000</td><td>Distemper Virus</td><td>Wanda</td><td>Myers</td></tr><tr><td>April</td><td>Rabbit</td><td>null</td><td>null</td><td>null</td><td>null</td></tr><tr><td>Archie</td><td>Cat</td><td>2017-11-20T13:25:00.000+0000</td><td>Panleukopenia Virus</td><td>Ashley</td><td>Flores</td></tr><tr><td>Archie</td><td>Cat</td><td>2017-11-20T09:35:00.000+0000</td><td>Calicivirus</td><td>Ashley</td><td>Flores</td></tr><tr><td>Arya</td><td>Dog</td><td>null</td><td>null</td><td>null</td><td>null</td></tr><tr><td>Aspen</td><td>Dog</td><td>2017-09-29T07:32:00.000+0000</td><td>Rabies</td><td>Ashley</td><td>Flores</td></tr><tr><td>Aspen</td><td>Dog</td><td>2016-09-28T07:41:00.000+0000</td><td>Rabies</td><td>Wanda</td><td>Myers</td></tr><tr><td>Aspen</td><td>Dog</td><td>2016-09-28T10:01:00.000+0000</td><td>Distemper Virus</td><td>Ashley</td><td>Flores</td></tr><tr><td>Aspen</td><td>Dog</td><td>2017-09-29T12:35:00.000+0000</td><td>Adenovirus</td><td>Wanda</td><td>Myers</td></tr><tr><td>Aspen</td><td>Dog</td><td>2016-09-28T07:36:00.000+0000</td><td>Adenovirus</td><td>Wanda</td><td>Myers</td></tr><tr><td>Bailey</td><td>Dog</td><td>null</td><td>null</td><td>null</td><td>null</td></tr><tr><td>Baloo</td><td>Rabbit</td><td>2016-09-01T07:00:00.000+0000</td><td>Rabies</td><td>Wanda</td><td>Myers</td></tr><tr><td>Beau</td><td>Dog</td><td>null</td><td>null</td><td>null</td><td>null</td></tr><tr><td>Benji</td><td>Dog</td><td>null</td><td>null</td><td>null</td><td>null</td></tr><tr><td>Benny</td><td>Dog</td><td>2019-01-02T13:19:00.000+0000</td><td>Rabies</td><td>Robin</td><td>Murphy</td></tr><tr><td>Benny</td><td>Dog</td><td>2019-01-02T09:44:00.000+0000</td><td>Adenovirus</td><td>Ashley</td><td>Flores</td></tr><tr><td>Blue</td><td>Dog</td><td>null</td><td>null</td><td>null</td><td>null</td></tr><tr><td>Bon bon</td><td>Rabbit</td><td>2019-12-27T09:23:00.000+0000</td><td>Rabies</td><td>Gerald</td><td>Reyes</td></tr><tr><td>Bon bon</td><td>Rabbit</td><td>2018-12-27T11:09:00.000+0000</td><td>Rabies</td><td>Robin</td><td>Murphy</td></tr><tr><td>Bon bon</td><td>Rabbit</td><td>2017-12-27T10:09:00.000+0000</td><td>Rabies</td><td>Wanda</td><td>Myers</td></tr><tr><td>Bon bon</td><td>Rabbit</td><td>2016-12-26T12:08:00.000+0000</td><td>Rabies</td><td>Wanda</td><td>Myers</td></tr><tr><td>Bon bon</td><td>Rabbit</td><td>2019-12-27T13:32:00.000+0000</td><td>Myxomatosis</td><td>Ashley</td><td>Flores</td></tr><tr><td>Bon bon</td><td>Rabbit</td><td>2018-12-27T13:39:00.000+0000</td><td>Myxomatosis</td><td>Dennis</td><td>Hill</td></tr><tr><td>Boomer</td><td>Dog</td><td>2019-09-03T11:58:00.000+0000</td><td>Rabies</td><td>Gerald</td><td>Reyes</td></tr><tr><td>Brody</td><td>Dog</td><td>null</td><td>null</td><td>null</td><td>null</td></tr><tr><td>Brutus</td><td>Dog</td><td>2018-11-28T07:17:00.000+0000</td><td>Distemper Virus</td><td>Wayne</td><td>Carter</td></tr><tr><td>Brutus</td><td>Dog</td><td>2018-11-28T12:26:00.000+0000</td><td>Adenovirus</td><td>Wanda</td><td>Myers</td></tr><tr><td>Buddy</td><td>Cat</td><td>null</td><td>null</td><td>null</td><td>null</td></tr><tr><td>Callie</td><td>Dog</td><td>null</td><td>null</td><td>null</td><td>null</td></tr><tr><td>Charlie</td><td>Cat</td><td>null</td><td>null</td><td>null</td><td>null</td></tr><tr><td>Chico</td><td>Dog</td><td>null</td><td>null</td><td>null</td><td>null</td></tr><tr><td>Chubby</td><td>Rabbit</td><td>null</td><td>null</td><td>null</td><td>null</td></tr><tr><td>Cleo</td><td>Cat</td><td>null</td><td>null</td><td>null</td><td>null</td></tr><tr><td>Cooper</td><td>Dog</td><td>2017-10-13T09:41:00.000+0000</td><td>Distemper Virus</td><td>Ashley</td><td>Flores</td></tr><tr><td>Cosmo</td><td>Cat</td><td>null</td><td>null</td><td>null</td><td>null</td></tr><tr><td>Dolly</td><td>Dog</td><td>2018-09-27T14:45:00.000+0000</td><td>Rabies</td><td>Robin</td><td>Murphy</td></tr><tr><td>Dolly</td><td>Dog</td><td>2019-09-27T10:29:00.000+0000</td><td>Adenovirus</td><td>Wayne</td><td>Carter</td></tr><tr><td>Dolly</td><td>Dog</td><td>2018-09-27T08:16:00.000+0000</td><td>Adenovirus</td><td>Ashley</td><td>Flores</td></tr><tr><td>Emma</td><td>Dog</td><td>null</td><td>null</td><td>null</td><td>null</td></tr><tr><td>Fiona</td><td>Cat</td><td>2017-12-18T14:17:00.000+0000</td><td>Panleukopenia Virus</td><td>Wanda</td><td>Myers</td></tr><tr><td>Fiona</td><td>Cat</td><td>2017-12-18T11:15:00.000+0000</td><td>Calicivirus</td><td>Wanda</td><td>Myers</td></tr><tr><td>Frankie</td><td>Dog</td><td>null</td><td>null</td><td>null</td><td>null</td></tr><tr><td>George</td><td>Cat</td><td>null</td><td>null</td><td>null</td><td>null</td></tr><tr><td>Ginger</td><td>Dog</td><td>2017-03-07T08:33:00.000+0000</td><td>Adenovirus</td><td>Wanda</td><td>Myers</td></tr><tr><td>Gizmo</td><td>Dog</td><td>2019-08-22T08:52:00.000+0000</td><td>Distemper Virus</td><td>Wayne</td><td>Carter</td></tr><tr><td>Gracie</td><td>Cat</td><td>null</td><td>null</td><td>null</td><td>null</td></tr><tr><td>Gus</td><td>Dog</td><td>null</td><td>null</td><td>null</td><td>null</td></tr><tr><td>Hobbes</td><td>Cat</td><td>2016-12-26T12:54:00.000+0000</td><td>Panleukopenia Virus</td><td>Ashley</td><td>Flores</td></tr><tr><td>Holly</td><td>Dog</td><td>2019-07-15T13:14:00.000+0000</td><td>Rabies</td><td>Robin</td><td>Murphy</td></tr><tr><td>Hudini</td><td>Rabbit</td><td>null</td><td>null</td><td>null</td><td>null</td></tr><tr><td>Humphrey</td><td>Rabbit</td><td>2018-08-28T10:08:00.000+0000</td><td>Viral Haemorrhagic Disease</td><td>Gerald</td><td>Reyes</td></tr><tr><td>Humphrey</td><td>Rabbit</td><td>2018-08-28T09:41:00.000+0000</td><td>Rabies</td><td>Robin</td><td>Murphy</td></tr><tr><td>Humphrey</td><td>Rabbit</td><td>2018-08-28T08:09:00.000+0000</td><td>Myxomatosis</td><td>Gerald</td><td>Reyes</td></tr><tr><td>Ivy</td><td>Cat</td><td>null</td><td>null</td><td>null</td><td>null</td></tr><tr><td>Jake</td><td>Dog</td><td>2017-12-08T07:46:00.000+0000</td><td>Adenovirus</td><td>Wanda</td><td>Myers</td></tr><tr><td>Jax</td><td>Dog</td><td>null</td><td>null</td><td>null</td><td>null</td></tr><tr><td>Kiki</td><td>Cat</td><td>null</td><td>null</td><td>null</td><td>null</td></tr><tr><td>King</td><td>Dog</td><td>null</td><td>null</td><td>null</td><td>null</td></tr><tr><td>Kona</td><td>Dog</td><td>null</td><td>null</td><td>null</td><td>null</td></tr><tr><td>Layla</td><td>Dog</td><td>null</td><td>null</td><td>null</td><td>null</td></tr><tr><td>Lexi</td><td>Dog</td><td>null</td><td>null</td><td>null</td><td>null</td></tr><tr><td>Lily</td><td>Dog</td><td>null</td><td>null</td><td>null</td><td>null</td></tr><tr><td>Lucy</td><td>Dog</td><td>2018-05-22T07:46:00.000+0000</td><td>Distemper Virus</td><td>Ashley</td><td>Flores</td></tr><tr><td>Luke</td><td>Dog</td><td>null</td><td>null</td><td>null</td><td>null</td></tr><tr><td>Lulu</td><td>Cat</td><td>null</td><td>null</td><td>null</td><td>null</td></tr><tr><td>Luna</td><td>Dog</td><td>2019-09-03T13:30:00.000+0000</td><td>Adenovirus</td><td>Wayne</td><td>Carter</td></tr><tr><td>Luna</td><td>Rabbit</td><td>null</td><td>null</td><td>null</td><td>null</td></tr><tr><td>Mac</td><td>Dog</td><td>null</td><td>null</td><td>null</td><td>null</td></tr><tr><td>Maddie</td><td>Dog</td><td>null</td><td>null</td><td>null</td><td>null</td></tr><tr><td>Max</td><td>Dog</td><td>null</td><td>null</td><td>null</td><td>null</td></tr><tr><td>Millie</td><td>Dog</td><td>null</td><td>null</td><td>null</td><td>null</td></tr><tr><td>Miss Kitty</td><td>Cat</td><td>null</td><td>null</td><td>null</td><td>null</td></tr><tr><td>Misty</td><td>Cat</td><td>2019-08-09T09:00:00.000+0000</td><td>Panleukopenia Virus</td><td>Gerald</td><td>Reyes</td></tr><tr><td>Misty</td><td>Cat</td><td>2019-08-09T09:13:00.000+0000</td><td>Calicivirus</td><td>Dennis</td><td>Hill</td></tr><tr><td>Mocha</td><td>Dog</td><td>null</td><td>null</td><td>null</td><td>null</td></tr><tr><td>Nala</td><td>Dog</td><td>2019-07-26T13:15:00.000+0000</td><td>Adenovirus</td><td>Ashley</td><td>Flores</td></tr><tr><td>Nova</td><td>Cat</td><td>2018-08-13T11:35:00.000+0000</td><td>Rabies</td><td>Ashley</td><td>Flores</td></tr><tr><td>Nova</td><td>Cat</td><td>2018-08-13T14:32:00.000+0000</td><td>Leukemia Virus</td><td>Ashley</td><td>Flores</td></tr><tr><td>Odin</td><td>Dog</td><td>2019-10-25T09:11:00.000+0000</td><td>Rabies</td><td>Wayne</td><td>Carter</td></tr><tr><td>Odin</td><td>Dog</td><td>2017-10-25T07:58:00.000+0000</td><td>Rabies</td><td>Ashley</td><td>Flores</td></tr><tr><td>Odin</td><td>Dog</td><td>2019-10-25T14:02:00.000+0000</td><td>Adenovirus</td><td>Robin</td><td>Murphy</td></tr><tr><td>Oscar</td><td>Cat</td><td>2018-03-22T13:19:00.000+0000</td><td>Rabies</td><td>Ashley</td><td>Flores</td></tr><tr><td>Oscar</td><td>Cat</td><td>2018-03-22T07:12:00.000+0000</td><td>Panleukopenia Virus</td><td>Ashley</td><td>Flores</td></tr><tr><td>Oscar</td><td>Cat</td><td>2018-03-22T07:15:00.000+0000</td><td>Herpesvirus</td><td>Wanda</td><td>Myers</td></tr><tr><td>Otis</td><td>Dog</td><td>null</td><td>null</td><td>null</td><td>null</td></tr><tr><td>Patches</td><td>Cat</td><td>2019-10-21T09:56:00.000+0000</td><td>Leukemia Virus</td><td>Wanda</td><td>Myers</td></tr><tr><td>Peanut</td><td>Rabbit</td><td>null</td><td>null</td><td>null</td><td>null</td></tr><tr><td>Pearl</td><td>Cat</td><td>null</td><td>null</td><td>null</td><td>null</td></tr><tr><td>Penelope</td><td>Cat</td><td>2017-12-22T09:42:00.000+0000</td><td>Rabies</td><td>Wanda</td><td>Myers</td></tr><tr><td>Penelope</td><td>Cat</td><td>2017-12-22T08:29:00.000+0000</td><td>Calicivirus</td><td>Wanda</td><td>Myers</td></tr><tr><td>Penelope</td><td>Dog</td><td>2018-01-12T08:20:00.000+0000</td><td>Rabies</td><td>Ashley</td><td>Flores</td></tr><tr><td>Penelope</td><td>Dog</td><td>2017-01-12T14:39:00.000+0000</td><td>Rabies</td><td>Ashley</td><td>Flores</td></tr><tr><td>Penelope</td><td>Dog</td><td>2017-01-12T12:42:00.000+0000</td><td>Distemper Virus</td><td>Ashley</td><td>Flores</td></tr><tr><td>Penny</td><td>Cat</td><td>null</td><td>null</td><td>null</td><td>null</td></tr><tr><td>Piper</td><td>Dog</td><td>null</td><td>null</td><td>null</td><td>null</td></tr><tr><td>Poppy</td><td>Dog</td><td>2018-12-17T09:34:00.000+0000</td><td>Rabies</td><td>Robin</td><td>Murphy</td></tr><tr><td>Prince</td><td>Dog</td><td>null</td><td>null</td><td>null</td><td>null</td></tr><tr><td>Pumpkin</td><td>Cat</td><td>2019-08-07T09:09:00.000+0000</td><td>Rabies</td><td>Robin</td><td>Murphy</td></tr><tr><td>Pumpkin</td><td>Cat</td><td>2019-08-07T11:03:00.000+0000</td><td>Herpesvirus</td><td>Gerald</td><td>Reyes</td></tr><tr><td>Ranger</td><td>Dog</td><td>2018-11-28T07:27:00.000+0000</td><td>Distemper Virus</td><td>Wanda</td><td>Myers</td></tr><tr><td>Ranger</td><td>Dog</td><td>2017-11-28T11:59:00.000+0000</td><td>Distemper Virus</td><td>Ashley</td><td>Flores</td></tr><tr><td>Ranger</td><td>Dog</td><td>2018-11-28T11:39:00.000+0000</td><td>Adenovirus</td><td>Ashley</td><td>Flores</td></tr><tr><td>Remi / Remy</td><td>Dog</td><td>2018-11-14T11:49:00.000+0000</td><td>Distemper Virus</td><td>Gerald</td><td>Reyes</td></tr><tr><td>Riley</td><td>Dog</td><td>null</td><td>null</td><td>null</td><td>null</td></tr><tr><td>Rocky</td><td>Cat</td><td>null</td><td>null</td><td>null</td><td>null</td></tr><tr><td>Roxy</td><td>Dog</td><td>2019-01-04T12:58:00.000+0000</td><td>Distemper Virus</td><td>Dennis</td><td>Hill</td></tr><tr><td>Roxy</td><td>Dog</td><td>2019-01-04T07:55:00.000+0000</td><td>Adenovirus</td><td>Ashley</td><td>Flores</td></tr><tr><td>Rusty</td><td>Dog</td><td>null</td><td>null</td><td>null</td><td>null</td></tr><tr><td>Sadie</td><td>Cat</td><td>2016-10-06T07:02:00.000+0000</td><td>Panleukopenia Virus</td><td>Ashley</td><td>Flores</td></tr><tr><td>Salem</td><td>Cat</td><td>null</td><td>null</td><td>null</td><td>null</td></tr><tr><td>Sam</td><td>Cat</td><td>2018-11-09T13:46:00.000+0000</td><td>Herpesvirus</td><td>Wanda</td><td>Myers</td></tr><tr><td>Sammy</td><td>Dog</td><td>2018-07-06T10:58:00.000+0000</td><td>Distemper Virus</td><td>Ashley</td><td>Flores</td></tr><tr><td>Sammy</td><td>Dog</td><td>2018-07-06T12:29:00.000+0000</td><td>Adenovirus</td><td>Wanda</td><td>Myers</td></tr><tr><td>Samson</td><td>Dog</td><td>2019-11-15T10:11:00.000+0000</td><td>Distemper Virus</td><td>Gerald</td><td>Reyes</td></tr><tr><td>Shadow</td><td>Dog</td><td>2016-12-29T08:43:00.000+0000</td><td>Distemper Virus</td><td>Wanda</td><td>Myers</td></tr><tr><td>Shelby</td><td>Dog</td><td>2017-04-19T13:33:00.000+0000</td><td>Adenovirus</td><td>Wanda</td><td>Myers</td></tr><tr><td>Shelby</td><td>Dog</td><td>2016-04-18T14:04:00.000+0000</td><td>Adenovirus</td><td>Ashley</td><td>Flores</td></tr><tr><td>Simon</td><td>Cat</td><td>2018-05-30T14:15:00.000+0000</td><td>Calicivirus</td><td>Gerald</td><td>Reyes</td></tr><tr><td>Skye</td><td>Dog</td><td>2016-08-10T09:53:00.000+0000</td><td>Rabies</td><td>Wanda</td><td>Myers</td></tr><tr><td>Skye</td><td>Dog</td><td>2016-08-10T10:51:00.000+0000</td><td>Distemper Virus</td><td>Ashley</td><td>Flores</td></tr><tr><td>Stanley</td><td>Cat</td><td>null</td><td>null</td><td>null</td><td>null</td></tr><tr><td>Stella</td><td>Dog</td><td>2018-01-03T08:20:00.000+0000</td><td>Adenovirus</td><td>Ashley</td><td>Flores</td></tr><tr><td>Thomas</td><td>Cat</td><td>2019-05-09T12:27:00.000+0000</td><td>Rabies</td><td>Wanda</td><td>Myers</td></tr><tr><td>Thomas</td><td>Cat</td><td>2019-05-09T07:25:00.000+0000</td><td>Leukemia Virus</td><td>Wayne</td><td>Carter</td></tr><tr><td>Thor</td><td>Dog</td><td>2019-03-22T07:15:00.000+0000</td><td>Distemper Virus</td><td>Dennis</td><td>Hill</td></tr><tr><td>Thor</td><td>Dog</td><td>2017-03-22T09:58:00.000+0000</td><td>Distemper Virus</td><td>Ashley</td><td>Flores</td></tr><tr><td>Thor</td><td>Dog</td><td>2019-03-22T14:24:00.000+0000</td><td>Adenovirus</td><td>Wanda</td><td>Myers</td></tr><tr><td>Thor</td><td>Dog</td><td>2017-03-22T11:45:00.000+0000</td><td>Adenovirus</td><td>Ashley</td><td>Flores</td></tr><tr><td>Tigger</td><td>Cat</td><td>2019-01-04T09:08:00.000+0000</td><td>Rabies</td><td>Robin</td><td>Murphy</td></tr><tr><td>Tigger</td><td>Cat</td><td>2018-01-04T10:27:00.000+0000</td><td>Rabies</td><td>Ashley</td><td>Flores</td></tr><tr><td>Tigger</td><td>Cat</td><td>2019-01-04T08:49:00.000+0000</td><td>Panleukopenia Virus</td><td>Dennis</td><td>Hill</td></tr><tr><td>Tigger</td><td>Cat</td><td>2017-01-04T14:52:00.000+0000</td><td>Panleukopenia Virus</td><td>Wanda</td><td>Myers</td></tr><tr><td>Tigger</td><td>Cat</td><td>2019-01-04T11:15:00.000+0000</td><td>Leukemia Virus</td><td>Gerald</td><td>Reyes</td></tr><tr><td>Tigger</td><td>Cat</td><td>2018-01-04T13:28:00.000+0000</td><td>Leukemia Virus</td><td>Ashley</td><td>Flores</td></tr><tr><td>Toby</td><td>Cat</td><td>null</td><td>null</td><td>null</td><td>null</td></tr><tr><td>Toby</td><td>Dog</td><td>null</td><td>null</td><td>null</td><td>null</td></tr><tr><td>Toby</td><td>Rabbit</td><td>null</td><td>null</td><td>null</td><td>null</td></tr><tr><td>Tyson</td><td>Dog</td><td>null</td><td>null</td><td>null</td><td>null</td></tr><tr><td>Walter</td><td>Dog</td><td>2019-08-27T09:03:00.000+0000</td><td>Rabies</td><td>Robin</td><td>Murphy</td></tr><tr><td>Walter</td><td>Dog</td><td>2018-08-27T14:21:00.000+0000</td><td>Rabies</td><td>Robin</td><td>Murphy</td></tr><tr><td>Walter</td><td>Dog</td><td>2019-08-27T12:32:00.000+0000</td><td>Distemper Virus</td><td>Wayne</td><td>Carter</td></tr><tr><td>Walter</td><td>Dog</td><td>2018-08-27T11:10:00.000+0000</td><td>Distemper Virus</td><td>Ashley</td><td>Flores</td></tr><tr><td>Whitney</td><td>Rabbit</td><td>null</td><td>null</td><td>null</td><td>null</td></tr></tbody></table></div>"
      ]
     },
     "metadata": {
      "application/vnd.databricks.v1+output": {
       "addedWidgets": {},
       "aggData": [],
       "aggError": "",
       "aggOverflow": false,
       "aggSchema": [],
       "aggSeriesLimitReached": false,
       "aggType": "",
       "arguments": {},
       "columnCustomDisplayInfos": {},
       "data": [
        [
         "Abby",
         "Dog",
         "2018-04-19T10:44:00.000+0000",
         "Distemper Virus",
         "Wanda",
         "Myers"
        ],
        [
         "Abby",
         "Dog",
         "2017-04-19T09:01:00.000+0000",
         "Distemper Virus",
         "Ashley",
         "Flores"
        ],
        [
         "Ace",
         "Dog",
         null,
         null,
         null,
         null
        ],
        [
         "Angel",
         "Dog",
         "2018-05-04T11:18:00.000+0000",
         "Rabies",
         "Ashley",
         "Flores"
        ],
        [
         "Angel",
         "Dog",
         "2017-05-04T12:49:00.000+0000",
         "Rabies",
         "Wanda",
         "Myers"
        ],
        [
         "Angel",
         "Dog",
         "2018-05-04T09:47:00.000+0000",
         "Distemper Virus",
         "Wanda",
         "Myers"
        ],
        [
         "Angel",
         "Dog",
         "2017-05-04T10:38:00.000+0000",
         "Distemper Virus",
         "Wanda",
         "Myers"
        ],
        [
         "April",
         "Rabbit",
         null,
         null,
         null,
         null
        ],
        [
         "Archie",
         "Cat",
         "2017-11-20T13:25:00.000+0000",
         "Panleukopenia Virus",
         "Ashley",
         "Flores"
        ],
        [
         "Archie",
         "Cat",
         "2017-11-20T09:35:00.000+0000",
         "Calicivirus",
         "Ashley",
         "Flores"
        ],
        [
         "Arya",
         "Dog",
         null,
         null,
         null,
         null
        ],
        [
         "Aspen",
         "Dog",
         "2017-09-29T07:32:00.000+0000",
         "Rabies",
         "Ashley",
         "Flores"
        ],
        [
         "Aspen",
         "Dog",
         "2016-09-28T07:41:00.000+0000",
         "Rabies",
         "Wanda",
         "Myers"
        ],
        [
         "Aspen",
         "Dog",
         "2016-09-28T10:01:00.000+0000",
         "Distemper Virus",
         "Ashley",
         "Flores"
        ],
        [
         "Aspen",
         "Dog",
         "2017-09-29T12:35:00.000+0000",
         "Adenovirus",
         "Wanda",
         "Myers"
        ],
        [
         "Aspen",
         "Dog",
         "2016-09-28T07:36:00.000+0000",
         "Adenovirus",
         "Wanda",
         "Myers"
        ],
        [
         "Bailey",
         "Dog",
         null,
         null,
         null,
         null
        ],
        [
         "Baloo",
         "Rabbit",
         "2016-09-01T07:00:00.000+0000",
         "Rabies",
         "Wanda",
         "Myers"
        ],
        [
         "Beau",
         "Dog",
         null,
         null,
         null,
         null
        ],
        [
         "Benji",
         "Dog",
         null,
         null,
         null,
         null
        ],
        [
         "Benny",
         "Dog",
         "2019-01-02T13:19:00.000+0000",
         "Rabies",
         "Robin",
         "Murphy"
        ],
        [
         "Benny",
         "Dog",
         "2019-01-02T09:44:00.000+0000",
         "Adenovirus",
         "Ashley",
         "Flores"
        ],
        [
         "Blue",
         "Dog",
         null,
         null,
         null,
         null
        ],
        [
         "Bon bon",
         "Rabbit",
         "2019-12-27T09:23:00.000+0000",
         "Rabies",
         "Gerald",
         "Reyes"
        ],
        [
         "Bon bon",
         "Rabbit",
         "2018-12-27T11:09:00.000+0000",
         "Rabies",
         "Robin",
         "Murphy"
        ],
        [
         "Bon bon",
         "Rabbit",
         "2017-12-27T10:09:00.000+0000",
         "Rabies",
         "Wanda",
         "Myers"
        ],
        [
         "Bon bon",
         "Rabbit",
         "2016-12-26T12:08:00.000+0000",
         "Rabies",
         "Wanda",
         "Myers"
        ],
        [
         "Bon bon",
         "Rabbit",
         "2019-12-27T13:32:00.000+0000",
         "Myxomatosis",
         "Ashley",
         "Flores"
        ],
        [
         "Bon bon",
         "Rabbit",
         "2018-12-27T13:39:00.000+0000",
         "Myxomatosis",
         "Dennis",
         "Hill"
        ],
        [
         "Boomer",
         "Dog",
         "2019-09-03T11:58:00.000+0000",
         "Rabies",
         "Gerald",
         "Reyes"
        ],
        [
         "Brody",
         "Dog",
         null,
         null,
         null,
         null
        ],
        [
         "Brutus",
         "Dog",
         "2018-11-28T07:17:00.000+0000",
         "Distemper Virus",
         "Wayne",
         "Carter"
        ],
        [
         "Brutus",
         "Dog",
         "2018-11-28T12:26:00.000+0000",
         "Adenovirus",
         "Wanda",
         "Myers"
        ],
        [
         "Buddy",
         "Cat",
         null,
         null,
         null,
         null
        ],
        [
         "Callie",
         "Dog",
         null,
         null,
         null,
         null
        ],
        [
         "Charlie",
         "Cat",
         null,
         null,
         null,
         null
        ],
        [
         "Chico",
         "Dog",
         null,
         null,
         null,
         null
        ],
        [
         "Chubby",
         "Rabbit",
         null,
         null,
         null,
         null
        ],
        [
         "Cleo",
         "Cat",
         null,
         null,
         null,
         null
        ],
        [
         "Cooper",
         "Dog",
         "2017-10-13T09:41:00.000+0000",
         "Distemper Virus",
         "Ashley",
         "Flores"
        ],
        [
         "Cosmo",
         "Cat",
         null,
         null,
         null,
         null
        ],
        [
         "Dolly",
         "Dog",
         "2018-09-27T14:45:00.000+0000",
         "Rabies",
         "Robin",
         "Murphy"
        ],
        [
         "Dolly",
         "Dog",
         "2019-09-27T10:29:00.000+0000",
         "Adenovirus",
         "Wayne",
         "Carter"
        ],
        [
         "Dolly",
         "Dog",
         "2018-09-27T08:16:00.000+0000",
         "Adenovirus",
         "Ashley",
         "Flores"
        ],
        [
         "Emma",
         "Dog",
         null,
         null,
         null,
         null
        ],
        [
         "Fiona",
         "Cat",
         "2017-12-18T14:17:00.000+0000",
         "Panleukopenia Virus",
         "Wanda",
         "Myers"
        ],
        [
         "Fiona",
         "Cat",
         "2017-12-18T11:15:00.000+0000",
         "Calicivirus",
         "Wanda",
         "Myers"
        ],
        [
         "Frankie",
         "Dog",
         null,
         null,
         null,
         null
        ],
        [
         "George",
         "Cat",
         null,
         null,
         null,
         null
        ],
        [
         "Ginger",
         "Dog",
         "2017-03-07T08:33:00.000+0000",
         "Adenovirus",
         "Wanda",
         "Myers"
        ],
        [
         "Gizmo",
         "Dog",
         "2019-08-22T08:52:00.000+0000",
         "Distemper Virus",
         "Wayne",
         "Carter"
        ],
        [
         "Gracie",
         "Cat",
         null,
         null,
         null,
         null
        ],
        [
         "Gus",
         "Dog",
         null,
         null,
         null,
         null
        ],
        [
         "Hobbes",
         "Cat",
         "2016-12-26T12:54:00.000+0000",
         "Panleukopenia Virus",
         "Ashley",
         "Flores"
        ],
        [
         "Holly",
         "Dog",
         "2019-07-15T13:14:00.000+0000",
         "Rabies",
         "Robin",
         "Murphy"
        ],
        [
         "Hudini",
         "Rabbit",
         null,
         null,
         null,
         null
        ],
        [
         "Humphrey",
         "Rabbit",
         "2018-08-28T10:08:00.000+0000",
         "Viral Haemorrhagic Disease",
         "Gerald",
         "Reyes"
        ],
        [
         "Humphrey",
         "Rabbit",
         "2018-08-28T09:41:00.000+0000",
         "Rabies",
         "Robin",
         "Murphy"
        ],
        [
         "Humphrey",
         "Rabbit",
         "2018-08-28T08:09:00.000+0000",
         "Myxomatosis",
         "Gerald",
         "Reyes"
        ],
        [
         "Ivy",
         "Cat",
         null,
         null,
         null,
         null
        ],
        [
         "Jake",
         "Dog",
         "2017-12-08T07:46:00.000+0000",
         "Adenovirus",
         "Wanda",
         "Myers"
        ],
        [
         "Jax",
         "Dog",
         null,
         null,
         null,
         null
        ],
        [
         "Kiki",
         "Cat",
         null,
         null,
         null,
         null
        ],
        [
         "King",
         "Dog",
         null,
         null,
         null,
         null
        ],
        [
         "Kona",
         "Dog",
         null,
         null,
         null,
         null
        ],
        [
         "Layla",
         "Dog",
         null,
         null,
         null,
         null
        ],
        [
         "Lexi",
         "Dog",
         null,
         null,
         null,
         null
        ],
        [
         "Lily",
         "Dog",
         null,
         null,
         null,
         null
        ],
        [
         "Lucy",
         "Dog",
         "2018-05-22T07:46:00.000+0000",
         "Distemper Virus",
         "Ashley",
         "Flores"
        ],
        [
         "Luke",
         "Dog",
         null,
         null,
         null,
         null
        ],
        [
         "Lulu",
         "Cat",
         null,
         null,
         null,
         null
        ],
        [
         "Luna",
         "Dog",
         "2019-09-03T13:30:00.000+0000",
         "Adenovirus",
         "Wayne",
         "Carter"
        ],
        [
         "Luna",
         "Rabbit",
         null,
         null,
         null,
         null
        ],
        [
         "Mac",
         "Dog",
         null,
         null,
         null,
         null
        ],
        [
         "Maddie",
         "Dog",
         null,
         null,
         null,
         null
        ],
        [
         "Max",
         "Dog",
         null,
         null,
         null,
         null
        ],
        [
         "Millie",
         "Dog",
         null,
         null,
         null,
         null
        ],
        [
         "Miss Kitty",
         "Cat",
         null,
         null,
         null,
         null
        ],
        [
         "Misty",
         "Cat",
         "2019-08-09T09:00:00.000+0000",
         "Panleukopenia Virus",
         "Gerald",
         "Reyes"
        ],
        [
         "Misty",
         "Cat",
         "2019-08-09T09:13:00.000+0000",
         "Calicivirus",
         "Dennis",
         "Hill"
        ],
        [
         "Mocha",
         "Dog",
         null,
         null,
         null,
         null
        ],
        [
         "Nala",
         "Dog",
         "2019-07-26T13:15:00.000+0000",
         "Adenovirus",
         "Ashley",
         "Flores"
        ],
        [
         "Nova",
         "Cat",
         "2018-08-13T11:35:00.000+0000",
         "Rabies",
         "Ashley",
         "Flores"
        ],
        [
         "Nova",
         "Cat",
         "2018-08-13T14:32:00.000+0000",
         "Leukemia Virus",
         "Ashley",
         "Flores"
        ],
        [
         "Odin",
         "Dog",
         "2019-10-25T09:11:00.000+0000",
         "Rabies",
         "Wayne",
         "Carter"
        ],
        [
         "Odin",
         "Dog",
         "2017-10-25T07:58:00.000+0000",
         "Rabies",
         "Ashley",
         "Flores"
        ],
        [
         "Odin",
         "Dog",
         "2019-10-25T14:02:00.000+0000",
         "Adenovirus",
         "Robin",
         "Murphy"
        ],
        [
         "Oscar",
         "Cat",
         "2018-03-22T13:19:00.000+0000",
         "Rabies",
         "Ashley",
         "Flores"
        ],
        [
         "Oscar",
         "Cat",
         "2018-03-22T07:12:00.000+0000",
         "Panleukopenia Virus",
         "Ashley",
         "Flores"
        ],
        [
         "Oscar",
         "Cat",
         "2018-03-22T07:15:00.000+0000",
         "Herpesvirus",
         "Wanda",
         "Myers"
        ],
        [
         "Otis",
         "Dog",
         null,
         null,
         null,
         null
        ],
        [
         "Patches",
         "Cat",
         "2019-10-21T09:56:00.000+0000",
         "Leukemia Virus",
         "Wanda",
         "Myers"
        ],
        [
         "Peanut",
         "Rabbit",
         null,
         null,
         null,
         null
        ],
        [
         "Pearl",
         "Cat",
         null,
         null,
         null,
         null
        ],
        [
         "Penelope",
         "Cat",
         "2017-12-22T09:42:00.000+0000",
         "Rabies",
         "Wanda",
         "Myers"
        ],
        [
         "Penelope",
         "Cat",
         "2017-12-22T08:29:00.000+0000",
         "Calicivirus",
         "Wanda",
         "Myers"
        ],
        [
         "Penelope",
         "Dog",
         "2018-01-12T08:20:00.000+0000",
         "Rabies",
         "Ashley",
         "Flores"
        ],
        [
         "Penelope",
         "Dog",
         "2017-01-12T14:39:00.000+0000",
         "Rabies",
         "Ashley",
         "Flores"
        ],
        [
         "Penelope",
         "Dog",
         "2017-01-12T12:42:00.000+0000",
         "Distemper Virus",
         "Ashley",
         "Flores"
        ],
        [
         "Penny",
         "Cat",
         null,
         null,
         null,
         null
        ],
        [
         "Piper",
         "Dog",
         null,
         null,
         null,
         null
        ],
        [
         "Poppy",
         "Dog",
         "2018-12-17T09:34:00.000+0000",
         "Rabies",
         "Robin",
         "Murphy"
        ],
        [
         "Prince",
         "Dog",
         null,
         null,
         null,
         null
        ],
        [
         "Pumpkin",
         "Cat",
         "2019-08-07T09:09:00.000+0000",
         "Rabies",
         "Robin",
         "Murphy"
        ],
        [
         "Pumpkin",
         "Cat",
         "2019-08-07T11:03:00.000+0000",
         "Herpesvirus",
         "Gerald",
         "Reyes"
        ],
        [
         "Ranger",
         "Dog",
         "2018-11-28T07:27:00.000+0000",
         "Distemper Virus",
         "Wanda",
         "Myers"
        ],
        [
         "Ranger",
         "Dog",
         "2017-11-28T11:59:00.000+0000",
         "Distemper Virus",
         "Ashley",
         "Flores"
        ],
        [
         "Ranger",
         "Dog",
         "2018-11-28T11:39:00.000+0000",
         "Adenovirus",
         "Ashley",
         "Flores"
        ],
        [
         "Remi / Remy",
         "Dog",
         "2018-11-14T11:49:00.000+0000",
         "Distemper Virus",
         "Gerald",
         "Reyes"
        ],
        [
         "Riley",
         "Dog",
         null,
         null,
         null,
         null
        ],
        [
         "Rocky",
         "Cat",
         null,
         null,
         null,
         null
        ],
        [
         "Roxy",
         "Dog",
         "2019-01-04T12:58:00.000+0000",
         "Distemper Virus",
         "Dennis",
         "Hill"
        ],
        [
         "Roxy",
         "Dog",
         "2019-01-04T07:55:00.000+0000",
         "Adenovirus",
         "Ashley",
         "Flores"
        ],
        [
         "Rusty",
         "Dog",
         null,
         null,
         null,
         null
        ],
        [
         "Sadie",
         "Cat",
         "2016-10-06T07:02:00.000+0000",
         "Panleukopenia Virus",
         "Ashley",
         "Flores"
        ],
        [
         "Salem",
         "Cat",
         null,
         null,
         null,
         null
        ],
        [
         "Sam",
         "Cat",
         "2018-11-09T13:46:00.000+0000",
         "Herpesvirus",
         "Wanda",
         "Myers"
        ],
        [
         "Sammy",
         "Dog",
         "2018-07-06T10:58:00.000+0000",
         "Distemper Virus",
         "Ashley",
         "Flores"
        ],
        [
         "Sammy",
         "Dog",
         "2018-07-06T12:29:00.000+0000",
         "Adenovirus",
         "Wanda",
         "Myers"
        ],
        [
         "Samson",
         "Dog",
         "2019-11-15T10:11:00.000+0000",
         "Distemper Virus",
         "Gerald",
         "Reyes"
        ],
        [
         "Shadow",
         "Dog",
         "2016-12-29T08:43:00.000+0000",
         "Distemper Virus",
         "Wanda",
         "Myers"
        ],
        [
         "Shelby",
         "Dog",
         "2017-04-19T13:33:00.000+0000",
         "Adenovirus",
         "Wanda",
         "Myers"
        ],
        [
         "Shelby",
         "Dog",
         "2016-04-18T14:04:00.000+0000",
         "Adenovirus",
         "Ashley",
         "Flores"
        ],
        [
         "Simon",
         "Cat",
         "2018-05-30T14:15:00.000+0000",
         "Calicivirus",
         "Gerald",
         "Reyes"
        ],
        [
         "Skye",
         "Dog",
         "2016-08-10T09:53:00.000+0000",
         "Rabies",
         "Wanda",
         "Myers"
        ],
        [
         "Skye",
         "Dog",
         "2016-08-10T10:51:00.000+0000",
         "Distemper Virus",
         "Ashley",
         "Flores"
        ],
        [
         "Stanley",
         "Cat",
         null,
         null,
         null,
         null
        ],
        [
         "Stella",
         "Dog",
         "2018-01-03T08:20:00.000+0000",
         "Adenovirus",
         "Ashley",
         "Flores"
        ],
        [
         "Thomas",
         "Cat",
         "2019-05-09T12:27:00.000+0000",
         "Rabies",
         "Wanda",
         "Myers"
        ],
        [
         "Thomas",
         "Cat",
         "2019-05-09T07:25:00.000+0000",
         "Leukemia Virus",
         "Wayne",
         "Carter"
        ],
        [
         "Thor",
         "Dog",
         "2019-03-22T07:15:00.000+0000",
         "Distemper Virus",
         "Dennis",
         "Hill"
        ],
        [
         "Thor",
         "Dog",
         "2017-03-22T09:58:00.000+0000",
         "Distemper Virus",
         "Ashley",
         "Flores"
        ],
        [
         "Thor",
         "Dog",
         "2019-03-22T14:24:00.000+0000",
         "Adenovirus",
         "Wanda",
         "Myers"
        ],
        [
         "Thor",
         "Dog",
         "2017-03-22T11:45:00.000+0000",
         "Adenovirus",
         "Ashley",
         "Flores"
        ],
        [
         "Tigger",
         "Cat",
         "2019-01-04T09:08:00.000+0000",
         "Rabies",
         "Robin",
         "Murphy"
        ],
        [
         "Tigger",
         "Cat",
         "2018-01-04T10:27:00.000+0000",
         "Rabies",
         "Ashley",
         "Flores"
        ],
        [
         "Tigger",
         "Cat",
         "2019-01-04T08:49:00.000+0000",
         "Panleukopenia Virus",
         "Dennis",
         "Hill"
        ],
        [
         "Tigger",
         "Cat",
         "2017-01-04T14:52:00.000+0000",
         "Panleukopenia Virus",
         "Wanda",
         "Myers"
        ],
        [
         "Tigger",
         "Cat",
         "2019-01-04T11:15:00.000+0000",
         "Leukemia Virus",
         "Gerald",
         "Reyes"
        ],
        [
         "Tigger",
         "Cat",
         "2018-01-04T13:28:00.000+0000",
         "Leukemia Virus",
         "Ashley",
         "Flores"
        ],
        [
         "Toby",
         "Cat",
         null,
         null,
         null,
         null
        ],
        [
         "Toby",
         "Dog",
         null,
         null,
         null,
         null
        ],
        [
         "Toby",
         "Rabbit",
         null,
         null,
         null,
         null
        ],
        [
         "Tyson",
         "Dog",
         null,
         null,
         null,
         null
        ],
        [
         "Walter",
         "Dog",
         "2019-08-27T09:03:00.000+0000",
         "Rabies",
         "Robin",
         "Murphy"
        ],
        [
         "Walter",
         "Dog",
         "2018-08-27T14:21:00.000+0000",
         "Rabies",
         "Robin",
         "Murphy"
        ],
        [
         "Walter",
         "Dog",
         "2019-08-27T12:32:00.000+0000",
         "Distemper Virus",
         "Wayne",
         "Carter"
        ],
        [
         "Walter",
         "Dog",
         "2018-08-27T11:10:00.000+0000",
         "Distemper Virus",
         "Ashley",
         "Flores"
        ],
        [
         "Whitney",
         "Rabbit",
         null,
         null,
         null,
         null
        ]
       ],
       "datasetInfos": [],
       "dbfsResultPath": null,
       "isJsonSchema": true,
       "metadata": {},
       "overflow": false,
       "plotOptions": {
        "customPlotOptions": {},
        "displayType": "table",
        "pivotAggregation": null,
        "pivotColumns": null,
        "xColumns": null,
        "yColumns": null
       },
       "removedWidgets": [],
       "schema": [
        {
         "metadata": "{}",
         "name": "Name",
         "type": "\"string\""
        },
        {
         "metadata": "{}",
         "name": "Species",
         "type": "\"string\""
        },
        {
         "metadata": "{}",
         "name": "Vaccination_Time",
         "type": "\"timestamp\""
        },
        {
         "metadata": "{}",
         "name": "Vaccine",
         "type": "\"string\""
        },
        {
         "metadata": "{}",
         "name": "First_Name",
         "type": "\"string\""
        },
        {
         "metadata": "{}",
         "name": "Last_Name",
         "type": "\"string\""
        }
       ],
       "type": "table"
      }
     },
     "output_type": "display_data"
    }
   ],
   "source": [
    "display(all_animals_vaccinated)"
   ]
  },
  {
   "cell_type": "code",
   "execution_count": 0,
   "metadata": {
    "application/vnd.databricks.v1+cell": {
     "cellMetadata": {
      "byteLimit": 2048000,
      "rowLimit": 10000
     },
     "inputWidgets": {},
     "nuid": "0029a987-fa4f-48b5-960d-3a6004c5a978",
     "showTitle": false,
     "tableResultSettingsMap": {},
     "title": ""
    }
   },
   "outputs": [],
   "source": [
    "animals_vaccinated = all_animals_vaccinated.where( col('Vaccine').isNotNull()  )"
   ]
  },
  {
   "cell_type": "code",
   "execution_count": 0,
   "metadata": {
    "application/vnd.databricks.v1+cell": {
     "cellMetadata": {
      "byteLimit": 2048000,
      "rowLimit": 10000
     },
     "inputWidgets": {},
     "nuid": "f8136acf-c187-453a-8d03-fe666cfaf965",
     "showTitle": false,
     "tableResultSettingsMap": {},
     "title": ""
    }
   },
   "outputs": [
    {
     "output_type": "display_data",
     "data": {
      "text/html": [
       "<style scoped>\n",
       "  .table-result-container {\n",
       "    max-height: 300px;\n",
       "    overflow: auto;\n",
       "  }\n",
       "  table, th, td {\n",
       "    border: 1px solid black;\n",
       "    border-collapse: collapse;\n",
       "  }\n",
       "  th, td {\n",
       "    padding: 5px;\n",
       "  }\n",
       "  th {\n",
       "    text-align: left;\n",
       "  }\n",
       "</style><div class='table-result-container'><table class='table-result'><thead style='background-color: white'><tr><th>Name</th><th>Species</th><th>Vaccination_Time</th><th>Vaccine</th><th>First_Name</th><th>Last_Name</th></tr></thead><tbody><tr><td>Abby</td><td>Dog</td><td>2017-04-19T09:01:00.000+0000</td><td>Distemper Virus</td><td>Ashley</td><td>Flores</td></tr><tr><td>Abby</td><td>Dog</td><td>2018-04-19T10:44:00.000+0000</td><td>Distemper Virus</td><td>Wanda</td><td>Myers</td></tr><tr><td>Angel</td><td>Dog</td><td>2017-05-04T10:38:00.000+0000</td><td>Distemper Virus</td><td>Wanda</td><td>Myers</td></tr><tr><td>Angel</td><td>Dog</td><td>2018-05-04T09:47:00.000+0000</td><td>Distemper Virus</td><td>Wanda</td><td>Myers</td></tr><tr><td>Angel</td><td>Dog</td><td>2017-05-04T12:49:00.000+0000</td><td>Rabies</td><td>Wanda</td><td>Myers</td></tr><tr><td>Angel</td><td>Dog</td><td>2018-05-04T11:18:00.000+0000</td><td>Rabies</td><td>Ashley</td><td>Flores</td></tr><tr><td>Archie</td><td>Cat</td><td>2017-11-20T09:35:00.000+0000</td><td>Calicivirus</td><td>Ashley</td><td>Flores</td></tr><tr><td>Archie</td><td>Cat</td><td>2017-11-20T13:25:00.000+0000</td><td>Panleukopenia Virus</td><td>Ashley</td><td>Flores</td></tr><tr><td>Aspen</td><td>Dog</td><td>2016-09-28T07:36:00.000+0000</td><td>Adenovirus</td><td>Wanda</td><td>Myers</td></tr><tr><td>Aspen</td><td>Dog</td><td>2017-09-29T12:35:00.000+0000</td><td>Adenovirus</td><td>Wanda</td><td>Myers</td></tr><tr><td>Aspen</td><td>Dog</td><td>2016-09-28T10:01:00.000+0000</td><td>Distemper Virus</td><td>Ashley</td><td>Flores</td></tr><tr><td>Aspen</td><td>Dog</td><td>2016-09-28T07:41:00.000+0000</td><td>Rabies</td><td>Wanda</td><td>Myers</td></tr><tr><td>Aspen</td><td>Dog</td><td>2017-09-29T07:32:00.000+0000</td><td>Rabies</td><td>Ashley</td><td>Flores</td></tr><tr><td>Baloo</td><td>Rabbit</td><td>2016-09-01T07:00:00.000+0000</td><td>Rabies</td><td>Wanda</td><td>Myers</td></tr><tr><td>Benny</td><td>Dog</td><td>2019-01-02T09:44:00.000+0000</td><td>Adenovirus</td><td>Ashley</td><td>Flores</td></tr><tr><td>Benny</td><td>Dog</td><td>2019-01-02T13:19:00.000+0000</td><td>Rabies</td><td>Robin</td><td>Murphy</td></tr><tr><td>Bon bon</td><td>Rabbit</td><td>2018-12-27T13:39:00.000+0000</td><td>Myxomatosis</td><td>Dennis</td><td>Hill</td></tr><tr><td>Bon bon</td><td>Rabbit</td><td>2019-12-27T13:32:00.000+0000</td><td>Myxomatosis</td><td>Ashley</td><td>Flores</td></tr><tr><td>Bon bon</td><td>Rabbit</td><td>2016-12-26T12:08:00.000+0000</td><td>Rabies</td><td>Wanda</td><td>Myers</td></tr><tr><td>Bon bon</td><td>Rabbit</td><td>2017-12-27T10:09:00.000+0000</td><td>Rabies</td><td>Wanda</td><td>Myers</td></tr><tr><td>Bon bon</td><td>Rabbit</td><td>2018-12-27T11:09:00.000+0000</td><td>Rabies</td><td>Robin</td><td>Murphy</td></tr><tr><td>Bon bon</td><td>Rabbit</td><td>2019-12-27T09:23:00.000+0000</td><td>Rabies</td><td>Gerald</td><td>Reyes</td></tr><tr><td>Boomer</td><td>Dog</td><td>2019-09-03T11:58:00.000+0000</td><td>Rabies</td><td>Gerald</td><td>Reyes</td></tr><tr><td>Brutus</td><td>Dog</td><td>2018-11-28T12:26:00.000+0000</td><td>Adenovirus</td><td>Wanda</td><td>Myers</td></tr><tr><td>Brutus</td><td>Dog</td><td>2018-11-28T07:17:00.000+0000</td><td>Distemper Virus</td><td>Wayne</td><td>Carter</td></tr><tr><td>Cooper</td><td>Dog</td><td>2017-10-13T09:41:00.000+0000</td><td>Distemper Virus</td><td>Ashley</td><td>Flores</td></tr><tr><td>Dolly</td><td>Dog</td><td>2018-09-27T08:16:00.000+0000</td><td>Adenovirus</td><td>Ashley</td><td>Flores</td></tr><tr><td>Dolly</td><td>Dog</td><td>2019-09-27T10:29:00.000+0000</td><td>Adenovirus</td><td>Wayne</td><td>Carter</td></tr><tr><td>Dolly</td><td>Dog</td><td>2018-09-27T14:45:00.000+0000</td><td>Rabies</td><td>Robin</td><td>Murphy</td></tr><tr><td>Fiona</td><td>Cat</td><td>2017-12-18T11:15:00.000+0000</td><td>Calicivirus</td><td>Wanda</td><td>Myers</td></tr><tr><td>Fiona</td><td>Cat</td><td>2017-12-18T14:17:00.000+0000</td><td>Panleukopenia Virus</td><td>Wanda</td><td>Myers</td></tr><tr><td>Ginger</td><td>Dog</td><td>2017-03-07T08:33:00.000+0000</td><td>Adenovirus</td><td>Wanda</td><td>Myers</td></tr><tr><td>Gizmo</td><td>Dog</td><td>2019-08-22T08:52:00.000+0000</td><td>Distemper Virus</td><td>Wayne</td><td>Carter</td></tr><tr><td>Hobbes</td><td>Cat</td><td>2016-12-26T12:54:00.000+0000</td><td>Panleukopenia Virus</td><td>Ashley</td><td>Flores</td></tr><tr><td>Holly</td><td>Dog</td><td>2019-07-15T13:14:00.000+0000</td><td>Rabies</td><td>Robin</td><td>Murphy</td></tr><tr><td>Humphrey</td><td>Rabbit</td><td>2018-08-28T08:09:00.000+0000</td><td>Myxomatosis</td><td>Gerald</td><td>Reyes</td></tr><tr><td>Humphrey</td><td>Rabbit</td><td>2018-08-28T09:41:00.000+0000</td><td>Rabies</td><td>Robin</td><td>Murphy</td></tr><tr><td>Humphrey</td><td>Rabbit</td><td>2018-08-28T10:08:00.000+0000</td><td>Viral Haemorrhagic Disease</td><td>Gerald</td><td>Reyes</td></tr><tr><td>Jake</td><td>Dog</td><td>2017-12-08T07:46:00.000+0000</td><td>Adenovirus</td><td>Wanda</td><td>Myers</td></tr><tr><td>Lucy</td><td>Dog</td><td>2018-05-22T07:46:00.000+0000</td><td>Distemper Virus</td><td>Ashley</td><td>Flores</td></tr><tr><td>Luna</td><td>Dog</td><td>2019-09-03T13:30:00.000+0000</td><td>Adenovirus</td><td>Wayne</td><td>Carter</td></tr><tr><td>Misty</td><td>Cat</td><td>2019-08-09T09:13:00.000+0000</td><td>Calicivirus</td><td>Dennis</td><td>Hill</td></tr><tr><td>Misty</td><td>Cat</td><td>2019-08-09T09:00:00.000+0000</td><td>Panleukopenia Virus</td><td>Gerald</td><td>Reyes</td></tr><tr><td>Nala</td><td>Dog</td><td>2019-07-26T13:15:00.000+0000</td><td>Adenovirus</td><td>Ashley</td><td>Flores</td></tr><tr><td>Nova</td><td>Cat</td><td>2018-08-13T14:32:00.000+0000</td><td>Leukemia Virus</td><td>Ashley</td><td>Flores</td></tr><tr><td>Nova</td><td>Cat</td><td>2018-08-13T11:35:00.000+0000</td><td>Rabies</td><td>Ashley</td><td>Flores</td></tr><tr><td>Odin</td><td>Dog</td><td>2019-10-25T14:02:00.000+0000</td><td>Adenovirus</td><td>Robin</td><td>Murphy</td></tr><tr><td>Odin</td><td>Dog</td><td>2017-10-25T07:58:00.000+0000</td><td>Rabies</td><td>Ashley</td><td>Flores</td></tr><tr><td>Odin</td><td>Dog</td><td>2019-10-25T09:11:00.000+0000</td><td>Rabies</td><td>Wayne</td><td>Carter</td></tr><tr><td>Oscar</td><td>Cat</td><td>2018-03-22T07:15:00.000+0000</td><td>Herpesvirus</td><td>Wanda</td><td>Myers</td></tr><tr><td>Oscar</td><td>Cat</td><td>2018-03-22T07:12:00.000+0000</td><td>Panleukopenia Virus</td><td>Ashley</td><td>Flores</td></tr><tr><td>Oscar</td><td>Cat</td><td>2018-03-22T13:19:00.000+0000</td><td>Rabies</td><td>Ashley</td><td>Flores</td></tr><tr><td>Patches</td><td>Cat</td><td>2019-10-21T09:56:00.000+0000</td><td>Leukemia Virus</td><td>Wanda</td><td>Myers</td></tr><tr><td>Penelope</td><td>Cat</td><td>2017-12-22T08:29:00.000+0000</td><td>Calicivirus</td><td>Wanda</td><td>Myers</td></tr><tr><td>Penelope</td><td>Cat</td><td>2017-12-22T09:42:00.000+0000</td><td>Rabies</td><td>Wanda</td><td>Myers</td></tr><tr><td>Penelope</td><td>Dog</td><td>2017-01-12T12:42:00.000+0000</td><td>Distemper Virus</td><td>Ashley</td><td>Flores</td></tr><tr><td>Penelope</td><td>Dog</td><td>2017-01-12T14:39:00.000+0000</td><td>Rabies</td><td>Ashley</td><td>Flores</td></tr><tr><td>Penelope</td><td>Dog</td><td>2018-01-12T08:20:00.000+0000</td><td>Rabies</td><td>Ashley</td><td>Flores</td></tr><tr><td>Poppy</td><td>Dog</td><td>2018-12-17T09:34:00.000+0000</td><td>Rabies</td><td>Robin</td><td>Murphy</td></tr><tr><td>Pumpkin</td><td>Cat</td><td>2019-08-07T11:03:00.000+0000</td><td>Herpesvirus</td><td>Gerald</td><td>Reyes</td></tr><tr><td>Pumpkin</td><td>Cat</td><td>2019-08-07T09:09:00.000+0000</td><td>Rabies</td><td>Robin</td><td>Murphy</td></tr><tr><td>Ranger</td><td>Dog</td><td>2018-11-28T11:39:00.000+0000</td><td>Adenovirus</td><td>Ashley</td><td>Flores</td></tr><tr><td>Ranger</td><td>Dog</td><td>2017-11-28T11:59:00.000+0000</td><td>Distemper Virus</td><td>Ashley</td><td>Flores</td></tr><tr><td>Ranger</td><td>Dog</td><td>2018-11-28T07:27:00.000+0000</td><td>Distemper Virus</td><td>Wanda</td><td>Myers</td></tr><tr><td>Remi / Remy</td><td>Dog</td><td>2018-11-14T11:49:00.000+0000</td><td>Distemper Virus</td><td>Gerald</td><td>Reyes</td></tr><tr><td>Roxy</td><td>Dog</td><td>2019-01-04T07:55:00.000+0000</td><td>Adenovirus</td><td>Ashley</td><td>Flores</td></tr><tr><td>Roxy</td><td>Dog</td><td>2019-01-04T12:58:00.000+0000</td><td>Distemper Virus</td><td>Dennis</td><td>Hill</td></tr><tr><td>Sadie</td><td>Cat</td><td>2016-10-06T07:02:00.000+0000</td><td>Panleukopenia Virus</td><td>Ashley</td><td>Flores</td></tr><tr><td>Sam</td><td>Cat</td><td>2018-11-09T13:46:00.000+0000</td><td>Herpesvirus</td><td>Wanda</td><td>Myers</td></tr><tr><td>Sammy</td><td>Dog</td><td>2018-07-06T12:29:00.000+0000</td><td>Adenovirus</td><td>Wanda</td><td>Myers</td></tr><tr><td>Sammy</td><td>Dog</td><td>2018-07-06T10:58:00.000+0000</td><td>Distemper Virus</td><td>Ashley</td><td>Flores</td></tr><tr><td>Samson</td><td>Dog</td><td>2019-11-15T10:11:00.000+0000</td><td>Distemper Virus</td><td>Gerald</td><td>Reyes</td></tr><tr><td>Shadow</td><td>Dog</td><td>2016-12-29T08:43:00.000+0000</td><td>Distemper Virus</td><td>Wanda</td><td>Myers</td></tr><tr><td>Shelby</td><td>Dog</td><td>2016-04-18T14:04:00.000+0000</td><td>Adenovirus</td><td>Ashley</td><td>Flores</td></tr><tr><td>Shelby</td><td>Dog</td><td>2017-04-19T13:33:00.000+0000</td><td>Adenovirus</td><td>Wanda</td><td>Myers</td></tr><tr><td>Simon</td><td>Cat</td><td>2018-05-30T14:15:00.000+0000</td><td>Calicivirus</td><td>Gerald</td><td>Reyes</td></tr><tr><td>Skye</td><td>Dog</td><td>2016-08-10T10:51:00.000+0000</td><td>Distemper Virus</td><td>Ashley</td><td>Flores</td></tr><tr><td>Skye</td><td>Dog</td><td>2016-08-10T09:53:00.000+0000</td><td>Rabies</td><td>Wanda</td><td>Myers</td></tr><tr><td>Stella</td><td>Dog</td><td>2018-01-03T08:20:00.000+0000</td><td>Adenovirus</td><td>Ashley</td><td>Flores</td></tr><tr><td>Thomas</td><td>Cat</td><td>2019-05-09T07:25:00.000+0000</td><td>Leukemia Virus</td><td>Wayne</td><td>Carter</td></tr><tr><td>Thomas</td><td>Cat</td><td>2019-05-09T12:27:00.000+0000</td><td>Rabies</td><td>Wanda</td><td>Myers</td></tr><tr><td>Thor</td><td>Dog</td><td>2017-03-22T11:45:00.000+0000</td><td>Adenovirus</td><td>Ashley</td><td>Flores</td></tr><tr><td>Thor</td><td>Dog</td><td>2019-03-22T14:24:00.000+0000</td><td>Adenovirus</td><td>Wanda</td><td>Myers</td></tr><tr><td>Thor</td><td>Dog</td><td>2017-03-22T09:58:00.000+0000</td><td>Distemper Virus</td><td>Ashley</td><td>Flores</td></tr><tr><td>Thor</td><td>Dog</td><td>2019-03-22T07:15:00.000+0000</td><td>Distemper Virus</td><td>Dennis</td><td>Hill</td></tr><tr><td>Tigger</td><td>Cat</td><td>2018-01-04T13:28:00.000+0000</td><td>Leukemia Virus</td><td>Ashley</td><td>Flores</td></tr><tr><td>Tigger</td><td>Cat</td><td>2019-01-04T11:15:00.000+0000</td><td>Leukemia Virus</td><td>Gerald</td><td>Reyes</td></tr><tr><td>Tigger</td><td>Cat</td><td>2017-01-04T14:52:00.000+0000</td><td>Panleukopenia Virus</td><td>Wanda</td><td>Myers</td></tr><tr><td>Tigger</td><td>Cat</td><td>2019-01-04T08:49:00.000+0000</td><td>Panleukopenia Virus</td><td>Dennis</td><td>Hill</td></tr><tr><td>Tigger</td><td>Cat</td><td>2018-01-04T10:27:00.000+0000</td><td>Rabies</td><td>Ashley</td><td>Flores</td></tr><tr><td>Tigger</td><td>Cat</td><td>2019-01-04T09:08:00.000+0000</td><td>Rabies</td><td>Robin</td><td>Murphy</td></tr><tr><td>Walter</td><td>Dog</td><td>2018-08-27T11:10:00.000+0000</td><td>Distemper Virus</td><td>Ashley</td><td>Flores</td></tr><tr><td>Walter</td><td>Dog</td><td>2019-08-27T12:32:00.000+0000</td><td>Distemper Virus</td><td>Wayne</td><td>Carter</td></tr><tr><td>Walter</td><td>Dog</td><td>2018-08-27T14:21:00.000+0000</td><td>Rabies</td><td>Robin</td><td>Murphy</td></tr><tr><td>Walter</td><td>Dog</td><td>2019-08-27T09:03:00.000+0000</td><td>Rabies</td><td>Robin</td><td>Murphy</td></tr></tbody></table></div>"
      ]
     },
     "metadata": {
      "application/vnd.databricks.v1+output": {
       "addedWidgets": {},
       "aggData": [],
       "aggError": "",
       "aggOverflow": false,
       "aggSchema": [],
       "aggSeriesLimitReached": false,
       "aggType": "",
       "arguments": {},
       "columnCustomDisplayInfos": {},
       "data": [
        [
         "Abby",
         "Dog",
         "2017-04-19T09:01:00.000+0000",
         "Distemper Virus",
         "Ashley",
         "Flores"
        ],
        [
         "Abby",
         "Dog",
         "2018-04-19T10:44:00.000+0000",
         "Distemper Virus",
         "Wanda",
         "Myers"
        ],
        [
         "Angel",
         "Dog",
         "2017-05-04T10:38:00.000+0000",
         "Distemper Virus",
         "Wanda",
         "Myers"
        ],
        [
         "Angel",
         "Dog",
         "2018-05-04T09:47:00.000+0000",
         "Distemper Virus",
         "Wanda",
         "Myers"
        ],
        [
         "Angel",
         "Dog",
         "2017-05-04T12:49:00.000+0000",
         "Rabies",
         "Wanda",
         "Myers"
        ],
        [
         "Angel",
         "Dog",
         "2018-05-04T11:18:00.000+0000",
         "Rabies",
         "Ashley",
         "Flores"
        ],
        [
         "Archie",
         "Cat",
         "2017-11-20T09:35:00.000+0000",
         "Calicivirus",
         "Ashley",
         "Flores"
        ],
        [
         "Archie",
         "Cat",
         "2017-11-20T13:25:00.000+0000",
         "Panleukopenia Virus",
         "Ashley",
         "Flores"
        ],
        [
         "Aspen",
         "Dog",
         "2016-09-28T07:36:00.000+0000",
         "Adenovirus",
         "Wanda",
         "Myers"
        ],
        [
         "Aspen",
         "Dog",
         "2017-09-29T12:35:00.000+0000",
         "Adenovirus",
         "Wanda",
         "Myers"
        ],
        [
         "Aspen",
         "Dog",
         "2016-09-28T10:01:00.000+0000",
         "Distemper Virus",
         "Ashley",
         "Flores"
        ],
        [
         "Aspen",
         "Dog",
         "2016-09-28T07:41:00.000+0000",
         "Rabies",
         "Wanda",
         "Myers"
        ],
        [
         "Aspen",
         "Dog",
         "2017-09-29T07:32:00.000+0000",
         "Rabies",
         "Ashley",
         "Flores"
        ],
        [
         "Baloo",
         "Rabbit",
         "2016-09-01T07:00:00.000+0000",
         "Rabies",
         "Wanda",
         "Myers"
        ],
        [
         "Benny",
         "Dog",
         "2019-01-02T09:44:00.000+0000",
         "Adenovirus",
         "Ashley",
         "Flores"
        ],
        [
         "Benny",
         "Dog",
         "2019-01-02T13:19:00.000+0000",
         "Rabies",
         "Robin",
         "Murphy"
        ],
        [
         "Bon bon",
         "Rabbit",
         "2018-12-27T13:39:00.000+0000",
         "Myxomatosis",
         "Dennis",
         "Hill"
        ],
        [
         "Bon bon",
         "Rabbit",
         "2019-12-27T13:32:00.000+0000",
         "Myxomatosis",
         "Ashley",
         "Flores"
        ],
        [
         "Bon bon",
         "Rabbit",
         "2016-12-26T12:08:00.000+0000",
         "Rabies",
         "Wanda",
         "Myers"
        ],
        [
         "Bon bon",
         "Rabbit",
         "2017-12-27T10:09:00.000+0000",
         "Rabies",
         "Wanda",
         "Myers"
        ],
        [
         "Bon bon",
         "Rabbit",
         "2018-12-27T11:09:00.000+0000",
         "Rabies",
         "Robin",
         "Murphy"
        ],
        [
         "Bon bon",
         "Rabbit",
         "2019-12-27T09:23:00.000+0000",
         "Rabies",
         "Gerald",
         "Reyes"
        ],
        [
         "Boomer",
         "Dog",
         "2019-09-03T11:58:00.000+0000",
         "Rabies",
         "Gerald",
         "Reyes"
        ],
        [
         "Brutus",
         "Dog",
         "2018-11-28T12:26:00.000+0000",
         "Adenovirus",
         "Wanda",
         "Myers"
        ],
        [
         "Brutus",
         "Dog",
         "2018-11-28T07:17:00.000+0000",
         "Distemper Virus",
         "Wayne",
         "Carter"
        ],
        [
         "Cooper",
         "Dog",
         "2017-10-13T09:41:00.000+0000",
         "Distemper Virus",
         "Ashley",
         "Flores"
        ],
        [
         "Dolly",
         "Dog",
         "2018-09-27T08:16:00.000+0000",
         "Adenovirus",
         "Ashley",
         "Flores"
        ],
        [
         "Dolly",
         "Dog",
         "2019-09-27T10:29:00.000+0000",
         "Adenovirus",
         "Wayne",
         "Carter"
        ],
        [
         "Dolly",
         "Dog",
         "2018-09-27T14:45:00.000+0000",
         "Rabies",
         "Robin",
         "Murphy"
        ],
        [
         "Fiona",
         "Cat",
         "2017-12-18T11:15:00.000+0000",
         "Calicivirus",
         "Wanda",
         "Myers"
        ],
        [
         "Fiona",
         "Cat",
         "2017-12-18T14:17:00.000+0000",
         "Panleukopenia Virus",
         "Wanda",
         "Myers"
        ],
        [
         "Ginger",
         "Dog",
         "2017-03-07T08:33:00.000+0000",
         "Adenovirus",
         "Wanda",
         "Myers"
        ],
        [
         "Gizmo",
         "Dog",
         "2019-08-22T08:52:00.000+0000",
         "Distemper Virus",
         "Wayne",
         "Carter"
        ],
        [
         "Hobbes",
         "Cat",
         "2016-12-26T12:54:00.000+0000",
         "Panleukopenia Virus",
         "Ashley",
         "Flores"
        ],
        [
         "Holly",
         "Dog",
         "2019-07-15T13:14:00.000+0000",
         "Rabies",
         "Robin",
         "Murphy"
        ],
        [
         "Humphrey",
         "Rabbit",
         "2018-08-28T08:09:00.000+0000",
         "Myxomatosis",
         "Gerald",
         "Reyes"
        ],
        [
         "Humphrey",
         "Rabbit",
         "2018-08-28T09:41:00.000+0000",
         "Rabies",
         "Robin",
         "Murphy"
        ],
        [
         "Humphrey",
         "Rabbit",
         "2018-08-28T10:08:00.000+0000",
         "Viral Haemorrhagic Disease",
         "Gerald",
         "Reyes"
        ],
        [
         "Jake",
         "Dog",
         "2017-12-08T07:46:00.000+0000",
         "Adenovirus",
         "Wanda",
         "Myers"
        ],
        [
         "Lucy",
         "Dog",
         "2018-05-22T07:46:00.000+0000",
         "Distemper Virus",
         "Ashley",
         "Flores"
        ],
        [
         "Luna",
         "Dog",
         "2019-09-03T13:30:00.000+0000",
         "Adenovirus",
         "Wayne",
         "Carter"
        ],
        [
         "Misty",
         "Cat",
         "2019-08-09T09:13:00.000+0000",
         "Calicivirus",
         "Dennis",
         "Hill"
        ],
        [
         "Misty",
         "Cat",
         "2019-08-09T09:00:00.000+0000",
         "Panleukopenia Virus",
         "Gerald",
         "Reyes"
        ],
        [
         "Nala",
         "Dog",
         "2019-07-26T13:15:00.000+0000",
         "Adenovirus",
         "Ashley",
         "Flores"
        ],
        [
         "Nova",
         "Cat",
         "2018-08-13T14:32:00.000+0000",
         "Leukemia Virus",
         "Ashley",
         "Flores"
        ],
        [
         "Nova",
         "Cat",
         "2018-08-13T11:35:00.000+0000",
         "Rabies",
         "Ashley",
         "Flores"
        ],
        [
         "Odin",
         "Dog",
         "2019-10-25T14:02:00.000+0000",
         "Adenovirus",
         "Robin",
         "Murphy"
        ],
        [
         "Odin",
         "Dog",
         "2017-10-25T07:58:00.000+0000",
         "Rabies",
         "Ashley",
         "Flores"
        ],
        [
         "Odin",
         "Dog",
         "2019-10-25T09:11:00.000+0000",
         "Rabies",
         "Wayne",
         "Carter"
        ],
        [
         "Oscar",
         "Cat",
         "2018-03-22T07:15:00.000+0000",
         "Herpesvirus",
         "Wanda",
         "Myers"
        ],
        [
         "Oscar",
         "Cat",
         "2018-03-22T07:12:00.000+0000",
         "Panleukopenia Virus",
         "Ashley",
         "Flores"
        ],
        [
         "Oscar",
         "Cat",
         "2018-03-22T13:19:00.000+0000",
         "Rabies",
         "Ashley",
         "Flores"
        ],
        [
         "Patches",
         "Cat",
         "2019-10-21T09:56:00.000+0000",
         "Leukemia Virus",
         "Wanda",
         "Myers"
        ],
        [
         "Penelope",
         "Cat",
         "2017-12-22T08:29:00.000+0000",
         "Calicivirus",
         "Wanda",
         "Myers"
        ],
        [
         "Penelope",
         "Cat",
         "2017-12-22T09:42:00.000+0000",
         "Rabies",
         "Wanda",
         "Myers"
        ],
        [
         "Penelope",
         "Dog",
         "2017-01-12T12:42:00.000+0000",
         "Distemper Virus",
         "Ashley",
         "Flores"
        ],
        [
         "Penelope",
         "Dog",
         "2017-01-12T14:39:00.000+0000",
         "Rabies",
         "Ashley",
         "Flores"
        ],
        [
         "Penelope",
         "Dog",
         "2018-01-12T08:20:00.000+0000",
         "Rabies",
         "Ashley",
         "Flores"
        ],
        [
         "Poppy",
         "Dog",
         "2018-12-17T09:34:00.000+0000",
         "Rabies",
         "Robin",
         "Murphy"
        ],
        [
         "Pumpkin",
         "Cat",
         "2019-08-07T11:03:00.000+0000",
         "Herpesvirus",
         "Gerald",
         "Reyes"
        ],
        [
         "Pumpkin",
         "Cat",
         "2019-08-07T09:09:00.000+0000",
         "Rabies",
         "Robin",
         "Murphy"
        ],
        [
         "Ranger",
         "Dog",
         "2018-11-28T11:39:00.000+0000",
         "Adenovirus",
         "Ashley",
         "Flores"
        ],
        [
         "Ranger",
         "Dog",
         "2017-11-28T11:59:00.000+0000",
         "Distemper Virus",
         "Ashley",
         "Flores"
        ],
        [
         "Ranger",
         "Dog",
         "2018-11-28T07:27:00.000+0000",
         "Distemper Virus",
         "Wanda",
         "Myers"
        ],
        [
         "Remi / Remy",
         "Dog",
         "2018-11-14T11:49:00.000+0000",
         "Distemper Virus",
         "Gerald",
         "Reyes"
        ],
        [
         "Roxy",
         "Dog",
         "2019-01-04T07:55:00.000+0000",
         "Adenovirus",
         "Ashley",
         "Flores"
        ],
        [
         "Roxy",
         "Dog",
         "2019-01-04T12:58:00.000+0000",
         "Distemper Virus",
         "Dennis",
         "Hill"
        ],
        [
         "Sadie",
         "Cat",
         "2016-10-06T07:02:00.000+0000",
         "Panleukopenia Virus",
         "Ashley",
         "Flores"
        ],
        [
         "Sam",
         "Cat",
         "2018-11-09T13:46:00.000+0000",
         "Herpesvirus",
         "Wanda",
         "Myers"
        ],
        [
         "Sammy",
         "Dog",
         "2018-07-06T12:29:00.000+0000",
         "Adenovirus",
         "Wanda",
         "Myers"
        ],
        [
         "Sammy",
         "Dog",
         "2018-07-06T10:58:00.000+0000",
         "Distemper Virus",
         "Ashley",
         "Flores"
        ],
        [
         "Samson",
         "Dog",
         "2019-11-15T10:11:00.000+0000",
         "Distemper Virus",
         "Gerald",
         "Reyes"
        ],
        [
         "Shadow",
         "Dog",
         "2016-12-29T08:43:00.000+0000",
         "Distemper Virus",
         "Wanda",
         "Myers"
        ],
        [
         "Shelby",
         "Dog",
         "2016-04-18T14:04:00.000+0000",
         "Adenovirus",
         "Ashley",
         "Flores"
        ],
        [
         "Shelby",
         "Dog",
         "2017-04-19T13:33:00.000+0000",
         "Adenovirus",
         "Wanda",
         "Myers"
        ],
        [
         "Simon",
         "Cat",
         "2018-05-30T14:15:00.000+0000",
         "Calicivirus",
         "Gerald",
         "Reyes"
        ],
        [
         "Skye",
         "Dog",
         "2016-08-10T10:51:00.000+0000",
         "Distemper Virus",
         "Ashley",
         "Flores"
        ],
        [
         "Skye",
         "Dog",
         "2016-08-10T09:53:00.000+0000",
         "Rabies",
         "Wanda",
         "Myers"
        ],
        [
         "Stella",
         "Dog",
         "2018-01-03T08:20:00.000+0000",
         "Adenovirus",
         "Ashley",
         "Flores"
        ],
        [
         "Thomas",
         "Cat",
         "2019-05-09T07:25:00.000+0000",
         "Leukemia Virus",
         "Wayne",
         "Carter"
        ],
        [
         "Thomas",
         "Cat",
         "2019-05-09T12:27:00.000+0000",
         "Rabies",
         "Wanda",
         "Myers"
        ],
        [
         "Thor",
         "Dog",
         "2017-03-22T11:45:00.000+0000",
         "Adenovirus",
         "Ashley",
         "Flores"
        ],
        [
         "Thor",
         "Dog",
         "2019-03-22T14:24:00.000+0000",
         "Adenovirus",
         "Wanda",
         "Myers"
        ],
        [
         "Thor",
         "Dog",
         "2017-03-22T09:58:00.000+0000",
         "Distemper Virus",
         "Ashley",
         "Flores"
        ],
        [
         "Thor",
         "Dog",
         "2019-03-22T07:15:00.000+0000",
         "Distemper Virus",
         "Dennis",
         "Hill"
        ],
        [
         "Tigger",
         "Cat",
         "2018-01-04T13:28:00.000+0000",
         "Leukemia Virus",
         "Ashley",
         "Flores"
        ],
        [
         "Tigger",
         "Cat",
         "2019-01-04T11:15:00.000+0000",
         "Leukemia Virus",
         "Gerald",
         "Reyes"
        ],
        [
         "Tigger",
         "Cat",
         "2017-01-04T14:52:00.000+0000",
         "Panleukopenia Virus",
         "Wanda",
         "Myers"
        ],
        [
         "Tigger",
         "Cat",
         "2019-01-04T08:49:00.000+0000",
         "Panleukopenia Virus",
         "Dennis",
         "Hill"
        ],
        [
         "Tigger",
         "Cat",
         "2018-01-04T10:27:00.000+0000",
         "Rabies",
         "Ashley",
         "Flores"
        ],
        [
         "Tigger",
         "Cat",
         "2019-01-04T09:08:00.000+0000",
         "Rabies",
         "Robin",
         "Murphy"
        ],
        [
         "Walter",
         "Dog",
         "2018-08-27T11:10:00.000+0000",
         "Distemper Virus",
         "Ashley",
         "Flores"
        ],
        [
         "Walter",
         "Dog",
         "2019-08-27T12:32:00.000+0000",
         "Distemper Virus",
         "Wayne",
         "Carter"
        ],
        [
         "Walter",
         "Dog",
         "2018-08-27T14:21:00.000+0000",
         "Rabies",
         "Robin",
         "Murphy"
        ],
        [
         "Walter",
         "Dog",
         "2019-08-27T09:03:00.000+0000",
         "Rabies",
         "Robin",
         "Murphy"
        ]
       ],
       "datasetInfos": [],
       "dbfsResultPath": null,
       "isJsonSchema": true,
       "metadata": {},
       "overflow": false,
       "plotOptions": {
        "customPlotOptions": {},
        "displayType": "table",
        "pivotAggregation": null,
        "pivotColumns": null,
        "xColumns": null,
        "yColumns": null
       },
       "removedWidgets": [],
       "schema": [
        {
         "metadata": "{}",
         "name": "Name",
         "type": "\"string\""
        },
        {
         "metadata": "{}",
         "name": "Species",
         "type": "\"string\""
        },
        {
         "metadata": "{}",
         "name": "Vaccination_Time",
         "type": "\"timestamp\""
        },
        {
         "metadata": "{}",
         "name": "Vaccine",
         "type": "\"string\""
        },
        {
         "metadata": "{}",
         "name": "First_Name",
         "type": "\"string\""
        },
        {
         "metadata": "{}",
         "name": "Last_Name",
         "type": "\"string\""
        }
       ],
       "type": "table"
      }
     },
     "output_type": "display_data"
    }
   ],
   "source": [
    "display(animals_vaccinated)"
   ]
  },
  {
   "cell_type": "code",
   "execution_count": 0,
   "metadata": {
    "application/vnd.databricks.v1+cell": {
     "cellMetadata": {
      "byteLimit": 2048000,
      "rowLimit": 10000
     },
     "inputWidgets": {},
     "nuid": "7f50bfaf-deba-43d3-a834-7b7f500318ac",
     "showTitle": false,
     "tableResultSettingsMap": {},
     "title": ""
    }
   },
   "outputs": [
    {
     "output_type": "display_data",
     "data": {
      "text/html": [
       "<style scoped>\n",
       "  .table-result-container {\n",
       "    max-height: 300px;\n",
       "    overflow: auto;\n",
       "  }\n",
       "  table, th, td {\n",
       "    border: 1px solid black;\n",
       "    border-collapse: collapse;\n",
       "  }\n",
       "  th, td {\n",
       "    padding: 5px;\n",
       "  }\n",
       "  th {\n",
       "    text-align: left;\n",
       "  }\n",
       "</style><div class='table-result-container'><table class='table-result'><thead style='background-color: white'><tr><th>Species</th><th>Name</th><th>CountOfSpecies</th></tr></thead><tbody><tr><td>Cat</td><td>Archie</td><td>2</td></tr><tr><td>Cat</td><td>Fiona</td><td>2</td></tr><tr><td>Cat</td><td>Hobbes</td><td>1</td></tr><tr><td>Cat</td><td>Misty</td><td>2</td></tr><tr><td>Cat</td><td>Nova</td><td>2</td></tr><tr><td>Cat</td><td>Oscar</td><td>3</td></tr><tr><td>Cat</td><td>Patches</td><td>1</td></tr><tr><td>Cat</td><td>Penelope</td><td>2</td></tr><tr><td>Cat</td><td>Pumpkin</td><td>2</td></tr><tr><td>Cat</td><td>Sadie</td><td>1</td></tr><tr><td>Cat</td><td>Sam</td><td>1</td></tr><tr><td>Cat</td><td>Simon</td><td>1</td></tr><tr><td>Cat</td><td>Thomas</td><td>2</td></tr><tr><td>Cat</td><td>Tigger</td><td>6</td></tr><tr><td>Dog</td><td>Abby</td><td>2</td></tr><tr><td>Dog</td><td>Angel</td><td>4</td></tr><tr><td>Dog</td><td>Aspen</td><td>5</td></tr><tr><td>Dog</td><td>Benny</td><td>2</td></tr><tr><td>Dog</td><td>Boomer</td><td>1</td></tr><tr><td>Dog</td><td>Brutus</td><td>2</td></tr><tr><td>Dog</td><td>Cooper</td><td>1</td></tr><tr><td>Dog</td><td>Dolly</td><td>3</td></tr><tr><td>Dog</td><td>Ginger</td><td>1</td></tr><tr><td>Dog</td><td>Gizmo</td><td>1</td></tr><tr><td>Dog</td><td>Holly</td><td>1</td></tr><tr><td>Dog</td><td>Jake</td><td>1</td></tr><tr><td>Dog</td><td>Lucy</td><td>1</td></tr><tr><td>Dog</td><td>Luna</td><td>1</td></tr><tr><td>Dog</td><td>Nala</td><td>1</td></tr><tr><td>Dog</td><td>Odin</td><td>3</td></tr><tr><td>Dog</td><td>Penelope</td><td>3</td></tr><tr><td>Dog</td><td>Poppy</td><td>1</td></tr><tr><td>Dog</td><td>Ranger</td><td>3</td></tr><tr><td>Dog</td><td>Remi / Remy</td><td>1</td></tr><tr><td>Dog</td><td>Roxy</td><td>2</td></tr><tr><td>Dog</td><td>Sammy</td><td>2</td></tr><tr><td>Dog</td><td>Samson</td><td>1</td></tr><tr><td>Dog</td><td>Shadow</td><td>1</td></tr><tr><td>Dog</td><td>Shelby</td><td>2</td></tr><tr><td>Dog</td><td>Skye</td><td>2</td></tr><tr><td>Dog</td><td>Stella</td><td>1</td></tr><tr><td>Dog</td><td>Thor</td><td>4</td></tr><tr><td>Dog</td><td>Walter</td><td>4</td></tr><tr><td>Rabbit</td><td>Baloo</td><td>1</td></tr><tr><td>Rabbit</td><td>Bon bon</td><td>6</td></tr><tr><td>Rabbit</td><td>Humphrey</td><td>3</td></tr></tbody></table></div>"
      ]
     },
     "metadata": {
      "application/vnd.databricks.v1+output": {
       "addedWidgets": {},
       "aggData": [],
       "aggError": "",
       "aggOverflow": false,
       "aggSchema": [],
       "aggSeriesLimitReached": false,
       "aggType": "",
       "arguments": {},
       "columnCustomDisplayInfos": {},
       "data": [
        [
         "Cat",
         "Archie",
         2
        ],
        [
         "Cat",
         "Fiona",
         2
        ],
        [
         "Cat",
         "Hobbes",
         1
        ],
        [
         "Cat",
         "Misty",
         2
        ],
        [
         "Cat",
         "Nova",
         2
        ],
        [
         "Cat",
         "Oscar",
         3
        ],
        [
         "Cat",
         "Patches",
         1
        ],
        [
         "Cat",
         "Penelope",
         2
        ],
        [
         "Cat",
         "Pumpkin",
         2
        ],
        [
         "Cat",
         "Sadie",
         1
        ],
        [
         "Cat",
         "Sam",
         1
        ],
        [
         "Cat",
         "Simon",
         1
        ],
        [
         "Cat",
         "Thomas",
         2
        ],
        [
         "Cat",
         "Tigger",
         6
        ],
        [
         "Dog",
         "Abby",
         2
        ],
        [
         "Dog",
         "Angel",
         4
        ],
        [
         "Dog",
         "Aspen",
         5
        ],
        [
         "Dog",
         "Benny",
         2
        ],
        [
         "Dog",
         "Boomer",
         1
        ],
        [
         "Dog",
         "Brutus",
         2
        ],
        [
         "Dog",
         "Cooper",
         1
        ],
        [
         "Dog",
         "Dolly",
         3
        ],
        [
         "Dog",
         "Ginger",
         1
        ],
        [
         "Dog",
         "Gizmo",
         1
        ],
        [
         "Dog",
         "Holly",
         1
        ],
        [
         "Dog",
         "Jake",
         1
        ],
        [
         "Dog",
         "Lucy",
         1
        ],
        [
         "Dog",
         "Luna",
         1
        ],
        [
         "Dog",
         "Nala",
         1
        ],
        [
         "Dog",
         "Odin",
         3
        ],
        [
         "Dog",
         "Penelope",
         3
        ],
        [
         "Dog",
         "Poppy",
         1
        ],
        [
         "Dog",
         "Ranger",
         3
        ],
        [
         "Dog",
         "Remi / Remy",
         1
        ],
        [
         "Dog",
         "Roxy",
         2
        ],
        [
         "Dog",
         "Sammy",
         2
        ],
        [
         "Dog",
         "Samson",
         1
        ],
        [
         "Dog",
         "Shadow",
         1
        ],
        [
         "Dog",
         "Shelby",
         2
        ],
        [
         "Dog",
         "Skye",
         2
        ],
        [
         "Dog",
         "Stella",
         1
        ],
        [
         "Dog",
         "Thor",
         4
        ],
        [
         "Dog",
         "Walter",
         4
        ],
        [
         "Rabbit",
         "Baloo",
         1
        ],
        [
         "Rabbit",
         "Bon bon",
         6
        ],
        [
         "Rabbit",
         "Humphrey",
         3
        ]
       ],
       "datasetInfos": [],
       "dbfsResultPath": null,
       "isJsonSchema": true,
       "metadata": {},
       "overflow": false,
       "plotOptions": {
        "customPlotOptions": {},
        "displayType": "table",
        "pivotAggregation": null,
        "pivotColumns": null,
        "xColumns": null,
        "yColumns": null
       },
       "removedWidgets": [],
       "schema": [
        {
         "metadata": "{}",
         "name": "Species",
         "type": "\"string\""
        },
        {
         "metadata": "{}",
         "name": "Name",
         "type": "\"string\""
        },
        {
         "metadata": "{}",
         "name": "CountOfSpecies",
         "type": "\"long\""
        }
       ],
       "type": "table"
      }
     },
     "output_type": "display_data"
    }
   ],
   "source": [
    "vaccinations_agg = vaccinations.groupBy('Species', 'Name').agg(count(col('*')).alias('CountOfSpecies')).orderBy('Species', 'Name')\n",
    "vaccinations_agg.display()"
   ]
  }
 ],
 "metadata": {
  "application/vnd.databricks.v1+notebook": {
   "computePreferences": null,
   "dashboards": [],
   "environmentMetadata": {
    "base_environment": "",
    "environment_version": "1"
   },
   "inputWidgetPreferences": null,
   "language": "python",
   "notebookMetadata": {
    "pythonIndentUnit": 4
   },
   "notebookName": "Pyspark_Query_Practice",
   "widgets": {}
  }
 },
 "nbformat": 4,
 "nbformat_minor": 0
}